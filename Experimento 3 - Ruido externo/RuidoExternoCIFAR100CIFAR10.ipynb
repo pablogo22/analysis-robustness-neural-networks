{
  "cells": [
    {
      "cell_type": "markdown",
      "metadata": {
        "id": "W4WYVxaUKciU"
      },
      "source": [
        "## Planteamiento del problema"
      ]
    },
    {
      "cell_type": "markdown",
      "metadata": {
        "id": "1IOP5vCJea5L"
      },
      "source": [
        "La primera pregunta que queremos responder es\n",
        "**¿El ruido externo procedente de otro *dataset* afecta al rendimiento?**"
      ]
    },
    {
      "cell_type": "markdown",
      "metadata": {
        "id": "R_ke1eLAF981"
      },
      "source": [
        "En este experimento, consideraremos el siguiente escenario:\n",
        "- Tenemos $n$ imágenes con etiquetas limpias.\n",
        "- Por cada imagen con etiquetas limpias, introducimos $\\alpha$ imágenes con etiquetas ruidosas (es decir, su etiqueta es aleatoria). Por tanto, añadimos $\\alpha n$ imágenes.\n",
        "- En total, acabamos con $\\alpha n + n = (\\alpha+1)n $ imágenes"
      ]
    },
    {
      "cell_type": "markdown",
      "metadata": {
        "id": "aDRfbZM4JOvF"
      },
      "source": [
        "Las arquitecturas y *dataset* que utilizaremos en este experimento serán:\n",
        "- Trabajaremos con el conjunto de datos CIFAR-10.\n",
        "- Trabarejemos con varios modelos con distinto orden de complejidad: MLP con 2 capas ocultas, redes neuronales con 4 y 6 capas convolucionales, respectivamente y ResNet18.\n",
        "- Utilizaremos ruido uniforme, en el que la etiqueta ruidosa se asigna aleatoriamente entre las clases posibles, todas con la misma probabilidad."
      ]
    },
    {
      "cell_type": "markdown",
      "metadata": {
        "id": "BpKdGAPc84nU"
      },
      "source": [
        "Realizaremos el entrenamiento con el conjunto de datos ruidoso y evaluaremos su rendimiento en un conjunto de test limpio (sin ruido)."
      ]
    },
    {
      "cell_type": "markdown",
      "metadata": {
        "id": "S9hdo6M6JxGf"
      },
      "source": [
        "## Instalación de fastai"
      ]
    },
    {
      "cell_type": "code",
      "execution_count": null,
      "metadata": {
        "colab": {
          "base_uri": "https://localhost:8080/"
        },
        "id": "9NGwKwBRK1EK",
        "outputId": "39d56712-53f4-4d2d-99a8-ed30e0456af3"
      },
      "outputs": [
        {
          "output_type": "stream",
          "name": "stdout",
          "text": [
            "\u001b[?25l   \u001b[90m━━━━━━━━━━━━━━━━━━━━━━━━━━━━━━━━━━━━━━━━\u001b[0m \u001b[32m0.0/235.3 kB\u001b[0m \u001b[31m?\u001b[0m eta \u001b[36m-:--:--\u001b[0m\r\u001b[2K   \u001b[91m━━━━━━━━━━━━━━━━━━━━━━━━━━━━━━━━━━━━━━\u001b[0m\u001b[90m╺\u001b[0m\u001b[90m━\u001b[0m \u001b[32m225.3/235.3 kB\u001b[0m \u001b[31m20.5 MB/s\u001b[0m eta \u001b[36m0:00:01\u001b[0m\r\u001b[2K   \u001b[90m━━━━━━━━━━━━━━━━━━━━━━━━━━━━━━━━━━━━━━━━\u001b[0m \u001b[32m235.3/235.3 kB\u001b[0m \u001b[31m5.6 MB/s\u001b[0m eta \u001b[36m0:00:00\u001b[0m\n",
            "\u001b[2K   \u001b[90m━━━━━━━━━━━━━━━━━━━━━━━━━━━━━━━━━━━━━━━━\u001b[0m \u001b[32m78.2/78.2 kB\u001b[0m \u001b[31m3.5 MB/s\u001b[0m eta \u001b[36m0:00:00\u001b[0m\n",
            "\u001b[2K   \u001b[90m━━━━━━━━━━━━━━━━━━━━━━━━━━━━━━━━━━━━━━━━\u001b[0m \u001b[32m363.4/363.4 MB\u001b[0m \u001b[31m4.8 MB/s\u001b[0m eta \u001b[36m0:00:00\u001b[0m\n",
            "\u001b[2K   \u001b[90m━━━━━━━━━━━━━━━━━━━━━━━━━━━━━━━━━━━━━━━━\u001b[0m \u001b[32m13.8/13.8 MB\u001b[0m \u001b[31m44.9 MB/s\u001b[0m eta \u001b[36m0:00:00\u001b[0m\n",
            "\u001b[2K   \u001b[90m━━━━━━━━━━━━━━━━━━━━━━━━━━━━━━━━━━━━━━━━\u001b[0m \u001b[32m24.6/24.6 MB\u001b[0m \u001b[31m42.8 MB/s\u001b[0m eta \u001b[36m0:00:00\u001b[0m\n",
            "\u001b[2K   \u001b[90m━━━━━━━━━━━━━━━━━━━━━━━━━━━━━━━━━━━━━━━━\u001b[0m \u001b[32m883.7/883.7 kB\u001b[0m \u001b[31m34.9 MB/s\u001b[0m eta \u001b[36m0:00:00\u001b[0m\n",
            "\u001b[2K   \u001b[90m━━━━━━━━━━━━━━━━━━━━━━━━━━━━━━━━━━━━━━━━\u001b[0m \u001b[32m664.8/664.8 MB\u001b[0m \u001b[31m3.0 MB/s\u001b[0m eta \u001b[36m0:00:00\u001b[0m\n",
            "\u001b[2K   \u001b[90m━━━━━━━━━━━━━━━━━━━━━━━━━━━━━━━━━━━━━━━━\u001b[0m \u001b[32m211.5/211.5 MB\u001b[0m \u001b[31m5.7 MB/s\u001b[0m eta \u001b[36m0:00:00\u001b[0m\n",
            "\u001b[2K   \u001b[90m━━━━━━━━━━━━━━━━━━━━━━━━━━━━━━━━━━━━━━━━\u001b[0m \u001b[32m56.3/56.3 MB\u001b[0m \u001b[31m11.9 MB/s\u001b[0m eta \u001b[36m0:00:00\u001b[0m\n",
            "\u001b[2K   \u001b[90m━━━━━━━━━━━━━━━━━━━━━━━━━━━━━━━━━━━━━━━━\u001b[0m \u001b[32m127.9/127.9 MB\u001b[0m \u001b[31m8.3 MB/s\u001b[0m eta \u001b[36m0:00:00\u001b[0m\n",
            "\u001b[2K   \u001b[90m━━━━━━━━━━━━━━━━━━━━━━━━━━━━━━━━━━━━━━━━\u001b[0m \u001b[32m207.5/207.5 MB\u001b[0m \u001b[31m5.9 MB/s\u001b[0m eta \u001b[36m0:00:00\u001b[0m\n",
            "\u001b[2K   \u001b[90m━━━━━━━━━━━━━━━━━━━━━━━━━━━━━━━━━━━━━━━━\u001b[0m \u001b[32m21.1/21.1 MB\u001b[0m \u001b[31m55.4 MB/s\u001b[0m eta \u001b[36m0:00:00\u001b[0m\n",
            "\u001b[2K   \u001b[90m━━━━━━━━━━━━━━━━━━━━━━━━━━━━━━━━━━━━━━━━\u001b[0m \u001b[32m42.6/42.6 kB\u001b[0m \u001b[31m4.0 MB/s\u001b[0m eta \u001b[36m0:00:00\u001b[0m\n",
            "\u001b[2K   \u001b[90m━━━━━━━━━━━━━━━━━━━━━━━━━━━━━━━━━━━━━━━━\u001b[0m \u001b[32m1.2/1.2 MB\u001b[0m \u001b[31m45.3 MB/s\u001b[0m eta \u001b[36m0:00:00\u001b[0m\n",
            "\u001b[?25h"
          ]
        }
      ],
      "source": [
        "!pip install -Uqq fastai"
      ]
    },
    {
      "cell_type": "code",
      "execution_count": null,
      "metadata": {
        "colab": {
          "base_uri": "https://localhost:8080/"
        },
        "id": "CKIWYmayWs9e",
        "outputId": "f681601f-dcb6-4459-8d33-6027eb0fda69"
      },
      "outputs": [
        {
          "output_type": "stream",
          "name": "stdout",
          "text": [
            "Python: 3.11.13 (main, Jun  4 2025, 08:57:29) [GCC 11.4.0]\n",
            "PyTorch: 2.6.0+cu124\n",
            "CUDA disponible: True\n",
            "FastAI: 2.8.2\n",
            "NumPy: 2.0.2\n"
          ]
        }
      ],
      "source": [
        "from fastai.vision.all import *\n",
        "import fastai\n",
        "import numpy\n",
        "\n",
        "print(\"Python:\", sys.version)\n",
        "print(\"PyTorch:\", torch.__version__)\n",
        "print(\"CUDA disponible:\", torch.cuda.is_available())\n",
        "print(\"FastAI:\", fastai.__version__)\n",
        "print(\"NumPy:\", numpy.__version__)"
      ]
    },
    {
      "cell_type": "markdown",
      "metadata": {
        "id": "ioNUlReAjxLA"
      },
      "source": [
        "## Carga del *dataset* CIFAR-10"
      ]
    },
    {
      "cell_type": "markdown",
      "metadata": {
        "id": "UDZ3N_VSZW68"
      },
      "source": [
        "Descargamos el *dataset* CIFAR-10:"
      ]
    },
    {
      "cell_type": "code",
      "execution_count": null,
      "metadata": {
        "colab": {
          "base_uri": "https://localhost:8080/",
          "height": 37
        },
        "id": "8RFgsrxaLSvq",
        "outputId": "b8c72763-dbe3-4969-854e-7fecd20f724e"
      },
      "outputs": [
        {
          "output_type": "display_data",
          "data": {
            "text/plain": [
              "<IPython.core.display.HTML object>"
            ],
            "text/html": [
              "\n",
              "<style>\n",
              "    /* Turns off some styling */\n",
              "    progress {\n",
              "        /* gets rid of default border in Firefox and Opera. */\n",
              "        border: none;\n",
              "        /* Needs to be in here for Safari polyfill so background images work as expected. */\n",
              "        background-size: auto;\n",
              "    }\n",
              "    progress:not([value]), progress:not([value])::-webkit-progress-bar {\n",
              "        background: repeating-linear-gradient(45deg, #7e7e7e, #7e7e7e 10px, #5c5c5c 10px, #5c5c5c 20px);\n",
              "    }\n",
              "    .progress-bar-interrupted, .progress-bar-interrupted::-webkit-progress-bar {\n",
              "        background: #F44336;\n",
              "    }\n",
              "</style>\n"
            ]
          },
          "metadata": {}
        },
        {
          "output_type": "display_data",
          "data": {
            "text/plain": [
              "<IPython.core.display.HTML object>"
            ],
            "text/html": [
              "\n",
              "    <div>\n",
              "      <progress value='168173568' class='' max='168168549' style='width:300px; height:20px; vertical-align: middle;'></progress>\n",
              "      100.00% [168173568/168168549 00:03&lt;00:00]\n",
              "    </div>\n",
              "    "
            ]
          },
          "metadata": {}
        }
      ],
      "source": [
        "# We get the CIFAR10 dataset\n",
        "path = untar_data(URLs.CIFAR,force_download=True)"
      ]
    },
    {
      "cell_type": "code",
      "execution_count": null,
      "metadata": {
        "colab": {
          "base_uri": "https://localhost:8080/"
        },
        "id": "d2tp1ddMMCU8",
        "outputId": "4d3acc0d-edbc-4990-d763-0cd76e985a86"
      },
      "outputs": [
        {
          "output_type": "stream",
          "name": "stdout",
          "text": [
            "/root/.fastai/data/cifar10\n",
            "[Path('/root/.fastai/data/cifar10/test'), Path('/root/.fastai/data/cifar10/labels.txt'), Path('/root/.fastai/data/cifar10/train')]\n",
            "[Path('/root/.fastai/data/cifar10/train/deer'), Path('/root/.fastai/data/cifar10/train/bird'), Path('/root/.fastai/data/cifar10/train/automobile'), Path('/root/.fastai/data/cifar10/train/truck'), Path('/root/.fastai/data/cifar10/train/horse'), Path('/root/.fastai/data/cifar10/train/ship'), Path('/root/.fastai/data/cifar10/train/dog'), Path('/root/.fastai/data/cifar10/train/cat'), Path('/root/.fastai/data/cifar10/train/frog'), Path('/root/.fastai/data/cifar10/train/airplane')]\n",
            "[Path('/root/.fastai/data/cifar10/test/deer'), Path('/root/.fastai/data/cifar10/test/bird'), Path('/root/.fastai/data/cifar10/test/automobile'), Path('/root/.fastai/data/cifar10/test/truck'), Path('/root/.fastai/data/cifar10/test/horse'), Path('/root/.fastai/data/cifar10/test/ship'), Path('/root/.fastai/data/cifar10/test/dog'), Path('/root/.fastai/data/cifar10/test/cat'), Path('/root/.fastai/data/cifar10/test/frog'), Path('/root/.fastai/data/cifar10/test/airplane')]\n"
          ]
        }
      ],
      "source": [
        "# The CIFAR_10 dataset follows a common layout for machine learning datasets:\n",
        "# separate folders for the training set and the validation set (and/or test set).\n",
        "# Let's see what's inside both the training and test sets\n",
        "print(path)\n",
        "print(path.ls())\n",
        "print((path/'train').ls())\n",
        "print((path/'test').ls())\n",
        "train_classes = (path/'train').ls()\n",
        "test_classes = (path/'test').ls()"
      ]
    },
    {
      "cell_type": "markdown",
      "metadata": {
        "id": "YuASIWipb0Na"
      },
      "source": [
        "Comprobamos que efectivamente disponemos de $50000$ ejemplos de entrenamiento y $10000$ de *test*, que el tamaño de las imágenes es $32\\times 32\\times 3$ y que el número de clases es $10$."
      ]
    },
    {
      "cell_type": "code",
      "execution_count": null,
      "metadata": {
        "colab": {
          "base_uri": "https://localhost:8080/"
        },
        "id": "Eh5wDFpCMkaM",
        "outputId": "af7e7c72-a479-42a5-a8f1-8530a9110d20"
      },
      "outputs": [
        {
          "output_type": "stream",
          "name": "stdout",
          "text": [
            "Número de imágenes de entrenamiento: 50000\n",
            "Número de imágenes de test: 10000\n",
            "Tamaño de las imágenes: 32x32x3\n",
            "Número de clases: 10\n"
          ]
        }
      ],
      "source": [
        "from cv2 import imread\n",
        "\n",
        "n_training = np.sum([len(class_files.ls()) for class_files in train_classes])\n",
        "n_test = np.sum([len(class_files.ls()) for class_files in test_classes])\n",
        "\n",
        "img = imread(path/'train'/'deer'/'10006_deer.png')\n",
        "width, height, num_channels = img.shape\n",
        "num_classes = len(train_classes)\n",
        "\n",
        "print(f\"Número de imágenes de entrenamiento: {n_training}\")\n",
        "print(f\"Número de imágenes de test: {n_test}\")\n",
        "print(f\"Tamaño de las imágenes: {width}x{height}x{num_channels}\")\n",
        "print(f\"Número de clases: {num_classes}\")"
      ]
    },
    {
      "cell_type": "markdown",
      "source": [
        "### Carga del *dataset* CIFAR-100"
      ],
      "metadata": {
        "id": "Tg16830W7WU9"
      }
    },
    {
      "cell_type": "markdown",
      "source": [
        "Descargamos y guardamos todas las imágenes de CIFAR-100"
      ],
      "metadata": {
        "id": "syVmZB1e9XN3"
      }
    },
    {
      "cell_type": "code",
      "source": [
        "# We get the CIFAR100 dataset\n",
        "pathCIFAR100 = untar_data(URLs.CIFAR_100,force_download=True)"
      ],
      "metadata": {
        "colab": {
          "base_uri": "https://localhost:8080/",
          "height": 37
        },
        "id": "pYGV925i7jFx",
        "outputId": "3e97ca83-629e-432c-a74f-6aca12c82cef"
      },
      "execution_count": null,
      "outputs": [
        {
          "output_type": "display_data",
          "data": {
            "text/plain": [
              "<IPython.core.display.HTML object>"
            ],
            "text/html": [
              "\n",
              "<style>\n",
              "    /* Turns off some styling */\n",
              "    progress {\n",
              "        /* gets rid of default border in Firefox and Opera. */\n",
              "        border: none;\n",
              "        /* Needs to be in here for Safari polyfill so background images work as expected. */\n",
              "        background-size: auto;\n",
              "    }\n",
              "    progress:not([value]), progress:not([value])::-webkit-progress-bar {\n",
              "        background: repeating-linear-gradient(45deg, #7e7e7e, #7e7e7e 10px, #5c5c5c 10px, #5c5c5c 20px);\n",
              "    }\n",
              "    .progress-bar-interrupted, .progress-bar-interrupted::-webkit-progress-bar {\n",
              "        background: #F44336;\n",
              "    }\n",
              "</style>\n"
            ]
          },
          "metadata": {}
        },
        {
          "output_type": "display_data",
          "data": {
            "text/plain": [
              "<IPython.core.display.HTML object>"
            ],
            "text/html": [
              "\n",
              "    <div>\n",
              "      <progress value='169172992' class='' max='169168619' style='width:300px; height:20px; vertical-align: middle;'></progress>\n",
              "      100.00% [169172992/169168619 00:03&lt;00:00]\n",
              "    </div>\n",
              "    "
            ]
          },
          "metadata": {}
        }
      ]
    },
    {
      "cell_type": "code",
      "execution_count": null,
      "metadata": {
        "id": "EQ7S_XJRr_bZ"
      },
      "outputs": [],
      "source": [
        "imagesCIFAR100 = get_image_files(pathCIFAR100/'train')"
      ]
    },
    {
      "cell_type": "markdown",
      "source": [
        "### Introducimos ruido procedente de CIFAR-100"
      ],
      "metadata": {
        "id": "mZSWoHFN9PqI"
      }
    },
    {
      "cell_type": "markdown",
      "metadata": {
        "id": "S1oEv_g2esgF"
      },
      "source": [
        "Seleccionamos un valor para $\\alpha$ y fijamos la semilla aleatoria con el fin de garantizar la reproducibilidad en la mayor medida posible."
      ]
    },
    {
      "cell_type": "code",
      "execution_count": null,
      "metadata": {
        "id": "gpXwimAifcDy"
      },
      "outputs": [],
      "source": [
        "alpha = 2\n",
        "random.seed(42)"
      ]
    },
    {
      "cell_type": "markdown",
      "metadata": {
        "id": "RmE9bsUlhQht"
      },
      "source": [
        "Seleccionamos todas las imágenes del entrenamiento y, por cada imagen, introducimos tantas imágenes de CIFAR-100 como indique $\\alpha$:"
      ]
    },
    {
      "cell_type": "code",
      "source": [
        "def introduceCIFAR100noise(images):\n",
        "  selected_images = []\n",
        "  i = 0\n",
        "\n",
        "  while(i<len(images)):\n",
        "    selected_images.append(images[i])\n",
        "\n",
        "    for j in range(alpha):\n",
        "      selected_images.append(random.choice(imagesCIFAR100))\n",
        "\n",
        "    i += 1\n",
        "\n",
        "  return selected_images"
      ],
      "metadata": {
        "id": "tMVQWDmM9BY_"
      },
      "execution_count": null,
      "outputs": []
    },
    {
      "cell_type": "code",
      "execution_count": null,
      "metadata": {
        "id": "Vi7SbbQme1tR"
      },
      "outputs": [],
      "source": [
        "selected_images = introduceCIFAR100noise(get_image_files(path/'train'))"
      ]
    },
    {
      "cell_type": "code",
      "execution_count": null,
      "metadata": {
        "colab": {
          "base_uri": "https://localhost:8080/"
        },
        "id": "vECZZGnve23B",
        "outputId": "4f403d16-3459-44e4-b23d-d439546e58cb"
      },
      "outputs": [
        {
          "output_type": "execute_result",
          "data": {
            "text/plain": [
              "150000"
            ]
          },
          "metadata": {},
          "execution_count": 19
        }
      ],
      "source": [
        "len(selected_images)"
      ]
    },
    {
      "cell_type": "markdown",
      "metadata": {
        "id": "b1DEPXnUfKhD"
      },
      "source": [
        "Creamos una función que selecciona las imágenes del conjunto de entrenamiento, y les asigna una etiqueta de forma aleatoria (uniforme):"
      ]
    },
    {
      "cell_type": "code",
      "execution_count": null,
      "metadata": {
        "id": "09g2zIVTsibB"
      },
      "outputs": [],
      "source": [
        "possible_labels = ['airplane', 'automobile', 'bird', 'cat', 'deer', 'dog', 'frog', 'horse', 'ship', 'truck']\n",
        "\n",
        "def get_labels(images):\n",
        "  i = 0\n",
        "  labels = []\n",
        "\n",
        "  while(i<len(images)):\n",
        "    labels.append(parent_label(images[i]))\n",
        "\n",
        "    for j in range(alpha):\n",
        "      labels.append(random.choice(possible_labels))\n",
        "\n",
        "    i += 1+alpha\n",
        "\n",
        "  return labels"
      ]
    },
    {
      "cell_type": "code",
      "execution_count": null,
      "metadata": {
        "id": "djKSF4elhk4W"
      },
      "outputs": [],
      "source": [
        "labels = get_labels(selected_images)"
      ]
    },
    {
      "cell_type": "markdown",
      "metadata": {
        "id": "SuPnXFqrf5Q-"
      },
      "source": [
        "Combinamos todo en un *datablock* (que es la forma que tiene fastai de gestionar los datos de entrada):"
      ]
    },
    {
      "cell_type": "code",
      "execution_count": null,
      "metadata": {
        "id": "BDvqSsF3ixXt"
      },
      "outputs": [],
      "source": [
        "batch_size = 128\n",
        "valid_part = 0.2"
      ]
    },
    {
      "cell_type": "code",
      "execution_count": null,
      "metadata": {
        "id": "cjAhk5jqf4yF"
      },
      "outputs": [],
      "source": [
        "dblock = DataBlock(\n",
        "    blocks=(ImageBlock, CategoryBlock),\n",
        "    get_items=lambda _: range(0,len(selected_images)),\n",
        "    get_x=lambda x: selected_images[x],\n",
        "    get_y=lambda x: labels[x],\n",
        "    splitter=RandomSplitter(valid_pct=0.2, seed=42),\n",
        "    batch_tfms=[\n",
        "        Normalize()\n",
        "    ]\n",
        ")\n",
        "\n",
        "dls = dblock.dataloaders(path/'train', bs=128)"
      ]
    },
    {
      "cell_type": "markdown",
      "metadata": {
        "id": "jTQib-xFhvkl"
      },
      "source": [
        "Mostramos algunos ejemplos de nuestros datos de entrada:"
      ]
    },
    {
      "cell_type": "code",
      "execution_count": null,
      "metadata": {
        "colab": {
          "base_uri": "https://localhost:8080/",
          "height": 752
        },
        "id": "UhXe9-iidPLQ",
        "outputId": "ce263050-18f5-4943-863b-afc4cd462be1"
      },
      "outputs": [
        {
          "output_type": "display_data",
          "data": {
            "text/plain": [
              "<Figure size 900x900 with 9 Axes>"
            ],
            "image/png": "[encoded data removed]"
          },
          "metadata": {}
        }
      ],
      "source": [
        "dls.show_batch(max_n=9)"
      ]
    },
    {
      "cell_type": "markdown",
      "metadata": {
        "id": "B6RNekgWj1aO"
      },
      "source": [
        "## Arquitecturas de redes neuronales"
      ]
    },
    {
      "cell_type": "markdown",
      "metadata": {
        "id": "BO5bPO1FjzUG"
      },
      "source": [
        "Creamos y entrenamos los distintos modelos durante un cierto número de épocas."
      ]
    },
    {
      "cell_type": "code",
      "execution_count": null,
      "metadata": {
        "id": "Zks82yu0OHVX"
      },
      "outputs": [],
      "source": [
        "num_epochs = 10\n",
        "early_stopping_patience = 3"
      ]
    },
    {
      "cell_type": "markdown",
      "metadata": {
        "id": "rm-z3OJQqlHa"
      },
      "source": [
        "### MLP-2"
      ]
    },
    {
      "cell_type": "markdown",
      "metadata": {
        "id": "FclNzbniio20"
      },
      "source": [
        "Seleccionamos el *learning rate*:"
      ]
    },
    {
      "cell_type": "code",
      "execution_count": null,
      "metadata": {
        "id": "nPbASMY5ipMs"
      },
      "outputs": [],
      "source": [
        "learning_rate = 0.1"
      ]
    },
    {
      "cell_type": "markdown",
      "metadata": {
        "id": "7oyfUqJtj2j7"
      },
      "source": [
        "En primer lugar, consideramos un MLP con $2$ capas ocultas."
      ]
    },
    {
      "cell_type": "markdown",
      "metadata": {
        "id": "wOhjFy96y50K"
      },
      "source": [
        "#### Creación del modelo"
      ]
    },
    {
      "cell_type": "code",
      "execution_count": null,
      "metadata": {
        "id": "72Yz2fO_qnjN"
      },
      "outputs": [],
      "source": [
        "from torch.nn import Linear, ReLU, Flatten, BatchNorm1d\n",
        "from torch.optim import Adadelta\n",
        "from torchsummary import summary\n",
        "\n",
        "# Crear el MLP con 2 capas ocultas\n",
        "opt_func = partial(OptimWrapper, opt=Adadelta, lr=learning_rate)\n",
        "\n",
        "mlp2 = sequential(\n",
        "    Flatten(),                              # Aplana la imagen de 28x28 a un vector de 784\n",
        "    Linear(width*height*num_channels, 512), # Capa densa con tantas entradas como píxeles tenga la imagen y 512 salidas\n",
        "    ReLU(),                                 # Función de activación ReLU\n",
        "    BatchNorm1d(512),                       # Capa de Batch Normalization\n",
        "    Linear(512, 512),                       # Capa densa con 512 entradas y 512 salidas\n",
        "    ReLU(),                                 # Función de activación ReLU\n",
        "    BatchNorm1d(512),                       # Capa de Batch Normalization\n",
        "    Linear(512, num_classes)                # Capa de salida con num_classes salidas\n",
        ")\n",
        "\n",
        "# Crear el aprendiz (learner)\n",
        "learn = Learner(\n",
        "    dls,\n",
        "    mlp2,\n",
        "    metrics=[\n",
        "        accuracy,\n",
        "        F1Score(average='weighted')\n",
        "    ],\n",
        "    opt_func=opt_func,\n",
        "    loss_func=CrossEntropyLossFlat(),\n",
        "    cbs=[EarlyStoppingCallback(monitor='valid_loss', patience=early_stopping_patience)]\n",
        ")"
      ]
    },
    {
      "cell_type": "code",
      "execution_count": null,
      "metadata": {
        "colab": {
          "base_uri": "https://localhost:8080/",
          "height": 573
        },
        "id": "T6fiqkz1EKds",
        "outputId": "f1a2d37e-7d37-44c0-f682-07a5e07a20f0"
      },
      "outputs": [
        {
          "output_type": "display_data",
          "data": {
            "text/plain": [
              "<IPython.core.display.HTML object>"
            ],
            "text/html": [
              "\n",
              "<style>\n",
              "    /* Turns off some styling */\n",
              "    progress {\n",
              "        /* gets rid of default border in Firefox and Opera. */\n",
              "        border: none;\n",
              "        /* Needs to be in here for Safari polyfill so background images work as expected. */\n",
              "        background-size: auto;\n",
              "    }\n",
              "    progress:not([value]), progress:not([value])::-webkit-progress-bar {\n",
              "        background: repeating-linear-gradient(45deg, #7e7e7e, #7e7e7e 10px, #5c5c5c 10px, #5c5c5c 20px);\n",
              "    }\n",
              "    .progress-bar-interrupted, .progress-bar-interrupted::-webkit-progress-bar {\n",
              "        background: #F44336;\n",
              "    }\n",
              "</style>\n"
            ]
          },
          "metadata": {}
        },
        {
          "output_type": "display_data",
          "data": {
            "text/plain": [
              "<IPython.core.display.HTML object>"
            ],
            "text/html": []
          },
          "metadata": {}
        },
        {
          "output_type": "execute_result",
          "data": {
            "text/plain": [
              "Sequential (Input shape: 128 x 3 x 32 x 32)\n",
              "============================================================================\n",
              "Layer (type)         Output Shape         Param #    Trainable \n",
              "============================================================================\n",
              "                     128 x 3072          \n",
              "Flatten                                                        \n",
              "____________________________________________________________________________\n",
              "                     128 x 512           \n",
              "Linear                                    1573376    True      \n",
              "ReLU                                                           \n",
              "BatchNorm1d                               1024       True      \n",
              "Linear                                    262656     True      \n",
              "ReLU                                                           \n",
              "BatchNorm1d                               1024       True      \n",
              "____________________________________________________________________________\n",
              "                     128 x 10            \n",
              "Linear                                    5130       True      \n",
              "____________________________________________________________________________\n",
              "\n",
              "Total params: 1,843,210\n",
              "Total trainable params: 1,843,210\n",
              "Total non-trainable params: 0\n",
              "\n",
              "Optimizer used: functools.partial(<class 'fastai.optimizer.OptimWrapper'>, opt=<class 'torch.optim.adadelta.Adadelta'>, lr=0.1)\n",
              "Loss function: FlattenedLoss of CrossEntropyLoss()\n",
              "\n",
              "Callbacks:\n",
              "  - TrainEvalCallback\n",
              "  - CastToTensor\n",
              "  - Recorder\n",
              "  - ProgressCallback\n",
              "  - EarlyStoppingCallback"
            ],
            "application/vnd.google.colaboratory.intrinsic+json": {
              "type": "string"
            }
          },
          "metadata": {},
          "execution_count": 28
        }
      ],
      "source": [
        "learn.summary()"
      ]
    },
    {
      "cell_type": "markdown",
      "metadata": {
        "id": "nkk-_HYNy9Zx"
      },
      "source": [
        "#### Entrenamiento del modelo"
      ]
    },
    {
      "cell_type": "code",
      "execution_count": null,
      "metadata": {
        "colab": {
          "base_uri": "https://localhost:8080/",
          "height": 318
        },
        "id": "rxCFdYtztWoa",
        "outputId": "08b10372-d6d3-4e97-eb48-27bad3988690"
      },
      "outputs": [
        {
          "output_type": "display_data",
          "data": {
            "text/plain": [
              "<IPython.core.display.HTML object>"
            ],
            "text/html": [
              "\n",
              "<style>\n",
              "    /* Turns off some styling */\n",
              "    progress {\n",
              "        /* gets rid of default border in Firefox and Opera. */\n",
              "        border: none;\n",
              "        /* Needs to be in here for Safari polyfill so background images work as expected. */\n",
              "        background-size: auto;\n",
              "    }\n",
              "    progress:not([value]), progress:not([value])::-webkit-progress-bar {\n",
              "        background: repeating-linear-gradient(45deg, #7e7e7e, #7e7e7e 10px, #5c5c5c 10px, #5c5c5c 20px);\n",
              "    }\n",
              "    .progress-bar-interrupted, .progress-bar-interrupted::-webkit-progress-bar {\n",
              "        background: #F44336;\n",
              "    }\n",
              "</style>\n"
            ]
          },
          "metadata": {}
        },
        {
          "output_type": "display_data",
          "data": {
            "text/plain": [
              "<IPython.core.display.HTML object>"
            ],
            "text/html": [
              "<table border=\"1\" class=\"dataframe\">\n",
              "  <thead>\n",
              "    <tr style=\"text-align: left;\">\n",
              "      <th>epoch</th>\n",
              "      <th>train_loss</th>\n",
              "      <th>valid_loss</th>\n",
              "      <th>accuracy</th>\n",
              "      <th>f1_score</th>\n",
              "      <th>time</th>\n",
              "    </tr>\n",
              "  </thead>\n",
              "  <tbody>\n",
              "    <tr>\n",
              "      <td>0</td>\n",
              "      <td>2.215598</td>\n",
              "      <td>2.216915</td>\n",
              "      <td>0.205033</td>\n",
              "      <td>0.204444</td>\n",
              "      <td>01:04</td>\n",
              "    </tr>\n",
              "    <tr>\n",
              "      <td>1</td>\n",
              "      <td>2.180456</td>\n",
              "      <td>2.204451</td>\n",
              "      <td>0.210533</td>\n",
              "      <td>0.209878</td>\n",
              "      <td>01:03</td>\n",
              "    </tr>\n",
              "    <tr>\n",
              "      <td>2</td>\n",
              "      <td>2.160601</td>\n",
              "      <td>2.194852</td>\n",
              "      <td>0.216767</td>\n",
              "      <td>0.214683</td>\n",
              "      <td>01:02</td>\n",
              "    </tr>\n",
              "    <tr>\n",
              "      <td>3</td>\n",
              "      <td>2.129635</td>\n",
              "      <td>2.194289</td>\n",
              "      <td>0.220900</td>\n",
              "      <td>0.219757</td>\n",
              "      <td>01:02</td>\n",
              "    </tr>\n",
              "    <tr>\n",
              "      <td>4</td>\n",
              "      <td>2.108751</td>\n",
              "      <td>2.189429</td>\n",
              "      <td>0.223367</td>\n",
              "      <td>0.224614</td>\n",
              "      <td>01:02</td>\n",
              "    </tr>\n",
              "    <tr>\n",
              "      <td>5</td>\n",
              "      <td>2.076907</td>\n",
              "      <td>2.194041</td>\n",
              "      <td>0.224067</td>\n",
              "      <td>0.223207</td>\n",
              "      <td>01:02</td>\n",
              "    </tr>\n",
              "    <tr>\n",
              "      <td>6</td>\n",
              "      <td>2.063463</td>\n",
              "      <td>2.215707</td>\n",
              "      <td>0.217267</td>\n",
              "      <td>0.216597</td>\n",
              "      <td>01:02</td>\n",
              "    </tr>\n",
              "    <tr>\n",
              "      <td>7</td>\n",
              "      <td>2.040975</td>\n",
              "      <td>2.224545</td>\n",
              "      <td>0.219967</td>\n",
              "      <td>0.219041</td>\n",
              "      <td>01:02</td>\n",
              "    </tr>\n",
              "  </tbody>\n",
              "</table>"
            ]
          },
          "metadata": {}
        },
        {
          "output_type": "stream",
          "name": "stdout",
          "text": [
            "No improvement since epoch 4: early stopping\n"
          ]
        }
      ],
      "source": [
        "learn.fit(num_epochs,lr=learning_rate)"
      ]
    },
    {
      "cell_type": "markdown",
      "metadata": {
        "id": "SrOMHpLJq5qY"
      },
      "source": [
        "#### Rendimiento en el conjunto de *test*"
      ]
    },
    {
      "cell_type": "markdown",
      "metadata": {
        "id": "saZefNY2qGMm"
      },
      "source": [
        "Medimos ahora el rendimiento utilizando el conjunto de test:"
      ]
    },
    {
      "cell_type": "code",
      "execution_count": null,
      "metadata": {
        "id": "wjPdArq9qlGK"
      },
      "outputs": [],
      "source": [
        "from sklearn.metrics import accuracy_score, f1_score\n",
        "\n",
        "def accuracy_f1_test(test_path, learner):\n",
        "  files_test = get_image_files(test_path)\n",
        "  dls_test = learner.dls.test_dl(files_test, with_labels = False)\n",
        "  preds = learner.get_preds(dl = dls_test, with_decoded = True)\n",
        "\n",
        "  preds_labels = [learner.dls.vocab[i] for i in preds[2]]\n",
        "  targs = [parent_label(f) for f in files_test]\n",
        "\n",
        "  test_accuracy = accuracy_score(preds_labels, targs)\n",
        "  test_f1 = f1_score(preds_labels, targs, average='weighted')\n",
        "\n",
        "  print(f\"Accuracy en test: {test_accuracy:.2f}\")\n",
        "  print(f\"F1 en test: {test_f1:.2f}\")"
      ]
    },
    {
      "cell_type": "code",
      "execution_count": null,
      "metadata": {
        "colab": {
          "base_uri": "https://localhost:8080/",
          "height": 52
        },
        "id": "Jd-IWd38rU1a",
        "outputId": "2a0b2e44-767a-4a45-d6b8-7c0ce1118e17"
      },
      "outputs": [
        {
          "output_type": "display_data",
          "data": {
            "text/plain": [
              "<IPython.core.display.HTML object>"
            ],
            "text/html": [
              "\n",
              "<style>\n",
              "    /* Turns off some styling */\n",
              "    progress {\n",
              "        /* gets rid of default border in Firefox and Opera. */\n",
              "        border: none;\n",
              "        /* Needs to be in here for Safari polyfill so background images work as expected. */\n",
              "        background-size: auto;\n",
              "    }\n",
              "    progress:not([value]), progress:not([value])::-webkit-progress-bar {\n",
              "        background: repeating-linear-gradient(45deg, #7e7e7e, #7e7e7e 10px, #5c5c5c 10px, #5c5c5c 20px);\n",
              "    }\n",
              "    .progress-bar-interrupted, .progress-bar-interrupted::-webkit-progress-bar {\n",
              "        background: #F44336;\n",
              "    }\n",
              "</style>\n"
            ]
          },
          "metadata": {}
        },
        {
          "output_type": "display_data",
          "data": {
            "text/plain": [
              "<IPython.core.display.HTML object>"
            ],
            "text/html": []
          },
          "metadata": {}
        },
        {
          "output_type": "stream",
          "name": "stdout",
          "text": [
            "Accuracy en test: 0.49\n",
            "F1 en test: 0.48\n"
          ]
        }
      ],
      "source": [
        "accuracy_f1_test(path/'test', learn)"
      ]
    },
    {
      "cell_type": "markdown",
      "metadata": {
        "id": "Zxy6VdLBAQh7"
      },
      "source": [
        "### Conv4"
      ]
    },
    {
      "cell_type": "markdown",
      "metadata": {
        "id": "rCFuEx7bTqFP"
      },
      "source": [
        "Seleccionamos el *learning rate*:"
      ]
    },
    {
      "cell_type": "code",
      "execution_count": null,
      "metadata": {
        "id": "z_E8_ZWj0AlR"
      },
      "outputs": [],
      "source": [
        "learning_rate = 0.1"
      ]
    },
    {
      "cell_type": "markdown",
      "metadata": {
        "id": "THwHopyDm3_6"
      },
      "source": [
        "Consideramos ahora una red neuronal con $4$ capas convolucionales:"
      ]
    },
    {
      "cell_type": "markdown",
      "metadata": {
        "id": "aHUg40Z3zHKr"
      },
      "source": [
        "#### Creación del modelo"
      ]
    },
    {
      "cell_type": "code",
      "execution_count": null,
      "metadata": {
        "id": "1MBRmA4iAPoV"
      },
      "outputs": [],
      "source": [
        "from torch.nn import Linear, LazyLinear, ReLU, Flatten, Conv2d, MaxPool2d, BatchNorm2d\n",
        "from torch.optim import Adadelta\n",
        "from torchsummary import summary\n",
        "\n",
        "# Crear el modelo de 4 capas convolucionales\n",
        "opt_func = partial(OptimWrapper, opt=Adadelta, lr=learning_rate)\n",
        "\n",
        "conv4 = sequential(\n",
        "\n",
        "    # 1ª Capa convolucional:\n",
        "    # - Tantos canales de entrada como tenga la imagen de entrada\n",
        "    # - 8 canales de salida\n",
        "    # - Filtro 3x3\n",
        "    Conv2d(num_channels, 8, 3),\n",
        "    ReLU(),                          # Capa ReLU\n",
        "    MaxPool2d(2),                    # Capa MaxPooling (Filtro 2x2)\n",
        "    BatchNorm2d(8),                  # Capa de Batch Normalization\n",
        "\n",
        "    # 2ª Capa convolucional:\n",
        "    # - 8 canales de entrada y 16 de salida\n",
        "    # - Filtro 3x3\n",
        "    Conv2d(8, 16, 3),\n",
        "    ReLU(),                          # Capa ReLU\n",
        "    MaxPool2d(2),                    # Capa MaxPooling (Filtro 2x2)\n",
        "    BatchNorm2d(16),                 # Capa de Batch Normalization\n",
        "\n",
        "    # 3ª Capa convolucional:\n",
        "    # - 16 canales de entrada y 16 de salida\n",
        "    # - Filtro 3x3\n",
        "    Conv2d(16, 16, 3),\n",
        "    ReLU(),                          # Capa ReLU\n",
        "    BatchNorm2d(16),                 # Capa de Batch Normalization\n",
        "\n",
        "    # 4ª Capa convolucional:\n",
        "    # - 16 canales de entrada y 4 de salida\n",
        "    # - Filtro 1x1\n",
        "    Conv2d(16,4,(1,1)),\n",
        "    ReLU(),                          # Capa ReLU\n",
        "    BatchNorm2d(4),                  # Capa de Batch Normalization\n",
        "    Flatten(),                       # Aplanado de la salida\n",
        "\n",
        "    # Capa densa con 64 salidas (el nº de entradas se ajusta automáticamente)\n",
        "    LazyLinear(64),\n",
        "    ReLU(),                          # Capa ReLU\n",
        "    Linear(64, num_classes)          # Capa densa con num_classes salidas\n",
        ")\n",
        "\n",
        "\n",
        "# Crear el aprendiz (learner)\n",
        "learn = Learner(\n",
        "    dls,\n",
        "    conv4,\n",
        "    metrics=[\n",
        "        accuracy,\n",
        "        F1Score(average='weighted')\n",
        "    ],\n",
        "    opt_func=opt_func,\n",
        "    loss_func=CrossEntropyLossFlat(),\n",
        "    cbs=[EarlyStoppingCallback(monitor='valid_loss', patience=early_stopping_patience)]\n",
        ")"
      ]
    },
    {
      "cell_type": "code",
      "execution_count": null,
      "metadata": {
        "colab": {
          "base_uri": "https://localhost:8080/",
          "height": 920
        },
        "id": "YkviTY0OkkZa",
        "outputId": "a76b2a23-e826-4614-b777-a12a23b19fb8"
      },
      "outputs": [
        {
          "output_type": "display_data",
          "data": {
            "text/plain": [
              "<IPython.core.display.HTML object>"
            ],
            "text/html": [
              "\n",
              "<style>\n",
              "    /* Turns off some styling */\n",
              "    progress {\n",
              "        /* gets rid of default border in Firefox and Opera. */\n",
              "        border: none;\n",
              "        /* Needs to be in here for Safari polyfill so background images work as expected. */\n",
              "        background-size: auto;\n",
              "    }\n",
              "    progress:not([value]), progress:not([value])::-webkit-progress-bar {\n",
              "        background: repeating-linear-gradient(45deg, #7e7e7e, #7e7e7e 10px, #5c5c5c 10px, #5c5c5c 20px);\n",
              "    }\n",
              "    .progress-bar-interrupted, .progress-bar-interrupted::-webkit-progress-bar {\n",
              "        background: #F44336;\n",
              "    }\n",
              "</style>\n"
            ]
          },
          "metadata": {}
        },
        {
          "output_type": "display_data",
          "data": {
            "text/plain": [
              "<IPython.core.display.HTML object>"
            ],
            "text/html": []
          },
          "metadata": {}
        },
        {
          "output_type": "execute_result",
          "data": {
            "text/plain": [
              "Sequential (Input shape: 128 x 3 x 32 x 32)\n",
              "============================================================================\n",
              "Layer (type)         Output Shape         Param #    Trainable \n",
              "============================================================================\n",
              "                     128 x 8 x 30 x 30   \n",
              "Conv2d                                    224        True      \n",
              "ReLU                                                           \n",
              "____________________________________________________________________________\n",
              "                     128 x 8 x 15 x 15   \n",
              "MaxPool2d                                                      \n",
              "BatchNorm2d                               16         True      \n",
              "____________________________________________________________________________\n",
              "                     128 x 16 x 13 x 13  \n",
              "Conv2d                                    1168       True      \n",
              "ReLU                                                           \n",
              "____________________________________________________________________________\n",
              "                     128 x 16 x 6 x 6    \n",
              "MaxPool2d                                                      \n",
              "BatchNorm2d                               32         True      \n",
              "____________________________________________________________________________\n",
              "                     128 x 16 x 4 x 4    \n",
              "Conv2d                                    2320       True      \n",
              "ReLU                                                           \n",
              "BatchNorm2d                               32         True      \n",
              "____________________________________________________________________________\n",
              "                     128 x 4 x 4 x 4     \n",
              "Conv2d                                    68         True      \n",
              "ReLU                                                           \n",
              "BatchNorm2d                               8          True      \n",
              "____________________________________________________________________________\n",
              "                     128 x 64            \n",
              "Flatten                                                        \n",
              "Linear                                    4160       True      \n",
              "ReLU                                                           \n",
              "____________________________________________________________________________\n",
              "                     128 x 10            \n",
              "Linear                                    650        True      \n",
              "____________________________________________________________________________\n",
              "\n",
              "Total params: 8,678\n",
              "Total trainable params: 8,678\n",
              "Total non-trainable params: 0\n",
              "\n",
              "Optimizer used: functools.partial(<class 'fastai.optimizer.OptimWrapper'>, opt=<class 'torch.optim.adadelta.Adadelta'>, lr=0.1)\n",
              "Loss function: FlattenedLoss of CrossEntropyLoss()\n",
              "\n",
              "Callbacks:\n",
              "  - TrainEvalCallback\n",
              "  - CastToTensor\n",
              "  - Recorder\n",
              "  - ProgressCallback\n",
              "  - EarlyStoppingCallback"
            ],
            "application/vnd.google.colaboratory.intrinsic+json": {
              "type": "string"
            }
          },
          "metadata": {},
          "execution_count": 34
        }
      ],
      "source": [
        "learn.summary()"
      ]
    },
    {
      "cell_type": "markdown",
      "metadata": {
        "id": "bMJJOmdhzKl3"
      },
      "source": [
        "#### Entrenamiento del modelo"
      ]
    },
    {
      "cell_type": "code",
      "execution_count": null,
      "metadata": {
        "colab": {
          "base_uri": "https://localhost:8080/",
          "height": 363
        },
        "id": "of82CWL5l_8r",
        "outputId": "3d42bad7-ad29-4389-8b3b-acfbbd182eb7"
      },
      "outputs": [
        {
          "output_type": "display_data",
          "data": {
            "text/plain": [
              "<IPython.core.display.HTML object>"
            ],
            "text/html": [
              "\n",
              "<style>\n",
              "    /* Turns off some styling */\n",
              "    progress {\n",
              "        /* gets rid of default border in Firefox and Opera. */\n",
              "        border: none;\n",
              "        /* Needs to be in here for Safari polyfill so background images work as expected. */\n",
              "        background-size: auto;\n",
              "    }\n",
              "    progress:not([value]), progress:not([value])::-webkit-progress-bar {\n",
              "        background: repeating-linear-gradient(45deg, #7e7e7e, #7e7e7e 10px, #5c5c5c 10px, #5c5c5c 20px);\n",
              "    }\n",
              "    .progress-bar-interrupted, .progress-bar-interrupted::-webkit-progress-bar {\n",
              "        background: #F44336;\n",
              "    }\n",
              "</style>\n"
            ]
          },
          "metadata": {}
        },
        {
          "output_type": "display_data",
          "data": {
            "text/plain": [
              "<IPython.core.display.HTML object>"
            ],
            "text/html": [
              "<table border=\"1\" class=\"dataframe\">\n",
              "  <thead>\n",
              "    <tr style=\"text-align: left;\">\n",
              "      <th>epoch</th>\n",
              "      <th>train_loss</th>\n",
              "      <th>valid_loss</th>\n",
              "      <th>accuracy</th>\n",
              "      <th>f1_score</th>\n",
              "      <th>time</th>\n",
              "    </tr>\n",
              "  </thead>\n",
              "  <tbody>\n",
              "    <tr>\n",
              "      <td>0</td>\n",
              "      <td>2.220649</td>\n",
              "      <td>2.221804</td>\n",
              "      <td>0.186300</td>\n",
              "      <td>0.183895</td>\n",
              "      <td>01:02</td>\n",
              "    </tr>\n",
              "    <tr>\n",
              "      <td>1</td>\n",
              "      <td>2.201339</td>\n",
              "      <td>2.200046</td>\n",
              "      <td>0.201433</td>\n",
              "      <td>0.200513</td>\n",
              "      <td>01:04</td>\n",
              "    </tr>\n",
              "    <tr>\n",
              "      <td>2</td>\n",
              "      <td>2.175200</td>\n",
              "      <td>2.183257</td>\n",
              "      <td>0.210233</td>\n",
              "      <td>0.208424</td>\n",
              "      <td>01:02</td>\n",
              "    </tr>\n",
              "    <tr>\n",
              "      <td>3</td>\n",
              "      <td>2.161528</td>\n",
              "      <td>2.173485</td>\n",
              "      <td>0.217533</td>\n",
              "      <td>0.218645</td>\n",
              "      <td>01:05</td>\n",
              "    </tr>\n",
              "    <tr>\n",
              "      <td>4</td>\n",
              "      <td>2.156780</td>\n",
              "      <td>2.164811</td>\n",
              "      <td>0.222767</td>\n",
              "      <td>0.224051</td>\n",
              "      <td>01:08</td>\n",
              "    </tr>\n",
              "    <tr>\n",
              "      <td>5</td>\n",
              "      <td>2.134214</td>\n",
              "      <td>2.159399</td>\n",
              "      <td>0.228333</td>\n",
              "      <td>0.228502</td>\n",
              "      <td>01:02</td>\n",
              "    </tr>\n",
              "    <tr>\n",
              "      <td>6</td>\n",
              "      <td>2.143599</td>\n",
              "      <td>2.153247</td>\n",
              "      <td>0.229333</td>\n",
              "      <td>0.230780</td>\n",
              "      <td>01:01</td>\n",
              "    </tr>\n",
              "    <tr>\n",
              "      <td>7</td>\n",
              "      <td>2.136042</td>\n",
              "      <td>2.149437</td>\n",
              "      <td>0.234367</td>\n",
              "      <td>0.235140</td>\n",
              "      <td>01:01</td>\n",
              "    </tr>\n",
              "    <tr>\n",
              "      <td>8</td>\n",
              "      <td>2.127533</td>\n",
              "      <td>2.145814</td>\n",
              "      <td>0.231433</td>\n",
              "      <td>0.232204</td>\n",
              "      <td>01:02</td>\n",
              "    </tr>\n",
              "    <tr>\n",
              "      <td>9</td>\n",
              "      <td>2.122456</td>\n",
              "      <td>2.143007</td>\n",
              "      <td>0.235267</td>\n",
              "      <td>0.236538</td>\n",
              "      <td>01:02</td>\n",
              "    </tr>\n",
              "  </tbody>\n",
              "</table>"
            ]
          },
          "metadata": {}
        }
      ],
      "source": [
        "learn.fit(num_epochs,lr=learning_rate)"
      ]
    },
    {
      "cell_type": "markdown",
      "metadata": {
        "id": "xfjeJXEkzNcm"
      },
      "source": [
        "#### Rendimiento en el conjunto de *test*"
      ]
    },
    {
      "cell_type": "code",
      "execution_count": null,
      "metadata": {
        "colab": {
          "base_uri": "https://localhost:8080/",
          "height": 52
        },
        "id": "73QhEjFdzTty",
        "outputId": "c4cefdf3-2353-41cf-dc1b-f2168396f8a8"
      },
      "outputs": [
        {
          "output_type": "display_data",
          "data": {
            "text/plain": [
              "<IPython.core.display.HTML object>"
            ],
            "text/html": [
              "\n",
              "<style>\n",
              "    /* Turns off some styling */\n",
              "    progress {\n",
              "        /* gets rid of default border in Firefox and Opera. */\n",
              "        border: none;\n",
              "        /* Needs to be in here for Safari polyfill so background images work as expected. */\n",
              "        background-size: auto;\n",
              "    }\n",
              "    progress:not([value]), progress:not([value])::-webkit-progress-bar {\n",
              "        background: repeating-linear-gradient(45deg, #7e7e7e, #7e7e7e 10px, #5c5c5c 10px, #5c5c5c 20px);\n",
              "    }\n",
              "    .progress-bar-interrupted, .progress-bar-interrupted::-webkit-progress-bar {\n",
              "        background: #F44336;\n",
              "    }\n",
              "</style>\n"
            ]
          },
          "metadata": {}
        },
        {
          "output_type": "display_data",
          "data": {
            "text/plain": [
              "<IPython.core.display.HTML object>"
            ],
            "text/html": []
          },
          "metadata": {}
        },
        {
          "output_type": "stream",
          "name": "stdout",
          "text": [
            "Accuracy en test: 0.58\n",
            "F1 en test: 0.56\n"
          ]
        }
      ],
      "source": [
        "accuracy_f1_test(path/'test', learn)"
      ]
    },
    {
      "cell_type": "markdown",
      "metadata": {
        "id": "h6rsLfBYgm7L"
      },
      "source": [
        "### Conv6"
      ]
    },
    {
      "cell_type": "markdown",
      "metadata": {
        "id": "4yXu3nccTsNX"
      },
      "source": [
        "Seleccionamos el *learning rate*:"
      ]
    },
    {
      "cell_type": "code",
      "execution_count": null,
      "metadata": {
        "id": "mgUXpqtW4C_C"
      },
      "outputs": [],
      "source": [
        "learning_rate = 0.5"
      ]
    },
    {
      "cell_type": "markdown",
      "metadata": {
        "id": "RxtP9U5R4GB2"
      },
      "source": [
        "Consideramos ahora una red neuronal con $6$ capas convolucionales:"
      ]
    },
    {
      "cell_type": "markdown",
      "metadata": {
        "id": "kKNBEYWQ4JAh"
      },
      "source": [
        "#### Creación del modelo"
      ]
    },
    {
      "cell_type": "code",
      "execution_count": null,
      "metadata": {
        "id": "kgnIT3vBgolq"
      },
      "outputs": [],
      "source": [
        "from torch.nn import Linear, LazyLinear, ReLU, Flatten, Conv2d, MaxPool2d, BatchNorm2d, Dropout, BatchNorm1d\n",
        "from torch.optim import Adadelta\n",
        "from torchsummary import summary\n",
        "\n",
        "# Crear el MLP con 2 capas ocultas\n",
        "opt_func = partial(OptimWrapper, opt=Adadelta, lr=learning_rate)\n",
        "\n",
        "conv6 = sequential(\n",
        "\n",
        "    # 1ª Capa convolucional:\n",
        "    # - Tantos canales de entrada como tenga la imagen de entrada\n",
        "    # - 32 canales de salida\n",
        "    # - Filtro 3x3\n",
        "    Conv2d(num_channels, 32, 3, padding='same'),\n",
        "    ReLU(),                                            # Capa ReLU\n",
        "    BatchNorm2d(32),                                   # Capa BatchNorm\n",
        "\n",
        "    # 2ª Capa convolucional:\n",
        "    # - 32 canales de entrada y 64 de salida\n",
        "    # - Filtro 3x3\n",
        "    Conv2d(32, 64, 3, padding='same'),\n",
        "    ReLU(),                                            # Capa ReLU\n",
        "    BatchNorm2d(64),                                   # Capa BatchNorm\n",
        "    MaxPool2d(2),                                      # Capa MaxPooling\n",
        "    Dropout(0.2),                                      # Capa Dropout (apago el 20% de las neuronas)\n",
        "\n",
        "    # 3ª Capa convolucional:\n",
        "    # - 64 canales de entrada y 64 de salida\n",
        "    # - Filtro 3x3\n",
        "    Conv2d(64, 64, 3, padding='same'),\n",
        "    ReLU(),                                            # Capa ReLU\n",
        "    BatchNorm2d(64),                                   # Capa BatchNorm\n",
        "\n",
        "    # 4ª Capa convolucional:\n",
        "    # - 64 canales de entrada y 64 de salida\n",
        "    # - Filtro 3x3\n",
        "    Conv2d(64, 64, 3, padding='same'),\n",
        "    ReLU(),                                            # Capa ReLU\n",
        "    BatchNorm2d(64),                                   # Capa BatchNorm\n",
        "    MaxPool2d(2),                                      # Capa MaxPooling\n",
        "    Dropout(0.3),                                      # Capa Dropout\n",
        "\n",
        "    # 5ª Capa convolucional:\n",
        "    # - 64 canales de entrada y 128 de salida\n",
        "    # - Filtro 3x3\n",
        "    Conv2d(64, 128, 3, padding='same'),\n",
        "    ReLU(),                                            # Capa ReLU\n",
        "    BatchNorm2d(128),                                  # Capa BatchNorm\n",
        "\n",
        "    # 6ª Capa convolucional:\n",
        "    # - 128 canales de entrada y 128 de salida\n",
        "    # - Filtro 3x3\n",
        "    Conv2d(128, 128, 3, padding='same'),\n",
        "    ReLU(),                                            # Capa ReLU\n",
        "    BatchNorm2d(128),                                  # Capa BatchNorm\n",
        "    MaxPool2d(2),                                      # Capa MaxPooling\n",
        "    Dropout(0.4),                                      # Capa Dropout\n",
        "    Flatten(),                                         # Aplanado\n",
        "\n",
        "    # Capa densa con 128 salidas (el nº de entradas se ajusta automáticamente)\n",
        "    LazyLinear(128),\n",
        "    ReLU(),                                            # Capa ReLU\n",
        "    BatchNorm1d(128),                                  # Capa BatchNorm\n",
        "    Dropout(0.5),                                      # Capa Dropout\n",
        "    Linear(128, num_classes)                           # Capa densa con num_classes salidas\n",
        ")\n",
        "\n",
        "\n",
        "# Crear el aprendiz (learner)\n",
        "learn = Learner(\n",
        "    dls,\n",
        "    conv6,\n",
        "    metrics=[\n",
        "        accuracy,\n",
        "        F1Score(average='weighted')\n",
        "    ],\n",
        "    opt_func=opt_func,\n",
        "    loss_func=CrossEntropyLossFlat(),\n",
        "    cbs=[EarlyStoppingCallback(monitor='valid_loss', patience=5)]\n",
        ")"
      ]
    },
    {
      "cell_type": "code",
      "execution_count": null,
      "metadata": {
        "colab": {
          "base_uri": "https://localhost:8080/",
          "height": 1000
        },
        "id": "NwszgPLDktV9",
        "outputId": "9c9264fe-da10-4a0f-9ad6-3f2e5ca3668b"
      },
      "outputs": [
        {
          "output_type": "display_data",
          "data": {
            "text/plain": [
              "<IPython.core.display.HTML object>"
            ],
            "text/html": [
              "\n",
              "<style>\n",
              "    /* Turns off some styling */\n",
              "    progress {\n",
              "        /* gets rid of default border in Firefox and Opera. */\n",
              "        border: none;\n",
              "        /* Needs to be in here for Safari polyfill so background images work as expected. */\n",
              "        background-size: auto;\n",
              "    }\n",
              "    progress:not([value]), progress:not([value])::-webkit-progress-bar {\n",
              "        background: repeating-linear-gradient(45deg, #7e7e7e, #7e7e7e 10px, #5c5c5c 10px, #5c5c5c 20px);\n",
              "    }\n",
              "    .progress-bar-interrupted, .progress-bar-interrupted::-webkit-progress-bar {\n",
              "        background: #F44336;\n",
              "    }\n",
              "</style>\n"
            ]
          },
          "metadata": {}
        },
        {
          "output_type": "display_data",
          "data": {
            "text/plain": [
              "<IPython.core.display.HTML object>"
            ],
            "text/html": []
          },
          "metadata": {}
        },
        {
          "output_type": "execute_result",
          "data": {
            "text/plain": [
              "Sequential (Input shape: 128 x 3 x 32 x 32)\n",
              "============================================================================\n",
              "Layer (type)         Output Shape         Param #    Trainable \n",
              "============================================================================\n",
              "                     128 x 32 x 32 x 32  \n",
              "Conv2d                                    896        True      \n",
              "ReLU                                                           \n",
              "BatchNorm2d                               64         True      \n",
              "____________________________________________________________________________\n",
              "                     128 x 64 x 32 x 32  \n",
              "Conv2d                                    18496      True      \n",
              "ReLU                                                           \n",
              "BatchNorm2d                               128        True      \n",
              "____________________________________________________________________________\n",
              "                     128 x 64 x 16 x 16  \n",
              "MaxPool2d                                                      \n",
              "Dropout                                                        \n",
              "Conv2d                                    36928      True      \n",
              "ReLU                                                           \n",
              "BatchNorm2d                               128        True      \n",
              "Conv2d                                    36928      True      \n",
              "ReLU                                                           \n",
              "BatchNorm2d                               128        True      \n",
              "____________________________________________________________________________\n",
              "                     128 x 64 x 8 x 8    \n",
              "MaxPool2d                                                      \n",
              "Dropout                                                        \n",
              "____________________________________________________________________________\n",
              "                     128 x 128 x 8 x 8   \n",
              "Conv2d                                    73856      True      \n",
              "ReLU                                                           \n",
              "BatchNorm2d                               256        True      \n",
              "Conv2d                                    147584     True      \n",
              "ReLU                                                           \n",
              "BatchNorm2d                               256        True      \n",
              "____________________________________________________________________________\n",
              "                     128 x 128 x 4 x 4   \n",
              "MaxPool2d                                                      \n",
              "Dropout                                                        \n",
              "____________________________________________________________________________\n",
              "                     128 x 2048          \n",
              "Flatten                                                        \n",
              "____________________________________________________________________________\n",
              "                     128 x 128           \n",
              "Linear                                    262272     True      \n",
              "ReLU                                                           \n",
              "BatchNorm1d                               256        True      \n",
              "Dropout                                                        \n",
              "____________________________________________________________________________\n",
              "                     128 x 10            \n",
              "Linear                                    1290       True      \n",
              "____________________________________________________________________________\n",
              "\n",
              "Total params: 579,466\n",
              "Total trainable params: 579,466\n",
              "Total non-trainable params: 0\n",
              "\n",
              "Optimizer used: functools.partial(<class 'fastai.optimizer.OptimWrapper'>, opt=<class 'torch.optim.adadelta.Adadelta'>, lr=0.5)\n",
              "Loss function: FlattenedLoss of CrossEntropyLoss()\n",
              "\n",
              "Callbacks:\n",
              "  - TrainEvalCallback\n",
              "  - CastToTensor\n",
              "  - Recorder\n",
              "  - ProgressCallback\n",
              "  - EarlyStoppingCallback"
            ],
            "application/vnd.google.colaboratory.intrinsic+json": {
              "type": "string"
            }
          },
          "metadata": {},
          "execution_count": 39
        }
      ],
      "source": [
        "learn.summary()"
      ]
    },
    {
      "cell_type": "markdown",
      "metadata": {
        "id": "_4Cf-g5m6ujT"
      },
      "source": [
        "#### Entrenamiento del modelo"
      ]
    },
    {
      "cell_type": "code",
      "execution_count": null,
      "metadata": {
        "colab": {
          "base_uri": "https://localhost:8080/",
          "height": 363
        },
        "id": "yRPr2rpdlb6u",
        "outputId": "9959360c-ff9b-418d-d39e-7271b3c18ad8"
      },
      "outputs": [
        {
          "output_type": "display_data",
          "data": {
            "text/plain": [
              "<IPython.core.display.HTML object>"
            ],
            "text/html": [
              "\n",
              "<style>\n",
              "    /* Turns off some styling */\n",
              "    progress {\n",
              "        /* gets rid of default border in Firefox and Opera. */\n",
              "        border: none;\n",
              "        /* Needs to be in here for Safari polyfill so background images work as expected. */\n",
              "        background-size: auto;\n",
              "    }\n",
              "    progress:not([value]), progress:not([value])::-webkit-progress-bar {\n",
              "        background: repeating-linear-gradient(45deg, #7e7e7e, #7e7e7e 10px, #5c5c5c 10px, #5c5c5c 20px);\n",
              "    }\n",
              "    .progress-bar-interrupted, .progress-bar-interrupted::-webkit-progress-bar {\n",
              "        background: #F44336;\n",
              "    }\n",
              "</style>\n"
            ]
          },
          "metadata": {}
        },
        {
          "output_type": "display_data",
          "data": {
            "text/plain": [
              "<IPython.core.display.HTML object>"
            ],
            "text/html": [
              "<table border=\"1\" class=\"dataframe\">\n",
              "  <thead>\n",
              "    <tr style=\"text-align: left;\">\n",
              "      <th>epoch</th>\n",
              "      <th>train_loss</th>\n",
              "      <th>valid_loss</th>\n",
              "      <th>accuracy</th>\n",
              "      <th>f1_score</th>\n",
              "      <th>time</th>\n",
              "    </tr>\n",
              "  </thead>\n",
              "  <tbody>\n",
              "    <tr>\n",
              "      <td>0</td>\n",
              "      <td>2.139519</td>\n",
              "      <td>2.116524</td>\n",
              "      <td>0.248100</td>\n",
              "      <td>0.252446</td>\n",
              "      <td>01:06</td>\n",
              "    </tr>\n",
              "    <tr>\n",
              "      <td>1</td>\n",
              "      <td>2.073878</td>\n",
              "      <td>2.054493</td>\n",
              "      <td>0.274333</td>\n",
              "      <td>0.282924</td>\n",
              "      <td>01:06</td>\n",
              "    </tr>\n",
              "    <tr>\n",
              "      <td>2</td>\n",
              "      <td>2.041219</td>\n",
              "      <td>2.005204</td>\n",
              "      <td>0.294067</td>\n",
              "      <td>0.303386</td>\n",
              "      <td>01:06</td>\n",
              "    </tr>\n",
              "    <tr>\n",
              "      <td>3</td>\n",
              "      <td>1.990782</td>\n",
              "      <td>1.979764</td>\n",
              "      <td>0.301067</td>\n",
              "      <td>0.310242</td>\n",
              "      <td>01:07</td>\n",
              "    </tr>\n",
              "    <tr>\n",
              "      <td>4</td>\n",
              "      <td>1.976871</td>\n",
              "      <td>1.958834</td>\n",
              "      <td>0.308967</td>\n",
              "      <td>0.318599</td>\n",
              "      <td>01:07</td>\n",
              "    </tr>\n",
              "    <tr>\n",
              "      <td>5</td>\n",
              "      <td>1.962790</td>\n",
              "      <td>1.937526</td>\n",
              "      <td>0.314667</td>\n",
              "      <td>0.324906</td>\n",
              "      <td>01:08</td>\n",
              "    </tr>\n",
              "    <tr>\n",
              "      <td>6</td>\n",
              "      <td>1.962937</td>\n",
              "      <td>1.928145</td>\n",
              "      <td>0.318767</td>\n",
              "      <td>0.330446</td>\n",
              "      <td>01:07</td>\n",
              "    </tr>\n",
              "    <tr>\n",
              "      <td>7</td>\n",
              "      <td>1.923149</td>\n",
              "      <td>1.904070</td>\n",
              "      <td>0.325300</td>\n",
              "      <td>0.337923</td>\n",
              "      <td>01:06</td>\n",
              "    </tr>\n",
              "    <tr>\n",
              "      <td>8</td>\n",
              "      <td>1.926132</td>\n",
              "      <td>1.896574</td>\n",
              "      <td>0.329400</td>\n",
              "      <td>0.337668</td>\n",
              "      <td>01:07</td>\n",
              "    </tr>\n",
              "    <tr>\n",
              "      <td>9</td>\n",
              "      <td>1.920651</td>\n",
              "      <td>1.901485</td>\n",
              "      <td>0.323433</td>\n",
              "      <td>0.332784</td>\n",
              "      <td>01:17</td>\n",
              "    </tr>\n",
              "  </tbody>\n",
              "</table>"
            ]
          },
          "metadata": {}
        }
      ],
      "source": [
        "learn.fit(num_epochs,lr=learning_rate)"
      ]
    },
    {
      "cell_type": "markdown",
      "metadata": {
        "id": "RhSv4Era66LA"
      },
      "source": [
        "#### Rendimiento en el conjunto de *test*"
      ]
    },
    {
      "cell_type": "code",
      "execution_count": null,
      "metadata": {
        "colab": {
          "base_uri": "https://localhost:8080/",
          "height": 52
        },
        "id": "yPdztH1j7Aae",
        "outputId": "22a08685-79a0-48f5-e409-19b3ac4e6751"
      },
      "outputs": [
        {
          "output_type": "display_data",
          "data": {
            "text/plain": [
              "<IPython.core.display.HTML object>"
            ],
            "text/html": [
              "\n",
              "<style>\n",
              "    /* Turns off some styling */\n",
              "    progress {\n",
              "        /* gets rid of default border in Firefox and Opera. */\n",
              "        border: none;\n",
              "        /* Needs to be in here for Safari polyfill so background images work as expected. */\n",
              "        background-size: auto;\n",
              "    }\n",
              "    progress:not([value]), progress:not([value])::-webkit-progress-bar {\n",
              "        background: repeating-linear-gradient(45deg, #7e7e7e, #7e7e7e 10px, #5c5c5c 10px, #5c5c5c 20px);\n",
              "    }\n",
              "    .progress-bar-interrupted, .progress-bar-interrupted::-webkit-progress-bar {\n",
              "        background: #F44336;\n",
              "    }\n",
              "</style>\n"
            ]
          },
          "metadata": {}
        },
        {
          "output_type": "display_data",
          "data": {
            "text/plain": [
              "<IPython.core.display.HTML object>"
            ],
            "text/html": []
          },
          "metadata": {}
        },
        {
          "output_type": "stream",
          "name": "stdout",
          "text": [
            "Accuracy en test: 0.80\n",
            "F1 en test: 0.80\n"
          ]
        }
      ],
      "source": [
        "accuracy_f1_test(path/'test', learn)"
      ]
    },
    {
      "cell_type": "markdown",
      "metadata": {
        "id": "tSCS3WM2x_Wd"
      },
      "source": [
        "### ResNet18"
      ]
    },
    {
      "cell_type": "markdown",
      "metadata": {
        "id": "EuwGimZLTvyH"
      },
      "source": [
        "Seleccionamos el *learning rate*:"
      ]
    },
    {
      "cell_type": "code",
      "execution_count": null,
      "metadata": {
        "id": "B4wxdw549bsS"
      },
      "outputs": [],
      "source": [
        "learning_rate = 0.1"
      ]
    },
    {
      "cell_type": "markdown",
      "metadata": {
        "id": "1n43Pkju923F"
      },
      "source": [
        "Consideramos ahora el modelo ResNet18:"
      ]
    },
    {
      "cell_type": "markdown",
      "metadata": {
        "id": "klEx1lBm9ycK"
      },
      "source": [
        "#### Creación del modelo"
      ]
    },
    {
      "cell_type": "code",
      "execution_count": null,
      "metadata": {
        "id": "pGFboobnyIWA",
        "colab": {
          "base_uri": "https://localhost:8080/"
        },
        "outputId": "82cf0a00-4088-4f35-8db6-c3b37df3b0b7"
      },
      "outputs": [
        {
          "output_type": "stream",
          "name": "stderr",
          "text": [
            "Downloading: \"https://download.pytorch.org/models/resnet18-f37072fd.pth\" to /root/.cache/torch/hub/checkpoints/resnet18-f37072fd.pth\n",
            "100%|██████████| 44.7M/44.7M [00:00<00:00, 187MB/s]\n"
          ]
        }
      ],
      "source": [
        "from torch.optim import Adadelta\n",
        "\n",
        "# Crear el MLP con 2 capas ocultas\n",
        "opt_func = partial(OptimWrapper, opt=Adadelta, lr=learning_rate)\n",
        "\n",
        "model = models.resnet18\n",
        "\n",
        "# pretrained = True, pesos preentrenados en ImageNet\n",
        "learn = vision_learner(dls,\n",
        "                       model,\n",
        "                       pretrained = True,\n",
        "                       n_in=num_channels,\n",
        "                       metrics=[accuracy, F1Score(average='weighted')],\n",
        "                       opt_func=opt_func,\n",
        "                       loss_func=CrossEntropyLossFlat(),\n",
        "                       cbs=[EarlyStoppingCallback(monitor='valid_loss', patience=early_stopping_patience)])"
      ]
    },
    {
      "cell_type": "markdown",
      "metadata": {
        "id": "TSbttHtz-Cqv"
      },
      "source": [
        "#### Entrenamiento del modelo"
      ]
    },
    {
      "cell_type": "code",
      "execution_count": null,
      "metadata": {
        "colab": {
          "base_uri": "https://localhost:8080/",
          "height": 143
        },
        "id": "i1jGWnd0a5NY",
        "outputId": "2d3859e7-7b83-4b8e-8256-8bbae24ced72"
      },
      "outputs": [
        {
          "output_type": "display_data",
          "data": {
            "text/plain": [
              "<IPython.core.display.HTML object>"
            ],
            "text/html": [
              "\n",
              "<style>\n",
              "    /* Turns off some styling */\n",
              "    progress {\n",
              "        /* gets rid of default border in Firefox and Opera. */\n",
              "        border: none;\n",
              "        /* Needs to be in here for Safari polyfill so background images work as expected. */\n",
              "        background-size: auto;\n",
              "    }\n",
              "    progress:not([value]), progress:not([value])::-webkit-progress-bar {\n",
              "        background: repeating-linear-gradient(45deg, #7e7e7e, #7e7e7e 10px, #5c5c5c 10px, #5c5c5c 20px);\n",
              "    }\n",
              "    .progress-bar-interrupted, .progress-bar-interrupted::-webkit-progress-bar {\n",
              "        background: #F44336;\n",
              "    }\n",
              "</style>\n"
            ]
          },
          "metadata": {}
        },
        {
          "output_type": "display_data",
          "data": {
            "text/plain": [
              "<IPython.core.display.HTML object>"
            ],
            "text/html": [
              "<table border=\"1\" class=\"dataframe\">\n",
              "  <thead>\n",
              "    <tr style=\"text-align: left;\">\n",
              "      <th>epoch</th>\n",
              "      <th>train_loss</th>\n",
              "      <th>valid_loss</th>\n",
              "      <th>accuracy</th>\n",
              "      <th>f1_score</th>\n",
              "      <th>time</th>\n",
              "    </tr>\n",
              "  </thead>\n",
              "  <tbody>\n",
              "    <tr>\n",
              "      <td>0</td>\n",
              "      <td>2.509074</td>\n",
              "      <td>2.234873</td>\n",
              "      <td>0.213700</td>\n",
              "      <td>0.213516</td>\n",
              "      <td>01:13</td>\n",
              "    </tr>\n",
              "    <tr>\n",
              "      <td>1</td>\n",
              "      <td>2.263242</td>\n",
              "      <td>2.153761</td>\n",
              "      <td>0.239100</td>\n",
              "      <td>0.240035</td>\n",
              "      <td>01:12</td>\n",
              "    </tr>\n",
              "    <tr>\n",
              "      <td>2</td>\n",
              "      <td>2.160909</td>\n",
              "      <td>2.115955</td>\n",
              "      <td>0.255133</td>\n",
              "      <td>0.257391</td>\n",
              "      <td>01:12</td>\n",
              "    </tr>\n",
              "  </tbody>\n",
              "</table>"
            ]
          },
          "metadata": {}
        }
      ],
      "source": [
        "# Entrenamos durante 3 épocas la cabecera del modelo\n",
        "learn.fit(3, lr=learning_rate)"
      ]
    },
    {
      "cell_type": "code",
      "execution_count": null,
      "metadata": {
        "colab": {
          "base_uri": "https://localhost:8080/",
          "height": 286
        },
        "id": "G9Rnj1AbTau5",
        "outputId": "de3cff8a-b57c-45ca-d976-34750f60239b"
      },
      "outputs": [
        {
          "output_type": "display_data",
          "data": {
            "text/plain": [
              "<IPython.core.display.HTML object>"
            ],
            "text/html": [
              "\n",
              "<style>\n",
              "    /* Turns off some styling */\n",
              "    progress {\n",
              "        /* gets rid of default border in Firefox and Opera. */\n",
              "        border: none;\n",
              "        /* Needs to be in here for Safari polyfill so background images work as expected. */\n",
              "        background-size: auto;\n",
              "    }\n",
              "    progress:not([value]), progress:not([value])::-webkit-progress-bar {\n",
              "        background: repeating-linear-gradient(45deg, #7e7e7e, #7e7e7e 10px, #5c5c5c 10px, #5c5c5c 20px);\n",
              "    }\n",
              "    .progress-bar-interrupted, .progress-bar-interrupted::-webkit-progress-bar {\n",
              "        background: #F44336;\n",
              "    }\n",
              "</style>\n"
            ]
          },
          "metadata": {}
        },
        {
          "output_type": "display_data",
          "data": {
            "text/plain": [
              "<IPython.core.display.HTML object>"
            ],
            "text/html": [
              "<table border=\"1\" class=\"dataframe\">\n",
              "  <thead>\n",
              "    <tr style=\"text-align: left;\">\n",
              "      <th>epoch</th>\n",
              "      <th>train_loss</th>\n",
              "      <th>valid_loss</th>\n",
              "      <th>accuracy</th>\n",
              "      <th>f1_score</th>\n",
              "      <th>time</th>\n",
              "    </tr>\n",
              "  </thead>\n",
              "  <tbody>\n",
              "    <tr>\n",
              "      <td>0</td>\n",
              "      <td>1.947095</td>\n",
              "      <td>1.924622</td>\n",
              "      <td>0.319133</td>\n",
              "      <td>0.327934</td>\n",
              "      <td>01:14</td>\n",
              "    </tr>\n",
              "    <tr>\n",
              "      <td>1</td>\n",
              "      <td>1.867472</td>\n",
              "      <td>1.871106</td>\n",
              "      <td>0.332500</td>\n",
              "      <td>0.338226</td>\n",
              "      <td>01:15</td>\n",
              "    </tr>\n",
              "    <tr>\n",
              "      <td>2</td>\n",
              "      <td>1.791828</td>\n",
              "      <td>1.866489</td>\n",
              "      <td>0.329967</td>\n",
              "      <td>0.337089</td>\n",
              "      <td>01:14</td>\n",
              "    </tr>\n",
              "    <tr>\n",
              "      <td>3</td>\n",
              "      <td>1.775028</td>\n",
              "      <td>1.864645</td>\n",
              "      <td>0.333400</td>\n",
              "      <td>0.338029</td>\n",
              "      <td>01:14</td>\n",
              "    </tr>\n",
              "    <tr>\n",
              "      <td>4</td>\n",
              "      <td>1.709603</td>\n",
              "      <td>1.881366</td>\n",
              "      <td>0.328433</td>\n",
              "      <td>0.333120</td>\n",
              "      <td>01:13</td>\n",
              "    </tr>\n",
              "    <tr>\n",
              "      <td>5</td>\n",
              "      <td>1.672997</td>\n",
              "      <td>1.880488</td>\n",
              "      <td>0.328033</td>\n",
              "      <td>0.333477</td>\n",
              "      <td>01:13</td>\n",
              "    </tr>\n",
              "    <tr>\n",
              "      <td>6</td>\n",
              "      <td>1.633205</td>\n",
              "      <td>1.903687</td>\n",
              "      <td>0.326933</td>\n",
              "      <td>0.333347</td>\n",
              "      <td>01:14</td>\n",
              "    </tr>\n",
              "  </tbody>\n",
              "</table>"
            ]
          },
          "metadata": {}
        },
        {
          "output_type": "stream",
          "name": "stdout",
          "text": [
            "No improvement since epoch 3: early stopping\n"
          ]
        }
      ],
      "source": [
        "# Hacemos fine-tuning durante el resto de épocas\n",
        "learn.unfreeze()\n",
        "learn.fit(num_epochs-3, lr=learning_rate)"
      ]
    },
    {
      "cell_type": "markdown",
      "metadata": {
        "id": "O-VGUlej-Jvd"
      },
      "source": [
        "#### Rendimiento den el conjunto de *test*"
      ]
    },
    {
      "cell_type": "code",
      "execution_count": null,
      "metadata": {
        "colab": {
          "base_uri": "https://localhost:8080/",
          "height": 52
        },
        "id": "exF-Di43-NGO",
        "outputId": "60114c5f-c3ce-4cf1-93c6-96fda0b460db"
      },
      "outputs": [
        {
          "output_type": "display_data",
          "data": {
            "text/plain": [
              "<IPython.core.display.HTML object>"
            ],
            "text/html": [
              "\n",
              "<style>\n",
              "    /* Turns off some styling */\n",
              "    progress {\n",
              "        /* gets rid of default border in Firefox and Opera. */\n",
              "        border: none;\n",
              "        /* Needs to be in here for Safari polyfill so background images work as expected. */\n",
              "        background-size: auto;\n",
              "    }\n",
              "    progress:not([value]), progress:not([value])::-webkit-progress-bar {\n",
              "        background: repeating-linear-gradient(45deg, #7e7e7e, #7e7e7e 10px, #5c5c5c 10px, #5c5c5c 20px);\n",
              "    }\n",
              "    .progress-bar-interrupted, .progress-bar-interrupted::-webkit-progress-bar {\n",
              "        background: #F44336;\n",
              "    }\n",
              "</style>\n"
            ]
          },
          "metadata": {}
        },
        {
          "output_type": "display_data",
          "data": {
            "text/plain": [
              "<IPython.core.display.HTML object>"
            ],
            "text/html": []
          },
          "metadata": {}
        },
        {
          "output_type": "stream",
          "name": "stdout",
          "text": [
            "Accuracy en test: 0.82\n",
            "F1 en test: 0.82\n"
          ]
        }
      ],
      "source": [
        "accuracy_f1_test(path/'test', learn)"
      ]
    },
    {
      "cell_type": "markdown",
      "metadata": {
        "id": "0cY1uGe8WLgW"
      },
      "source": [
        "# Gráfica de los resultados obtenidos"
      ]
    },
    {
      "cell_type": "code",
      "execution_count": null,
      "metadata": {
        "colab": {
          "base_uri": "https://localhost:8080/",
          "height": 512
        },
        "id": "MmauHffzZ9DU",
        "outputId": "c6100602-7316-4fbf-8f3d-1508092418eb"
      },
      "outputs": [
        {
          "output_type": "display_data",
          "data": {
            "text/plain": [
              "<Figure size 1200x500 with 2 Axes>"
            ],
            "image/png": "[encoded data removed]"
          },
          "metadata": {}
        }
      ],
      "source": [
        "import matplotlib.pyplot as plt\n",
        "\n",
        "# Valores de alpha\n",
        "alpha = [0, 2, 4, 6, 8, 10]\n",
        "\n",
        "# Datos para CIFAR-100\n",
        "cifar100 = {\n",
        "    'MLP2':      [0.54, 0.49, 0.44, 0.38, 0.36, 0.31],\n",
        "    'Conv4':     [0.58, 0.58, 0.57, 0.53, 0.53, 0.51],\n",
        "    'Conv6':     [0.82, 0.80, 0.77, 0.73, 0.68, 0.65],\n",
        "    'ResNet18':  [0.84, 0.82, 0.80, 0.74, 0.73, 0.72]\n",
        "}\n",
        "\n",
        "# Datos para Ruido Blanco\n",
        "ruido_blanco = {\n",
        "    'MLP2':      [0.54, 0.54, 0.54, 0.54, 0.52, 0.52],\n",
        "    'Conv4':     [0.58, 0.58, 0.58, 0.57, 0.57, 0.57],\n",
        "    'Conv6':     [0.82, 0.82, 0.82, 0.81, 0.81, 0.81],\n",
        "    'ResNet18':  [0.84, 0.84, 0.84, 0.84, 0.84, 0.83]\n",
        "}\n",
        "\n",
        "# Crear subplots\n",
        "fig, axs = plt.subplots(1, 2, figsize=(12, 5), sharey=True)\n",
        "\n",
        "# Colores consistentes para los modelos\n",
        "colors = {\n",
        "    'MLP2': 'tab:orange',\n",
        "    'Conv4': 'tab:green',\n",
        "    'Conv6': 'tab:blue',\n",
        "    'ResNet18': 'tab:red'\n",
        "}\n",
        "\n",
        "# Primer subplot: CIFAR-100\n",
        "axs[0].set_title(\"CIFAR-100 como ruido\")\n",
        "for model, acc in cifar100.items():\n",
        "    axs[0].plot(alpha, acc, marker='o', label=model, color=colors[model])\n",
        "axs[0].set_xlabel(r\"$\\alpha$\")\n",
        "axs[0].set_ylabel(\"Accuracy en test\")\n",
        "axs[0].grid(True)\n",
        "axs[0].legend()\n",
        "\n",
        "# Segundo subplot: Ruido blanco\n",
        "axs[1].set_title(\"Ruido blanco\")\n",
        "for model, acc in ruido_blanco.items():\n",
        "    axs[1].plot(alpha, acc, marker='o', label=model, color=colors[model])\n",
        "axs[1].set_xlabel(r\"$\\alpha$\")\n",
        "axs[1].grid(True)\n",
        "\n",
        "# Ajuste final\n",
        "plt.suptitle(\"Comparación del impacto de distintos tipos de ruido externo en el rendimiento\")\n",
        "plt.tight_layout(rect=[0, 0, 1, 0.95])\n",
        "plt.show()"
      ]
    }
  ],
  "metadata": {
    "accelerator": "GPU",
    "colab": {
      "gpuType": "T4",
      "toc_visible": true,
      "provenance": []
    },
    "kernelspec": {
      "display_name": "Python 3",
      "name": "python3"
    },
    "language_info": {
      "name": "python"
    }
  },
  "nbformat": 4,
  "nbformat_minor": 0
}