{
  "cells": [
    {
      "cell_type": "markdown",
      "metadata": {
        "id": "W4WYVxaUKciU"
      },
      "source": [
        "## Planteamiento del problema"
      ]
    },
    {
      "cell_type": "markdown",
      "metadata": {
        "id": "1IOP5vCJea5L"
      },
      "source": [
        "La primera pregunta que queremos responder es\n",
        "**¿El ruido externo sin estructura en las etiquetas afecta al rendimiento?**"
      ]
    },
    {
      "cell_type": "markdown",
      "metadata": {
        "id": "R_ke1eLAF981"
      },
      "source": [
        "En este experimento, consideraremos el siguiente escenario:\n",
        "- Tenemos $n$ imágenes con etiquetas limpias.\n",
        "- Por cada imagen con etiquetas limpias, introducimos $\\alpha$ imágenes con etiquetas ruidosas (es decir, su etiqueta es aleatoria). Por tanto, añadimos $\\alpha n$ imágenes.\n",
        "- En total, acabamos con $\\alpha n + n = (\\alpha+1)n $ imágenes"
      ]
    },
    {
      "cell_type": "markdown",
      "metadata": {
        "id": "aDRfbZM4JOvF"
      },
      "source": [
        "Las arquitecturas y *dataset* que utilizaremos en este experimento serán:\n",
        "- Trabajaremos con el conjunto de datos CIFAR-10.\n",
        "- Trabarejemos con varios modelos con distinto orden de complejidad: MLP con 2 capas ocultas, redes neuronales con 4 y 6 capas convolucionales, respectivamente y ResNet18.\n",
        "- Utilizaremos ruido externo, concretamente con imágenes aleatorias (ruido blanco) en el que la etiqueta ruidosa se asigna aleatoriamente entre las clases posibles, todas con la misma probabilidad."
      ]
    },
    {
      "cell_type": "markdown",
      "metadata": {
        "id": "BpKdGAPc84nU"
      },
      "source": [
        "Realizaremos el entrenamiento con el conjunto de datos ruidoso y evaluaremos su rendimiento en un conjunto de test limpio (sin ruido)."
      ]
    },
    {
      "cell_type": "markdown",
      "metadata": {
        "id": "S9hdo6M6JxGf"
      },
      "source": [
        "## Instalación de fastai"
      ]
    },
    {
      "cell_type": "code",
      "execution_count": null,
      "metadata": {
        "id": "9NGwKwBRK1EK"
      },
      "outputs": [],
      "source": [
        "!pip install -Uqq fastai"
      ]
    },
    {
      "cell_type": "code",
      "execution_count": null,
      "metadata": {
        "colab": {
          "base_uri": "https://localhost:8080/"
        },
        "id": "CKIWYmayWs9e",
        "outputId": "6ad069dc-ac22-46a0-f36d-415197fe2dff"
      },
      "outputs": [
        {
          "output_type": "stream",
          "name": "stdout",
          "text": [
            "Python: 3.11.13 (main, Jun  4 2025, 08:57:29) [GCC 11.4.0]\n",
            "PyTorch: 2.6.0+cu124\n",
            "CUDA disponible: True\n",
            "FastAI: 2.8.2\n",
            "NumPy: 2.0.2\n"
          ]
        }
      ],
      "source": [
        "from fastai.vision.all import *\n",
        "import fastai\n",
        "import numpy\n",
        "\n",
        "print(\"Python:\", sys.version)\n",
        "print(\"PyTorch:\", torch.__version__)\n",
        "print(\"CUDA disponible:\", torch.cuda.is_available())\n",
        "print(\"FastAI:\", fastai.__version__)\n",
        "print(\"NumPy:\", numpy.__version__)"
      ]
    },
    {
      "cell_type": "markdown",
      "metadata": {
        "id": "ioNUlReAjxLA"
      },
      "source": [
        "## Carga del *dataset* CIFAR-10"
      ]
    },
    {
      "cell_type": "markdown",
      "metadata": {
        "id": "UDZ3N_VSZW68"
      },
      "source": [
        "Descargamos el *dataset* CIFAR-10:"
      ]
    },
    {
      "cell_type": "code",
      "execution_count": null,
      "metadata": {
        "colab": {
          "base_uri": "https://localhost:8080/",
          "height": 37
        },
        "id": "8RFgsrxaLSvq",
        "outputId": "f7f931de-11bf-4ae9-98d9-9961121d1096"
      },
      "outputs": [
        {
          "output_type": "display_data",
          "data": {
            "text/plain": [
              "<IPython.core.display.HTML object>"
            ],
            "text/html": [
              "\n",
              "<style>\n",
              "    /* Turns off some styling */\n",
              "    progress {\n",
              "        /* gets rid of default border in Firefox and Opera. */\n",
              "        border: none;\n",
              "        /* Needs to be in here for Safari polyfill so background images work as expected. */\n",
              "        background-size: auto;\n",
              "    }\n",
              "    progress:not([value]), progress:not([value])::-webkit-progress-bar {\n",
              "        background: repeating-linear-gradient(45deg, #7e7e7e, #7e7e7e 10px, #5c5c5c 10px, #5c5c5c 20px);\n",
              "    }\n",
              "    .progress-bar-interrupted, .progress-bar-interrupted::-webkit-progress-bar {\n",
              "        background: #F44336;\n",
              "    }\n",
              "</style>\n"
            ]
          },
          "metadata": {}
        },
        {
          "output_type": "display_data",
          "data": {
            "text/plain": [
              "<IPython.core.display.HTML object>"
            ],
            "text/html": [
              "\n",
              "    <div>\n",
              "      <progress value='168173568' class='' max='168168549' style='width:300px; height:20px; vertical-align: middle;'></progress>\n",
              "      100.00% [168173568/168168549 00:04&lt;00:00]\n",
              "    </div>\n",
              "    "
            ]
          },
          "metadata": {}
        }
      ],
      "source": [
        "# We get the CIFAR10 dataset\n",
        "path = untar_data(URLs.CIFAR,force_download=True)"
      ]
    },
    {
      "cell_type": "code",
      "execution_count": null,
      "metadata": {
        "colab": {
          "base_uri": "https://localhost:8080/"
        },
        "id": "d2tp1ddMMCU8",
        "outputId": "c02b97e3-55f2-4b92-8784-db54ae49df3e"
      },
      "outputs": [
        {
          "output_type": "stream",
          "name": "stdout",
          "text": [
            "/root/.fastai/data/cifar10\n",
            "[Path('/root/.fastai/data/cifar10/test'), Path('/root/.fastai/data/cifar10/labels.txt'), Path('/root/.fastai/data/cifar10/train')]\n",
            "[Path('/root/.fastai/data/cifar10/train/deer'), Path('/root/.fastai/data/cifar10/train/bird'), Path('/root/.fastai/data/cifar10/train/automobile'), Path('/root/.fastai/data/cifar10/train/truck'), Path('/root/.fastai/data/cifar10/train/horse'), Path('/root/.fastai/data/cifar10/train/ship'), Path('/root/.fastai/data/cifar10/train/dog'), Path('/root/.fastai/data/cifar10/train/cat'), Path('/root/.fastai/data/cifar10/train/frog'), Path('/root/.fastai/data/cifar10/train/airplane')]\n",
            "[Path('/root/.fastai/data/cifar10/test/deer'), Path('/root/.fastai/data/cifar10/test/bird'), Path('/root/.fastai/data/cifar10/test/automobile'), Path('/root/.fastai/data/cifar10/test/truck'), Path('/root/.fastai/data/cifar10/test/horse'), Path('/root/.fastai/data/cifar10/test/ship'), Path('/root/.fastai/data/cifar10/test/dog'), Path('/root/.fastai/data/cifar10/test/cat'), Path('/root/.fastai/data/cifar10/test/frog'), Path('/root/.fastai/data/cifar10/test/airplane')]\n"
          ]
        }
      ],
      "source": [
        "# The CIFAR_10 dataset follows a common layout for machine learning datasets:\n",
        "# separate folders for the training set and the validation set (and/or test set).\n",
        "# Let's see what's inside both the training and test sets\n",
        "print(path)\n",
        "print(path.ls())\n",
        "print((path/'train').ls())\n",
        "print((path/'test').ls())\n",
        "train_classes = (path/'train').ls()\n",
        "test_classes = (path/'test').ls()"
      ]
    },
    {
      "cell_type": "markdown",
      "metadata": {
        "id": "YuASIWipb0Na"
      },
      "source": [
        "Comprobamos que efectivamente disponemos de $50000$ ejemplos de entrenamiento y $10000$ de *test*, que el tamaño de las imágenes es $32\\times 32\\times 3$ y que el número de clases es $10$."
      ]
    },
    {
      "cell_type": "code",
      "execution_count": null,
      "metadata": {
        "colab": {
          "base_uri": "https://localhost:8080/"
        },
        "id": "Eh5wDFpCMkaM",
        "outputId": "6117650f-c293-4bd0-ec8f-90dc3f9811aa"
      },
      "outputs": [
        {
          "output_type": "stream",
          "name": "stdout",
          "text": [
            "Número de imágenes de entrenamiento: 50000\n",
            "Número de imágenes de test: 10000\n",
            "Tamaño de las imágenes: 32x32x3\n",
            "Número de clases: 10\n"
          ]
        }
      ],
      "source": [
        "from cv2 import imread\n",
        "\n",
        "n_training = np.sum([len(class_files.ls()) for class_files in train_classes])\n",
        "n_test = np.sum([len(class_files.ls()) for class_files in test_classes])\n",
        "\n",
        "img = imread(path/'train'/'deer'/'10006_deer.png')\n",
        "width, height, num_channels = img.shape\n",
        "num_classes = len(train_classes)\n",
        "\n",
        "print(f\"Número de imágenes de entrenamiento: {n_training}\")\n",
        "print(f\"Número de imágenes de test: {n_test}\")\n",
        "print(f\"Tamaño de las imágenes: {width}x{height}x{num_channels}\")\n",
        "print(f\"Número de clases: {num_classes}\")"
      ]
    },
    {
      "cell_type": "markdown",
      "metadata": {
        "id": "S1oEv_g2esgF"
      },
      "source": [
        "Seleccionamos un valor para $\\alpha$ y fijamos la semilla aleatoria con el fin de garantizar la reproducibilidad en la mayor medida posible."
      ]
    },
    {
      "cell_type": "code",
      "execution_count": null,
      "metadata": {
        "id": "gpXwimAifcDy"
      },
      "outputs": [],
      "source": [
        "alpha = 2\n",
        "random.seed(42)"
      ]
    },
    {
      "cell_type": "markdown",
      "metadata": {
        "id": "ZCIDTMKOmE1V"
      },
      "source": [
        "### Generamos Imágenes White Noise"
      ]
    },
    {
      "cell_type": "markdown",
      "source": [
        "Generamos $50000$ imágenes aleatorias, es decir, ruido blanco:"
      ],
      "metadata": {
        "id": "VtW60pupmyJ5"
      }
    },
    {
      "cell_type": "code",
      "execution_count": null,
      "metadata": {
        "id": "c8I5fkdMsvog"
      },
      "outputs": [],
      "source": [
        "!mkdir white_noise"
      ]
    },
    {
      "cell_type": "code",
      "execution_count": null,
      "metadata": {
        "id": "iI3Kf6fNoVwA"
      },
      "outputs": [],
      "source": [
        "import numpy as np\n",
        "import matplotlib.pyplot as plt\n",
        "\n",
        "for i in range(50000):\n",
        "  # Tamaño de la imagen\n",
        "  height, width = 32, 32\n",
        "\n",
        "  # Generar ruido blanco gaussiano a color (tres canales: R, G, B)\n",
        "  red_noise = np.random.normal(loc=0.49139968, scale=0.24703233, size=(height, width))\n",
        "  green_noise = np.random.normal(loc=0.48215827, scale=0.24348505, size=(height, width))\n",
        "  blue_noise = np.random.normal(loc=0.44653124, scale=0.26158768, size=(height, width))\n",
        "\n",
        "  # Apilar los canales en una sola imagen (RGB)\n",
        "  noise_rgb = np.stack((red_noise, green_noise, blue_noise), axis=-1)\n",
        "\n",
        "  # Normalizar la imagen a 0-255 para visualización\n",
        "  noise_rgb_normalized = np.clip(((noise_rgb - noise_rgb.min()) / (noise_rgb.max() - noise_rgb.min()) * 255), 0, 255).astype(np.uint8)\n",
        "\n",
        "  # Guardar la imagen\n",
        "  plt.imsave(f'white_noise/{i}.png', noise_rgb_normalized)"
      ]
    },
    {
      "cell_type": "code",
      "execution_count": null,
      "metadata": {
        "colab": {
          "base_uri": "https://localhost:8080/"
        },
        "id": "MUNaXnnDlsdJ",
        "outputId": "d41c6153-15fb-4f57-d9c5-a2994b13a440"
      },
      "outputs": [
        {
          "output_type": "execute_result",
          "data": {
            "text/plain": [
              "50000"
            ]
          },
          "metadata": {},
          "execution_count": 9
        }
      ],
      "source": [
        "white_noise_images = get_image_files(Path('white_noise'))\n",
        "len(white_noise_images)"
      ]
    },
    {
      "cell_type": "markdown",
      "source": [
        "### Introducimos ruido blanco"
      ],
      "metadata": {
        "id": "fuCaZfgytfvc"
      }
    },
    {
      "cell_type": "markdown",
      "metadata": {
        "id": "RmE9bsUlhQht"
      },
      "source": [
        "Seleccionamos todas las imágenes del entrenamiento y por cada imagen introducimos $\\alpha$ con ruido blanco:"
      ]
    },
    {
      "cell_type": "code",
      "source": [
        "def introduceWhiteNoise(images):\n",
        "  selected_images = []\n",
        "  i = 0\n",
        "\n",
        "  while(i<len(images)):\n",
        "    selected_images.append(images[i])\n",
        "\n",
        "    for j in range(alpha):\n",
        "      selected_images.append(random.choice(white_noise_images))\n",
        "\n",
        "    i += 1\n",
        "\n",
        "  return selected_images"
      ],
      "metadata": {
        "id": "gnO4gA-CoAoc"
      },
      "execution_count": null,
      "outputs": []
    },
    {
      "cell_type": "code",
      "source": [
        "selected_images = introduceWhiteNoise(get_image_files(path/'train'))"
      ],
      "metadata": {
        "id": "LpNoJeyCpGwb"
      },
      "execution_count": null,
      "outputs": []
    },
    {
      "cell_type": "markdown",
      "metadata": {
        "id": "b1DEPXnUfKhD"
      },
      "source": [
        "Creamos una función que selecciona las imágenes del conjunto de entrenamiento, y les asigna una etiqueta de forma aleatoria (uniforme):"
      ]
    },
    {
      "cell_type": "code",
      "execution_count": null,
      "metadata": {
        "id": "09g2zIVTsibB"
      },
      "outputs": [],
      "source": [
        "possible_labels = ['airplane', 'automobile', 'bird', 'cat', 'deer', 'dog', 'frog', 'horse', 'ship', 'truck']\n",
        "\n",
        "def get_labels(images):\n",
        "  i = 0\n",
        "  labels = []\n",
        "\n",
        "  while(i<len(images)):\n",
        "    labels.append(parent_label(images[i]))\n",
        "\n",
        "    for j in range(alpha):\n",
        "      labels.append(random.choice(possible_labels))\n",
        "\n",
        "    i += 1+alpha\n",
        "\n",
        "  return labels"
      ]
    },
    {
      "cell_type": "code",
      "execution_count": null,
      "metadata": {
        "id": "djKSF4elhk4W"
      },
      "outputs": [],
      "source": [
        "labels = get_labels(selected_images)"
      ]
    },
    {
      "cell_type": "markdown",
      "metadata": {
        "id": "SuPnXFqrf5Q-"
      },
      "source": [
        "Combinamos todo en un *datablock* (que es la forma que tiene fastai de gestionar los datos de entrada):"
      ]
    },
    {
      "cell_type": "code",
      "execution_count": null,
      "metadata": {
        "id": "BDvqSsF3ixXt"
      },
      "outputs": [],
      "source": [
        "batch_size = 128\n",
        "valid_part = 0.2"
      ]
    },
    {
      "cell_type": "code",
      "execution_count": null,
      "metadata": {
        "id": "cjAhk5jqf4yF"
      },
      "outputs": [],
      "source": [
        "dblock = DataBlock(\n",
        "    blocks=(ImageBlock, CategoryBlock),\n",
        "    get_items=lambda _: range(0,len(selected_images)),\n",
        "    get_x=lambda x: selected_images[x],\n",
        "    get_y=lambda x: labels[x],\n",
        "    splitter=RandomSplitter(valid_pct=0.2, seed=42),\n",
        "    batch_tfms=[\n",
        "        Normalize()\n",
        "    ]\n",
        ")\n",
        "\n",
        "dls = dblock.dataloaders(path/'train', bs=128)"
      ]
    },
    {
      "cell_type": "markdown",
      "metadata": {
        "id": "jTQib-xFhvkl"
      },
      "source": [
        "Mostramos algunos ejemplos de nuestros datos de entrada:"
      ]
    },
    {
      "cell_type": "code",
      "execution_count": null,
      "metadata": {
        "colab": {
          "base_uri": "https://localhost:8080/",
          "height": 752
        },
        "id": "UhXe9-iidPLQ",
        "outputId": "f1d8e793-565f-4bc4-e833-235afdb1b659"
      },
      "outputs": [
        {
          "output_type": "display_data",
          "data": {
            "text/plain": [
              "<Figure size 900x900 with 9 Axes>"
            ],
            "image/png": "[encoded data removed]"
          },
          "metadata": {}
        }
      ],
      "source": [
        "dls.show_batch(max_n=9)"
      ]
    },
    {
      "cell_type": "markdown",
      "metadata": {
        "id": "B6RNekgWj1aO"
      },
      "source": [
        "## Arquitecturas de redes neuronales"
      ]
    },
    {
      "cell_type": "markdown",
      "metadata": {
        "id": "BO5bPO1FjzUG"
      },
      "source": [
        "Creamos y entrenamos los distintos modelos durante un cierto número de épocas."
      ]
    },
    {
      "cell_type": "code",
      "execution_count": null,
      "metadata": {
        "id": "Zks82yu0OHVX"
      },
      "outputs": [],
      "source": [
        "num_epochs = 10\n",
        "early_stopping_patience = 3"
      ]
    },
    {
      "cell_type": "markdown",
      "metadata": {
        "id": "rm-z3OJQqlHa"
      },
      "source": [
        "### MLP-2"
      ]
    },
    {
      "cell_type": "markdown",
      "metadata": {
        "id": "FclNzbniio20"
      },
      "source": [
        "Seleccionamos el *learning rate*:"
      ]
    },
    {
      "cell_type": "code",
      "execution_count": null,
      "metadata": {
        "id": "nPbASMY5ipMs"
      },
      "outputs": [],
      "source": [
        "learning_rate = 0.1"
      ]
    },
    {
      "cell_type": "markdown",
      "metadata": {
        "id": "7oyfUqJtj2j7"
      },
      "source": [
        "En primer lugar, consideramos un MLP con $2$ capas ocultas."
      ]
    },
    {
      "cell_type": "markdown",
      "metadata": {
        "id": "wOhjFy96y50K"
      },
      "source": [
        "#### Creación del modelo"
      ]
    },
    {
      "cell_type": "code",
      "execution_count": null,
      "metadata": {
        "id": "72Yz2fO_qnjN"
      },
      "outputs": [],
      "source": [
        "from torch.nn import Linear, ReLU, Flatten, BatchNorm1d\n",
        "from torch.optim import Adadelta\n",
        "from torchsummary import summary\n",
        "\n",
        "# Crear el MLP con 2 capas ocultas\n",
        "opt_func = partial(OptimWrapper, opt=Adadelta, lr=learning_rate)\n",
        "\n",
        "mlp2 = sequential(\n",
        "    Flatten(),                              # Aplana la imagen de 28x28 a un vector de 784\n",
        "    Linear(width*height*num_channels, 512), # Capa densa con tantas entradas como píxeles tenga la imagen y 512 salidas\n",
        "    ReLU(),                                 # Función de activación ReLU\n",
        "    BatchNorm1d(512),                       # Capa de Batch Normalization\n",
        "    Linear(512, 512),                       # Capa densa con 512 entradas y 512 salidas\n",
        "    ReLU(),                                 # Función de activación ReLU\n",
        "    BatchNorm1d(512),                       # Capa de Batch Normalization\n",
        "    Linear(512, num_classes)                # Capa de salida con num_classes salidas\n",
        ")\n",
        "\n",
        "# Crear el aprendiz (learner)\n",
        "learn = Learner(\n",
        "    dls,\n",
        "    mlp2,\n",
        "    metrics=[\n",
        "        accuracy,\n",
        "        F1Score(average='weighted')\n",
        "    ],\n",
        "    opt_func=opt_func,\n",
        "    loss_func=CrossEntropyLossFlat(),\n",
        "    cbs=[EarlyStoppingCallback(monitor='valid_loss', patience=early_stopping_patience)]\n",
        ")"
      ]
    },
    {
      "cell_type": "code",
      "execution_count": null,
      "metadata": {
        "colab": {
          "base_uri": "https://localhost:8080/",
          "height": 573
        },
        "id": "T6fiqkz1EKds",
        "outputId": "b1a2466c-e59c-4298-f38e-0a84d794147e"
      },
      "outputs": [
        {
          "output_type": "display_data",
          "data": {
            "text/plain": [
              "<IPython.core.display.HTML object>"
            ],
            "text/html": [
              "\n",
              "<style>\n",
              "    /* Turns off some styling */\n",
              "    progress {\n",
              "        /* gets rid of default border in Firefox and Opera. */\n",
              "        border: none;\n",
              "        /* Needs to be in here for Safari polyfill so background images work as expected. */\n",
              "        background-size: auto;\n",
              "    }\n",
              "    progress:not([value]), progress:not([value])::-webkit-progress-bar {\n",
              "        background: repeating-linear-gradient(45deg, #7e7e7e, #7e7e7e 10px, #5c5c5c 10px, #5c5c5c 20px);\n",
              "    }\n",
              "    .progress-bar-interrupted, .progress-bar-interrupted::-webkit-progress-bar {\n",
              "        background: #F44336;\n",
              "    }\n",
              "</style>\n"
            ]
          },
          "metadata": {}
        },
        {
          "output_type": "display_data",
          "data": {
            "text/plain": [
              "<IPython.core.display.HTML object>"
            ],
            "text/html": []
          },
          "metadata": {}
        },
        {
          "output_type": "execute_result",
          "data": {
            "text/plain": [
              "Sequential (Input shape: 128 x 3 x 32 x 32)\n",
              "============================================================================\n",
              "Layer (type)         Output Shape         Param #    Trainable \n",
              "============================================================================\n",
              "                     128 x 3072          \n",
              "Flatten                                                        \n",
              "____________________________________________________________________________\n",
              "                     128 x 512           \n",
              "Linear                                    1573376    True      \n",
              "ReLU                                                           \n",
              "BatchNorm1d                               1024       True      \n",
              "Linear                                    262656     True      \n",
              "ReLU                                                           \n",
              "BatchNorm1d                               1024       True      \n",
              "____________________________________________________________________________\n",
              "                     128 x 10            \n",
              "Linear                                    5130       True      \n",
              "____________________________________________________________________________\n",
              "\n",
              "Total params: 1,843,210\n",
              "Total trainable params: 1,843,210\n",
              "Total non-trainable params: 0\n",
              "\n",
              "Optimizer used: functools.partial(<class 'fastai.optimizer.OptimWrapper'>, opt=<class 'torch.optim.adadelta.Adadelta'>, lr=0.1)\n",
              "Loss function: FlattenedLoss of CrossEntropyLoss()\n",
              "\n",
              "Callbacks:\n",
              "  - TrainEvalCallback\n",
              "  - CastToTensor\n",
              "  - Recorder\n",
              "  - ProgressCallback\n",
              "  - EarlyStoppingCallback"
            ],
            "application/vnd.google.colaboratory.intrinsic+json": {
              "type": "string"
            }
          },
          "metadata": {},
          "execution_count": 22
        }
      ],
      "source": [
        "learn.summary()"
      ]
    },
    {
      "cell_type": "markdown",
      "metadata": {
        "id": "nkk-_HYNy9Zx"
      },
      "source": [
        "#### Entrenamiento del modelo"
      ]
    },
    {
      "cell_type": "code",
      "execution_count": null,
      "metadata": {
        "colab": {
          "base_uri": "https://localhost:8080/",
          "height": 192
        },
        "id": "rxCFdYtztWoa",
        "outputId": "3c97d9cb-b1dc-482d-a96d-4d59f01df6e7"
      },
      "outputs": [
        {
          "output_type": "display_data",
          "data": {
            "text/plain": [
              "<IPython.core.display.HTML object>"
            ],
            "text/html": [
              "\n",
              "<style>\n",
              "    /* Turns off some styling */\n",
              "    progress {\n",
              "        /* gets rid of default border in Firefox and Opera. */\n",
              "        border: none;\n",
              "        /* Needs to be in here for Safari polyfill so background images work as expected. */\n",
              "        background-size: auto;\n",
              "    }\n",
              "    progress:not([value]), progress:not([value])::-webkit-progress-bar {\n",
              "        background: repeating-linear-gradient(45deg, #7e7e7e, #7e7e7e 10px, #5c5c5c 10px, #5c5c5c 20px);\n",
              "    }\n",
              "    .progress-bar-interrupted, .progress-bar-interrupted::-webkit-progress-bar {\n",
              "        background: #F44336;\n",
              "    }\n",
              "</style>\n"
            ]
          },
          "metadata": {}
        },
        {
          "output_type": "display_data",
          "data": {
            "text/plain": [
              "<IPython.core.display.HTML object>"
            ],
            "text/html": [
              "<table border=\"1\" class=\"dataframe\">\n",
              "  <thead>\n",
              "    <tr style=\"text-align: left;\">\n",
              "      <th>epoch</th>\n",
              "      <th>train_loss</th>\n",
              "      <th>valid_loss</th>\n",
              "      <th>accuracy</th>\n",
              "      <th>f1_score</th>\n",
              "      <th>time</th>\n",
              "    </tr>\n",
              "  </thead>\n",
              "  <tbody>\n",
              "    <tr>\n",
              "      <td>0</td>\n",
              "      <td>2.063283</td>\n",
              "      <td>2.055511</td>\n",
              "      <td>0.220967</td>\n",
              "      <td>0.218341</td>\n",
              "      <td>01:20</td>\n",
              "    </tr>\n",
              "    <tr>\n",
              "      <td>1</td>\n",
              "      <td>1.986279</td>\n",
              "      <td>2.060995</td>\n",
              "      <td>0.226767</td>\n",
              "      <td>0.225780</td>\n",
              "      <td>01:07</td>\n",
              "    </tr>\n",
              "    <tr>\n",
              "      <td>2</td>\n",
              "      <td>1.882829</td>\n",
              "      <td>2.105555</td>\n",
              "      <td>0.231567</td>\n",
              "      <td>0.232147</td>\n",
              "      <td>01:08</td>\n",
              "    </tr>\n",
              "    <tr>\n",
              "      <td>3</td>\n",
              "      <td>1.767235</td>\n",
              "      <td>2.186305</td>\n",
              "      <td>0.235633</td>\n",
              "      <td>0.234953</td>\n",
              "      <td>01:09</td>\n",
              "    </tr>\n",
              "  </tbody>\n",
              "</table>"
            ]
          },
          "metadata": {}
        },
        {
          "output_type": "stream",
          "name": "stdout",
          "text": [
            "No improvement since epoch 0: early stopping\n"
          ]
        }
      ],
      "source": [
        "learn.fit(num_epochs,lr=learning_rate)"
      ]
    },
    {
      "cell_type": "markdown",
      "metadata": {
        "id": "SrOMHpLJq5qY"
      },
      "source": [
        "#### Rendimiento en el conjunto de *test*"
      ]
    },
    {
      "cell_type": "markdown",
      "metadata": {
        "id": "saZefNY2qGMm"
      },
      "source": [
        "Medimos ahora el rendimiento utilizando el conjunto de test:"
      ]
    },
    {
      "cell_type": "code",
      "execution_count": null,
      "metadata": {
        "id": "wjPdArq9qlGK"
      },
      "outputs": [],
      "source": [
        "from sklearn.metrics import accuracy_score, f1_score\n",
        "\n",
        "def accuracy_f1_test(test_path, learner):\n",
        "  files_test = get_image_files(test_path)\n",
        "  dls_test = learner.dls.test_dl(files_test, with_labels = False)\n",
        "  preds = learner.get_preds(dl = dls_test, with_decoded = True)\n",
        "\n",
        "  preds_labels = [learner.dls.vocab[i] for i in preds[2]]\n",
        "  targs = [parent_label(f) for f in files_test]\n",
        "\n",
        "  test_accuracy = accuracy_score(preds_labels, targs)\n",
        "  test_f1 = f1_score(preds_labels, targs, average='weighted')\n",
        "\n",
        "  print(f\"Accuracy en test: {test_accuracy:.2f}\")\n",
        "  print(f\"F1 en test: {test_f1:.2f}\")"
      ]
    },
    {
      "cell_type": "code",
      "execution_count": null,
      "metadata": {
        "colab": {
          "base_uri": "https://localhost:8080/",
          "height": 52
        },
        "id": "Jd-IWd38rU1a",
        "outputId": "1062cc7a-d01d-4b25-90bc-8bceadec803b"
      },
      "outputs": [
        {
          "output_type": "display_data",
          "data": {
            "text/plain": [
              "<IPython.core.display.HTML object>"
            ],
            "text/html": [
              "\n",
              "<style>\n",
              "    /* Turns off some styling */\n",
              "    progress {\n",
              "        /* gets rid of default border in Firefox and Opera. */\n",
              "        border: none;\n",
              "        /* Needs to be in here for Safari polyfill so background images work as expected. */\n",
              "        background-size: auto;\n",
              "    }\n",
              "    progress:not([value]), progress:not([value])::-webkit-progress-bar {\n",
              "        background: repeating-linear-gradient(45deg, #7e7e7e, #7e7e7e 10px, #5c5c5c 10px, #5c5c5c 20px);\n",
              "    }\n",
              "    .progress-bar-interrupted, .progress-bar-interrupted::-webkit-progress-bar {\n",
              "        background: #F44336;\n",
              "    }\n",
              "</style>\n"
            ]
          },
          "metadata": {}
        },
        {
          "output_type": "display_data",
          "data": {
            "text/plain": [
              "<IPython.core.display.HTML object>"
            ],
            "text/html": []
          },
          "metadata": {}
        },
        {
          "output_type": "stream",
          "name": "stdout",
          "text": [
            "Accuracy en test: 0.54\n",
            "F1 en test: 0.53\n"
          ]
        }
      ],
      "source": [
        "accuracy_f1_test(path/'test', learn)"
      ]
    },
    {
      "cell_type": "markdown",
      "metadata": {
        "id": "Zxy6VdLBAQh7"
      },
      "source": [
        "### Conv4"
      ]
    },
    {
      "cell_type": "markdown",
      "metadata": {
        "id": "rCFuEx7bTqFP"
      },
      "source": [
        "Seleccionamos el *learning rate*:"
      ]
    },
    {
      "cell_type": "code",
      "execution_count": null,
      "metadata": {
        "id": "z_E8_ZWj0AlR"
      },
      "outputs": [],
      "source": [
        "learning_rate = 0.1"
      ]
    },
    {
      "cell_type": "markdown",
      "metadata": {
        "id": "THwHopyDm3_6"
      },
      "source": [
        "Consideramos ahora una red neuronal con $4$ capas convolucionales:"
      ]
    },
    {
      "cell_type": "markdown",
      "metadata": {
        "id": "aHUg40Z3zHKr"
      },
      "source": [
        "#### Creación del modelo"
      ]
    },
    {
      "cell_type": "code",
      "execution_count": null,
      "metadata": {
        "id": "1MBRmA4iAPoV"
      },
      "outputs": [],
      "source": [
        "from torch.nn import Linear, LazyLinear, ReLU, Flatten, Conv2d, MaxPool2d, BatchNorm2d\n",
        "from torch.optim import Adadelta\n",
        "from torchsummary import summary\n",
        "\n",
        "# Crear el modelo de 4 capas convolucionales\n",
        "opt_func = partial(OptimWrapper, opt=Adadelta, lr=learning_rate)\n",
        "\n",
        "conv4 = sequential(\n",
        "\n",
        "    # 1ª Capa convolucional:\n",
        "    # - Tantos canales de entrada como tenga la imagen de entrada\n",
        "    # - 8 canales de salida\n",
        "    # - Filtro 3x3\n",
        "    Conv2d(num_channels, 8, 3),\n",
        "    ReLU(),                          # Capa ReLU\n",
        "    MaxPool2d(2),                    # Capa MaxPooling (Filtro 2x2)\n",
        "    BatchNorm2d(8),                  # Capa de Batch Normalization\n",
        "\n",
        "    # 2ª Capa convolucional:\n",
        "    # - 8 canales de entrada y 16 de salida\n",
        "    # - Filtro 3x3\n",
        "    Conv2d(8, 16, 3),\n",
        "    ReLU(),                          # Capa ReLU\n",
        "    MaxPool2d(2),                    # Capa MaxPooling (Filtro 2x2)\n",
        "    BatchNorm2d(16),                 # Capa de Batch Normalization\n",
        "\n",
        "    # 3ª Capa convolucional:\n",
        "    # - 16 canales de entrada y 16 de salida\n",
        "    # - Filtro 3x3\n",
        "    Conv2d(16, 16, 3),\n",
        "    ReLU(),                          # Capa ReLU\n",
        "    BatchNorm2d(16),                 # Capa de Batch Normalization\n",
        "\n",
        "    # 4ª Capa convolucional:\n",
        "    # - 16 canales de entrada y 4 de salida\n",
        "    # - Filtro 1x1\n",
        "    Conv2d(16,4,(1,1)),\n",
        "    ReLU(),                          # Capa ReLU\n",
        "    BatchNorm2d(4),                  # Capa de Batch Normalization\n",
        "    Flatten(),                       # Aplanado de la salida\n",
        "\n",
        "    # Capa densa con 64 salidas (el nº de entradas se ajusta automáticamente)\n",
        "    LazyLinear(64),\n",
        "    ReLU(),                          # Capa ReLU\n",
        "    Linear(64, num_classes)          # Capa densa con num_classes salidas\n",
        ")\n",
        "\n",
        "\n",
        "# Crear el aprendiz (learner)\n",
        "learn = Learner(\n",
        "    dls,\n",
        "    conv4,\n",
        "    metrics=[\n",
        "        accuracy,\n",
        "        F1Score(average='weighted')\n",
        "    ],\n",
        "    opt_func=opt_func,\n",
        "    loss_func=CrossEntropyLossFlat(),\n",
        "    cbs=[EarlyStoppingCallback(monitor='valid_loss', patience=early_stopping_patience)]\n",
        ")"
      ]
    },
    {
      "cell_type": "code",
      "execution_count": null,
      "metadata": {
        "colab": {
          "base_uri": "https://localhost:8080/",
          "height": 920
        },
        "id": "YkviTY0OkkZa",
        "outputId": "433dc05b-3af8-4e94-9f23-6276e3ed9a76"
      },
      "outputs": [
        {
          "output_type": "display_data",
          "data": {
            "text/plain": [
              "<IPython.core.display.HTML object>"
            ],
            "text/html": [
              "\n",
              "<style>\n",
              "    /* Turns off some styling */\n",
              "    progress {\n",
              "        /* gets rid of default border in Firefox and Opera. */\n",
              "        border: none;\n",
              "        /* Needs to be in here for Safari polyfill so background images work as expected. */\n",
              "        background-size: auto;\n",
              "    }\n",
              "    progress:not([value]), progress:not([value])::-webkit-progress-bar {\n",
              "        background: repeating-linear-gradient(45deg, #7e7e7e, #7e7e7e 10px, #5c5c5c 10px, #5c5c5c 20px);\n",
              "    }\n",
              "    .progress-bar-interrupted, .progress-bar-interrupted::-webkit-progress-bar {\n",
              "        background: #F44336;\n",
              "    }\n",
              "</style>\n"
            ]
          },
          "metadata": {}
        },
        {
          "output_type": "display_data",
          "data": {
            "text/plain": [
              "<IPython.core.display.HTML object>"
            ],
            "text/html": []
          },
          "metadata": {}
        },
        {
          "output_type": "execute_result",
          "data": {
            "text/plain": [
              "Sequential (Input shape: 128 x 3 x 32 x 32)\n",
              "============================================================================\n",
              "Layer (type)         Output Shape         Param #    Trainable \n",
              "============================================================================\n",
              "                     128 x 8 x 30 x 30   \n",
              "Conv2d                                    224        True      \n",
              "ReLU                                                           \n",
              "____________________________________________________________________________\n",
              "                     128 x 8 x 15 x 15   \n",
              "MaxPool2d                                                      \n",
              "BatchNorm2d                               16         True      \n",
              "____________________________________________________________________________\n",
              "                     128 x 16 x 13 x 13  \n",
              "Conv2d                                    1168       True      \n",
              "ReLU                                                           \n",
              "____________________________________________________________________________\n",
              "                     128 x 16 x 6 x 6    \n",
              "MaxPool2d                                                      \n",
              "BatchNorm2d                               32         True      \n",
              "____________________________________________________________________________\n",
              "                     128 x 16 x 4 x 4    \n",
              "Conv2d                                    2320       True      \n",
              "ReLU                                                           \n",
              "BatchNorm2d                               32         True      \n",
              "____________________________________________________________________________\n",
              "                     128 x 4 x 4 x 4     \n",
              "Conv2d                                    68         True      \n",
              "ReLU                                                           \n",
              "BatchNorm2d                               8          True      \n",
              "____________________________________________________________________________\n",
              "                     128 x 64            \n",
              "Flatten                                                        \n",
              "Linear                                    4160       True      \n",
              "ReLU                                                           \n",
              "____________________________________________________________________________\n",
              "                     128 x 10            \n",
              "Linear                                    650        True      \n",
              "____________________________________________________________________________\n",
              "\n",
              "Total params: 8,678\n",
              "Total trainable params: 8,678\n",
              "Total non-trainable params: 0\n",
              "\n",
              "Optimizer used: functools.partial(<class 'fastai.optimizer.OptimWrapper'>, opt=<class 'torch.optim.adadelta.Adadelta'>, lr=0.1)\n",
              "Loss function: FlattenedLoss of CrossEntropyLoss()\n",
              "\n",
              "Callbacks:\n",
              "  - TrainEvalCallback\n",
              "  - CastToTensor\n",
              "  - Recorder\n",
              "  - ProgressCallback\n",
              "  - EarlyStoppingCallback"
            ],
            "application/vnd.google.colaboratory.intrinsic+json": {
              "type": "string"
            }
          },
          "metadata": {},
          "execution_count": 28
        }
      ],
      "source": [
        "learn.summary()"
      ]
    },
    {
      "cell_type": "markdown",
      "metadata": {
        "id": "bMJJOmdhzKl3"
      },
      "source": [
        "#### Entrenamiento del modelo"
      ]
    },
    {
      "cell_type": "code",
      "execution_count": null,
      "metadata": {
        "colab": {
          "base_uri": "https://localhost:8080/",
          "height": 363
        },
        "id": "of82CWL5l_8r",
        "outputId": "caa62b5b-2e58-43a7-d174-f6708e29e21e"
      },
      "outputs": [
        {
          "output_type": "display_data",
          "data": {
            "text/plain": [
              "<IPython.core.display.HTML object>"
            ],
            "text/html": [
              "\n",
              "<style>\n",
              "    /* Turns off some styling */\n",
              "    progress {\n",
              "        /* gets rid of default border in Firefox and Opera. */\n",
              "        border: none;\n",
              "        /* Needs to be in here for Safari polyfill so background images work as expected. */\n",
              "        background-size: auto;\n",
              "    }\n",
              "    progress:not([value]), progress:not([value])::-webkit-progress-bar {\n",
              "        background: repeating-linear-gradient(45deg, #7e7e7e, #7e7e7e 10px, #5c5c5c 10px, #5c5c5c 20px);\n",
              "    }\n",
              "    .progress-bar-interrupted, .progress-bar-interrupted::-webkit-progress-bar {\n",
              "        background: #F44336;\n",
              "    }\n",
              "</style>\n"
            ]
          },
          "metadata": {}
        },
        {
          "output_type": "display_data",
          "data": {
            "text/plain": [
              "<IPython.core.display.HTML object>"
            ],
            "text/html": [
              "<table border=\"1\" class=\"dataframe\">\n",
              "  <thead>\n",
              "    <tr style=\"text-align: left;\">\n",
              "      <th>epoch</th>\n",
              "      <th>train_loss</th>\n",
              "      <th>valid_loss</th>\n",
              "      <th>accuracy</th>\n",
              "      <th>f1_score</th>\n",
              "      <th>time</th>\n",
              "    </tr>\n",
              "  </thead>\n",
              "  <tbody>\n",
              "    <tr>\n",
              "      <td>0</td>\n",
              "      <td>2.098271</td>\n",
              "      <td>2.103765</td>\n",
              "      <td>0.189333</td>\n",
              "      <td>0.182868</td>\n",
              "      <td>01:06</td>\n",
              "    </tr>\n",
              "    <tr>\n",
              "      <td>1</td>\n",
              "      <td>2.051962</td>\n",
              "      <td>2.051188</td>\n",
              "      <td>0.207667</td>\n",
              "      <td>0.211095</td>\n",
              "      <td>01:07</td>\n",
              "    </tr>\n",
              "    <tr>\n",
              "      <td>2</td>\n",
              "      <td>2.021314</td>\n",
              "      <td>2.035372</td>\n",
              "      <td>0.217200</td>\n",
              "      <td>0.216894</td>\n",
              "      <td>01:07</td>\n",
              "    </tr>\n",
              "    <tr>\n",
              "      <td>3</td>\n",
              "      <td>1.993419</td>\n",
              "      <td>2.002823</td>\n",
              "      <td>0.228367</td>\n",
              "      <td>0.231318</td>\n",
              "      <td>01:07</td>\n",
              "    </tr>\n",
              "    <tr>\n",
              "      <td>4</td>\n",
              "      <td>1.974472</td>\n",
              "      <td>1.995086</td>\n",
              "      <td>0.229433</td>\n",
              "      <td>0.231352</td>\n",
              "      <td>01:07</td>\n",
              "    </tr>\n",
              "    <tr>\n",
              "      <td>5</td>\n",
              "      <td>1.987336</td>\n",
              "      <td>1.987306</td>\n",
              "      <td>0.235133</td>\n",
              "      <td>0.236934</td>\n",
              "      <td>01:07</td>\n",
              "    </tr>\n",
              "    <tr>\n",
              "      <td>6</td>\n",
              "      <td>1.967318</td>\n",
              "      <td>1.974228</td>\n",
              "      <td>0.240300</td>\n",
              "      <td>0.243345</td>\n",
              "      <td>01:07</td>\n",
              "    </tr>\n",
              "    <tr>\n",
              "      <td>7</td>\n",
              "      <td>1.951089</td>\n",
              "      <td>1.971643</td>\n",
              "      <td>0.241367</td>\n",
              "      <td>0.246130</td>\n",
              "      <td>01:07</td>\n",
              "    </tr>\n",
              "    <tr>\n",
              "      <td>8</td>\n",
              "      <td>1.956204</td>\n",
              "      <td>1.963280</td>\n",
              "      <td>0.245667</td>\n",
              "      <td>0.248936</td>\n",
              "      <td>01:07</td>\n",
              "    </tr>\n",
              "    <tr>\n",
              "      <td>9</td>\n",
              "      <td>1.930919</td>\n",
              "      <td>1.965549</td>\n",
              "      <td>0.243100</td>\n",
              "      <td>0.248107</td>\n",
              "      <td>01:07</td>\n",
              "    </tr>\n",
              "  </tbody>\n",
              "</table>"
            ]
          },
          "metadata": {}
        }
      ],
      "source": [
        "learn.fit(num_epochs,lr=learning_rate)"
      ]
    },
    {
      "cell_type": "markdown",
      "metadata": {
        "id": "xfjeJXEkzNcm"
      },
      "source": [
        "#### Rendimiento en el conjunto de *test*"
      ]
    },
    {
      "cell_type": "code",
      "execution_count": null,
      "metadata": {
        "colab": {
          "base_uri": "https://localhost:8080/",
          "height": 52
        },
        "id": "73QhEjFdzTty",
        "outputId": "e2fad336-e6ed-4221-8b9d-c20e9e55b5d7"
      },
      "outputs": [
        {
          "output_type": "display_data",
          "data": {
            "text/plain": [
              "<IPython.core.display.HTML object>"
            ],
            "text/html": [
              "\n",
              "<style>\n",
              "    /* Turns off some styling */\n",
              "    progress {\n",
              "        /* gets rid of default border in Firefox and Opera. */\n",
              "        border: none;\n",
              "        /* Needs to be in here for Safari polyfill so background images work as expected. */\n",
              "        background-size: auto;\n",
              "    }\n",
              "    progress:not([value]), progress:not([value])::-webkit-progress-bar {\n",
              "        background: repeating-linear-gradient(45deg, #7e7e7e, #7e7e7e 10px, #5c5c5c 10px, #5c5c5c 20px);\n",
              "    }\n",
              "    .progress-bar-interrupted, .progress-bar-interrupted::-webkit-progress-bar {\n",
              "        background: #F44336;\n",
              "    }\n",
              "</style>\n"
            ]
          },
          "metadata": {}
        },
        {
          "output_type": "display_data",
          "data": {
            "text/plain": [
              "<IPython.core.display.HTML object>"
            ],
            "text/html": []
          },
          "metadata": {}
        },
        {
          "output_type": "stream",
          "name": "stdout",
          "text": [
            "Accuracy en test: 0.58\n",
            "F1 en test: 0.57\n"
          ]
        }
      ],
      "source": [
        "accuracy_f1_test(path/'test', learn)"
      ]
    },
    {
      "cell_type": "markdown",
      "metadata": {
        "id": "h6rsLfBYgm7L"
      },
      "source": [
        "### Conv6"
      ]
    },
    {
      "cell_type": "markdown",
      "metadata": {
        "id": "4yXu3nccTsNX"
      },
      "source": [
        "Seleccionamos el *learning rate*:"
      ]
    },
    {
      "cell_type": "code",
      "execution_count": null,
      "metadata": {
        "id": "mgUXpqtW4C_C"
      },
      "outputs": [],
      "source": [
        "learning_rate = 0.5"
      ]
    },
    {
      "cell_type": "markdown",
      "metadata": {
        "id": "RxtP9U5R4GB2"
      },
      "source": [
        "Consideramos ahora una red neuronal con $6$ capas convolucionales:"
      ]
    },
    {
      "cell_type": "markdown",
      "metadata": {
        "id": "kKNBEYWQ4JAh"
      },
      "source": [
        "#### Creación del modelo"
      ]
    },
    {
      "cell_type": "code",
      "execution_count": null,
      "metadata": {
        "id": "kgnIT3vBgolq"
      },
      "outputs": [],
      "source": [
        "from torch.nn import Linear, LazyLinear, ReLU, Flatten, Conv2d, MaxPool2d, BatchNorm2d, Dropout, BatchNorm1d\n",
        "from torch.optim import Adadelta\n",
        "from torchsummary import summary\n",
        "\n",
        "# Crear el MLP con 2 capas ocultas\n",
        "opt_func = partial(OptimWrapper, opt=Adadelta, lr=learning_rate)\n",
        "\n",
        "conv6 = sequential(\n",
        "\n",
        "    # 1ª Capa convolucional:\n",
        "    # - Tantos canales de entrada como tenga la imagen de entrada\n",
        "    # - 32 canales de salida\n",
        "    # - Filtro 3x3\n",
        "    Conv2d(num_channels, 32, 3, padding='same'),\n",
        "    ReLU(),                                            # Capa ReLU\n",
        "    BatchNorm2d(32),                                   # Capa BatchNorm\n",
        "\n",
        "    # 2ª Capa convolucional:\n",
        "    # - 32 canales de entrada y 64 de salida\n",
        "    # - Filtro 3x3\n",
        "    Conv2d(32, 64, 3, padding='same'),\n",
        "    ReLU(),                                            # Capa ReLU\n",
        "    BatchNorm2d(64),                                   # Capa BatchNorm\n",
        "    MaxPool2d(2),                                      # Capa MaxPooling\n",
        "    Dropout(0.2),                                      # Capa Dropout (apago el 20% de las neuronas)\n",
        "\n",
        "    # 3ª Capa convolucional:\n",
        "    # - 64 canales de entrada y 64 de salida\n",
        "    # - Filtro 3x3\n",
        "    Conv2d(64, 64, 3, padding='same'),\n",
        "    ReLU(),                                            # Capa ReLU\n",
        "    BatchNorm2d(64),                                   # Capa BatchNorm\n",
        "\n",
        "    # 4ª Capa convolucional:\n",
        "    # - 64 canales de entrada y 64 de salida\n",
        "    # - Filtro 3x3\n",
        "    Conv2d(64, 64, 3, padding='same'),\n",
        "    ReLU(),                                            # Capa ReLU\n",
        "    BatchNorm2d(64),                                   # Capa BatchNorm\n",
        "    MaxPool2d(2),                                      # Capa MaxPooling\n",
        "    Dropout(0.3),                                      # Capa Dropout\n",
        "\n",
        "    # 5ª Capa convolucional:\n",
        "    # - 64 canales de entrada y 128 de salida\n",
        "    # - Filtro 3x3\n",
        "    Conv2d(64, 128, 3, padding='same'),\n",
        "    ReLU(),                                            # Capa ReLU\n",
        "    BatchNorm2d(128),                                  # Capa BatchNorm\n",
        "\n",
        "    # 6ª Capa convolucional:\n",
        "    # - 128 canales de entrada y 128 de salida\n",
        "    # - Filtro 3x3\n",
        "    Conv2d(128, 128, 3, padding='same'),\n",
        "    ReLU(),                                            # Capa ReLU\n",
        "    BatchNorm2d(128),                                  # Capa BatchNorm\n",
        "    MaxPool2d(2),                                      # Capa MaxPooling\n",
        "    Dropout(0.4),                                      # Capa Dropout\n",
        "    Flatten(),                                         # Aplanado\n",
        "\n",
        "    # Capa densa con 128 salidas (el nº de entradas se ajusta automáticamente)\n",
        "    LazyLinear(128),\n",
        "    ReLU(),                                            # Capa ReLU\n",
        "    BatchNorm1d(128),                                  # Capa BatchNorm\n",
        "    Dropout(0.5),                                      # Capa Dropout\n",
        "    Linear(128, num_classes)                           # Capa densa con num_classes salidas\n",
        ")\n",
        "\n",
        "\n",
        "# Crear el aprendiz (learner)\n",
        "learn = Learner(\n",
        "    dls,\n",
        "    conv6,\n",
        "    metrics=[\n",
        "        accuracy,\n",
        "        F1Score(average='weighted')\n",
        "    ],\n",
        "    opt_func=opt_func,\n",
        "    loss_func=CrossEntropyLossFlat(),\n",
        "    cbs=[EarlyStoppingCallback(monitor='valid_loss', patience=5)]\n",
        ")"
      ]
    },
    {
      "cell_type": "code",
      "execution_count": null,
      "metadata": {
        "colab": {
          "base_uri": "https://localhost:8080/",
          "height": 1000
        },
        "id": "NwszgPLDktV9",
        "outputId": "58d15d61-08f7-4559-be21-531ce83bcba7"
      },
      "outputs": [
        {
          "output_type": "display_data",
          "data": {
            "text/plain": [
              "<IPython.core.display.HTML object>"
            ],
            "text/html": [
              "\n",
              "<style>\n",
              "    /* Turns off some styling */\n",
              "    progress {\n",
              "        /* gets rid of default border in Firefox and Opera. */\n",
              "        border: none;\n",
              "        /* Needs to be in here for Safari polyfill so background images work as expected. */\n",
              "        background-size: auto;\n",
              "    }\n",
              "    progress:not([value]), progress:not([value])::-webkit-progress-bar {\n",
              "        background: repeating-linear-gradient(45deg, #7e7e7e, #7e7e7e 10px, #5c5c5c 10px, #5c5c5c 20px);\n",
              "    }\n",
              "    .progress-bar-interrupted, .progress-bar-interrupted::-webkit-progress-bar {\n",
              "        background: #F44336;\n",
              "    }\n",
              "</style>\n"
            ]
          },
          "metadata": {}
        },
        {
          "output_type": "display_data",
          "data": {
            "text/plain": [
              "<IPython.core.display.HTML object>"
            ],
            "text/html": []
          },
          "metadata": {}
        },
        {
          "output_type": "execute_result",
          "data": {
            "text/plain": [
              "Sequential (Input shape: 128 x 3 x 32 x 32)\n",
              "============================================================================\n",
              "Layer (type)         Output Shape         Param #    Trainable \n",
              "============================================================================\n",
              "                     128 x 32 x 32 x 32  \n",
              "Conv2d                                    896        True      \n",
              "ReLU                                                           \n",
              "BatchNorm2d                               64         True      \n",
              "____________________________________________________________________________\n",
              "                     128 x 64 x 32 x 32  \n",
              "Conv2d                                    18496      True      \n",
              "ReLU                                                           \n",
              "BatchNorm2d                               128        True      \n",
              "____________________________________________________________________________\n",
              "                     128 x 64 x 16 x 16  \n",
              "MaxPool2d                                                      \n",
              "Dropout                                                        \n",
              "Conv2d                                    36928      True      \n",
              "ReLU                                                           \n",
              "BatchNorm2d                               128        True      \n",
              "Conv2d                                    36928      True      \n",
              "ReLU                                                           \n",
              "BatchNorm2d                               128        True      \n",
              "____________________________________________________________________________\n",
              "                     128 x 64 x 8 x 8    \n",
              "MaxPool2d                                                      \n",
              "Dropout                                                        \n",
              "____________________________________________________________________________\n",
              "                     128 x 128 x 8 x 8   \n",
              "Conv2d                                    73856      True      \n",
              "ReLU                                                           \n",
              "BatchNorm2d                               256        True      \n",
              "Conv2d                                    147584     True      \n",
              "ReLU                                                           \n",
              "BatchNorm2d                               256        True      \n",
              "____________________________________________________________________________\n",
              "                     128 x 128 x 4 x 4   \n",
              "MaxPool2d                                                      \n",
              "Dropout                                                        \n",
              "____________________________________________________________________________\n",
              "                     128 x 2048          \n",
              "Flatten                                                        \n",
              "____________________________________________________________________________\n",
              "                     128 x 128           \n",
              "Linear                                    262272     True      \n",
              "ReLU                                                           \n",
              "BatchNorm1d                               256        True      \n",
              "Dropout                                                        \n",
              "____________________________________________________________________________\n",
              "                     128 x 10            \n",
              "Linear                                    1290       True      \n",
              "____________________________________________________________________________\n",
              "\n",
              "Total params: 579,466\n",
              "Total trainable params: 579,466\n",
              "Total non-trainable params: 0\n",
              "\n",
              "Optimizer used: functools.partial(<class 'fastai.optimizer.OptimWrapper'>, opt=<class 'torch.optim.adadelta.Adadelta'>, lr=0.5)\n",
              "Loss function: FlattenedLoss of CrossEntropyLoss()\n",
              "\n",
              "Callbacks:\n",
              "  - TrainEvalCallback\n",
              "  - CastToTensor\n",
              "  - Recorder\n",
              "  - ProgressCallback\n",
              "  - EarlyStoppingCallback"
            ],
            "application/vnd.google.colaboratory.intrinsic+json": {
              "type": "string"
            }
          },
          "metadata": {},
          "execution_count": 33
        }
      ],
      "source": [
        "learn.summary()"
      ]
    },
    {
      "cell_type": "markdown",
      "metadata": {
        "id": "_4Cf-g5m6ujT"
      },
      "source": [
        "#### Entrenamiento del modelo"
      ]
    },
    {
      "cell_type": "code",
      "execution_count": null,
      "metadata": {
        "colab": {
          "base_uri": "https://localhost:8080/",
          "height": 363
        },
        "id": "yRPr2rpdlb6u",
        "outputId": "6991ad9d-d249-4370-af0e-fdff5a957209"
      },
      "outputs": [
        {
          "output_type": "display_data",
          "data": {
            "text/plain": [
              "<IPython.core.display.HTML object>"
            ],
            "text/html": [
              "\n",
              "<style>\n",
              "    /* Turns off some styling */\n",
              "    progress {\n",
              "        /* gets rid of default border in Firefox and Opera. */\n",
              "        border: none;\n",
              "        /* Needs to be in here for Safari polyfill so background images work as expected. */\n",
              "        background-size: auto;\n",
              "    }\n",
              "    progress:not([value]), progress:not([value])::-webkit-progress-bar {\n",
              "        background: repeating-linear-gradient(45deg, #7e7e7e, #7e7e7e 10px, #5c5c5c 10px, #5c5c5c 20px);\n",
              "    }\n",
              "    .progress-bar-interrupted, .progress-bar-interrupted::-webkit-progress-bar {\n",
              "        background: #F44336;\n",
              "    }\n",
              "</style>\n"
            ]
          },
          "metadata": {}
        },
        {
          "output_type": "display_data",
          "data": {
            "text/plain": [
              "<IPython.core.display.HTML object>"
            ],
            "text/html": [
              "<table border=\"1\" class=\"dataframe\">\n",
              "  <thead>\n",
              "    <tr style=\"text-align: left;\">\n",
              "      <th>epoch</th>\n",
              "      <th>train_loss</th>\n",
              "      <th>valid_loss</th>\n",
              "      <th>accuracy</th>\n",
              "      <th>f1_score</th>\n",
              "      <th>time</th>\n",
              "    </tr>\n",
              "  </thead>\n",
              "  <tbody>\n",
              "    <tr>\n",
              "      <td>0</td>\n",
              "      <td>1.941976</td>\n",
              "      <td>1.904386</td>\n",
              "      <td>0.268267</td>\n",
              "      <td>0.299581</td>\n",
              "      <td>01:12</td>\n",
              "    </tr>\n",
              "    <tr>\n",
              "      <td>1</td>\n",
              "      <td>1.867362</td>\n",
              "      <td>1.817748</td>\n",
              "      <td>0.298800</td>\n",
              "      <td>0.327588</td>\n",
              "      <td>01:12</td>\n",
              "    </tr>\n",
              "    <tr>\n",
              "      <td>2</td>\n",
              "      <td>1.804240</td>\n",
              "      <td>1.781337</td>\n",
              "      <td>0.315433</td>\n",
              "      <td>0.341512</td>\n",
              "      <td>01:14</td>\n",
              "    </tr>\n",
              "    <tr>\n",
              "      <td>3</td>\n",
              "      <td>1.769833</td>\n",
              "      <td>1.776005</td>\n",
              "      <td>0.315967</td>\n",
              "      <td>0.342787</td>\n",
              "      <td>01:13</td>\n",
              "    </tr>\n",
              "    <tr>\n",
              "      <td>4</td>\n",
              "      <td>1.755634</td>\n",
              "      <td>1.751128</td>\n",
              "      <td>0.323800</td>\n",
              "      <td>0.360719</td>\n",
              "      <td>01:17</td>\n",
              "    </tr>\n",
              "    <tr>\n",
              "      <td>5</td>\n",
              "      <td>1.744377</td>\n",
              "      <td>1.734453</td>\n",
              "      <td>0.328833</td>\n",
              "      <td>0.356978</td>\n",
              "      <td>01:13</td>\n",
              "    </tr>\n",
              "    <tr>\n",
              "      <td>6</td>\n",
              "      <td>1.746139</td>\n",
              "      <td>1.734840</td>\n",
              "      <td>0.331500</td>\n",
              "      <td>0.387387</td>\n",
              "      <td>01:14</td>\n",
              "    </tr>\n",
              "    <tr>\n",
              "      <td>7</td>\n",
              "      <td>1.711192</td>\n",
              "      <td>1.721235</td>\n",
              "      <td>0.338367</td>\n",
              "      <td>0.364418</td>\n",
              "      <td>01:12</td>\n",
              "    </tr>\n",
              "    <tr>\n",
              "      <td>8</td>\n",
              "      <td>1.697749</td>\n",
              "      <td>1.714198</td>\n",
              "      <td>0.341600</td>\n",
              "      <td>0.376116</td>\n",
              "      <td>01:14</td>\n",
              "    </tr>\n",
              "    <tr>\n",
              "      <td>9</td>\n",
              "      <td>1.712390</td>\n",
              "      <td>1.706953</td>\n",
              "      <td>0.342700</td>\n",
              "      <td>0.364060</td>\n",
              "      <td>01:13</td>\n",
              "    </tr>\n",
              "  </tbody>\n",
              "</table>"
            ]
          },
          "metadata": {}
        }
      ],
      "source": [
        "learn.fit(num_epochs,lr=learning_rate)"
      ]
    },
    {
      "cell_type": "markdown",
      "metadata": {
        "id": "RhSv4Era66LA"
      },
      "source": [
        "#### Rendimiento en el conjunto de *test*"
      ]
    },
    {
      "cell_type": "code",
      "execution_count": null,
      "metadata": {
        "colab": {
          "base_uri": "https://localhost:8080/",
          "height": 52
        },
        "id": "yPdztH1j7Aae",
        "outputId": "f371e5c8-5cc2-4ebd-cdd8-d74fb2d8e847"
      },
      "outputs": [
        {
          "output_type": "display_data",
          "data": {
            "text/plain": [
              "<IPython.core.display.HTML object>"
            ],
            "text/html": [
              "\n",
              "<style>\n",
              "    /* Turns off some styling */\n",
              "    progress {\n",
              "        /* gets rid of default border in Firefox and Opera. */\n",
              "        border: none;\n",
              "        /* Needs to be in here for Safari polyfill so background images work as expected. */\n",
              "        background-size: auto;\n",
              "    }\n",
              "    progress:not([value]), progress:not([value])::-webkit-progress-bar {\n",
              "        background: repeating-linear-gradient(45deg, #7e7e7e, #7e7e7e 10px, #5c5c5c 10px, #5c5c5c 20px);\n",
              "    }\n",
              "    .progress-bar-interrupted, .progress-bar-interrupted::-webkit-progress-bar {\n",
              "        background: #F44336;\n",
              "    }\n",
              "</style>\n"
            ]
          },
          "metadata": {}
        },
        {
          "output_type": "display_data",
          "data": {
            "text/plain": [
              "<IPython.core.display.HTML object>"
            ],
            "text/html": []
          },
          "metadata": {}
        },
        {
          "output_type": "stream",
          "name": "stdout",
          "text": [
            "Accuracy en test: 0.82\n",
            "F1 en test: 0.83\n"
          ]
        }
      ],
      "source": [
        "accuracy_f1_test(path/'test', learn)"
      ]
    },
    {
      "cell_type": "markdown",
      "metadata": {
        "id": "tSCS3WM2x_Wd"
      },
      "source": [
        "### ResNet18"
      ]
    },
    {
      "cell_type": "markdown",
      "metadata": {
        "id": "EuwGimZLTvyH"
      },
      "source": [
        "Seleccionamos el *learning rate*:"
      ]
    },
    {
      "cell_type": "code",
      "execution_count": null,
      "metadata": {
        "id": "B4wxdw549bsS"
      },
      "outputs": [],
      "source": [
        "learning_rate = 0.1"
      ]
    },
    {
      "cell_type": "markdown",
      "metadata": {
        "id": "1n43Pkju923F"
      },
      "source": [
        "Consideramos ahora el modelo ResNet18:"
      ]
    },
    {
      "cell_type": "markdown",
      "metadata": {
        "id": "klEx1lBm9ycK"
      },
      "source": [
        "#### Creación del modelo"
      ]
    },
    {
      "cell_type": "code",
      "execution_count": null,
      "metadata": {
        "id": "pGFboobnyIWA",
        "colab": {
          "base_uri": "https://localhost:8080/"
        },
        "outputId": "dfd982a0-8e96-4910-ded1-fcb1673fab64"
      },
      "outputs": [
        {
          "output_type": "stream",
          "name": "stderr",
          "text": [
            "Downloading: \"https://download.pytorch.org/models/resnet18-f37072fd.pth\" to /root/.cache/torch/hub/checkpoints/resnet18-f37072fd.pth\n",
            "100%|██████████| 44.7M/44.7M [00:00<00:00, 193MB/s]\n"
          ]
        }
      ],
      "source": [
        "from torch.optim import Adadelta\n",
        "\n",
        "# Crear el MLP con 2 capas ocultas\n",
        "opt_func = partial(OptimWrapper, opt=Adadelta, lr=learning_rate)\n",
        "\n",
        "model = models.resnet18\n",
        "\n",
        "# pretrained = True, pesos preentrenados en ImageNet\n",
        "learn = vision_learner(dls,\n",
        "                       model,\n",
        "                       pretrained = True,\n",
        "                       n_in=num_channels,\n",
        "                       metrics=[accuracy, F1Score(average='weighted')],\n",
        "                       opt_func=opt_func,\n",
        "                       loss_func=CrossEntropyLossFlat(),\n",
        "                       cbs=[EarlyStoppingCallback(monitor='valid_loss', patience=early_stopping_patience)])"
      ]
    },
    {
      "cell_type": "markdown",
      "metadata": {
        "id": "TSbttHtz-Cqv"
      },
      "source": [
        "#### Entrenamiento del modelo"
      ]
    },
    {
      "cell_type": "code",
      "execution_count": null,
      "metadata": {
        "colab": {
          "base_uri": "https://localhost:8080/",
          "height": 143
        },
        "id": "i1jGWnd0a5NY",
        "outputId": "ce138e5f-ce02-4157-8bf6-3ffbc8a7e54b"
      },
      "outputs": [
        {
          "output_type": "display_data",
          "data": {
            "text/plain": [
              "<IPython.core.display.HTML object>"
            ],
            "text/html": [
              "\n",
              "<style>\n",
              "    /* Turns off some styling */\n",
              "    progress {\n",
              "        /* gets rid of default border in Firefox and Opera. */\n",
              "        border: none;\n",
              "        /* Needs to be in here for Safari polyfill so background images work as expected. */\n",
              "        background-size: auto;\n",
              "    }\n",
              "    progress:not([value]), progress:not([value])::-webkit-progress-bar {\n",
              "        background: repeating-linear-gradient(45deg, #7e7e7e, #7e7e7e 10px, #5c5c5c 10px, #5c5c5c 20px);\n",
              "    }\n",
              "    .progress-bar-interrupted, .progress-bar-interrupted::-webkit-progress-bar {\n",
              "        background: #F44336;\n",
              "    }\n",
              "</style>\n"
            ]
          },
          "metadata": {}
        },
        {
          "output_type": "display_data",
          "data": {
            "text/plain": [
              "<IPython.core.display.HTML object>"
            ],
            "text/html": [
              "<table border=\"1\" class=\"dataframe\">\n",
              "  <thead>\n",
              "    <tr style=\"text-align: left;\">\n",
              "      <th>epoch</th>\n",
              "      <th>train_loss</th>\n",
              "      <th>valid_loss</th>\n",
              "      <th>accuracy</th>\n",
              "      <th>f1_score</th>\n",
              "      <th>time</th>\n",
              "    </tr>\n",
              "  </thead>\n",
              "  <tbody>\n",
              "    <tr>\n",
              "      <td>0</td>\n",
              "      <td>2.285621</td>\n",
              "      <td>2.073777</td>\n",
              "      <td>0.231300</td>\n",
              "      <td>0.228508</td>\n",
              "      <td>01:19</td>\n",
              "    </tr>\n",
              "    <tr>\n",
              "      <td>1</td>\n",
              "      <td>2.108427</td>\n",
              "      <td>1.975860</td>\n",
              "      <td>0.251000</td>\n",
              "      <td>0.270817</td>\n",
              "      <td>01:25</td>\n",
              "    </tr>\n",
              "    <tr>\n",
              "      <td>2</td>\n",
              "      <td>2.020533</td>\n",
              "      <td>1.928890</td>\n",
              "      <td>0.266000</td>\n",
              "      <td>0.285002</td>\n",
              "      <td>01:25</td>\n",
              "    </tr>\n",
              "  </tbody>\n",
              "</table>"
            ]
          },
          "metadata": {}
        }
      ],
      "source": [
        "# Entrenamos durante 3 épocas la cabecera del modelo\n",
        "learn.fit(3, lr=learning_rate)"
      ]
    },
    {
      "cell_type": "code",
      "execution_count": null,
      "metadata": {
        "colab": {
          "base_uri": "https://localhost:8080/",
          "height": 255
        },
        "id": "G9Rnj1AbTau5",
        "outputId": "c7aebc63-07e5-4d1b-f475-5a1eebb920ac"
      },
      "outputs": [
        {
          "output_type": "display_data",
          "data": {
            "text/plain": [
              "<IPython.core.display.HTML object>"
            ],
            "text/html": [
              "\n",
              "<style>\n",
              "    /* Turns off some styling */\n",
              "    progress {\n",
              "        /* gets rid of default border in Firefox and Opera. */\n",
              "        border: none;\n",
              "        /* Needs to be in here for Safari polyfill so background images work as expected. */\n",
              "        background-size: auto;\n",
              "    }\n",
              "    progress:not([value]), progress:not([value])::-webkit-progress-bar {\n",
              "        background: repeating-linear-gradient(45deg, #7e7e7e, #7e7e7e 10px, #5c5c5c 10px, #5c5c5c 20px);\n",
              "    }\n",
              "    .progress-bar-interrupted, .progress-bar-interrupted::-webkit-progress-bar {\n",
              "        background: #F44336;\n",
              "    }\n",
              "</style>\n"
            ]
          },
          "metadata": {}
        },
        {
          "output_type": "display_data",
          "data": {
            "text/plain": [
              "<IPython.core.display.HTML object>"
            ],
            "text/html": [
              "<table border=\"1\" class=\"dataframe\">\n",
              "  <thead>\n",
              "    <tr style=\"text-align: left;\">\n",
              "      <th>epoch</th>\n",
              "      <th>train_loss</th>\n",
              "      <th>valid_loss</th>\n",
              "      <th>accuracy</th>\n",
              "      <th>f1_score</th>\n",
              "      <th>time</th>\n",
              "    </tr>\n",
              "  </thead>\n",
              "  <tbody>\n",
              "    <tr>\n",
              "      <td>0</td>\n",
              "      <td>1.805405</td>\n",
              "      <td>1.767780</td>\n",
              "      <td>0.320500</td>\n",
              "      <td>0.356190</td>\n",
              "      <td>01:28</td>\n",
              "    </tr>\n",
              "    <tr>\n",
              "      <td>1</td>\n",
              "      <td>1.750666</td>\n",
              "      <td>1.768040</td>\n",
              "      <td>0.324067</td>\n",
              "      <td>0.364771</td>\n",
              "      <td>01:29</td>\n",
              "    </tr>\n",
              "    <tr>\n",
              "      <td>2</td>\n",
              "      <td>1.693006</td>\n",
              "      <td>1.729735</td>\n",
              "      <td>0.335167</td>\n",
              "      <td>0.386498</td>\n",
              "      <td>01:27</td>\n",
              "    </tr>\n",
              "    <tr>\n",
              "      <td>3</td>\n",
              "      <td>1.666526</td>\n",
              "      <td>1.732753</td>\n",
              "      <td>0.335800</td>\n",
              "      <td>0.372072</td>\n",
              "      <td>01:29</td>\n",
              "    </tr>\n",
              "    <tr>\n",
              "      <td>4</td>\n",
              "      <td>1.637407</td>\n",
              "      <td>1.738750</td>\n",
              "      <td>0.338633</td>\n",
              "      <td>0.370150</td>\n",
              "      <td>01:21</td>\n",
              "    </tr>\n",
              "    <tr>\n",
              "      <td>5</td>\n",
              "      <td>1.599579</td>\n",
              "      <td>1.744775</td>\n",
              "      <td>0.341433</td>\n",
              "      <td>0.368581</td>\n",
              "      <td>01:20</td>\n",
              "    </tr>\n",
              "  </tbody>\n",
              "</table>"
            ]
          },
          "metadata": {}
        },
        {
          "output_type": "stream",
          "name": "stdout",
          "text": [
            "No improvement since epoch 2: early stopping\n"
          ]
        }
      ],
      "source": [
        "# Hacemos fine-tuning durante el resto de épocas\n",
        "learn.unfreeze()\n",
        "learn.fit(num_epochs-3, lr=learning_rate)"
      ]
    },
    {
      "cell_type": "markdown",
      "metadata": {
        "id": "O-VGUlej-Jvd"
      },
      "source": [
        "#### Rendimiento den el conjunto de *test*"
      ]
    },
    {
      "cell_type": "code",
      "execution_count": null,
      "metadata": {
        "colab": {
          "base_uri": "https://localhost:8080/",
          "height": 52
        },
        "id": "exF-Di43-NGO",
        "outputId": "53231511-6890-4427-8b9c-a296600f4bd8"
      },
      "outputs": [
        {
          "output_type": "display_data",
          "data": {
            "text/plain": [
              "<IPython.core.display.HTML object>"
            ],
            "text/html": [
              "\n",
              "<style>\n",
              "    /* Turns off some styling */\n",
              "    progress {\n",
              "        /* gets rid of default border in Firefox and Opera. */\n",
              "        border: none;\n",
              "        /* Needs to be in here for Safari polyfill so background images work as expected. */\n",
              "        background-size: auto;\n",
              "    }\n",
              "    progress:not([value]), progress:not([value])::-webkit-progress-bar {\n",
              "        background: repeating-linear-gradient(45deg, #7e7e7e, #7e7e7e 10px, #5c5c5c 10px, #5c5c5c 20px);\n",
              "    }\n",
              "    .progress-bar-interrupted, .progress-bar-interrupted::-webkit-progress-bar {\n",
              "        background: #F44336;\n",
              "    }\n",
              "</style>\n"
            ]
          },
          "metadata": {}
        },
        {
          "output_type": "display_data",
          "data": {
            "text/plain": [
              "<IPython.core.display.HTML object>"
            ],
            "text/html": []
          },
          "metadata": {}
        },
        {
          "output_type": "stream",
          "name": "stdout",
          "text": [
            "Accuracy en test: 0.84\n",
            "F1 en test: 0.83\n"
          ]
        }
      ],
      "source": [
        "accuracy_f1_test(path/'test', learn)"
      ]
    },
    {
      "cell_type": "markdown",
      "metadata": {
        "id": "0cY1uGe8WLgW"
      },
      "source": [
        "# Gráfica de los resultados obtenidos"
      ]
    },
    {
      "cell_type": "code",
      "execution_count": null,
      "metadata": {
        "colab": {
          "base_uri": "https://localhost:8080/"
        },
        "id": "MmauHffzZ9DU",
        "outputId": "1130b613-57ce-441d-f491-90b5b8d488e5"
      },
      "outputs": [
        {
          "output_type": "display_data",
          "data": {
            "text/plain": [
              "<Figure size 700x500 with 1 Axes>"
            ],
            "image/png": "[encoded data removed]"
          },
          "metadata": {}
        }
      ],
      "source": [
        "import matplotlib.pyplot as plt\n",
        "\n",
        "# Valores de alpha\n",
        "alphas = [0, 2, 4, 6, 8, 10]\n",
        "\n",
        "# Accuracy en test para Conv4 y Conv6\n",
        "mlp2_test = [0.54,0.46,0.40,0.35,0.32,0.29]\n",
        "conv4_test = [0.58, 0.56, 0.54, 0.53, 0.52, 0.48]\n",
        "conv6_test = [0.82, 0.78, 0.73, 0.69, 0.66, 0.62]\n",
        "resnet18_test = [0.84,0.79,0.77,0.73,0.71,0.70]\n",
        "\n",
        "# Crear la gráfica\n",
        "plt.figure(figsize=(7, 5))\n",
        "plt.plot(alphas, mlp2_test, 's--', label='MLP2', color='tab:orange')\n",
        "plt.plot(alphas, conv4_test, 'd-', label='Conv4', color='tab:green')\n",
        "plt.plot(alphas, conv6_test, 'o--', label='Conv6', color='tab:blue')\n",
        "plt.plot(alphas, resnet18_test, '^-', label='ResNet18', color='tab:red')\n",
        "\n",
        "plt.xlabel(r'$\\alpha$ (Número de imágenes ruidosas por cada imagen no ruidosa)')\n",
        "plt.ylabel('Accuracy en test')\n",
        "plt.title('Efecto del ruido uniforme en CIFAR-10 con redes convolucionales')\n",
        "plt.legend()\n",
        "plt.grid(True)\n",
        "\n",
        "plt.tight_layout()\n",
        "plt.show()"
      ]
    }
  ],
  "metadata": {
    "accelerator": "GPU",
    "colab": {
      "gpuType": "T4",
      "toc_visible": true,
      "provenance": []
    },
    "kernelspec": {
      "display_name": "Python 3",
      "name": "python3"
    },
    "language_info": {
      "name": "python"
    }
  },
  "nbformat": 4,
  "nbformat_minor": 0
}