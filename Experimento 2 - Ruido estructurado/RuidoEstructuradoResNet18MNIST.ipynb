{
  "cells": [
    {
      "cell_type": "markdown",
      "metadata": {
        "id": "W4WYVxaUKciU"
      },
      "source": [
        "## Planteamiento del problema"
      ]
    },
    {
      "cell_type": "markdown",
      "metadata": {
        "id": "1IOP5vCJea5L"
      },
      "source": [
        "La primera pregunta que queremos responder es\n",
        "**¿El ruido estructurado en las etiquetas afecta al rendimiento?**"
      ]
    },
    {
      "cell_type": "markdown",
      "metadata": {
        "id": "R_ke1eLAF981"
      },
      "source": [
        "En este experimento, consideraremos el siguiente escenario:\n",
        "- Tenemos $n$ imágenes con etiquetas limpias.\n",
        "- Por cada imagen con etiquetas limpias, introducimos $\\alpha$ imágenes con etiquetas ruidosas (es decir, su etiqueta es aleatoria). Por tanto, añadimos $\\alpha n$ imágenes.\n",
        "- En total, acabamos con $\\alpha n + n = (\\alpha+1)n $ imágenes\n",
        "\n",
        "En este experimento, fijamos $\\alpha=20$ y $n = 60000$."
      ]
    },
    {
      "cell_type": "markdown",
      "metadata": {
        "id": "aDRfbZM4JOvF"
      },
      "source": [
        "Las arquitecturas y *dataset* que utilizaremos en este experimento serán:\n",
        "- Trabajaremos con el conjunto de datos MNIST.\n",
        "- Trabarejemos con el modelo ResNet18.\n",
        "- Utilizaremos ruido estructurado, en el que la etiqueta ruidosa se asigna aleatoriamente entre las clases posibles, con diferente probabilidad para cada clase (la probabilidad se determinará a partir de la confusión de clases)."
      ]
    },
    {
      "cell_type": "markdown",
      "source": [
        "Realizaremos el entrenamiento con el conjunto de datos ruidoso y evaluaremos su rendimiento en un conjunto de test limpio (sin ruido)."
      ],
      "metadata": {
        "id": "BpKdGAPc84nU"
      }
    },
    {
      "cell_type": "markdown",
      "metadata": {
        "id": "S9hdo6M6JxGf"
      },
      "source": [
        "## Instalación de fastai"
      ]
    },
    {
      "cell_type": "code",
      "execution_count": 1,
      "metadata": {
        "id": "9NGwKwBRK1EK",
        "colab": {
          "base_uri": "https://localhost:8080/"
        },
        "outputId": "31fbee5f-f54b-4a57-9681-2e10ae849a7e"
      },
      "outputs": [
        {
          "output_type": "stream",
          "name": "stdout",
          "text": [
            "\u001b[?25l   \u001b[90m━━━━━━━━━━━━━━━━━━━━━━━━━━━━━━━━━━━━━━━━\u001b[0m \u001b[32m0.0/235.3 kB\u001b[0m \u001b[31m?\u001b[0m eta \u001b[36m-:--:--\u001b[0m\r\u001b[2K   \u001b[90m━━━━━━━━━━━━━━━━━━━━━━━━━━━━━━━━━━━━━━━━\u001b[0m \u001b[32m235.3/235.3 kB\u001b[0m \u001b[31m7.3 MB/s\u001b[0m eta \u001b[36m0:00:00\u001b[0m\n",
            "\u001b[2K   \u001b[90m━━━━━━━━━━━━━━━━━━━━━━━━━━━━━━━━━━━━━━━━\u001b[0m \u001b[32m78.2/78.2 kB\u001b[0m \u001b[31m7.1 MB/s\u001b[0m eta \u001b[36m0:00:00\u001b[0m\n",
            "\u001b[2K   \u001b[90m━━━━━━━━━━━━━━━━━━━━━━━━━━━━━━━━━━━━━━━━\u001b[0m \u001b[32m363.4/363.4 MB\u001b[0m \u001b[31m4.2 MB/s\u001b[0m eta \u001b[36m0:00:00\u001b[0m\n",
            "\u001b[2K   \u001b[90m━━━━━━━━━━━━━━━━━━━━━━━━━━━━━━━━━━━━━━━━\u001b[0m \u001b[32m13.8/13.8 MB\u001b[0m \u001b[31m35.8 MB/s\u001b[0m eta \u001b[36m0:00:00\u001b[0m\n",
            "\u001b[2K   \u001b[90m━━━━━━━━━━━━━━━━━━━━━━━━━━━━━━━━━━━━━━━━\u001b[0m \u001b[32m24.6/24.6 MB\u001b[0m \u001b[31m34.3 MB/s\u001b[0m eta \u001b[36m0:00:00\u001b[0m\n",
            "\u001b[2K   \u001b[90m━━━━━━━━━━━━━━━━━━━━━━━━━━━━━━━━━━━━━━━━\u001b[0m \u001b[32m883.7/883.7 kB\u001b[0m \u001b[31m35.0 MB/s\u001b[0m eta \u001b[36m0:00:00\u001b[0m\n",
            "\u001b[2K   \u001b[90m━━━━━━━━━━━━━━━━━━━━━━━━━━━━━━━━━━━━━━━━\u001b[0m \u001b[32m664.8/664.8 MB\u001b[0m \u001b[31m1.3 MB/s\u001b[0m eta \u001b[36m0:00:00\u001b[0m\n",
            "\u001b[2K   \u001b[90m━━━━━━━━━━━━━━━━━━━━━━━━━━━━━━━━━━━━━━━━\u001b[0m \u001b[32m211.5/211.5 MB\u001b[0m \u001b[31m6.3 MB/s\u001b[0m eta \u001b[36m0:00:00\u001b[0m\n",
            "\u001b[2K   \u001b[90m━━━━━━━━━━━━━━━━━━━━━━━━━━━━━━━━━━━━━━━━\u001b[0m \u001b[32m56.3/56.3 MB\u001b[0m \u001b[31m12.1 MB/s\u001b[0m eta \u001b[36m0:00:00\u001b[0m\n",
            "\u001b[2K   \u001b[90m━━━━━━━━━━━━━━━━━━━━━━━━━━━━━━━━━━━━━━━━\u001b[0m \u001b[32m127.9/127.9 MB\u001b[0m \u001b[31m8.9 MB/s\u001b[0m eta \u001b[36m0:00:00\u001b[0m\n",
            "\u001b[2K   \u001b[90m━━━━━━━━━━━━━━━━━━━━━━━━━━━━━━━━━━━━━━━━\u001b[0m \u001b[32m207.5/207.5 MB\u001b[0m \u001b[31m4.7 MB/s\u001b[0m eta \u001b[36m0:00:00\u001b[0m\n",
            "\u001b[2K   \u001b[90m━━━━━━━━━━━━━━━━━━━━━━━━━━━━━━━━━━━━━━━━\u001b[0m \u001b[32m21.1/21.1 MB\u001b[0m \u001b[31m80.4 MB/s\u001b[0m eta \u001b[36m0:00:00\u001b[0m\n",
            "\u001b[2K   \u001b[90m━━━━━━━━━━━━━━━━━━━━━━━━━━━━━━━━━━━━━━━━\u001b[0m \u001b[32m42.6/42.6 kB\u001b[0m \u001b[31m3.7 MB/s\u001b[0m eta \u001b[36m0:00:00\u001b[0m\n",
            "\u001b[2K   \u001b[90m━━━━━━━━━━━━━━━━━━━━━━━━━━━━━━━━━━━━━━━━\u001b[0m \u001b[32m1.2/1.2 MB\u001b[0m \u001b[31m59.3 MB/s\u001b[0m eta \u001b[36m0:00:00\u001b[0m\n",
            "\u001b[?25h"
          ]
        }
      ],
      "source": [
        "!pip install -Uqq fastai"
      ]
    },
    {
      "cell_type": "code",
      "execution_count": 2,
      "metadata": {
        "colab": {
          "base_uri": "https://localhost:8080/"
        },
        "id": "CKIWYmayWs9e",
        "outputId": "53925c0f-7b32-45e0-da5d-84ced542606a"
      },
      "outputs": [
        {
          "output_type": "stream",
          "name": "stdout",
          "text": [
            "Python: 3.11.13 (main, Jun  4 2025, 08:57:29) [GCC 11.4.0]\n",
            "PyTorch: 2.6.0+cu124\n",
            "CUDA disponible: True\n",
            "FastAI: 2.8.2\n",
            "NumPy: 2.0.2\n"
          ]
        }
      ],
      "source": [
        "from fastai.vision.all import *\n",
        "import fastai\n",
        "import numpy\n",
        "\n",
        "print(\"Python:\", sys.version)\n",
        "print(\"PyTorch:\", torch.__version__)\n",
        "print(\"CUDA disponible:\", torch.cuda.is_available())\n",
        "print(\"FastAI:\", fastai.__version__)\n",
        "print(\"NumPy:\", numpy.__version__)"
      ]
    },
    {
      "cell_type": "markdown",
      "metadata": {
        "id": "ioNUlReAjxLA"
      },
      "source": [
        "## Carga del *dataset* MNIST"
      ]
    },
    {
      "cell_type": "markdown",
      "source": [
        "Descargamos el *dataset* MNIST:"
      ],
      "metadata": {
        "id": "UDZ3N_VSZW68"
      }
    },
    {
      "cell_type": "code",
      "execution_count": 3,
      "metadata": {
        "colab": {
          "base_uri": "https://localhost:8080/",
          "height": 37
        },
        "id": "8RFgsrxaLSvq",
        "outputId": "864a0889-24db-4601-ece1-48659e905b50"
      },
      "outputs": [
        {
          "output_type": "display_data",
          "data": {
            "text/plain": [
              "<IPython.core.display.HTML object>"
            ],
            "text/html": [
              "\n",
              "<style>\n",
              "    /* Turns off some styling */\n",
              "    progress {\n",
              "        /* gets rid of default border in Firefox and Opera. */\n",
              "        border: none;\n",
              "        /* Needs to be in here for Safari polyfill so background images work as expected. */\n",
              "        background-size: auto;\n",
              "    }\n",
              "    progress:not([value]), progress:not([value])::-webkit-progress-bar {\n",
              "        background: repeating-linear-gradient(45deg, #7e7e7e, #7e7e7e 10px, #5c5c5c 10px, #5c5c5c 20px);\n",
              "    }\n",
              "    .progress-bar-interrupted, .progress-bar-interrupted::-webkit-progress-bar {\n",
              "        background: #F44336;\n",
              "    }\n",
              "</style>\n"
            ]
          },
          "metadata": {}
        },
        {
          "output_type": "display_data",
          "data": {
            "text/plain": [
              "<IPython.core.display.HTML object>"
            ],
            "text/html": [
              "\n",
              "    <div>\n",
              "      <progress value='15687680' class='' max='15683414' style='width:300px; height:20px; vertical-align: middle;'></progress>\n",
              "      100.03% [15687680/15683414 00:00&lt;00:00]\n",
              "    </div>\n",
              "    "
            ]
          },
          "metadata": {}
        }
      ],
      "source": [
        "# We get the MNIST dataset\n",
        "path = untar_data(URLs.MNIST,force_download=True)"
      ]
    },
    {
      "cell_type": "code",
      "execution_count": 4,
      "metadata": {
        "colab": {
          "base_uri": "https://localhost:8080/"
        },
        "id": "d2tp1ddMMCU8",
        "outputId": "2b605a06-431f-40f7-ee6a-0c4cb1f958c1"
      },
      "outputs": [
        {
          "output_type": "stream",
          "name": "stdout",
          "text": [
            "/root/.fastai/data/mnist_png\n",
            "[Path('/root/.fastai/data/mnist_png/training'), Path('/root/.fastai/data/mnist_png/testing')]\n",
            "[Path('/root/.fastai/data/mnist_png/training/6'), Path('/root/.fastai/data/mnist_png/training/8'), Path('/root/.fastai/data/mnist_png/training/4'), Path('/root/.fastai/data/mnist_png/training/9'), Path('/root/.fastai/data/mnist_png/training/2'), Path('/root/.fastai/data/mnist_png/training/3'), Path('/root/.fastai/data/mnist_png/training/0'), Path('/root/.fastai/data/mnist_png/training/5'), Path('/root/.fastai/data/mnist_png/training/1'), Path('/root/.fastai/data/mnist_png/training/7')]\n",
            "[Path('/root/.fastai/data/mnist_png/testing/6'), Path('/root/.fastai/data/mnist_png/testing/8'), Path('/root/.fastai/data/mnist_png/testing/4'), Path('/root/.fastai/data/mnist_png/testing/9'), Path('/root/.fastai/data/mnist_png/testing/2'), Path('/root/.fastai/data/mnist_png/testing/3'), Path('/root/.fastai/data/mnist_png/testing/0'), Path('/root/.fastai/data/mnist_png/testing/5'), Path('/root/.fastai/data/mnist_png/testing/1'), Path('/root/.fastai/data/mnist_png/testing/7')]\n"
          ]
        }
      ],
      "source": [
        "# The MNIST dataset, follows a common layout for machine learning datasets:\n",
        "# separate folders for the training set and the test set.\n",
        "print(path)\n",
        "print(path.ls())\n",
        "print((path/'training').ls())\n",
        "print((path/'testing').ls())\n",
        "train_classes = (path/'training').ls()\n",
        "test_classes = (path/'testing').ls()"
      ]
    },
    {
      "cell_type": "markdown",
      "source": [
        "Comprobamos que efectivamente disponemos de $60000$ ejemplos de entrenamiento y $10000$ de *test*, que el tamaño de las imágenes es $28\\times 28$ y que el número de clases es $10$ ($0$-$9$)."
      ],
      "metadata": {
        "id": "YuASIWipb0Na"
      }
    },
    {
      "cell_type": "code",
      "execution_count": 5,
      "metadata": {
        "colab": {
          "base_uri": "https://localhost:8080/"
        },
        "id": "Eh5wDFpCMkaM",
        "outputId": "5173d939-0db3-448e-ae73-70ad4981cad7"
      },
      "outputs": [
        {
          "output_type": "stream",
          "name": "stdout",
          "text": [
            "Número de imágenes de entrenamiento: 60000\n",
            "Número de imágenes de test: 10000\n",
            "Tamaño de las imágenes: 28x28x1\n",
            "Número de clases: 10\n"
          ]
        }
      ],
      "source": [
        "from cv2 import imread\n",
        "\n",
        "n_training = np.sum([len(class_files.ls()) for class_files in train_classes])\n",
        "n_test = np.sum([len(class_files.ls()) for class_files in test_classes])\n",
        "\n",
        "img = imread(path/'training'/'0'/'1.png',0)\n",
        "width, height = img.shape\n",
        "num_channels = 1\n",
        "num_classes = len(train_classes)\n",
        "\n",
        "print(f\"Número de imágenes de entrenamiento: {n_training}\")\n",
        "print(f\"Número de imágenes de test: {n_test}\")\n",
        "print(f\"Tamaño de las imágenes: {width}x{height}x{num_channels}\")\n",
        "print(f\"Número de clases: {num_classes}\")"
      ]
    },
    {
      "cell_type": "markdown",
      "metadata": {
        "id": "S1oEv_g2esgF"
      },
      "source": [
        "Seleccionamos un valor para $\\alpha$ y fijamos la semilla aleatoria con el fin de garantizar la reproducibilidad en la mayor medida posible."
      ]
    },
    {
      "cell_type": "code",
      "execution_count": 6,
      "metadata": {
        "id": "gpXwimAifcDy"
      },
      "outputs": [],
      "source": [
        "alpha = 20\n",
        "random.seed(42)"
      ]
    },
    {
      "cell_type": "markdown",
      "source": [
        "### Cálculo de las clases más confundidas"
      ],
      "metadata": {
        "id": "lT-6g8Q44SIA"
      }
    },
    {
      "cell_type": "markdown",
      "source": [
        "Seleccionamos todas las imágenes del entrenamiento (limpias) y creamos un *datablock*:"
      ],
      "metadata": {
        "id": "iBY0re1I5kgd"
      }
    },
    {
      "cell_type": "code",
      "source": [
        "selected_images = get_image_files(path/'training')\n",
        "labels = [parent_label(f) for f in selected_images]\n",
        "len(selected_images)"
      ],
      "metadata": {
        "colab": {
          "base_uri": "https://localhost:8080/"
        },
        "id": "FrV4qrc66eB5",
        "outputId": "0c52b5ad-f9b8-4b9b-c1b0-6cda70608e53"
      },
      "execution_count": 7,
      "outputs": [
        {
          "output_type": "execute_result",
          "data": {
            "text/plain": [
              "60000"
            ]
          },
          "metadata": {},
          "execution_count": 7
        }
      ]
    },
    {
      "cell_type": "code",
      "source": [
        "valid_part = 0.2\n",
        "batch_size = 128\n",
        "\n",
        "dblock = DataBlock(\n",
        "    blocks=(ImageBlock(cls=PILImageBW), CategoryBlock),\n",
        "    get_items=lambda _: range(0,len(selected_images)),\n",
        "    get_x=lambda x: selected_images[x],\n",
        "    get_y=lambda x: labels[x],\n",
        "    splitter=RandomSplitter(valid_pct=valid_part, seed=42)\n",
        ")\n",
        "\n",
        "dls = dblock.dataloaders(path/'training', bs=batch_size)"
      ],
      "metadata": {
        "id": "ukcen-lb8Z9M"
      },
      "execution_count": 8,
      "outputs": []
    },
    {
      "cell_type": "markdown",
      "source": [
        "#### Creación del modelo"
      ],
      "metadata": {
        "id": "jO1RO3s385dL"
      }
    },
    {
      "cell_type": "markdown",
      "source": [
        "Creamos el modelo ResNet18 y lo entrenamos durante $3$ épocas en el conjunto de entrenamiento limpio para finalmente calcular la matriz de confusión y determinar qué clases se confunden en mayor medida."
      ],
      "metadata": {
        "id": "hanuxzpj6ids"
      }
    },
    {
      "cell_type": "code",
      "source": [
        "learning_rate = 0.1\n",
        "num_epochs = 3"
      ],
      "metadata": {
        "id": "ljNtvVB_50CU"
      },
      "execution_count": 9,
      "outputs": []
    },
    {
      "cell_type": "code",
      "source": [
        "from torch.optim import Adadelta\n",
        "\n",
        "# Crear el MLP con 2 capas ocultas\n",
        "opt_func = partial(OptimWrapper, opt=Adadelta, lr=learning_rate)\n",
        "\n",
        "model = models.resnet18\n",
        "\n",
        "# pretrained = False, queremos entrenar todos los pesos de la red\n",
        "learn = vision_learner(dls,\n",
        "                       model,\n",
        "                       pretrained = False,\n",
        "                       n_in=num_channels,\n",
        "                       metrics=[accuracy, F1Score(average='weighted')],\n",
        "                       opt_func=opt_func,\n",
        "                       loss_func=CrossEntropyLossFlat(),\n",
        "                       cbs=[EarlyStoppingCallback(monitor='valid_loss')])"
      ],
      "metadata": {
        "id": "daM4Uvpv5wmY"
      },
      "execution_count": 10,
      "outputs": []
    },
    {
      "cell_type": "markdown",
      "source": [
        "#### Entrenamiento con datos no ruidosos"
      ],
      "metadata": {
        "id": "SOlXsCsL88q_"
      }
    },
    {
      "cell_type": "code",
      "source": [
        "learn.fit(num_epochs,lr=learning_rate)"
      ],
      "metadata": {
        "colab": {
          "base_uri": "https://localhost:8080/",
          "height": 143
        },
        "id": "tCC6xYVW9FSV",
        "outputId": "db5b0d2e-5103-4f57-de71-9eeaa61efe17"
      },
      "execution_count": 11,
      "outputs": [
        {
          "output_type": "display_data",
          "data": {
            "text/plain": [
              "<IPython.core.display.HTML object>"
            ],
            "text/html": [
              "\n",
              "<style>\n",
              "    /* Turns off some styling */\n",
              "    progress {\n",
              "        /* gets rid of default border in Firefox and Opera. */\n",
              "        border: none;\n",
              "        /* Needs to be in here for Safari polyfill so background images work as expected. */\n",
              "        background-size: auto;\n",
              "    }\n",
              "    progress:not([value]), progress:not([value])::-webkit-progress-bar {\n",
              "        background: repeating-linear-gradient(45deg, #7e7e7e, #7e7e7e 10px, #5c5c5c 10px, #5c5c5c 20px);\n",
              "    }\n",
              "    .progress-bar-interrupted, .progress-bar-interrupted::-webkit-progress-bar {\n",
              "        background: #F44336;\n",
              "    }\n",
              "</style>\n"
            ]
          },
          "metadata": {}
        },
        {
          "output_type": "display_data",
          "data": {
            "text/plain": [
              "<IPython.core.display.HTML object>"
            ],
            "text/html": [
              "<table border=\"1\" class=\"dataframe\">\n",
              "  <thead>\n",
              "    <tr style=\"text-align: left;\">\n",
              "      <th>epoch</th>\n",
              "      <th>train_loss</th>\n",
              "      <th>valid_loss</th>\n",
              "      <th>accuracy</th>\n",
              "      <th>f1_score</th>\n",
              "      <th>time</th>\n",
              "    </tr>\n",
              "  </thead>\n",
              "  <tbody>\n",
              "    <tr>\n",
              "      <td>0</td>\n",
              "      <td>0.148853</td>\n",
              "      <td>0.129598</td>\n",
              "      <td>0.960917</td>\n",
              "      <td>0.960975</td>\n",
              "      <td>00:38</td>\n",
              "    </tr>\n",
              "    <tr>\n",
              "      <td>1</td>\n",
              "      <td>0.089460</td>\n",
              "      <td>0.091891</td>\n",
              "      <td>0.973083</td>\n",
              "      <td>0.972855</td>\n",
              "      <td>00:35</td>\n",
              "    </tr>\n",
              "    <tr>\n",
              "      <td>2</td>\n",
              "      <td>0.047250</td>\n",
              "      <td>0.056872</td>\n",
              "      <td>0.984750</td>\n",
              "      <td>0.984735</td>\n",
              "      <td>00:29</td>\n",
              "    </tr>\n",
              "  </tbody>\n",
              "</table>"
            ]
          },
          "metadata": {}
        }
      ]
    },
    {
      "cell_type": "markdown",
      "source": [
        "#### Matriz de confusión del modelo"
      ],
      "metadata": {
        "id": "OMmQoDE_9k-y"
      }
    },
    {
      "cell_type": "code",
      "source": [
        "interp = ClassificationInterpretation.from_learner(learn, ds_idx=1)\n",
        "cm = interp.confusion_matrix()"
      ],
      "metadata": {
        "colab": {
          "base_uri": "https://localhost:8080/",
          "height": 17
        },
        "id": "_TaXBNvl-iVA",
        "outputId": "11c3d740-f4e3-4074-d9f7-499faa0f45a1"
      },
      "execution_count": 12,
      "outputs": [
        {
          "output_type": "display_data",
          "data": {
            "text/plain": [
              "<IPython.core.display.HTML object>"
            ],
            "text/html": [
              "\n",
              "<style>\n",
              "    /* Turns off some styling */\n",
              "    progress {\n",
              "        /* gets rid of default border in Firefox and Opera. */\n",
              "        border: none;\n",
              "        /* Needs to be in here for Safari polyfill so background images work as expected. */\n",
              "        background-size: auto;\n",
              "    }\n",
              "    progress:not([value]), progress:not([value])::-webkit-progress-bar {\n",
              "        background: repeating-linear-gradient(45deg, #7e7e7e, #7e7e7e 10px, #5c5c5c 10px, #5c5c5c 20px);\n",
              "    }\n",
              "    .progress-bar-interrupted, .progress-bar-interrupted::-webkit-progress-bar {\n",
              "        background: #F44336;\n",
              "    }\n",
              "</style>\n"
            ]
          },
          "metadata": {}
        },
        {
          "output_type": "display_data",
          "data": {
            "text/plain": [
              "<IPython.core.display.HTML object>"
            ],
            "text/html": []
          },
          "metadata": {}
        },
        {
          "output_type": "display_data",
          "data": {
            "text/plain": [
              "<IPython.core.display.HTML object>"
            ],
            "text/html": [
              "\n",
              "<style>\n",
              "    /* Turns off some styling */\n",
              "    progress {\n",
              "        /* gets rid of default border in Firefox and Opera. */\n",
              "        border: none;\n",
              "        /* Needs to be in here for Safari polyfill so background images work as expected. */\n",
              "        background-size: auto;\n",
              "    }\n",
              "    progress:not([value]), progress:not([value])::-webkit-progress-bar {\n",
              "        background: repeating-linear-gradient(45deg, #7e7e7e, #7e7e7e 10px, #5c5c5c 10px, #5c5c5c 20px);\n",
              "    }\n",
              "    .progress-bar-interrupted, .progress-bar-interrupted::-webkit-progress-bar {\n",
              "        background: #F44336;\n",
              "    }\n",
              "</style>\n"
            ]
          },
          "metadata": {}
        },
        {
          "output_type": "display_data",
          "data": {
            "text/plain": [
              "<IPython.core.display.HTML object>"
            ],
            "text/html": []
          },
          "metadata": {}
        }
      ]
    },
    {
      "cell_type": "code",
      "source": [
        "df_cm = pd.DataFrame(cm, index=learn.dls.vocab, columns=learn.dls.vocab)\n",
        "df_cm.index.name = \"Actual\"\n",
        "df_cm.columns.name = \"Predicted\"\n",
        "df_cm"
      ],
      "metadata": {
        "colab": {
          "base_uri": "https://localhost:8080/",
          "height": 394
        },
        "id": "wBsVU6F8Db_P",
        "outputId": "fa61fc2a-6d6d-4ac4-b530-7ca3c04a8f66"
      },
      "execution_count": 13,
      "outputs": [
        {
          "output_type": "execute_result",
          "data": {
            "text/plain": [
              "Predicted     0     1     2     3     4     5     6     7     8     9\n",
              "Actual                                                               \n",
              "0          1226     0     0     0     0     0     5     0     2     0\n",
              "1             0  1334     2     3     1     0     1     2     2     1\n",
              "2             1     2  1216     1     1     0     0     2     5     0\n",
              "3             0     0     3  1197     0    16     0     4     7     3\n",
              "4             0     0     2     0  1126     0     6     2     1     3\n",
              "5             0     0     1     1     2  1084     4     1     5     2\n",
              "6             3     0     0     1     1     2  1170     0     1     0\n",
              "7             0     5     1     1     1     0     0  1243     2     3\n",
              "8             1     1     4     3     2     2     2     1  1113     7\n",
              "9             9     0     0     0    14    10     0    10     2  1108"
            ],
            "text/html": [
              "\n",
              "  <div id=\"df-ecb453d2-60e0-4a2e-8c90-ce5837759ca1\" class=\"colab-df-container\">\n",
              "    <div>\n",
              "<style scoped>\n",
              "    .dataframe tbody tr th:only-of-type {\n",
              "        vertical-align: middle;\n",
              "    }\n",
              "\n",
              "    .dataframe tbody tr th {\n",
              "        vertical-align: top;\n",
              "    }\n",
              "\n",
              "    .dataframe thead th {\n",
              "        text-align: right;\n",
              "    }\n",
              "</style>\n",
              "<table border=\"1\" class=\"dataframe\">\n",
              "  <thead>\n",
              "    <tr style=\"text-align: right;\">\n",
              "      <th>Predicted</th>\n",
              "      <th>0</th>\n",
              "      <th>1</th>\n",
              "      <th>2</th>\n",
              "      <th>3</th>\n",
              "      <th>4</th>\n",
              "      <th>5</th>\n",
              "      <th>6</th>\n",
              "      <th>7</th>\n",
              "      <th>8</th>\n",
              "      <th>9</th>\n",
              "    </tr>\n",
              "    <tr>\n",
              "      <th>Actual</th>\n",
              "      <th></th>\n",
              "      <th></th>\n",
              "      <th></th>\n",
              "      <th></th>\n",
              "      <th></th>\n",
              "      <th></th>\n",
              "      <th></th>\n",
              "      <th></th>\n",
              "      <th></th>\n",
              "      <th></th>\n",
              "    </tr>\n",
              "  </thead>\n",
              "  <tbody>\n",
              "    <tr>\n",
              "      <th>0</th>\n",
              "      <td>1226</td>\n",
              "      <td>0</td>\n",
              "      <td>0</td>\n",
              "      <td>0</td>\n",
              "      <td>0</td>\n",
              "      <td>0</td>\n",
              "      <td>5</td>\n",
              "      <td>0</td>\n",
              "      <td>2</td>\n",
              "      <td>0</td>\n",
              "    </tr>\n",
              "    <tr>\n",
              "      <th>1</th>\n",
              "      <td>0</td>\n",
              "      <td>1334</td>\n",
              "      <td>2</td>\n",
              "      <td>3</td>\n",
              "      <td>1</td>\n",
              "      <td>0</td>\n",
              "      <td>1</td>\n",
              "      <td>2</td>\n",
              "      <td>2</td>\n",
              "      <td>1</td>\n",
              "    </tr>\n",
              "    <tr>\n",
              "      <th>2</th>\n",
              "      <td>1</td>\n",
              "      <td>2</td>\n",
              "      <td>1216</td>\n",
              "      <td>1</td>\n",
              "      <td>1</td>\n",
              "      <td>0</td>\n",
              "      <td>0</td>\n",
              "      <td>2</td>\n",
              "      <td>5</td>\n",
              "      <td>0</td>\n",
              "    </tr>\n",
              "    <tr>\n",
              "      <th>3</th>\n",
              "      <td>0</td>\n",
              "      <td>0</td>\n",
              "      <td>3</td>\n",
              "      <td>1197</td>\n",
              "      <td>0</td>\n",
              "      <td>16</td>\n",
              "      <td>0</td>\n",
              "      <td>4</td>\n",
              "      <td>7</td>\n",
              "      <td>3</td>\n",
              "    </tr>\n",
              "    <tr>\n",
              "      <th>4</th>\n",
              "      <td>0</td>\n",
              "      <td>0</td>\n",
              "      <td>2</td>\n",
              "      <td>0</td>\n",
              "      <td>1126</td>\n",
              "      <td>0</td>\n",
              "      <td>6</td>\n",
              "      <td>2</td>\n",
              "      <td>1</td>\n",
              "      <td>3</td>\n",
              "    </tr>\n",
              "    <tr>\n",
              "      <th>5</th>\n",
              "      <td>0</td>\n",
              "      <td>0</td>\n",
              "      <td>1</td>\n",
              "      <td>1</td>\n",
              "      <td>2</td>\n",
              "      <td>1084</td>\n",
              "      <td>4</td>\n",
              "      <td>1</td>\n",
              "      <td>5</td>\n",
              "      <td>2</td>\n",
              "    </tr>\n",
              "    <tr>\n",
              "      <th>6</th>\n",
              "      <td>3</td>\n",
              "      <td>0</td>\n",
              "      <td>0</td>\n",
              "      <td>1</td>\n",
              "      <td>1</td>\n",
              "      <td>2</td>\n",
              "      <td>1170</td>\n",
              "      <td>0</td>\n",
              "      <td>1</td>\n",
              "      <td>0</td>\n",
              "    </tr>\n",
              "    <tr>\n",
              "      <th>7</th>\n",
              "      <td>0</td>\n",
              "      <td>5</td>\n",
              "      <td>1</td>\n",
              "      <td>1</td>\n",
              "      <td>1</td>\n",
              "      <td>0</td>\n",
              "      <td>0</td>\n",
              "      <td>1243</td>\n",
              "      <td>2</td>\n",
              "      <td>3</td>\n",
              "    </tr>\n",
              "    <tr>\n",
              "      <th>8</th>\n",
              "      <td>1</td>\n",
              "      <td>1</td>\n",
              "      <td>4</td>\n",
              "      <td>3</td>\n",
              "      <td>2</td>\n",
              "      <td>2</td>\n",
              "      <td>2</td>\n",
              "      <td>1</td>\n",
              "      <td>1113</td>\n",
              "      <td>7</td>\n",
              "    </tr>\n",
              "    <tr>\n",
              "      <th>9</th>\n",
              "      <td>9</td>\n",
              "      <td>0</td>\n",
              "      <td>0</td>\n",
              "      <td>0</td>\n",
              "      <td>14</td>\n",
              "      <td>10</td>\n",
              "      <td>0</td>\n",
              "      <td>10</td>\n",
              "      <td>2</td>\n",
              "      <td>1108</td>\n",
              "    </tr>\n",
              "  </tbody>\n",
              "</table>\n",
              "</div>\n",
              "    <div class=\"colab-df-buttons\">\n",
              "\n",
              "  <div class=\"colab-df-container\">\n",
              "    <button class=\"colab-df-convert\" onclick=\"convertToInteractive('df-ecb453d2-60e0-4a2e-8c90-ce5837759ca1')\"\n",
              "            title=\"Convert this dataframe to an interactive table.\"\n",
              "            style=\"display:none;\">\n",
              "\n",
              "  <svg xmlns=\"http://www.w3.org/2000/svg\" height=\"24px\" viewBox=\"0 -960 960 960\">\n",
              "    <path d=\"M120-120v-720h720v720H120Zm60-500h600v-160H180v160Zm220 220h160v-160H400v160Zm0 220h160v-160H400v160ZM180-400h160v-160H180v160Zm440 0h160v-160H620v160ZM180-180h160v-160H180v160Zm440 0h160v-160H620v160Z\"/>\n",
              "  </svg>\n",
              "    </button>\n",
              "\n",
              "  <style>\n",
              "    .colab-df-container {\n",
              "      display:flex;\n",
              "      gap: 12px;\n",
              "    }\n",
              "\n",
              "    .colab-df-convert {\n",
              "      background-color: #E8F0FE;\n",
              "      border: none;\n",
              "      border-radius: 50%;\n",
              "      cursor: pointer;\n",
              "      display: none;\n",
              "      fill: #1967D2;\n",
              "      height: 32px;\n",
              "      padding: 0 0 0 0;\n",
              "      width: 32px;\n",
              "    }\n",
              "\n",
              "    .colab-df-convert:hover {\n",
              "      background-color: #E2EBFA;\n",
              "      box-shadow: 0px 1px 2px rgba(60, 64, 67, 0.3), 0px 1px 3px 1px rgba(60, 64, 67, 0.15);\n",
              "      fill: #174EA6;\n",
              "    }\n",
              "\n",
              "    .colab-df-buttons div {\n",
              "      margin-bottom: 4px;\n",
              "    }\n",
              "\n",
              "    [theme=dark] .colab-df-convert {\n",
              "      background-color: #3B4455;\n",
              "      fill: #D2E3FC;\n",
              "    }\n",
              "\n",
              "    [theme=dark] .colab-df-convert:hover {\n",
              "      background-color: #434B5C;\n",
              "      box-shadow: 0px 1px 3px 1px rgba(0, 0, 0, 0.15);\n",
              "      filter: drop-shadow(0px 1px 2px rgba(0, 0, 0, 0.3));\n",
              "      fill: #FFFFFF;\n",
              "    }\n",
              "  </style>\n",
              "\n",
              "    <script>\n",
              "      const buttonEl =\n",
              "        document.querySelector('#df-ecb453d2-60e0-4a2e-8c90-ce5837759ca1 button.colab-df-convert');\n",
              "      buttonEl.style.display =\n",
              "        google.colab.kernel.accessAllowed ? 'block' : 'none';\n",
              "\n",
              "      async function convertToInteractive(key) {\n",
              "        const element = document.querySelector('#df-ecb453d2-60e0-4a2e-8c90-ce5837759ca1');\n",
              "        const dataTable =\n",
              "          await google.colab.kernel.invokeFunction('convertToInteractive',\n",
              "                                                    [key], {});\n",
              "        if (!dataTable) return;\n",
              "\n",
              "        const docLinkHtml = 'Like what you see? Visit the ' +\n",
              "          '<a target=\"_blank\" href=https://colab.research.google.com/notebooks/data_table.ipynb>data table notebook</a>'\n",
              "          + ' to learn more about interactive tables.';\n",
              "        element.innerHTML = '';\n",
              "        dataTable['output_type'] = 'display_data';\n",
              "        await google.colab.output.renderOutput(dataTable, element);\n",
              "        const docLink = document.createElement('div');\n",
              "        docLink.innerHTML = docLinkHtml;\n",
              "        element.appendChild(docLink);\n",
              "      }\n",
              "    </script>\n",
              "  </div>\n",
              "\n",
              "\n",
              "    <div id=\"df-3825af1a-4830-429d-a11c-ed922d3a188c\">\n",
              "      <button class=\"colab-df-quickchart\" onclick=\"quickchart('df-3825af1a-4830-429d-a11c-ed922d3a188c')\"\n",
              "                title=\"Suggest charts\"\n",
              "                style=\"display:none;\">\n",
              "\n",
              "<svg xmlns=\"http://www.w3.org/2000/svg\" height=\"24px\"viewBox=\"0 0 24 24\"\n",
              "     width=\"24px\">\n",
              "    <g>\n",
              "        <path d=\"M19 3H5c-1.1 0-2 .9-2 2v14c0 1.1.9 2 2 2h14c1.1 0 2-.9 2-2V5c0-1.1-.9-2-2-2zM9 17H7v-7h2v7zm4 0h-2V7h2v10zm4 0h-2v-4h2v4z\"/>\n",
              "    </g>\n",
              "</svg>\n",
              "      </button>\n",
              "\n",
              "<style>\n",
              "  .colab-df-quickchart {\n",
              "      --bg-color: #E8F0FE;\n",
              "      --fill-color: #1967D2;\n",
              "      --hover-bg-color: #E2EBFA;\n",
              "      --hover-fill-color: #174EA6;\n",
              "      --disabled-fill-color: #AAA;\n",
              "      --disabled-bg-color: #DDD;\n",
              "  }\n",
              "\n",
              "  [theme=dark] .colab-df-quickchart {\n",
              "      --bg-color: #3B4455;\n",
              "      --fill-color: #D2E3FC;\n",
              "      --hover-bg-color: #434B5C;\n",
              "      --hover-fill-color: #FFFFFF;\n",
              "      --disabled-bg-color: #3B4455;\n",
              "      --disabled-fill-color: #666;\n",
              "  }\n",
              "\n",
              "  .colab-df-quickchart {\n",
              "    background-color: var(--bg-color);\n",
              "    border: none;\n",
              "    border-radius: 50%;\n",
              "    cursor: pointer;\n",
              "    display: none;\n",
              "    fill: var(--fill-color);\n",
              "    height: 32px;\n",
              "    padding: 0;\n",
              "    width: 32px;\n",
              "  }\n",
              "\n",
              "  .colab-df-quickchart:hover {\n",
              "    background-color: var(--hover-bg-color);\n",
              "    box-shadow: 0 1px 2px rgba(60, 64, 67, 0.3), 0 1px 3px 1px rgba(60, 64, 67, 0.15);\n",
              "    fill: var(--button-hover-fill-color);\n",
              "  }\n",
              "\n",
              "  .colab-df-quickchart-complete:disabled,\n",
              "  .colab-df-quickchart-complete:disabled:hover {\n",
              "    background-color: var(--disabled-bg-color);\n",
              "    fill: var(--disabled-fill-color);\n",
              "    box-shadow: none;\n",
              "  }\n",
              "\n",
              "  .colab-df-spinner {\n",
              "    border: 2px solid var(--fill-color);\n",
              "    border-color: transparent;\n",
              "    border-bottom-color: var(--fill-color);\n",
              "    animation:\n",
              "      spin 1s steps(1) infinite;\n",
              "  }\n",
              "\n",
              "  @keyframes spin {\n",
              "    0% {\n",
              "      border-color: transparent;\n",
              "      border-bottom-color: var(--fill-color);\n",
              "      border-left-color: var(--fill-color);\n",
              "    }\n",
              "    20% {\n",
              "      border-color: transparent;\n",
              "      border-left-color: var(--fill-color);\n",
              "      border-top-color: var(--fill-color);\n",
              "    }\n",
              "    30% {\n",
              "      border-color: transparent;\n",
              "      border-left-color: var(--fill-color);\n",
              "      border-top-color: var(--fill-color);\n",
              "      border-right-color: var(--fill-color);\n",
              "    }\n",
              "    40% {\n",
              "      border-color: transparent;\n",
              "      border-right-color: var(--fill-color);\n",
              "      border-top-color: var(--fill-color);\n",
              "    }\n",
              "    60% {\n",
              "      border-color: transparent;\n",
              "      border-right-color: var(--fill-color);\n",
              "    }\n",
              "    80% {\n",
              "      border-color: transparent;\n",
              "      border-right-color: var(--fill-color);\n",
              "      border-bottom-color: var(--fill-color);\n",
              "    }\n",
              "    90% {\n",
              "      border-color: transparent;\n",
              "      border-bottom-color: var(--fill-color);\n",
              "    }\n",
              "  }\n",
              "</style>\n",
              "\n",
              "      <script>\n",
              "        async function quickchart(key) {\n",
              "          const quickchartButtonEl =\n",
              "            document.querySelector('#' + key + ' button');\n",
              "          quickchartButtonEl.disabled = true;  // To prevent multiple clicks.\n",
              "          quickchartButtonEl.classList.add('colab-df-spinner');\n",
              "          try {\n",
              "            const charts = await google.colab.kernel.invokeFunction(\n",
              "                'suggestCharts', [key], {});\n",
              "          } catch (error) {\n",
              "            console.error('Error during call to suggestCharts:', error);\n",
              "          }\n",
              "          quickchartButtonEl.classList.remove('colab-df-spinner');\n",
              "          quickchartButtonEl.classList.add('colab-df-quickchart-complete');\n",
              "        }\n",
              "        (() => {\n",
              "          let quickchartButtonEl =\n",
              "            document.querySelector('#df-3825af1a-4830-429d-a11c-ed922d3a188c button');\n",
              "          quickchartButtonEl.style.display =\n",
              "            google.colab.kernel.accessAllowed ? 'block' : 'none';\n",
              "        })();\n",
              "      </script>\n",
              "    </div>\n",
              "\n",
              "  <div id=\"id_98bd5437-c1d9-408b-87ee-fdaded96f1f9\">\n",
              "    <style>\n",
              "      .colab-df-generate {\n",
              "        background-color: #E8F0FE;\n",
              "        border: none;\n",
              "        border-radius: 50%;\n",
              "        cursor: pointer;\n",
              "        display: none;\n",
              "        fill: #1967D2;\n",
              "        height: 32px;\n",
              "        padding: 0 0 0 0;\n",
              "        width: 32px;\n",
              "      }\n",
              "\n",
              "      .colab-df-generate:hover {\n",
              "        background-color: #E2EBFA;\n",
              "        box-shadow: 0px 1px 2px rgba(60, 64, 67, 0.3), 0px 1px 3px 1px rgba(60, 64, 67, 0.15);\n",
              "        fill: #174EA6;\n",
              "      }\n",
              "\n",
              "      [theme=dark] .colab-df-generate {\n",
              "        background-color: #3B4455;\n",
              "        fill: #D2E3FC;\n",
              "      }\n",
              "\n",
              "      [theme=dark] .colab-df-generate:hover {\n",
              "        background-color: #434B5C;\n",
              "        box-shadow: 0px 1px 3px 1px rgba(0, 0, 0, 0.15);\n",
              "        filter: drop-shadow(0px 1px 2px rgba(0, 0, 0, 0.3));\n",
              "        fill: #FFFFFF;\n",
              "      }\n",
              "    </style>\n",
              "    <button class=\"colab-df-generate\" onclick=\"generateWithVariable('df_cm')\"\n",
              "            title=\"Generate code using this dataframe.\"\n",
              "            style=\"display:none;\">\n",
              "\n",
              "  <svg xmlns=\"http://www.w3.org/2000/svg\" height=\"24px\"viewBox=\"0 0 24 24\"\n",
              "       width=\"24px\">\n",
              "    <path d=\"M7,19H8.4L18.45,9,17,7.55,7,17.6ZM5,21V16.75L18.45,3.32a2,2,0,0,1,2.83,0l1.4,1.43a1.91,1.91,0,0,1,.58,1.4,1.91,1.91,0,0,1-.58,1.4L9.25,21ZM18.45,9,17,7.55Zm-12,3A5.31,5.31,0,0,0,4.9,8.1,5.31,5.31,0,0,0,1,6.5,5.31,5.31,0,0,0,4.9,4.9,5.31,5.31,0,0,0,6.5,1,5.31,5.31,0,0,0,8.1,4.9,5.31,5.31,0,0,0,12,6.5,5.46,5.46,0,0,0,6.5,12Z\"/>\n",
              "  </svg>\n",
              "    </button>\n",
              "    <script>\n",
              "      (() => {\n",
              "      const buttonEl =\n",
              "        document.querySelector('#id_98bd5437-c1d9-408b-87ee-fdaded96f1f9 button.colab-df-generate');\n",
              "      buttonEl.style.display =\n",
              "        google.colab.kernel.accessAllowed ? 'block' : 'none';\n",
              "\n",
              "      buttonEl.onclick = () => {\n",
              "        google.colab.notebook.generateWithVariable('df_cm');\n",
              "      }\n",
              "      })();\n",
              "    </script>\n",
              "  </div>\n",
              "\n",
              "    </div>\n",
              "  </div>\n"
            ],
            "application/vnd.google.colaboratory.intrinsic+json": {
              "type": "dataframe",
              "variable_name": "df_cm",
              "summary": "{\n  \"name\": \"df_cm\",\n  \"rows\": 10,\n  \"fields\": [\n    {\n      \"column\": \"Actual\",\n      \"properties\": {\n        \"dtype\": \"string\",\n        \"num_unique_values\": 10,\n        \"samples\": [\n          \"8\",\n          \"1\",\n          \"5\"\n        ],\n        \"semantic_type\": \"\",\n        \"description\": \"\"\n      }\n    },\n    {\n      \"column\": \"0\",\n      \"properties\": {\n        \"dtype\": \"number\",\n        \"std\": 387,\n        \"min\": 0,\n        \"max\": 1226,\n        \"num_unique_values\": 5,\n        \"samples\": [\n          0,\n          9,\n          1\n        ],\n        \"semantic_type\": \"\",\n        \"description\": \"\"\n      }\n    },\n    {\n      \"column\": \"1\",\n      \"properties\": {\n        \"dtype\": \"number\",\n        \"std\": 421,\n        \"min\": 0,\n        \"max\": 1334,\n        \"num_unique_values\": 5,\n        \"samples\": [\n          1334,\n          1,\n          2\n        ],\n        \"semantic_type\": \"\",\n        \"description\": \"\"\n      }\n    },\n    {\n      \"column\": \"2\",\n      \"properties\": {\n        \"dtype\": \"number\",\n        \"std\": 384,\n        \"min\": 0,\n        \"max\": 1216,\n        \"num_unique_values\": 6,\n        \"samples\": [\n          0,\n          2,\n          4\n        ],\n        \"semantic_type\": \"\",\n        \"description\": \"\"\n      }\n    },\n    {\n      \"column\": \"3\",\n      \"properties\": {\n        \"dtype\": \"number\",\n        \"std\": 378,\n        \"min\": 0,\n        \"max\": 1197,\n        \"num_unique_values\": 4,\n        \"samples\": [\n          3,\n          1197,\n          0\n        ],\n        \"semantic_type\": \"\",\n        \"description\": \"\"\n      }\n    },\n    {\n      \"column\": \"4\",\n      \"properties\": {\n        \"dtype\": \"number\",\n        \"std\": 355,\n        \"min\": 0,\n        \"max\": 1126,\n        \"num_unique_values\": 5,\n        \"samples\": [\n          1,\n          14,\n          1126\n        ],\n        \"semantic_type\": \"\",\n        \"description\": \"\"\n      }\n    },\n    {\n      \"column\": \"5\",\n      \"properties\": {\n        \"dtype\": \"number\",\n        \"std\": 341,\n        \"min\": 0,\n        \"max\": 1084,\n        \"num_unique_values\": 5,\n        \"samples\": [\n          16,\n          10,\n          1084\n        ],\n        \"semantic_type\": \"\",\n        \"description\": \"\"\n      }\n    },\n    {\n      \"column\": \"6\",\n      \"properties\": {\n        \"dtype\": \"number\",\n        \"std\": 369,\n        \"min\": 0,\n        \"max\": 1170,\n        \"num_unique_values\": 7,\n        \"samples\": [\n          5,\n          1,\n          1170\n        ],\n        \"semantic_type\": \"\",\n        \"description\": \"\"\n      }\n    },\n    {\n      \"column\": \"7\",\n      \"properties\": {\n        \"dtype\": \"number\",\n        \"std\": 392,\n        \"min\": 0,\n        \"max\": 1243,\n        \"num_unique_values\": 6,\n        \"samples\": [\n          0,\n          2,\n          10\n        ],\n        \"semantic_type\": \"\",\n        \"description\": \"\"\n      }\n    },\n    {\n      \"column\": \"8\",\n      \"properties\": {\n        \"dtype\": \"number\",\n        \"std\": 351,\n        \"min\": 1,\n        \"max\": 1113,\n        \"num_unique_values\": 5,\n        \"samples\": [\n          5,\n          1113,\n          7\n        ],\n        \"semantic_type\": \"\",\n        \"description\": \"\"\n      }\n    },\n    {\n      \"column\": \"9\",\n      \"properties\": {\n        \"dtype\": \"number\",\n        \"std\": 349,\n        \"min\": 0,\n        \"max\": 1108,\n        \"num_unique_values\": 6,\n        \"samples\": [\n          0,\n          1,\n          1108\n        ],\n        \"semantic_type\": \"\",\n        \"description\": \"\"\n      }\n    }\n  ]\n}"
            }
          },
          "metadata": {},
          "execution_count": 13
        }
      ]
    },
    {
      "cell_type": "markdown",
      "source": [
        "Creamos dos diccionarios, uno que almacena las clases más confundidas de forma ordenada. En ambos casos, dejamos la clase real al final."
      ],
      "metadata": {
        "id": "QYY3IrfbFqwP"
      }
    },
    {
      "cell_type": "code",
      "source": [
        "# Para cada clase (fila), ordenamos los errores por número de errores (valor alto)\n",
        "# y en caso de empate por clase menor\n",
        "most_confused_lists = {}\n",
        "least_confused_lists = {}\n",
        "\n",
        "for true_class in range(10):\n",
        "    errors = []\n",
        "    for pred_class in range(10):\n",
        "        if pred_class == true_class:\n",
        "            continue\n",
        "        errors.append((cm[true_class, pred_class], pred_class))\n",
        "\n",
        "    # Ordenamos por: más errores y, si hay empate, clase más pequeña\n",
        "    sorted_errors = sorted(errors, key=lambda x: (-x[0], x[1]))\n",
        "    most_confused = [pred for _, pred in sorted_errors]\n",
        "    most_confused_lists[true_class] = most_confused\n",
        "    least_confused_lists[true_class] = most_confused[::-1]\n",
        "    most_confused_lists[true_class].append(true_class)\n",
        "    least_confused_lists[true_class].append(true_class)\n",
        "\n",
        "# Mostramos las listas\n",
        "print('Clases más confundidas:')\n",
        "for k, v in most_confused_lists.items():\n",
        "    print(f\"{k} --> {v}\")\n",
        "print()\n",
        "\n",
        "print('Clases menos confundidas:')\n",
        "for k, v in least_confused_lists.items():\n",
        "    print(f\"{k} --> {v}\")"
      ],
      "metadata": {
        "colab": {
          "base_uri": "https://localhost:8080/"
        },
        "id": "QSr14vKX_0aB",
        "outputId": "7275f961-0404-49c2-e56f-c076ea6f4570"
      },
      "execution_count": 14,
      "outputs": [
        {
          "output_type": "stream",
          "name": "stdout",
          "text": [
            "Clases más confundidas:\n",
            "0 --> [6, 8, 1, 2, 3, 4, 5, 7, 9, 0]\n",
            "1 --> [3, 2, 7, 8, 4, 6, 9, 0, 5, 1]\n",
            "2 --> [8, 1, 7, 0, 3, 4, 5, 6, 9, 2]\n",
            "3 --> [5, 8, 7, 2, 9, 0, 1, 4, 6, 3]\n",
            "4 --> [6, 9, 2, 7, 8, 0, 1, 3, 5, 4]\n",
            "5 --> [8, 6, 4, 9, 2, 3, 7, 0, 1, 5]\n",
            "6 --> [0, 5, 3, 4, 8, 1, 2, 7, 9, 6]\n",
            "7 --> [1, 9, 8, 2, 3, 4, 0, 5, 6, 7]\n",
            "8 --> [9, 2, 3, 4, 5, 6, 0, 1, 7, 8]\n",
            "9 --> [4, 5, 7, 0, 8, 1, 2, 3, 6, 9]\n",
            "\n",
            "Clases menos confundidas:\n",
            "0 --> [9, 7, 5, 4, 3, 2, 1, 8, 6, 0]\n",
            "1 --> [5, 0, 9, 6, 4, 8, 7, 2, 3, 1]\n",
            "2 --> [9, 6, 5, 4, 3, 0, 7, 1, 8, 2]\n",
            "3 --> [6, 4, 1, 0, 9, 2, 7, 8, 5, 3]\n",
            "4 --> [5, 3, 1, 0, 8, 7, 2, 9, 6, 4]\n",
            "5 --> [1, 0, 7, 3, 2, 9, 4, 6, 8, 5]\n",
            "6 --> [9, 7, 2, 1, 8, 4, 3, 5, 0, 6]\n",
            "7 --> [6, 5, 0, 4, 3, 2, 8, 9, 1, 7]\n",
            "8 --> [7, 1, 0, 6, 5, 4, 3, 2, 9, 8]\n",
            "9 --> [6, 3, 2, 1, 8, 0, 7, 5, 4, 9]\n"
          ]
        }
      ]
    },
    {
      "cell_type": "markdown",
      "source": [
        "### Selección de las imágenes"
      ],
      "metadata": {
        "id": "FydlrFqI4YeD"
      }
    },
    {
      "cell_type": "markdown",
      "source": [
        "Una vez que ya tenemos las clases más confundidas, seleccionamos todas las imágenes del entrenamiento y las repetimos $20$ veces ($\\alpha=20$):"
      ],
      "metadata": {
        "id": "RmE9bsUlhQht"
      }
    },
    {
      "cell_type": "code",
      "execution_count": 15,
      "metadata": {
        "id": "EQ7S_XJRr_bZ"
      },
      "outputs": [],
      "source": [
        "def repeat_images(images, alpha):\n",
        "    \"\"\"Devuelve una lista con cada imagen repetida alpha veces.\"\"\"\n",
        "    return L(img for img in images for _ in range(alpha+1))"
      ]
    },
    {
      "cell_type": "code",
      "execution_count": 16,
      "metadata": {
        "id": "Vi7SbbQme1tR"
      },
      "outputs": [],
      "source": [
        "selected_images = get_image_files(path/'training')\n",
        "selected_images = repeat_images(selected_images, alpha)"
      ]
    },
    {
      "cell_type": "code",
      "execution_count": 17,
      "metadata": {
        "colab": {
          "base_uri": "https://localhost:8080/"
        },
        "id": "vECZZGnve23B",
        "outputId": "394bd7d9-9d93-4402-deb4-31ac2fbcc0cf"
      },
      "outputs": [
        {
          "output_type": "execute_result",
          "data": {
            "text/plain": [
              "1260000"
            ]
          },
          "metadata": {},
          "execution_count": 17
        }
      ],
      "source": [
        "len(selected_images)"
      ]
    },
    {
      "cell_type": "markdown",
      "source": [
        "### Cálculo de las probabilidades de cada clase"
      ],
      "metadata": {
        "id": "oM1dZHJhY-iP"
      }
    },
    {
      "cell_type": "markdown",
      "source": [
        "Decidimos ahora el grado de estructura $\\delta \\in [0,1]$ y ajustamos las probabilidades de las clases."
      ],
      "metadata": {
        "id": "zAqkVut_YwkL"
      }
    },
    {
      "cell_type": "markdown",
      "source": [
        "Sea $m$ el número de imágenes etiquetadas con una clase concreta $c$. Cada una de esas imágenes, la repetimos $\\alpha$ veces. Por tanto, en total, tendremos $m(\\alpha+1)$ imágenes con clase real $c$. De esas imágenes, $m\\alpha$ imágenes se etiquetan con una clase aleatoria.\n",
        "\n",
        "Por tanto, la proporción de imágenes limpias respecto al total será:\n",
        "$$\n",
        "\\epsilon = \\frac{m}{m(\\alpha+1)} = \\frac{1}{1+\\alpha}.\n",
        "$$\n",
        "\n",
        "En el caso del ruido uniforme, se estima que cada clase será asignada al $10\\%$ de las imágenes, por lo que la proporción de imágenes ruidosas asignadas a una clase será:\n",
        "$$\n",
        "\\frac{1}{10}\\frac{m\\alpha}{m(\\alpha+1)} = \\frac{1}{10}\\frac{\\alpha}{\\alpha+1}.\n",
        "$$"
      ],
      "metadata": {
        "id": "08rGvowtuT3x"
      }
    },
    {
      "cell_type": "markdown",
      "source": [
        "En el caso del ruido estructurado, mantendremos esta proporción únicamente para la clase correcta, es decir, la clase $c$.\n",
        "\n",
        "Sin embargo, el resto de clases se ordenarán según un criterio (en nuestro caso, mayor o menor confusión). La clases que sean anteriores en este orden, tendrán una probabilidad mayor de ser asignadas a la imagen ruidosa.\n",
        "\n",
        "La primera clase en este orden tendrá una proporción:\n",
        "$$\n",
        "\\frac{1}{10}\\frac{\\alpha}{\\alpha+1} + \\delta \\epsilon.\n",
        "$$\n",
        "\n",
        "Para calcular la probabilidad que se le deberá asignar a esta clase, calculamos la proporción respecto al total de imágenes ruidosas:\n",
        "$$\n",
        "\\frac{\\left(\\frac{1}{10}\\frac{\\alpha}{\\alpha+1} + \\delta \\epsilon\\right)m(\\alpha+1)}{m\\alpha} = \\frac{1}{10} + \\frac{\\delta}{\\alpha}.\n",
        "$$\n"
      ],
      "metadata": {
        "id": "e1rtKBHZyxgI"
      }
    },
    {
      "cell_type": "markdown",
      "source": [
        "El resto de probabilidades se asignan linealmente. Es decir, calculamos una cantidad $x$ que verifique:\n",
        "$$\n",
        "\\sum_{i=1}^8 \\left( \\frac{1}{10} + \\frac{\\delta}{\\alpha} - i\\cdot x \\right) + \\underbrace{\\frac{1}{10}}_{\\text{clase } c} = 1\n",
        "$$\n",
        "\n",
        "Concluimos que\n",
        "$$\n",
        "x = \\frac{1}{4} \\frac{\\delta}{\\alpha},\n",
        "$$\n",
        "\n",
        "por lo que ya tenemos todas las probabilidades que queríamos.\n",
        "\n",
        "Nótese que para que estas probabilidades se encuentren entre $0$ y $1$ para $\\delta \\in [0,1]$ se debe tener $\\alpha \\geq 10$.\n"
      ],
      "metadata": {
        "id": "oAyxeTgZ3ipb"
      }
    },
    {
      "cell_type": "code",
      "source": [
        "delta = 0.25"
      ],
      "metadata": {
        "id": "9QQQMY_VIqj1"
      },
      "execution_count": 18,
      "outputs": []
    },
    {
      "cell_type": "code",
      "source": [
        "prob_correct = 1/num_classes\n",
        "\n",
        "prob_most_likely = prob_correct + delta / alpha\n",
        "probs = np.array([prob_most_likely])\n",
        "\n",
        "for i in range(2,10):\n",
        "  probs = np.append(probs,probs[i-2]-0.25*delta/alpha)\n",
        "\n",
        "probs = np.append(probs,prob_correct)\n",
        "probs"
      ],
      "metadata": {
        "colab": {
          "base_uri": "https://localhost:8080/"
        },
        "id": "YWdEy9XjImu-",
        "outputId": "a2adf3b5-c74e-4def-a057-627d9877199d"
      },
      "execution_count": 19,
      "outputs": [
        {
          "output_type": "execute_result",
          "data": {
            "text/plain": [
              "array([0.1125  , 0.109375, 0.10625 , 0.103125, 0.1     , 0.096875,\n",
              "       0.09375 , 0.090625, 0.0875  , 0.1     ])"
            ]
          },
          "metadata": {},
          "execution_count": 19
        }
      ]
    },
    {
      "cell_type": "markdown",
      "source": [
        "Seleccionamos los hiperparámetros que utilizaremos en los siguientes experimentos:"
      ],
      "metadata": {
        "id": "DFtnnkl9ZpN4"
      }
    },
    {
      "cell_type": "code",
      "source": [
        "early_stopping_patience = 3\n",
        "num_epochs = 4"
      ],
      "metadata": {
        "id": "5hWr6juWZti0"
      },
      "execution_count": 20,
      "outputs": []
    },
    {
      "cell_type": "markdown",
      "source": [
        "Seleccionamos a continuación las etiquetas ruidosas que utilizaremos:"
      ],
      "metadata": {
        "id": "xh7PotsHZijN"
      }
    },
    {
      "cell_type": "markdown",
      "source": [
        "### Selección de las etiquetas con el criterio mayor confusión"
      ],
      "metadata": {
        "id": "LJo7sMQBWrkS"
      }
    },
    {
      "cell_type": "markdown",
      "metadata": {
        "id": "b1DEPXnUfKhD"
      },
      "source": [
        "Creamos una función que selecciona las imágenes del conjunto de entrenamiento, y les asigna una etiqueta de forma aleatoria (utilizando las probabilidades anteriores):"
      ]
    },
    {
      "cell_type": "code",
      "execution_count": 23,
      "metadata": {
        "id": "09g2zIVTsibB"
      },
      "outputs": [],
      "source": [
        "def get_labels_most_confused(images):\n",
        "  i = 0\n",
        "  labels = []\n",
        "\n",
        "  while(i<len(images)):\n",
        "    actual_label = parent_label(images[i])\n",
        "    labels.append(actual_label)\n",
        "\n",
        "    for j in range(alpha):\n",
        "      int_label = int(actual_label)\n",
        "      label= str(np.random.choice(most_confused_lists[int_label], p=probs))\n",
        "      labels.append(label)\n",
        "\n",
        "    i += 1+alpha\n",
        "\n",
        "  return labels"
      ]
    },
    {
      "cell_type": "code",
      "source": [
        "labels = get_labels_most_confused(selected_images)"
      ],
      "metadata": {
        "id": "djKSF4elhk4W"
      },
      "execution_count": 24,
      "outputs": []
    },
    {
      "cell_type": "markdown",
      "metadata": {
        "id": "SuPnXFqrf5Q-"
      },
      "source": [
        "Combinamos todo en un *datablock* (que es la forma que tiene fastai de gestionar los datos de entrada):"
      ]
    },
    {
      "cell_type": "code",
      "execution_count": 25,
      "metadata": {
        "id": "cjAhk5jqf4yF"
      },
      "outputs": [],
      "source": [
        "dblock = DataBlock(\n",
        "    blocks=(ImageBlock(cls=PILImageBW), CategoryBlock),\n",
        "    get_items=lambda _: range(0,len(selected_images)),\n",
        "    get_x=lambda x: selected_images[x],\n",
        "    get_y=lambda x: labels[x],\n",
        "    splitter=RandomSplitter(valid_pct=valid_part, seed=42)\n",
        ")\n",
        "\n",
        "dls = dblock.dataloaders(path/'training', bs=batch_size)"
      ]
    },
    {
      "cell_type": "markdown",
      "source": [
        "Mostramos algunos ejemplos de nuestros datos de entrada:"
      ],
      "metadata": {
        "id": "jTQib-xFhvkl"
      }
    },
    {
      "cell_type": "code",
      "execution_count": 26,
      "metadata": {
        "colab": {
          "base_uri": "https://localhost:8080/",
          "height": 752
        },
        "id": "UhXe9-iidPLQ",
        "outputId": "5ea36869-9bee-4089-a9e7-5da3c26e6f0b"
      },
      "outputs": [
        {
          "output_type": "display_data",
          "data": {
            "text/plain": [
              "<Figure size 900x900 with 9 Axes>"
            ],
            "image/png": "[encoded data removed]"
          },
          "metadata": {}
        }
      ],
      "source": [
        "dls.show_batch(max_n=9)"
      ]
    },
    {
      "cell_type": "markdown",
      "source": [
        "#### Entrenamiento del modelo"
      ],
      "metadata": {
        "id": "td6YPrRjXr2X"
      }
    },
    {
      "cell_type": "markdown",
      "source": [
        "Seleccionamos distintos hiperparámetros:"
      ],
      "metadata": {
        "id": "8MDfJGMcUZiy"
      }
    },
    {
      "cell_type": "code",
      "source": [
        "learning_rate = 0.1"
      ],
      "metadata": {
        "id": "dDQ47IDRUVJ4"
      },
      "execution_count": 27,
      "outputs": []
    },
    {
      "cell_type": "code",
      "execution_count": 28,
      "metadata": {
        "id": "72Yz2fO_qnjN"
      },
      "outputs": [],
      "source": [
        "# Crear el aprendiz (learner)\n",
        "learn = vision_learner(dls,\n",
        "                       model,\n",
        "                       pretrained = False,\n",
        "                       n_in=num_channels,\n",
        "                       metrics=[accuracy, F1Score(average='weighted')],\n",
        "                       opt_func=opt_func,\n",
        "                       loss_func=CrossEntropyLossFlat(),\n",
        "                       cbs=[EarlyStoppingCallback(monitor='valid_loss', patience=early_stopping_patience)])"
      ]
    },
    {
      "cell_type": "code",
      "execution_count": 29,
      "metadata": {
        "colab": {
          "base_uri": "https://localhost:8080/",
          "height": 1000
        },
        "id": "T6fiqkz1EKds",
        "outputId": "39551b29-1d37-4024-d7db-60c6c1b86ec1"
      },
      "outputs": [
        {
          "output_type": "display_data",
          "data": {
            "text/plain": [
              "<IPython.core.display.HTML object>"
            ],
            "text/html": [
              "\n",
              "<style>\n",
              "    /* Turns off some styling */\n",
              "    progress {\n",
              "        /* gets rid of default border in Firefox and Opera. */\n",
              "        border: none;\n",
              "        /* Needs to be in here for Safari polyfill so background images work as expected. */\n",
              "        background-size: auto;\n",
              "    }\n",
              "    progress:not([value]), progress:not([value])::-webkit-progress-bar {\n",
              "        background: repeating-linear-gradient(45deg, #7e7e7e, #7e7e7e 10px, #5c5c5c 10px, #5c5c5c 20px);\n",
              "    }\n",
              "    .progress-bar-interrupted, .progress-bar-interrupted::-webkit-progress-bar {\n",
              "        background: #F44336;\n",
              "    }\n",
              "</style>\n"
            ]
          },
          "metadata": {}
        },
        {
          "output_type": "display_data",
          "data": {
            "text/plain": [
              "<IPython.core.display.HTML object>"
            ],
            "text/html": []
          },
          "metadata": {}
        },
        {
          "output_type": "execute_result",
          "data": {
            "text/plain": [
              "Sequential (Input shape: 128 x 1 x 28 x 28)\n",
              "============================================================================\n",
              "Layer (type)         Output Shape         Param #    Trainable \n",
              "============================================================================\n",
              "                     128 x 64 x 14 x 14  \n",
              "Conv2d                                    3136       True      \n",
              "BatchNorm2d                               128        True      \n",
              "ReLU                                                           \n",
              "____________________________________________________________________________\n",
              "                     128 x 64 x 7 x 7    \n",
              "MaxPool2d                                                      \n",
              "Conv2d                                    36864      True      \n",
              "BatchNorm2d                               128        True      \n",
              "ReLU                                                           \n",
              "Conv2d                                    36864      True      \n",
              "BatchNorm2d                               128        True      \n",
              "Conv2d                                    36864      True      \n",
              "BatchNorm2d                               128        True      \n",
              "ReLU                                                           \n",
              "Conv2d                                    36864      True      \n",
              "BatchNorm2d                               128        True      \n",
              "____________________________________________________________________________\n",
              "                     128 x 128 x 4 x 4   \n",
              "Conv2d                                    73728      True      \n",
              "BatchNorm2d                               256        True      \n",
              "ReLU                                                           \n",
              "Conv2d                                    147456     True      \n",
              "BatchNorm2d                               256        True      \n",
              "Conv2d                                    8192       True      \n",
              "BatchNorm2d                               256        True      \n",
              "Conv2d                                    147456     True      \n",
              "BatchNorm2d                               256        True      \n",
              "ReLU                                                           \n",
              "Conv2d                                    147456     True      \n",
              "BatchNorm2d                               256        True      \n",
              "____________________________________________________________________________\n",
              "                     128 x 256 x 2 x 2   \n",
              "Conv2d                                    294912     True      \n",
              "BatchNorm2d                               512        True      \n",
              "ReLU                                                           \n",
              "Conv2d                                    589824     True      \n",
              "BatchNorm2d                               512        True      \n",
              "Conv2d                                    32768      True      \n",
              "BatchNorm2d                               512        True      \n",
              "Conv2d                                    589824     True      \n",
              "BatchNorm2d                               512        True      \n",
              "ReLU                                                           \n",
              "Conv2d                                    589824     True      \n",
              "BatchNorm2d                               512        True      \n",
              "____________________________________________________________________________\n",
              "                     128 x 512 x 1 x 1   \n",
              "Conv2d                                    1179648    True      \n",
              "BatchNorm2d                               1024       True      \n",
              "ReLU                                                           \n",
              "Conv2d                                    2359296    True      \n",
              "BatchNorm2d                               1024       True      \n",
              "Conv2d                                    131072     True      \n",
              "BatchNorm2d                               1024       True      \n",
              "Conv2d                                    2359296    True      \n",
              "BatchNorm2d                               1024       True      \n",
              "ReLU                                                           \n",
              "Conv2d                                    2359296    True      \n",
              "BatchNorm2d                               1024       True      \n",
              "AdaptiveAvgPool2d                                              \n",
              "AdaptiveMaxPool2d                                              \n",
              "____________________________________________________________________________\n",
              "                     128 x 1024          \n",
              "Flatten                                                        \n",
              "BatchNorm1d                               2048       True      \n",
              "Dropout                                                        \n",
              "____________________________________________________________________________\n",
              "                     128 x 512           \n",
              "Linear                                    524288     True      \n",
              "ReLU                                                           \n",
              "BatchNorm1d                               1024       True      \n",
              "Dropout                                                        \n",
              "____________________________________________________________________________\n",
              "                     128 x 10            \n",
              "Linear                                    5120       True      \n",
              "____________________________________________________________________________\n",
              "\n",
              "Total params: 11,702,720\n",
              "Total trainable params: 11,702,720\n",
              "Total non-trainable params: 0\n",
              "\n",
              "Optimizer used: functools.partial(<class 'fastai.optimizer.OptimWrapper'>, opt=<class 'torch.optim.adadelta.Adadelta'>, lr=0.1)\n",
              "Loss function: FlattenedLoss of CrossEntropyLoss()\n",
              "\n",
              "Callbacks:\n",
              "  - TrainEvalCallback\n",
              "  - CastToTensor\n",
              "  - Recorder\n",
              "  - ProgressCallback\n",
              "  - EarlyStoppingCallback"
            ],
            "application/vnd.google.colaboratory.intrinsic+json": {
              "type": "string"
            }
          },
          "metadata": {},
          "execution_count": 29
        }
      ],
      "source": [
        "learn.summary()"
      ]
    },
    {
      "cell_type": "code",
      "execution_count": 31,
      "metadata": {
        "colab": {
          "base_uri": "https://localhost:8080/",
          "height": 175
        },
        "id": "rxCFdYtztWoa",
        "outputId": "29b75db7-af89-48ed-d42f-92d1d3b8837e"
      },
      "outputs": [
        {
          "output_type": "display_data",
          "data": {
            "text/plain": [
              "<IPython.core.display.HTML object>"
            ],
            "text/html": [
              "\n",
              "<style>\n",
              "    /* Turns off some styling */\n",
              "    progress {\n",
              "        /* gets rid of default border in Firefox and Opera. */\n",
              "        border: none;\n",
              "        /* Needs to be in here for Safari polyfill so background images work as expected. */\n",
              "        background-size: auto;\n",
              "    }\n",
              "    progress:not([value]), progress:not([value])::-webkit-progress-bar {\n",
              "        background: repeating-linear-gradient(45deg, #7e7e7e, #7e7e7e 10px, #5c5c5c 10px, #5c5c5c 20px);\n",
              "    }\n",
              "    .progress-bar-interrupted, .progress-bar-interrupted::-webkit-progress-bar {\n",
              "        background: #F44336;\n",
              "    }\n",
              "</style>\n"
            ]
          },
          "metadata": {}
        },
        {
          "output_type": "display_data",
          "data": {
            "text/plain": [
              "<IPython.core.display.HTML object>"
            ],
            "text/html": [
              "<table border=\"1\" class=\"dataframe\">\n",
              "  <thead>\n",
              "    <tr style=\"text-align: left;\">\n",
              "      <th>epoch</th>\n",
              "      <th>train_loss</th>\n",
              "      <th>valid_loss</th>\n",
              "      <th>accuracy</th>\n",
              "      <th>f1_score</th>\n",
              "      <th>time</th>\n",
              "    </tr>\n",
              "  </thead>\n",
              "  <tbody>\n",
              "    <tr>\n",
              "      <td>0</td>\n",
              "      <td>2.373773</td>\n",
              "      <td>2.350629</td>\n",
              "      <td>0.134337</td>\n",
              "      <td>0.132903</td>\n",
              "      <td>09:59</td>\n",
              "    </tr>\n",
              "    <tr>\n",
              "      <td>1</td>\n",
              "      <td>2.327613</td>\n",
              "      <td>2.302879</td>\n",
              "      <td>0.137052</td>\n",
              "      <td>0.136265</td>\n",
              "      <td>09:57</td>\n",
              "    </tr>\n",
              "    <tr>\n",
              "      <td>2</td>\n",
              "      <td>2.305949</td>\n",
              "      <td>2.306907</td>\n",
              "      <td>0.138917</td>\n",
              "      <td>0.138533</td>\n",
              "      <td>09:54</td>\n",
              "    </tr>\n",
              "    <tr>\n",
              "      <td>3</td>\n",
              "      <td>2.301512</td>\n",
              "      <td>2.301691</td>\n",
              "      <td>0.139401</td>\n",
              "      <td>0.139213</td>\n",
              "      <td>09:53</td>\n",
              "    </tr>\n",
              "  </tbody>\n",
              "</table>"
            ]
          },
          "metadata": {}
        }
      ],
      "source": [
        "learn.fit(num_epochs,lr=learning_rate)"
      ]
    },
    {
      "cell_type": "markdown",
      "source": [
        "#### Rendimiento en el conjunto de *test*"
      ],
      "metadata": {
        "id": "SrOMHpLJq5qY"
      }
    },
    {
      "cell_type": "markdown",
      "source": [
        "Medimos ahora el rendimiento utilizando el conjunto de test:"
      ],
      "metadata": {
        "id": "saZefNY2qGMm"
      }
    },
    {
      "cell_type": "code",
      "source": [
        "from sklearn.metrics import accuracy_score, f1_score\n",
        "\n",
        "def accuracy_f1_test(test_path, learner):\n",
        "  files_test = get_image_files(test_path)\n",
        "  dls_test = learner.dls.test_dl(files_test, with_labels = False)\n",
        "  preds = learner.get_preds(dl = dls_test, with_decoded = True)\n",
        "\n",
        "  preds_labels = [learner.dls.vocab[i] for i in preds[2]]\n",
        "  targs = [parent_label(f) for f in files_test]\n",
        "\n",
        "  test_accuracy = accuracy_score(preds_labels, targs)\n",
        "  test_f1 = f1_score(preds_labels, targs, average='weighted')\n",
        "\n",
        "  print(f\"Accuracy en test: {test_accuracy:.2f}\")\n",
        "  print(f\"F1 en test: {test_f1:.2f}\")"
      ],
      "metadata": {
        "id": "wjPdArq9qlGK"
      },
      "execution_count": 32,
      "outputs": []
    },
    {
      "cell_type": "code",
      "source": [
        "accuracy_f1_test(path/'testing', learn)"
      ],
      "metadata": {
        "colab": {
          "base_uri": "https://localhost:8080/",
          "height": 52
        },
        "id": "Jd-IWd38rU1a",
        "outputId": "ba3ef39f-fe96-44b8-eae5-bb78882c9b13"
      },
      "execution_count": 33,
      "outputs": [
        {
          "output_type": "display_data",
          "data": {
            "text/plain": [
              "<IPython.core.display.HTML object>"
            ],
            "text/html": [
              "\n",
              "<style>\n",
              "    /* Turns off some styling */\n",
              "    progress {\n",
              "        /* gets rid of default border in Firefox and Opera. */\n",
              "        border: none;\n",
              "        /* Needs to be in here for Safari polyfill so background images work as expected. */\n",
              "        background-size: auto;\n",
              "    }\n",
              "    progress:not([value]), progress:not([value])::-webkit-progress-bar {\n",
              "        background: repeating-linear-gradient(45deg, #7e7e7e, #7e7e7e 10px, #5c5c5c 10px, #5c5c5c 20px);\n",
              "    }\n",
              "    .progress-bar-interrupted, .progress-bar-interrupted::-webkit-progress-bar {\n",
              "        background: #F44336;\n",
              "    }\n",
              "</style>\n"
            ]
          },
          "metadata": {}
        },
        {
          "output_type": "display_data",
          "data": {
            "text/plain": [
              "<IPython.core.display.HTML object>"
            ],
            "text/html": []
          },
          "metadata": {}
        },
        {
          "output_type": "stream",
          "name": "stdout",
          "text": [
            "Accuracy en test: 0.96\n",
            "F1 en test: 0.96\n"
          ]
        }
      ]
    },
    {
      "cell_type": "markdown",
      "source": [
        "### Selección de las etiquetas con el criterio menor confusión"
      ],
      "metadata": {
        "id": "oSos6CnFYhgs"
      }
    },
    {
      "cell_type": "markdown",
      "metadata": {
        "id": "GAcGdpf5Yhgt"
      },
      "source": [
        "Creamos una función que selecciona las imágenes del conjunto de entrenamiento, y les asigna una etiqueta de forma aleatoria (utilizando las probabilidades anteriores):"
      ]
    },
    {
      "cell_type": "code",
      "execution_count": 34,
      "metadata": {
        "id": "rvjmdaCAYhgt"
      },
      "outputs": [],
      "source": [
        "def get_labels_least_confused(images):\n",
        "  i = 0\n",
        "  labels = []\n",
        "\n",
        "  while(i<len(images)):\n",
        "    actual_label = parent_label(images[i])\n",
        "    labels.append(actual_label)\n",
        "\n",
        "    for j in range(alpha):\n",
        "      int_label = int(actual_label)\n",
        "      label= str(np.random.choice(least_confused_lists[int_label], p=probs))\n",
        "      labels.append(label)\n",
        "\n",
        "    i += 1+alpha\n",
        "\n",
        "  return labels"
      ]
    },
    {
      "cell_type": "code",
      "source": [
        "labels = get_labels_least_confused(selected_images)"
      ],
      "metadata": {
        "id": "pUxLmqCuYhgt"
      },
      "execution_count": 35,
      "outputs": []
    },
    {
      "cell_type": "markdown",
      "metadata": {
        "id": "5HhFHEaTYhgt"
      },
      "source": [
        "Combinamos todo en un *datablock* (que es la forma que tiene fastai de gestionar los datos de entrada):"
      ]
    },
    {
      "cell_type": "code",
      "execution_count": 36,
      "metadata": {
        "id": "qb2edWaHYhgt"
      },
      "outputs": [],
      "source": [
        "dblock = DataBlock(\n",
        "    blocks=(ImageBlock(cls=PILImageBW), CategoryBlock),\n",
        "    get_items=lambda _: range(0,len(selected_images)),\n",
        "    get_x=lambda x: selected_images[x],\n",
        "    get_y=lambda x: labels[x],\n",
        "    splitter=RandomSplitter(valid_pct=valid_part, seed=42)\n",
        ")\n",
        "\n",
        "dls = dblock.dataloaders(path/'training', bs=batch_size)"
      ]
    },
    {
      "cell_type": "markdown",
      "source": [
        "Mostramos algunos ejemplos de nuestros datos de entrada:"
      ],
      "metadata": {
        "id": "hL5SqTioYhgt"
      }
    },
    {
      "cell_type": "code",
      "execution_count": 37,
      "metadata": {
        "colab": {
          "base_uri": "https://localhost:8080/",
          "height": 752
        },
        "outputId": "3502dcd1-fffa-4478-8d95-fb71dc148c63",
        "id": "t1ugudzGYhgu"
      },
      "outputs": [
        {
          "output_type": "display_data",
          "data": {
            "text/plain": [
              "<Figure size 900x900 with 9 Axes>"
            ],
            "image/png": "[encoded data removed]"
          },
          "metadata": {}
        }
      ],
      "source": [
        "dls.show_batch(max_n=9)"
      ]
    },
    {
      "cell_type": "markdown",
      "source": [
        "#### Entrenamiento del modelo"
      ],
      "metadata": {
        "id": "HDwvIpOcYhgu"
      }
    },
    {
      "cell_type": "markdown",
      "source": [
        "Seleccionamos distintos hiperparámetros:"
      ],
      "metadata": {
        "id": "Qw00NwdNYhgu"
      }
    },
    {
      "cell_type": "code",
      "source": [
        "learning_rate = 0.1"
      ],
      "metadata": {
        "id": "i5u_whRwYhgu"
      },
      "execution_count": 38,
      "outputs": []
    },
    {
      "cell_type": "code",
      "execution_count": 39,
      "metadata": {
        "id": "8JoecsgVYhgu"
      },
      "outputs": [],
      "source": [
        "# Crear el aprendiz (learner)\n",
        "learn = vision_learner(dls,\n",
        "                       model,\n",
        "                       pretrained = False,\n",
        "                       n_in=num_channels,\n",
        "                       metrics=[accuracy, F1Score(average='weighted')],\n",
        "                       opt_func=opt_func,\n",
        "                       loss_func=CrossEntropyLossFlat(),\n",
        "                       cbs=[EarlyStoppingCallback(monitor='valid_loss', patience=early_stopping_patience)])"
      ]
    },
    {
      "cell_type": "code",
      "execution_count": 40,
      "metadata": {
        "colab": {
          "base_uri": "https://localhost:8080/",
          "height": 1000
        },
        "outputId": "8f4a24c2-22a5-4931-cbc9-999219fd102c",
        "id": "pAkKmTcyYhgu"
      },
      "outputs": [
        {
          "output_type": "display_data",
          "data": {
            "text/plain": [
              "<IPython.core.display.HTML object>"
            ],
            "text/html": [
              "\n",
              "<style>\n",
              "    /* Turns off some styling */\n",
              "    progress {\n",
              "        /* gets rid of default border in Firefox and Opera. */\n",
              "        border: none;\n",
              "        /* Needs to be in here for Safari polyfill so background images work as expected. */\n",
              "        background-size: auto;\n",
              "    }\n",
              "    progress:not([value]), progress:not([value])::-webkit-progress-bar {\n",
              "        background: repeating-linear-gradient(45deg, #7e7e7e, #7e7e7e 10px, #5c5c5c 10px, #5c5c5c 20px);\n",
              "    }\n",
              "    .progress-bar-interrupted, .progress-bar-interrupted::-webkit-progress-bar {\n",
              "        background: #F44336;\n",
              "    }\n",
              "</style>\n"
            ]
          },
          "metadata": {}
        },
        {
          "output_type": "display_data",
          "data": {
            "text/plain": [
              "<IPython.core.display.HTML object>"
            ],
            "text/html": []
          },
          "metadata": {}
        },
        {
          "output_type": "execute_result",
          "data": {
            "text/plain": [
              "Sequential (Input shape: 128 x 1 x 28 x 28)\n",
              "============================================================================\n",
              "Layer (type)         Output Shape         Param #    Trainable \n",
              "============================================================================\n",
              "                     128 x 64 x 14 x 14  \n",
              "Conv2d                                    3136       True      \n",
              "BatchNorm2d                               128        True      \n",
              "ReLU                                                           \n",
              "____________________________________________________________________________\n",
              "                     128 x 64 x 7 x 7    \n",
              "MaxPool2d                                                      \n",
              "Conv2d                                    36864      True      \n",
              "BatchNorm2d                               128        True      \n",
              "ReLU                                                           \n",
              "Conv2d                                    36864      True      \n",
              "BatchNorm2d                               128        True      \n",
              "Conv2d                                    36864      True      \n",
              "BatchNorm2d                               128        True      \n",
              "ReLU                                                           \n",
              "Conv2d                                    36864      True      \n",
              "BatchNorm2d                               128        True      \n",
              "____________________________________________________________________________\n",
              "                     128 x 128 x 4 x 4   \n",
              "Conv2d                                    73728      True      \n",
              "BatchNorm2d                               256        True      \n",
              "ReLU                                                           \n",
              "Conv2d                                    147456     True      \n",
              "BatchNorm2d                               256        True      \n",
              "Conv2d                                    8192       True      \n",
              "BatchNorm2d                               256        True      \n",
              "Conv2d                                    147456     True      \n",
              "BatchNorm2d                               256        True      \n",
              "ReLU                                                           \n",
              "Conv2d                                    147456     True      \n",
              "BatchNorm2d                               256        True      \n",
              "____________________________________________________________________________\n",
              "                     128 x 256 x 2 x 2   \n",
              "Conv2d                                    294912     True      \n",
              "BatchNorm2d                               512        True      \n",
              "ReLU                                                           \n",
              "Conv2d                                    589824     True      \n",
              "BatchNorm2d                               512        True      \n",
              "Conv2d                                    32768      True      \n",
              "BatchNorm2d                               512        True      \n",
              "Conv2d                                    589824     True      \n",
              "BatchNorm2d                               512        True      \n",
              "ReLU                                                           \n",
              "Conv2d                                    589824     True      \n",
              "BatchNorm2d                               512        True      \n",
              "____________________________________________________________________________\n",
              "                     128 x 512 x 1 x 1   \n",
              "Conv2d                                    1179648    True      \n",
              "BatchNorm2d                               1024       True      \n",
              "ReLU                                                           \n",
              "Conv2d                                    2359296    True      \n",
              "BatchNorm2d                               1024       True      \n",
              "Conv2d                                    131072     True      \n",
              "BatchNorm2d                               1024       True      \n",
              "Conv2d                                    2359296    True      \n",
              "BatchNorm2d                               1024       True      \n",
              "ReLU                                                           \n",
              "Conv2d                                    2359296    True      \n",
              "BatchNorm2d                               1024       True      \n",
              "AdaptiveAvgPool2d                                              \n",
              "AdaptiveMaxPool2d                                              \n",
              "____________________________________________________________________________\n",
              "                     128 x 1024          \n",
              "Flatten                                                        \n",
              "BatchNorm1d                               2048       True      \n",
              "Dropout                                                        \n",
              "____________________________________________________________________________\n",
              "                     128 x 512           \n",
              "Linear                                    524288     True      \n",
              "ReLU                                                           \n",
              "BatchNorm1d                               1024       True      \n",
              "Dropout                                                        \n",
              "____________________________________________________________________________\n",
              "                     128 x 10            \n",
              "Linear                                    5120       True      \n",
              "____________________________________________________________________________\n",
              "\n",
              "Total params: 11,702,720\n",
              "Total trainable params: 11,702,720\n",
              "Total non-trainable params: 0\n",
              "\n",
              "Optimizer used: functools.partial(<class 'fastai.optimizer.OptimWrapper'>, opt=<class 'torch.optim.adadelta.Adadelta'>, lr=0.1)\n",
              "Loss function: FlattenedLoss of CrossEntropyLoss()\n",
              "\n",
              "Callbacks:\n",
              "  - TrainEvalCallback\n",
              "  - CastToTensor\n",
              "  - Recorder\n",
              "  - ProgressCallback\n",
              "  - EarlyStoppingCallback"
            ],
            "application/vnd.google.colaboratory.intrinsic+json": {
              "type": "string"
            }
          },
          "metadata": {},
          "execution_count": 40
        }
      ],
      "source": [
        "learn.summary()"
      ]
    },
    {
      "cell_type": "code",
      "source": [
        "learn.fit(num_epochs,lr=learning_rate)"
      ],
      "metadata": {
        "colab": {
          "base_uri": "https://localhost:8080/",
          "height": 175
        },
        "id": "7h5plzmYZ9kl",
        "outputId": "2a71ec2b-90c0-4b43-fe61-1d1c9c6dc8ed"
      },
      "execution_count": 41,
      "outputs": [
        {
          "output_type": "display_data",
          "data": {
            "text/plain": [
              "<IPython.core.display.HTML object>"
            ],
            "text/html": [
              "\n",
              "<style>\n",
              "    /* Turns off some styling */\n",
              "    progress {\n",
              "        /* gets rid of default border in Firefox and Opera. */\n",
              "        border: none;\n",
              "        /* Needs to be in here for Safari polyfill so background images work as expected. */\n",
              "        background-size: auto;\n",
              "    }\n",
              "    progress:not([value]), progress:not([value])::-webkit-progress-bar {\n",
              "        background: repeating-linear-gradient(45deg, #7e7e7e, #7e7e7e 10px, #5c5c5c 10px, #5c5c5c 20px);\n",
              "    }\n",
              "    .progress-bar-interrupted, .progress-bar-interrupted::-webkit-progress-bar {\n",
              "        background: #F44336;\n",
              "    }\n",
              "</style>\n"
            ]
          },
          "metadata": {}
        },
        {
          "output_type": "display_data",
          "data": {
            "text/plain": [
              "<IPython.core.display.HTML object>"
            ],
            "text/html": [
              "<table border=\"1\" class=\"dataframe\">\n",
              "  <thead>\n",
              "    <tr style=\"text-align: left;\">\n",
              "      <th>epoch</th>\n",
              "      <th>train_loss</th>\n",
              "      <th>valid_loss</th>\n",
              "      <th>accuracy</th>\n",
              "      <th>f1_score</th>\n",
              "      <th>time</th>\n",
              "    </tr>\n",
              "  </thead>\n",
              "  <tbody>\n",
              "    <tr>\n",
              "      <td>0</td>\n",
              "      <td>2.384630</td>\n",
              "      <td>2.317736</td>\n",
              "      <td>0.134766</td>\n",
              "      <td>0.133853</td>\n",
              "      <td>09:44</td>\n",
              "    </tr>\n",
              "    <tr>\n",
              "      <td>1</td>\n",
              "      <td>2.342368</td>\n",
              "      <td>2.309097</td>\n",
              "      <td>0.139333</td>\n",
              "      <td>0.138943</td>\n",
              "      <td>09:46</td>\n",
              "    </tr>\n",
              "    <tr>\n",
              "      <td>2</td>\n",
              "      <td>2.310841</td>\n",
              "      <td>2.334020</td>\n",
              "      <td>0.140762</td>\n",
              "      <td>0.140631</td>\n",
              "      <td>09:43</td>\n",
              "    </tr>\n",
              "    <tr>\n",
              "      <td>3</td>\n",
              "      <td>2.301830</td>\n",
              "      <td>2.331001</td>\n",
              "      <td>0.141234</td>\n",
              "      <td>0.141041</td>\n",
              "      <td>09:50</td>\n",
              "    </tr>\n",
              "  </tbody>\n",
              "</table>"
            ]
          },
          "metadata": {}
        }
      ]
    },
    {
      "cell_type": "markdown",
      "source": [
        "#### Rendimiento en el conjunto de *test*"
      ],
      "metadata": {
        "id": "JlJ61YneYhgu"
      }
    },
    {
      "cell_type": "markdown",
      "source": [
        "Medimos ahora el rendimiento utilizando el conjunto de test:"
      ],
      "metadata": {
        "id": "-HoPED8KYhgu"
      }
    },
    {
      "cell_type": "code",
      "source": [
        "accuracy_f1_test(path/'testing', learn)"
      ],
      "metadata": {
        "colab": {
          "base_uri": "https://localhost:8080/",
          "height": 52
        },
        "id": "0Oz7tv_gYhgv",
        "outputId": "b865d861-6d7b-4bfb-a248-86ceabee0547"
      },
      "execution_count": 42,
      "outputs": [
        {
          "output_type": "display_data",
          "data": {
            "text/plain": [
              "<IPython.core.display.HTML object>"
            ],
            "text/html": [
              "\n",
              "<style>\n",
              "    /* Turns off some styling */\n",
              "    progress {\n",
              "        /* gets rid of default border in Firefox and Opera. */\n",
              "        border: none;\n",
              "        /* Needs to be in here for Safari polyfill so background images work as expected. */\n",
              "        background-size: auto;\n",
              "    }\n",
              "    progress:not([value]), progress:not([value])::-webkit-progress-bar {\n",
              "        background: repeating-linear-gradient(45deg, #7e7e7e, #7e7e7e 10px, #5c5c5c 10px, #5c5c5c 20px);\n",
              "    }\n",
              "    .progress-bar-interrupted, .progress-bar-interrupted::-webkit-progress-bar {\n",
              "        background: #F44336;\n",
              "    }\n",
              "</style>\n"
            ]
          },
          "metadata": {}
        },
        {
          "output_type": "display_data",
          "data": {
            "text/plain": [
              "<IPython.core.display.HTML object>"
            ],
            "text/html": []
          },
          "metadata": {}
        },
        {
          "output_type": "stream",
          "name": "stdout",
          "text": [
            "Accuracy en test: 0.94\n",
            "F1 en test: 0.94\n"
          ]
        }
      ]
    },
    {
      "cell_type": "markdown",
      "metadata": {
        "id": "0cY1uGe8WLgW"
      },
      "source": [
        "# Gráfica de los resultados obtenidos"
      ]
    },
    {
      "cell_type": "code",
      "execution_count": null,
      "metadata": {
        "colab": {
          "base_uri": "https://localhost:8080/"
        },
        "id": "1YMjxZEYWOsg",
        "outputId": "8c48dcd7-2c31-424a-bd17-cab7ec96824f"
      },
      "outputs": [
        {
          "output_type": "display_data",
          "data": {
            "text/plain": [
              "<Figure size 1200x500 with 2 Axes>"
            ],
            "image/png": "[encoded data removed]"
          },
          "metadata": {}
        }
      ],
      "source": [
        "import matplotlib.pyplot as plt\n",
        "\n",
        "# Valores de delta\n",
        "delta = [0, 0.25, 0.5, 0.75, 1.0]\n",
        "\n",
        "# Datos de test accuracy\n",
        "mayor_conf = {\n",
        "    'MLP2':      [0.82, 0.79, 0.78, 0.77, 0.35],\n",
        "    'Conv4':     [0.96, 0.94, 0.93, 0.90, 0.48],\n",
        "    'Conv6':     [0.98, 0.96, 0.96, 0.92, 0.51],\n",
        "    'ResNet18':  [0.98, 0.96, 0.95, 0.93, 0.53]\n",
        "}\n",
        "\n",
        "menor_conf = {\n",
        "    'MLP2':      [0.82, 0.78, 0.76, 0.72, 0.35],\n",
        "    'Conv4':     [0.96, 0.94, 0.89, 0.83, 0.45],\n",
        "    'Conv6':     [0.98, 0.95, 0.93, 0.88, 0.50],\n",
        "    'ResNet18':  [0.98, 0.94, 0.94, 0.89, 0.49]\n",
        "}\n",
        "\n",
        "# Crear subplots\n",
        "fig, axs = plt.subplots(1, 2, figsize=(12, 5), sharey=True)\n",
        "\n",
        "# Colores consistentes para los modelos\n",
        "colors = {\n",
        "    'MLP2': 'tab:orange',\n",
        "    'Conv4': 'tab:green',\n",
        "    'Conv6': 'tab:blue',\n",
        "    'ResNet18': 'tab:red'\n",
        "}\n",
        "\n",
        "# Primer subplot: mayor confusión\n",
        "axs[0].set_title(\"Mayor confusión\")\n",
        "for model, acc in mayor_conf.items():\n",
        "    axs[0].plot(delta, acc, marker='o', label=model, color=colors[model])\n",
        "axs[0].set_xlabel(r\"$\\delta$\")\n",
        "axs[0].set_ylabel(\"Accuracy en test\")\n",
        "axs[0].grid(True)\n",
        "axs[0].legend()\n",
        "\n",
        "# Segundo subplot: menor confusión\n",
        "axs[1].set_title(\"Menor confusión\")\n",
        "for model, acc in menor_conf.items():\n",
        "    axs[1].plot(delta, acc, marker='o', label=model, color=colors[model])\n",
        "axs[1].set_xlabel(r\"$\\delta$\")\n",
        "axs[1].grid(True)\n",
        "\n",
        "# Ajuste final\n",
        "plt.suptitle(\"Rendimiento de los modelos ante distintos niveles de ruido estructurado\")\n",
        "plt.tight_layout(rect=[0, 0, 1, 0.95])\n",
        "plt.show()"
      ]
    }
  ],
  "metadata": {
    "accelerator": "GPU",
    "colab": {
      "gpuType": "T4",
      "toc_visible": true,
      "provenance": []
    },
    "kernelspec": {
      "display_name": "Python 3",
      "name": "python3"
    },
    "language_info": {
      "name": "python"
    }
  },
  "nbformat": 4,
  "nbformat_minor": 0
}