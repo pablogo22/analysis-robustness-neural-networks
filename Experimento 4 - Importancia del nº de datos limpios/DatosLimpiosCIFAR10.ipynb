{
  "cells": [
    {
      "cell_type": "markdown",
      "metadata": {
        "id": "W4WYVxaUKciU"
      },
      "source": [
        "## Planteamiento del problema"
      ]
    },
    {
      "cell_type": "markdown",
      "metadata": {
        "id": "1IOP5vCJea5L"
      },
      "source": [
        "La primera pregunta que queremos responder es\n",
        "**¿El número de datos limpios inicial $n$ afecta al rendimiento?**"
      ]
    },
    {
      "cell_type": "markdown",
      "metadata": {
        "id": "R_ke1eLAF981"
      },
      "source": [
        "En este experimento, consideraremos el siguiente escenario:\n",
        "- Tenemos $n$ imágenes con etiquetas limpias.\n",
        "- Por cada imagen con etiquetas limpias, introducimos $\\alpha$ imágenes con etiquetas ruidosas (es decir, su etiqueta es aleatoria). Por tanto, añadimos $\\alpha n$ imágenes.\n",
        "- En total, acabamos con $\\alpha n + n = (\\alpha+1)n $ imágenes"
      ]
    },
    {
      "cell_type": "markdown",
      "metadata": {
        "id": "aDRfbZM4JOvF"
      },
      "source": [
        "Las arquitecturas y *dataset* que utilizaremos en este experimento serán:\n",
        "- Trabajaremos con el conjunto de datos CIFAR-10.\n",
        "- Trabarejemos con varios modelos con distinto orden de complejidad: MLP con 2 capas ocultas, redes neuronales con 4 y 6 capas convolucionales, respectivamente y ResNet18.\n",
        "- Utilizaremos ruido uniforme, en el que la etiqueta ruidosa se asigna aleatoriamente entre las clases posibles, todas con la misma probabilidad."
      ]
    },
    {
      "cell_type": "markdown",
      "metadata": {
        "id": "BpKdGAPc84nU"
      },
      "source": [
        "Realizaremos el entrenamiento con el conjunto de datos ruidoso y evaluaremos su rendimiento en un conjunto de test limpio (sin ruido)."
      ]
    },
    {
      "cell_type": "markdown",
      "metadata": {
        "id": "S9hdo6M6JxGf"
      },
      "source": [
        "## Instalación de fastai"
      ]
    },
    {
      "cell_type": "code",
      "execution_count": 1,
      "metadata": {
        "colab": {
          "base_uri": "https://localhost:8080/"
        },
        "id": "9NGwKwBRK1EK",
        "outputId": "9020f92c-99ab-4eca-cc52-03bc888034a8"
      },
      "outputs": [
        {
          "output_type": "stream",
          "name": "stdout",
          "text": [
            "\u001b[?25l   \u001b[90m━━━━━━━━━━━━━━━━━━━━━━━━━━━━━━━━━━━━━━━━\u001b[0m \u001b[32m0.0/235.3 kB\u001b[0m \u001b[31m?\u001b[0m eta \u001b[36m-:--:--\u001b[0m\r\u001b[2K   \u001b[91m━━━━━━━━━━━━━━━━━━━━━━━━━━━━━━━━━━━━━━\u001b[0m\u001b[90m╺\u001b[0m\u001b[90m━\u001b[0m \u001b[32m225.3/235.3 kB\u001b[0m \u001b[31m27.2 MB/s\u001b[0m eta \u001b[36m0:00:01\u001b[0m\r\u001b[2K   \u001b[90m━━━━━━━━━━━━━━━━━━━━━━━━━━━━━━━━━━━━━━━━\u001b[0m \u001b[32m235.3/235.3 kB\u001b[0m \u001b[31m5.6 MB/s\u001b[0m eta \u001b[36m0:00:00\u001b[0m\n",
            "\u001b[2K   \u001b[90m━━━━━━━━━━━━━━━━━━━━━━━━━━━━━━━━━━━━━━━━\u001b[0m \u001b[32m78.2/78.2 kB\u001b[0m \u001b[31m5.6 MB/s\u001b[0m eta \u001b[36m0:00:00\u001b[0m\n",
            "\u001b[2K   \u001b[90m━━━━━━━━━━━━━━━━━━━━━━━━━━━━━━━━━━━━━━━━\u001b[0m \u001b[32m363.4/363.4 MB\u001b[0m \u001b[31m3.9 MB/s\u001b[0m eta \u001b[36m0:00:00\u001b[0m\n",
            "\u001b[2K   \u001b[90m━━━━━━━━━━━━━━━━━━━━━━━━━━━━━━━━━━━━━━━━\u001b[0m \u001b[32m13.8/13.8 MB\u001b[0m \u001b[31m14.2 MB/s\u001b[0m eta \u001b[36m0:00:00\u001b[0m\n",
            "\u001b[2K   \u001b[90m━━━━━━━━━━━━━━━━━━━━━━━━━━━━━━━━━━━━━━━━\u001b[0m \u001b[32m24.6/24.6 MB\u001b[0m \u001b[31m19.9 MB/s\u001b[0m eta \u001b[36m0:00:00\u001b[0m\n",
            "\u001b[2K   \u001b[90m━━━━━━━━━━━━━━━━━━━━━━━━━━━━━━━━━━━━━━━━\u001b[0m \u001b[32m883.7/883.7 kB\u001b[0m \u001b[31m9.9 MB/s\u001b[0m eta \u001b[36m0:00:00\u001b[0m\n",
            "\u001b[2K   \u001b[90m━━━━━━━━━━━━━━━━━━━━━━━━━━━━━━━━━━━━━━━━\u001b[0m \u001b[32m664.8/664.8 MB\u001b[0m \u001b[31m2.7 MB/s\u001b[0m eta \u001b[36m0:00:00\u001b[0m\n",
            "\u001b[2K   \u001b[90m━━━━━━━━━━━━━━━━━━━━━━━━━━━━━━━━━━━━━━━━\u001b[0m \u001b[32m211.5/211.5 MB\u001b[0m \u001b[31m5.6 MB/s\u001b[0m eta \u001b[36m0:00:00\u001b[0m\n",
            "\u001b[2K   \u001b[90m━━━━━━━━━━━━━━━━━━━━━━━━━━━━━━━━━━━━━━━━\u001b[0m \u001b[32m56.3/56.3 MB\u001b[0m \u001b[31m13.0 MB/s\u001b[0m eta \u001b[36m0:00:00\u001b[0m\n",
            "\u001b[2K   \u001b[90m━━━━━━━━━━━━━━━━━━━━━━━━━━━━━━━━━━━━━━━━\u001b[0m \u001b[32m127.9/127.9 MB\u001b[0m \u001b[31m7.6 MB/s\u001b[0m eta \u001b[36m0:00:00\u001b[0m\n",
            "\u001b[2K   \u001b[90m━━━━━━━━━━━━━━━━━━━━━━━━━━━━━━━━━━━━━━━━\u001b[0m \u001b[32m207.5/207.5 MB\u001b[0m \u001b[31m5.7 MB/s\u001b[0m eta \u001b[36m0:00:00\u001b[0m\n",
            "\u001b[2K   \u001b[90m━━━━━━━━━━━━━━━━━━━━━━━━━━━━━━━━━━━━━━━━\u001b[0m \u001b[32m21.1/21.1 MB\u001b[0m \u001b[31m101.5 MB/s\u001b[0m eta \u001b[36m0:00:00\u001b[0m\n",
            "\u001b[2K   \u001b[90m━━━━━━━━━━━━━━━━━━━━━━━━━━━━━━━━━━━━━━━━\u001b[0m \u001b[32m42.6/42.6 kB\u001b[0m \u001b[31m3.8 MB/s\u001b[0m eta \u001b[36m0:00:00\u001b[0m\n",
            "\u001b[2K   \u001b[90m━━━━━━━━━━━━━━━━━━━━━━━━━━━━━━━━━━━━━━━━\u001b[0m \u001b[32m1.2/1.2 MB\u001b[0m \u001b[31m73.0 MB/s\u001b[0m eta \u001b[36m0:00:00\u001b[0m\n",
            "\u001b[?25h"
          ]
        }
      ],
      "source": [
        "!pip install -Uqq fastai"
      ]
    },
    {
      "cell_type": "code",
      "execution_count": 2,
      "metadata": {
        "colab": {
          "base_uri": "https://localhost:8080/"
        },
        "id": "CKIWYmayWs9e",
        "outputId": "aab579fd-467a-4ecc-a9ef-084cc19720c0"
      },
      "outputs": [
        {
          "output_type": "stream",
          "name": "stdout",
          "text": [
            "Python: 3.11.13 (main, Jun  4 2025, 08:57:29) [GCC 11.4.0]\n",
            "PyTorch: 2.6.0+cu124\n",
            "CUDA disponible: True\n",
            "FastAI: 2.8.2\n",
            "NumPy: 2.0.2\n"
          ]
        }
      ],
      "source": [
        "from fastai.vision.all import *\n",
        "import fastai\n",
        "import numpy\n",
        "\n",
        "print(\"Python:\", sys.version)\n",
        "print(\"PyTorch:\", torch.__version__)\n",
        "print(\"CUDA disponible:\", torch.cuda.is_available())\n",
        "print(\"FastAI:\", fastai.__version__)\n",
        "print(\"NumPy:\", numpy.__version__)"
      ]
    },
    {
      "cell_type": "markdown",
      "metadata": {
        "id": "ioNUlReAjxLA"
      },
      "source": [
        "## Carga del *dataset* CIFAR-10"
      ]
    },
    {
      "cell_type": "markdown",
      "metadata": {
        "id": "UDZ3N_VSZW68"
      },
      "source": [
        "Descargamos el *dataset* CIFAR-10:"
      ]
    },
    {
      "cell_type": "code",
      "execution_count": 3,
      "metadata": {
        "colab": {
          "base_uri": "https://localhost:8080/",
          "height": 37
        },
        "id": "8RFgsrxaLSvq",
        "outputId": "52dd404e-4e5c-4535-bdca-e6c0ea775632"
      },
      "outputs": [
        {
          "output_type": "display_data",
          "data": {
            "text/plain": [
              "<IPython.core.display.HTML object>"
            ],
            "text/html": [
              "\n",
              "<style>\n",
              "    /* Turns off some styling */\n",
              "    progress {\n",
              "        /* gets rid of default border in Firefox and Opera. */\n",
              "        border: none;\n",
              "        /* Needs to be in here for Safari polyfill so background images work as expected. */\n",
              "        background-size: auto;\n",
              "    }\n",
              "    progress:not([value]), progress:not([value])::-webkit-progress-bar {\n",
              "        background: repeating-linear-gradient(45deg, #7e7e7e, #7e7e7e 10px, #5c5c5c 10px, #5c5c5c 20px);\n",
              "    }\n",
              "    .progress-bar-interrupted, .progress-bar-interrupted::-webkit-progress-bar {\n",
              "        background: #F44336;\n",
              "    }\n",
              "</style>\n"
            ]
          },
          "metadata": {}
        },
        {
          "output_type": "display_data",
          "data": {
            "text/plain": [
              "<IPython.core.display.HTML object>"
            ],
            "text/html": [
              "\n",
              "    <div>\n",
              "      <progress value='168173568' class='' max='168168549' style='width:300px; height:20px; vertical-align: middle;'></progress>\n",
              "      100.00% [168173568/168168549 00:03&lt;00:00]\n",
              "    </div>\n",
              "    "
            ]
          },
          "metadata": {}
        }
      ],
      "source": [
        "# We get the CIFAR10 dataset\n",
        "path = untar_data(URLs.CIFAR,force_download=True)"
      ]
    },
    {
      "cell_type": "code",
      "execution_count": 4,
      "metadata": {
        "colab": {
          "base_uri": "https://localhost:8080/"
        },
        "id": "d2tp1ddMMCU8",
        "outputId": "67d6972e-641f-4aa4-d044-c860d8a5e3e0"
      },
      "outputs": [
        {
          "output_type": "stream",
          "name": "stdout",
          "text": [
            "/root/.fastai/data/cifar10\n",
            "[Path('/root/.fastai/data/cifar10/test'), Path('/root/.fastai/data/cifar10/labels.txt'), Path('/root/.fastai/data/cifar10/train')]\n",
            "[Path('/root/.fastai/data/cifar10/train/deer'), Path('/root/.fastai/data/cifar10/train/bird'), Path('/root/.fastai/data/cifar10/train/automobile'), Path('/root/.fastai/data/cifar10/train/truck'), Path('/root/.fastai/data/cifar10/train/horse'), Path('/root/.fastai/data/cifar10/train/ship'), Path('/root/.fastai/data/cifar10/train/dog'), Path('/root/.fastai/data/cifar10/train/cat'), Path('/root/.fastai/data/cifar10/train/frog'), Path('/root/.fastai/data/cifar10/train/airplane')]\n",
            "[Path('/root/.fastai/data/cifar10/test/deer'), Path('/root/.fastai/data/cifar10/test/bird'), Path('/root/.fastai/data/cifar10/test/automobile'), Path('/root/.fastai/data/cifar10/test/truck'), Path('/root/.fastai/data/cifar10/test/horse'), Path('/root/.fastai/data/cifar10/test/ship'), Path('/root/.fastai/data/cifar10/test/dog'), Path('/root/.fastai/data/cifar10/test/cat'), Path('/root/.fastai/data/cifar10/test/frog'), Path('/root/.fastai/data/cifar10/test/airplane')]\n"
          ]
        }
      ],
      "source": [
        "# The CIFAR_10 dataset follows a common layout for machine learning datasets:\n",
        "# separate folders for the training set and the validation set (and/or test set).\n",
        "# Let's see what's inside both the training and test sets\n",
        "print(path)\n",
        "print(path.ls())\n",
        "print((path/'train').ls())\n",
        "print((path/'test').ls())\n",
        "train_classes = (path/'train').ls()\n",
        "test_classes = (path/'test').ls()"
      ]
    },
    {
      "cell_type": "markdown",
      "metadata": {
        "id": "YuASIWipb0Na"
      },
      "source": [
        "Comprobamos que efectivamente disponemos de $50000$ ejemplos de entrenamiento y $10000$ de *test*, que el tamaño de las imágenes es $32\\times 32\\times 3$ y que el número de clases es $10$."
      ]
    },
    {
      "cell_type": "code",
      "execution_count": 5,
      "metadata": {
        "colab": {
          "base_uri": "https://localhost:8080/"
        },
        "id": "Eh5wDFpCMkaM",
        "outputId": "e82a2e8b-a01a-4dfc-ecc7-a0215e034004"
      },
      "outputs": [
        {
          "output_type": "stream",
          "name": "stdout",
          "text": [
            "Número de imágenes de entrenamiento: 50000\n",
            "Número de imágenes de test: 10000\n",
            "Tamaño de las imágenes: 32x32x3\n",
            "Número de clases: 10\n"
          ]
        }
      ],
      "source": [
        "from cv2 import imread\n",
        "\n",
        "n_training = np.sum([len(class_files.ls()) for class_files in train_classes])\n",
        "n_test = np.sum([len(class_files.ls()) for class_files in test_classes])\n",
        "\n",
        "img = imread(path/'train'/'deer'/'10006_deer.png')\n",
        "width, height, num_channels = img.shape\n",
        "num_classes = len(train_classes)\n",
        "\n",
        "print(f\"Número de imágenes de entrenamiento: {n_training}\")\n",
        "print(f\"Número de imágenes de test: {n_test}\")\n",
        "print(f\"Tamaño de las imágenes: {width}x{height}x{num_channels}\")\n",
        "print(f\"Número de clases: {num_classes}\")"
      ]
    },
    {
      "cell_type": "markdown",
      "metadata": {
        "id": "S1oEv_g2esgF"
      },
      "source": [
        "Seleccionamos un valor para $\\alpha$, un valor para $n$ y fijamos la semilla aleatoria con el fin de garantizar la reproducibilidad en la mayor medida posible."
      ]
    },
    {
      "cell_type": "code",
      "execution_count": 6,
      "metadata": {
        "id": "gpXwimAifcDy"
      },
      "outputs": [],
      "source": [
        "alpha = 0\n",
        "n = 10000\n",
        "random.seed(42)"
      ]
    },
    {
      "cell_type": "markdown",
      "source": [
        "Creamos una función para seleccionar repetir las imágenes tantas veces como indique $\\alpha$:"
      ],
      "metadata": {
        "id": "HbJKOzczHX_u"
      }
    },
    {
      "cell_type": "code",
      "source": [
        "def repeat_images(images, alpha):\n",
        "    \"\"\"Devuelve una lista con cada imagen repetida alpha veces.\"\"\"\n",
        "    return L(img for img in images for _ in range(alpha+1))"
      ],
      "metadata": {
        "id": "pqrHO9lrHZ0c"
      },
      "execution_count": 7,
      "outputs": []
    },
    {
      "cell_type": "markdown",
      "metadata": {
        "id": "RmE9bsUlhQht"
      },
      "source": [
        "Creamos una función que selecciona un cierto número de imágenes (con clases balanceadas) del conjunto de entrenamiento:"
      ]
    },
    {
      "cell_type": "code",
      "execution_count": 8,
      "metadata": {
        "id": "EQ7S_XJRr_bZ"
      },
      "outputs": [],
      "source": [
        "from fastcore.foundation import L\n",
        "\n",
        "def get_balanced_images(path):\n",
        "    \"\"\"Selecciona hasta max_per_class imágenes por cada categoría.\"\"\"\n",
        "    all_images = get_image_files(path)\n",
        "    by_class = {c: [] for c in set(parent_label(f) for f in all_images)}\n",
        "\n",
        "    max_per_class = n / num_classes\n",
        "\n",
        "    for img in all_images:\n",
        "        label = parent_label(img)\n",
        "        if len(by_class[label]) < max_per_class:\n",
        "            by_class[label].append(img)\n",
        "\n",
        "    selected_images = L([img for imgs in by_class.values() for img in imgs])\n",
        "    return repeat_images(selected_images, alpha)"
      ]
    },
    {
      "cell_type": "markdown",
      "source": [
        "Seleccionamos las imágenes:"
      ],
      "metadata": {
        "id": "ghFY2cLGHiOn"
      }
    },
    {
      "cell_type": "code",
      "execution_count": 9,
      "metadata": {
        "id": "Vi7SbbQme1tR"
      },
      "outputs": [],
      "source": [
        "selected_images = get_balanced_images(path/'train')"
      ]
    },
    {
      "cell_type": "code",
      "execution_count": 10,
      "metadata": {
        "colab": {
          "base_uri": "https://localhost:8080/"
        },
        "id": "vECZZGnve23B",
        "outputId": "e5d54760-d1ad-4edf-d4fe-1c2a7b54c76a"
      },
      "outputs": [
        {
          "output_type": "execute_result",
          "data": {
            "text/plain": [
              "10000"
            ]
          },
          "metadata": {},
          "execution_count": 10
        }
      ],
      "source": [
        "len(selected_images)"
      ]
    },
    {
      "cell_type": "markdown",
      "metadata": {
        "id": "b1DEPXnUfKhD"
      },
      "source": [
        "Creamos una función que selecciona las imágenes del conjunto de entrenamiento, y les asigna una etiqueta de forma aleatoria (uniforme):"
      ]
    },
    {
      "cell_type": "code",
      "execution_count": 11,
      "metadata": {
        "id": "09g2zIVTsibB"
      },
      "outputs": [],
      "source": [
        "possible_labels = ['airplane', 'automobile', 'bird', 'cat', 'deer', 'dog', 'frog', 'horse', 'ship', 'truck']\n",
        "\n",
        "def get_labels(images):\n",
        "  i = 0\n",
        "  labels = []\n",
        "\n",
        "  while(i<len(images)):\n",
        "    labels.append(parent_label(images[i]))\n",
        "\n",
        "    for j in range(alpha):\n",
        "      labels.append(random.choice(possible_labels))\n",
        "\n",
        "    i += 1+alpha\n",
        "\n",
        "  return labels"
      ]
    },
    {
      "cell_type": "code",
      "execution_count": 12,
      "metadata": {
        "id": "djKSF4elhk4W"
      },
      "outputs": [],
      "source": [
        "labels = get_labels(selected_images)"
      ]
    },
    {
      "cell_type": "markdown",
      "metadata": {
        "id": "SuPnXFqrf5Q-"
      },
      "source": [
        "Combinamos todo en un *datablock* (que es la forma que tiene fastai de gestionar los datos de entrada):"
      ]
    },
    {
      "cell_type": "code",
      "execution_count": 13,
      "metadata": {
        "id": "BDvqSsF3ixXt"
      },
      "outputs": [],
      "source": [
        "batch_size = 128\n",
        "valid_part = 0.2"
      ]
    },
    {
      "cell_type": "code",
      "execution_count": 14,
      "metadata": {
        "id": "cjAhk5jqf4yF"
      },
      "outputs": [],
      "source": [
        "dblock = DataBlock(\n",
        "    blocks=(ImageBlock, CategoryBlock),\n",
        "    get_items=lambda _: range(0,len(selected_images)),\n",
        "    get_x=lambda x: selected_images[x],\n",
        "    get_y=lambda x: labels[x],\n",
        "    splitter=RandomSplitter(valid_pct=0.2, seed=42),\n",
        "    batch_tfms=[\n",
        "        Normalize()\n",
        "    ]\n",
        ")\n",
        "\n",
        "dls = dblock.dataloaders(path/'train', bs=128)"
      ]
    },
    {
      "cell_type": "markdown",
      "metadata": {
        "id": "jTQib-xFhvkl"
      },
      "source": [
        "Mostramos algunos ejemplos de nuestros datos de entrada:"
      ]
    },
    {
      "cell_type": "code",
      "execution_count": 15,
      "metadata": {
        "colab": {
          "base_uri": "https://localhost:8080/",
          "height": 752
        },
        "id": "UhXe9-iidPLQ",
        "outputId": "b2594047-778e-4650-f6fe-f692f13faac1"
      },
      "outputs": [
        {
          "output_type": "display_data",
          "data": {
            "text/plain": [
              "<Figure size 900x900 with 9 Axes>"
            ],
            "image/png": "[encoded data removed]"
          },
          "metadata": {}
        }
      ],
      "source": [
        "dls.show_batch(max_n=9)"
      ]
    },
    {
      "cell_type": "markdown",
      "metadata": {
        "id": "B6RNekgWj1aO"
      },
      "source": [
        "## Arquitecturas de redes neuronales"
      ]
    },
    {
      "cell_type": "markdown",
      "metadata": {
        "id": "BO5bPO1FjzUG"
      },
      "source": [
        "Creamos y entrenamos los distintos modelos durante un cierto número de épocas."
      ]
    },
    {
      "cell_type": "code",
      "execution_count": 16,
      "metadata": {
        "id": "Zks82yu0OHVX"
      },
      "outputs": [],
      "source": [
        "num_epochs = 10\n",
        "early_stopping_patience = 3"
      ]
    },
    {
      "cell_type": "markdown",
      "metadata": {
        "id": "rm-z3OJQqlHa"
      },
      "source": [
        "### MLP-2"
      ]
    },
    {
      "cell_type": "markdown",
      "metadata": {
        "id": "FclNzbniio20"
      },
      "source": [
        "Seleccionamos el *learning rate*:"
      ]
    },
    {
      "cell_type": "code",
      "execution_count": 17,
      "metadata": {
        "id": "nPbASMY5ipMs"
      },
      "outputs": [],
      "source": [
        "learning_rate = 0.1"
      ]
    },
    {
      "cell_type": "markdown",
      "metadata": {
        "id": "7oyfUqJtj2j7"
      },
      "source": [
        "En primer lugar, consideramos un MLP con $2$ capas ocultas."
      ]
    },
    {
      "cell_type": "markdown",
      "metadata": {
        "id": "wOhjFy96y50K"
      },
      "source": [
        "#### Creación del modelo"
      ]
    },
    {
      "cell_type": "code",
      "execution_count": 18,
      "metadata": {
        "id": "72Yz2fO_qnjN"
      },
      "outputs": [],
      "source": [
        "from torch.nn import Linear, ReLU, Flatten, BatchNorm1d\n",
        "from torch.optim import Adadelta\n",
        "from torchsummary import summary\n",
        "\n",
        "# Crear el MLP con 2 capas ocultas\n",
        "opt_func = partial(OptimWrapper, opt=Adadelta, lr=learning_rate)\n",
        "\n",
        "mlp2 = sequential(\n",
        "    Flatten(),                              # Aplana la imagen de 28x28 a un vector de 784\n",
        "    Linear(width*height*num_channels, 512), # Capa densa con tantas entradas como píxeles tenga la imagen y 512 salidas\n",
        "    ReLU(),                                 # Función de activación ReLU\n",
        "    BatchNorm1d(512),                       # Capa de Batch Normalization\n",
        "    Linear(512, 512),                       # Capa densa con 512 entradas y 512 salidas\n",
        "    ReLU(),                                 # Función de activación ReLU\n",
        "    BatchNorm1d(512),                       # Capa de Batch Normalization\n",
        "    Linear(512, num_classes)                # Capa de salida con num_classes salidas\n",
        ")\n",
        "\n",
        "# Crear el aprendiz (learner)\n",
        "learn = Learner(\n",
        "    dls,\n",
        "    mlp2,\n",
        "    metrics=[\n",
        "        accuracy,\n",
        "        F1Score(average='weighted')\n",
        "    ],\n",
        "    opt_func=opt_func,\n",
        "    loss_func=CrossEntropyLossFlat(),\n",
        "    cbs=[EarlyStoppingCallback(monitor='valid_loss', patience=early_stopping_patience)]\n",
        ")"
      ]
    },
    {
      "cell_type": "code",
      "execution_count": 19,
      "metadata": {
        "colab": {
          "base_uri": "https://localhost:8080/",
          "height": 573
        },
        "id": "T6fiqkz1EKds",
        "outputId": "cda6a60b-55c3-458f-ca65-c0b18fdfafef"
      },
      "outputs": [
        {
          "output_type": "display_data",
          "data": {
            "text/plain": [
              "<IPython.core.display.HTML object>"
            ],
            "text/html": [
              "\n",
              "<style>\n",
              "    /* Turns off some styling */\n",
              "    progress {\n",
              "        /* gets rid of default border in Firefox and Opera. */\n",
              "        border: none;\n",
              "        /* Needs to be in here for Safari polyfill so background images work as expected. */\n",
              "        background-size: auto;\n",
              "    }\n",
              "    progress:not([value]), progress:not([value])::-webkit-progress-bar {\n",
              "        background: repeating-linear-gradient(45deg, #7e7e7e, #7e7e7e 10px, #5c5c5c 10px, #5c5c5c 20px);\n",
              "    }\n",
              "    .progress-bar-interrupted, .progress-bar-interrupted::-webkit-progress-bar {\n",
              "        background: #F44336;\n",
              "    }\n",
              "</style>\n"
            ]
          },
          "metadata": {}
        },
        {
          "output_type": "display_data",
          "data": {
            "text/plain": [
              "<IPython.core.display.HTML object>"
            ],
            "text/html": []
          },
          "metadata": {}
        },
        {
          "output_type": "execute_result",
          "data": {
            "text/plain": [
              "Sequential (Input shape: 128 x 3 x 32 x 32)\n",
              "============================================================================\n",
              "Layer (type)         Output Shape         Param #    Trainable \n",
              "============================================================================\n",
              "                     128 x 3072          \n",
              "Flatten                                                        \n",
              "____________________________________________________________________________\n",
              "                     128 x 512           \n",
              "Linear                                    1573376    True      \n",
              "ReLU                                                           \n",
              "BatchNorm1d                               1024       True      \n",
              "Linear                                    262656     True      \n",
              "ReLU                                                           \n",
              "BatchNorm1d                               1024       True      \n",
              "____________________________________________________________________________\n",
              "                     128 x 10            \n",
              "Linear                                    5130       True      \n",
              "____________________________________________________________________________\n",
              "\n",
              "Total params: 1,843,210\n",
              "Total trainable params: 1,843,210\n",
              "Total non-trainable params: 0\n",
              "\n",
              "Optimizer used: functools.partial(<class 'fastai.optimizer.OptimWrapper'>, opt=<class 'torch.optim.adadelta.Adadelta'>, lr=0.1)\n",
              "Loss function: FlattenedLoss of CrossEntropyLoss()\n",
              "\n",
              "Callbacks:\n",
              "  - TrainEvalCallback\n",
              "  - CastToTensor\n",
              "  - Recorder\n",
              "  - ProgressCallback\n",
              "  - EarlyStoppingCallback"
            ],
            "application/vnd.google.colaboratory.intrinsic+json": {
              "type": "string"
            }
          },
          "metadata": {},
          "execution_count": 19
        }
      ],
      "source": [
        "learn.summary()"
      ]
    },
    {
      "cell_type": "markdown",
      "metadata": {
        "id": "nkk-_HYNy9Zx"
      },
      "source": [
        "#### Entrenamiento del modelo"
      ]
    },
    {
      "cell_type": "code",
      "execution_count": 20,
      "metadata": {
        "colab": {
          "base_uri": "https://localhost:8080/",
          "height": 255
        },
        "id": "rxCFdYtztWoa",
        "outputId": "cc7cec0d-37e9-4e16-fdb7-992257f4965a"
      },
      "outputs": [
        {
          "output_type": "display_data",
          "data": {
            "text/plain": [
              "<IPython.core.display.HTML object>"
            ],
            "text/html": [
              "\n",
              "<style>\n",
              "    /* Turns off some styling */\n",
              "    progress {\n",
              "        /* gets rid of default border in Firefox and Opera. */\n",
              "        border: none;\n",
              "        /* Needs to be in here for Safari polyfill so background images work as expected. */\n",
              "        background-size: auto;\n",
              "    }\n",
              "    progress:not([value]), progress:not([value])::-webkit-progress-bar {\n",
              "        background: repeating-linear-gradient(45deg, #7e7e7e, #7e7e7e 10px, #5c5c5c 10px, #5c5c5c 20px);\n",
              "    }\n",
              "    .progress-bar-interrupted, .progress-bar-interrupted::-webkit-progress-bar {\n",
              "        background: #F44336;\n",
              "    }\n",
              "</style>\n"
            ]
          },
          "metadata": {}
        },
        {
          "output_type": "display_data",
          "data": {
            "text/plain": [
              "<IPython.core.display.HTML object>"
            ],
            "text/html": [
              "<table border=\"1\" class=\"dataframe\">\n",
              "  <thead>\n",
              "    <tr style=\"text-align: left;\">\n",
              "      <th>epoch</th>\n",
              "      <th>train_loss</th>\n",
              "      <th>valid_loss</th>\n",
              "      <th>accuracy</th>\n",
              "      <th>f1_score</th>\n",
              "      <th>time</th>\n",
              "    </tr>\n",
              "  </thead>\n",
              "  <tbody>\n",
              "    <tr>\n",
              "      <td>0</td>\n",
              "      <td>1.775789</td>\n",
              "      <td>1.678071</td>\n",
              "      <td>0.408500</td>\n",
              "      <td>0.402529</td>\n",
              "      <td>00:04</td>\n",
              "    </tr>\n",
              "    <tr>\n",
              "      <td>1</td>\n",
              "      <td>1.563503</td>\n",
              "      <td>1.685841</td>\n",
              "      <td>0.407000</td>\n",
              "      <td>0.399085</td>\n",
              "      <td>00:06</td>\n",
              "    </tr>\n",
              "    <tr>\n",
              "      <td>2</td>\n",
              "      <td>1.392730</td>\n",
              "      <td>1.553399</td>\n",
              "      <td>0.459000</td>\n",
              "      <td>0.450337</td>\n",
              "      <td>00:07</td>\n",
              "    </tr>\n",
              "    <tr>\n",
              "      <td>3</td>\n",
              "      <td>1.242485</td>\n",
              "      <td>1.594403</td>\n",
              "      <td>0.452000</td>\n",
              "      <td>0.447719</td>\n",
              "      <td>00:05</td>\n",
              "    </tr>\n",
              "    <tr>\n",
              "      <td>4</td>\n",
              "      <td>1.101534</td>\n",
              "      <td>1.574645</td>\n",
              "      <td>0.471000</td>\n",
              "      <td>0.460679</td>\n",
              "      <td>00:04</td>\n",
              "    </tr>\n",
              "    <tr>\n",
              "      <td>5</td>\n",
              "      <td>0.970296</td>\n",
              "      <td>1.610843</td>\n",
              "      <td>0.459500</td>\n",
              "      <td>0.451921</td>\n",
              "      <td>00:04</td>\n",
              "    </tr>\n",
              "  </tbody>\n",
              "</table>"
            ]
          },
          "metadata": {}
        },
        {
          "output_type": "stream",
          "name": "stdout",
          "text": [
            "No improvement since epoch 2: early stopping\n"
          ]
        }
      ],
      "source": [
        "learn.fit(num_epochs,lr=learning_rate)"
      ]
    },
    {
      "cell_type": "markdown",
      "metadata": {
        "id": "SrOMHpLJq5qY"
      },
      "source": [
        "#### Rendimiento en el conjunto de *test*"
      ]
    },
    {
      "cell_type": "markdown",
      "metadata": {
        "id": "saZefNY2qGMm"
      },
      "source": [
        "Medimos ahora el rendimiento utilizando el conjunto de test:"
      ]
    },
    {
      "cell_type": "code",
      "execution_count": 21,
      "metadata": {
        "id": "wjPdArq9qlGK"
      },
      "outputs": [],
      "source": [
        "from sklearn.metrics import accuracy_score, f1_score\n",
        "\n",
        "def accuracy_f1_test(test_path, learner):\n",
        "  files_test = get_image_files(test_path)\n",
        "  dls_test = learner.dls.test_dl(files_test, with_labels = False)\n",
        "  preds = learner.get_preds(dl = dls_test, with_decoded = True)\n",
        "\n",
        "  preds_labels = [learner.dls.vocab[i] for i in preds[2]]\n",
        "  targs = [parent_label(f) for f in files_test]\n",
        "\n",
        "  test_accuracy = accuracy_score(preds_labels, targs)\n",
        "  test_f1 = f1_score(preds_labels, targs, average='weighted')\n",
        "\n",
        "  print(f\"Accuracy en test: {test_accuracy:.2f}\")\n",
        "  print(f\"F1 en test: {test_f1:.2f}\")"
      ]
    },
    {
      "cell_type": "code",
      "execution_count": 22,
      "metadata": {
        "colab": {
          "base_uri": "https://localhost:8080/",
          "height": 52
        },
        "id": "Jd-IWd38rU1a",
        "outputId": "4ee59718-ab6c-4dd9-8843-4451c16a9563"
      },
      "outputs": [
        {
          "output_type": "display_data",
          "data": {
            "text/plain": [
              "<IPython.core.display.HTML object>"
            ],
            "text/html": [
              "\n",
              "<style>\n",
              "    /* Turns off some styling */\n",
              "    progress {\n",
              "        /* gets rid of default border in Firefox and Opera. */\n",
              "        border: none;\n",
              "        /* Needs to be in here for Safari polyfill so background images work as expected. */\n",
              "        background-size: auto;\n",
              "    }\n",
              "    progress:not([value]), progress:not([value])::-webkit-progress-bar {\n",
              "        background: repeating-linear-gradient(45deg, #7e7e7e, #7e7e7e 10px, #5c5c5c 10px, #5c5c5c 20px);\n",
              "    }\n",
              "    .progress-bar-interrupted, .progress-bar-interrupted::-webkit-progress-bar {\n",
              "        background: #F44336;\n",
              "    }\n",
              "</style>\n"
            ]
          },
          "metadata": {}
        },
        {
          "output_type": "display_data",
          "data": {
            "text/plain": [
              "<IPython.core.display.HTML object>"
            ],
            "text/html": []
          },
          "metadata": {}
        },
        {
          "output_type": "stream",
          "name": "stdout",
          "text": [
            "Accuracy en test: 0.45\n",
            "F1 en test: 0.46\n"
          ]
        }
      ],
      "source": [
        "accuracy_f1_test(path/'test', learn)"
      ]
    },
    {
      "cell_type": "markdown",
      "metadata": {
        "id": "Zxy6VdLBAQh7"
      },
      "source": [
        "### Conv4"
      ]
    },
    {
      "cell_type": "markdown",
      "metadata": {
        "id": "rCFuEx7bTqFP"
      },
      "source": [
        "Seleccionamos el *learning rate*:"
      ]
    },
    {
      "cell_type": "code",
      "execution_count": 23,
      "metadata": {
        "id": "z_E8_ZWj0AlR"
      },
      "outputs": [],
      "source": [
        "learning_rate = 0.1"
      ]
    },
    {
      "cell_type": "markdown",
      "metadata": {
        "id": "THwHopyDm3_6"
      },
      "source": [
        "Consideramos ahora una red neuronal con $4$ capas convolucionales:"
      ]
    },
    {
      "cell_type": "markdown",
      "metadata": {
        "id": "aHUg40Z3zHKr"
      },
      "source": [
        "#### Creación del modelo"
      ]
    },
    {
      "cell_type": "code",
      "execution_count": 24,
      "metadata": {
        "id": "1MBRmA4iAPoV"
      },
      "outputs": [],
      "source": [
        "from torch.nn import Linear, LazyLinear, ReLU, Flatten, Conv2d, MaxPool2d, BatchNorm2d\n",
        "from torch.optim import Adadelta\n",
        "from torchsummary import summary\n",
        "\n",
        "# Crear el modelo de 4 capas convolucionales\n",
        "opt_func = partial(OptimWrapper, opt=Adadelta, lr=learning_rate)\n",
        "\n",
        "conv4 = sequential(\n",
        "\n",
        "    # 1ª Capa convolucional:\n",
        "    # - Tantos canales de entrada como tenga la imagen de entrada\n",
        "    # - 8 canales de salida\n",
        "    # - Filtro 3x3\n",
        "    Conv2d(num_channels, 8, 3),\n",
        "    ReLU(),                          # Capa ReLU\n",
        "    MaxPool2d(2),                    # Capa MaxPooling (Filtro 2x2)\n",
        "    BatchNorm2d(8),                  # Capa de Batch Normalization\n",
        "\n",
        "    # 2ª Capa convolucional:\n",
        "    # - 8 canales de entrada y 16 de salida\n",
        "    # - Filtro 3x3\n",
        "    Conv2d(8, 16, 3),\n",
        "    ReLU(),                          # Capa ReLU\n",
        "    MaxPool2d(2),                    # Capa MaxPooling (Filtro 2x2)\n",
        "    BatchNorm2d(16),                 # Capa de Batch Normalization\n",
        "\n",
        "    # 3ª Capa convolucional:\n",
        "    # - 16 canales de entrada y 16 de salida\n",
        "    # - Filtro 3x3\n",
        "    Conv2d(16, 16, 3),\n",
        "    ReLU(),                          # Capa ReLU\n",
        "    BatchNorm2d(16),                 # Capa de Batch Normalization\n",
        "\n",
        "    # 4ª Capa convolucional:\n",
        "    # - 16 canales de entrada y 4 de salida\n",
        "    # - Filtro 1x1\n",
        "    Conv2d(16,4,(1,1)),\n",
        "    ReLU(),                          # Capa ReLU\n",
        "    BatchNorm2d(4),                  # Capa de Batch Normalization\n",
        "    Flatten(),                       # Aplanado de la salida\n",
        "\n",
        "    # Capa densa con 64 salidas (el nº de entradas se ajusta automáticamente)\n",
        "    LazyLinear(64),\n",
        "    ReLU(),                          # Capa ReLU\n",
        "    Linear(64, num_classes)          # Capa densa con num_classes salidas\n",
        ")\n",
        "\n",
        "\n",
        "# Crear el aprendiz (learner)\n",
        "learn = Learner(\n",
        "    dls,\n",
        "    conv4,\n",
        "    metrics=[\n",
        "        accuracy,\n",
        "        F1Score(average='weighted')\n",
        "    ],\n",
        "    opt_func=opt_func,\n",
        "    loss_func=CrossEntropyLossFlat(),\n",
        "    cbs=[EarlyStoppingCallback(monitor='valid_loss', patience=early_stopping_patience)]\n",
        ")"
      ]
    },
    {
      "cell_type": "code",
      "execution_count": 25,
      "metadata": {
        "colab": {
          "base_uri": "https://localhost:8080/",
          "height": 920
        },
        "id": "YkviTY0OkkZa",
        "outputId": "9205261a-a406-494c-900c-e3b78ab89a49"
      },
      "outputs": [
        {
          "output_type": "display_data",
          "data": {
            "text/plain": [
              "<IPython.core.display.HTML object>"
            ],
            "text/html": [
              "\n",
              "<style>\n",
              "    /* Turns off some styling */\n",
              "    progress {\n",
              "        /* gets rid of default border in Firefox and Opera. */\n",
              "        border: none;\n",
              "        /* Needs to be in here for Safari polyfill so background images work as expected. */\n",
              "        background-size: auto;\n",
              "    }\n",
              "    progress:not([value]), progress:not([value])::-webkit-progress-bar {\n",
              "        background: repeating-linear-gradient(45deg, #7e7e7e, #7e7e7e 10px, #5c5c5c 10px, #5c5c5c 20px);\n",
              "    }\n",
              "    .progress-bar-interrupted, .progress-bar-interrupted::-webkit-progress-bar {\n",
              "        background: #F44336;\n",
              "    }\n",
              "</style>\n"
            ]
          },
          "metadata": {}
        },
        {
          "output_type": "display_data",
          "data": {
            "text/plain": [
              "<IPython.core.display.HTML object>"
            ],
            "text/html": []
          },
          "metadata": {}
        },
        {
          "output_type": "execute_result",
          "data": {
            "text/plain": [
              "Sequential (Input shape: 128 x 3 x 32 x 32)\n",
              "============================================================================\n",
              "Layer (type)         Output Shape         Param #    Trainable \n",
              "============================================================================\n",
              "                     128 x 8 x 30 x 30   \n",
              "Conv2d                                    224        True      \n",
              "ReLU                                                           \n",
              "____________________________________________________________________________\n",
              "                     128 x 8 x 15 x 15   \n",
              "MaxPool2d                                                      \n",
              "BatchNorm2d                               16         True      \n",
              "____________________________________________________________________________\n",
              "                     128 x 16 x 13 x 13  \n",
              "Conv2d                                    1168       True      \n",
              "ReLU                                                           \n",
              "____________________________________________________________________________\n",
              "                     128 x 16 x 6 x 6    \n",
              "MaxPool2d                                                      \n",
              "BatchNorm2d                               32         True      \n",
              "____________________________________________________________________________\n",
              "                     128 x 16 x 4 x 4    \n",
              "Conv2d                                    2320       True      \n",
              "ReLU                                                           \n",
              "BatchNorm2d                               32         True      \n",
              "____________________________________________________________________________\n",
              "                     128 x 4 x 4 x 4     \n",
              "Conv2d                                    68         True      \n",
              "ReLU                                                           \n",
              "BatchNorm2d                               8          True      \n",
              "____________________________________________________________________________\n",
              "                     128 x 64            \n",
              "Flatten                                                        \n",
              "Linear                                    4160       True      \n",
              "ReLU                                                           \n",
              "____________________________________________________________________________\n",
              "                     128 x 10            \n",
              "Linear                                    650        True      \n",
              "____________________________________________________________________________\n",
              "\n",
              "Total params: 8,678\n",
              "Total trainable params: 8,678\n",
              "Total non-trainable params: 0\n",
              "\n",
              "Optimizer used: functools.partial(<class 'fastai.optimizer.OptimWrapper'>, opt=<class 'torch.optim.adadelta.Adadelta'>, lr=0.1)\n",
              "Loss function: FlattenedLoss of CrossEntropyLoss()\n",
              "\n",
              "Callbacks:\n",
              "  - TrainEvalCallback\n",
              "  - CastToTensor\n",
              "  - Recorder\n",
              "  - ProgressCallback\n",
              "  - EarlyStoppingCallback"
            ],
            "application/vnd.google.colaboratory.intrinsic+json": {
              "type": "string"
            }
          },
          "metadata": {},
          "execution_count": 25
        }
      ],
      "source": [
        "learn.summary()"
      ]
    },
    {
      "cell_type": "markdown",
      "metadata": {
        "id": "bMJJOmdhzKl3"
      },
      "source": [
        "#### Entrenamiento del modelo"
      ]
    },
    {
      "cell_type": "code",
      "execution_count": 26,
      "metadata": {
        "colab": {
          "base_uri": "https://localhost:8080/",
          "height": 363
        },
        "id": "of82CWL5l_8r",
        "outputId": "fc5ba46b-d197-4b96-d36f-17cf98eef791"
      },
      "outputs": [
        {
          "output_type": "display_data",
          "data": {
            "text/plain": [
              "<IPython.core.display.HTML object>"
            ],
            "text/html": [
              "\n",
              "<style>\n",
              "    /* Turns off some styling */\n",
              "    progress {\n",
              "        /* gets rid of default border in Firefox and Opera. */\n",
              "        border: none;\n",
              "        /* Needs to be in here for Safari polyfill so background images work as expected. */\n",
              "        background-size: auto;\n",
              "    }\n",
              "    progress:not([value]), progress:not([value])::-webkit-progress-bar {\n",
              "        background: repeating-linear-gradient(45deg, #7e7e7e, #7e7e7e 10px, #5c5c5c 10px, #5c5c5c 20px);\n",
              "    }\n",
              "    .progress-bar-interrupted, .progress-bar-interrupted::-webkit-progress-bar {\n",
              "        background: #F44336;\n",
              "    }\n",
              "</style>\n"
            ]
          },
          "metadata": {}
        },
        {
          "output_type": "display_data",
          "data": {
            "text/plain": [
              "<IPython.core.display.HTML object>"
            ],
            "text/html": [
              "<table border=\"1\" class=\"dataframe\">\n",
              "  <thead>\n",
              "    <tr style=\"text-align: left;\">\n",
              "      <th>epoch</th>\n",
              "      <th>train_loss</th>\n",
              "      <th>valid_loss</th>\n",
              "      <th>accuracy</th>\n",
              "      <th>f1_score</th>\n",
              "      <th>time</th>\n",
              "    </tr>\n",
              "  </thead>\n",
              "  <tbody>\n",
              "    <tr>\n",
              "      <td>0</td>\n",
              "      <td>2.237078</td>\n",
              "      <td>2.152585</td>\n",
              "      <td>0.201000</td>\n",
              "      <td>0.162120</td>\n",
              "      <td>00:04</td>\n",
              "    </tr>\n",
              "    <tr>\n",
              "      <td>1</td>\n",
              "      <td>2.080262</td>\n",
              "      <td>1.946190</td>\n",
              "      <td>0.269500</td>\n",
              "      <td>0.246395</td>\n",
              "      <td>00:05</td>\n",
              "    </tr>\n",
              "    <tr>\n",
              "      <td>2</td>\n",
              "      <td>1.925317</td>\n",
              "      <td>1.808854</td>\n",
              "      <td>0.315500</td>\n",
              "      <td>0.292806</td>\n",
              "      <td>00:04</td>\n",
              "    </tr>\n",
              "    <tr>\n",
              "      <td>3</td>\n",
              "      <td>1.813898</td>\n",
              "      <td>1.731324</td>\n",
              "      <td>0.349500</td>\n",
              "      <td>0.324767</td>\n",
              "      <td>00:04</td>\n",
              "    </tr>\n",
              "    <tr>\n",
              "      <td>4</td>\n",
              "      <td>1.732955</td>\n",
              "      <td>1.685433</td>\n",
              "      <td>0.360500</td>\n",
              "      <td>0.334919</td>\n",
              "      <td>00:05</td>\n",
              "    </tr>\n",
              "    <tr>\n",
              "      <td>5</td>\n",
              "      <td>1.671248</td>\n",
              "      <td>1.648467</td>\n",
              "      <td>0.367500</td>\n",
              "      <td>0.343976</td>\n",
              "      <td>00:04</td>\n",
              "    </tr>\n",
              "    <tr>\n",
              "      <td>6</td>\n",
              "      <td>1.623065</td>\n",
              "      <td>1.613622</td>\n",
              "      <td>0.412500</td>\n",
              "      <td>0.428632</td>\n",
              "      <td>00:04</td>\n",
              "    </tr>\n",
              "    <tr>\n",
              "      <td>7</td>\n",
              "      <td>1.584994</td>\n",
              "      <td>1.587951</td>\n",
              "      <td>0.446500</td>\n",
              "      <td>0.466192</td>\n",
              "      <td>00:05</td>\n",
              "    </tr>\n",
              "    <tr>\n",
              "      <td>8</td>\n",
              "      <td>1.548747</td>\n",
              "      <td>1.562896</td>\n",
              "      <td>0.472500</td>\n",
              "      <td>0.468359</td>\n",
              "      <td>00:04</td>\n",
              "    </tr>\n",
              "    <tr>\n",
              "      <td>9</td>\n",
              "      <td>1.517494</td>\n",
              "      <td>1.547604</td>\n",
              "      <td>0.481500</td>\n",
              "      <td>0.494096</td>\n",
              "      <td>00:04</td>\n",
              "    </tr>\n",
              "  </tbody>\n",
              "</table>"
            ]
          },
          "metadata": {}
        }
      ],
      "source": [
        "learn.fit(num_epochs,lr=learning_rate)"
      ]
    },
    {
      "cell_type": "markdown",
      "metadata": {
        "id": "xfjeJXEkzNcm"
      },
      "source": [
        "#### Rendimiento en el conjunto de *test*"
      ]
    },
    {
      "cell_type": "code",
      "execution_count": 27,
      "metadata": {
        "colab": {
          "base_uri": "https://localhost:8080/",
          "height": 52
        },
        "id": "73QhEjFdzTty",
        "outputId": "6bfd5648-c0df-4196-b05c-75639ee7ca37"
      },
      "outputs": [
        {
          "output_type": "display_data",
          "data": {
            "text/plain": [
              "<IPython.core.display.HTML object>"
            ],
            "text/html": [
              "\n",
              "<style>\n",
              "    /* Turns off some styling */\n",
              "    progress {\n",
              "        /* gets rid of default border in Firefox and Opera. */\n",
              "        border: none;\n",
              "        /* Needs to be in here for Safari polyfill so background images work as expected. */\n",
              "        background-size: auto;\n",
              "    }\n",
              "    progress:not([value]), progress:not([value])::-webkit-progress-bar {\n",
              "        background: repeating-linear-gradient(45deg, #7e7e7e, #7e7e7e 10px, #5c5c5c 10px, #5c5c5c 20px);\n",
              "    }\n",
              "    .progress-bar-interrupted, .progress-bar-interrupted::-webkit-progress-bar {\n",
              "        background: #F44336;\n",
              "    }\n",
              "</style>\n"
            ]
          },
          "metadata": {}
        },
        {
          "output_type": "display_data",
          "data": {
            "text/plain": [
              "<IPython.core.display.HTML object>"
            ],
            "text/html": []
          },
          "metadata": {}
        },
        {
          "output_type": "stream",
          "name": "stdout",
          "text": [
            "Accuracy en test: 0.48\n",
            "F1 en test: 0.49\n"
          ]
        }
      ],
      "source": [
        "accuracy_f1_test(path/'test', learn)"
      ]
    },
    {
      "cell_type": "markdown",
      "metadata": {
        "id": "h6rsLfBYgm7L"
      },
      "source": [
        "### Conv6"
      ]
    },
    {
      "cell_type": "markdown",
      "metadata": {
        "id": "4yXu3nccTsNX"
      },
      "source": [
        "Seleccionamos el *learning rate*:"
      ]
    },
    {
      "cell_type": "code",
      "execution_count": 28,
      "metadata": {
        "id": "mgUXpqtW4C_C"
      },
      "outputs": [],
      "source": [
        "learning_rate = 0.5"
      ]
    },
    {
      "cell_type": "markdown",
      "metadata": {
        "id": "RxtP9U5R4GB2"
      },
      "source": [
        "Consideramos ahora una red neuronal con $6$ capas convolucionales:"
      ]
    },
    {
      "cell_type": "markdown",
      "metadata": {
        "id": "kKNBEYWQ4JAh"
      },
      "source": [
        "#### Creación del modelo"
      ]
    },
    {
      "cell_type": "code",
      "execution_count": 29,
      "metadata": {
        "id": "kgnIT3vBgolq"
      },
      "outputs": [],
      "source": [
        "from torch.nn import Linear, LazyLinear, ReLU, Flatten, Conv2d, MaxPool2d, BatchNorm2d, Dropout, BatchNorm1d\n",
        "from torch.optim import Adadelta\n",
        "from torchsummary import summary\n",
        "\n",
        "# Crear el MLP con 2 capas ocultas\n",
        "opt_func = partial(OptimWrapper, opt=Adadelta, lr=learning_rate)\n",
        "\n",
        "conv6 = sequential(\n",
        "\n",
        "    # 1ª Capa convolucional:\n",
        "    # - Tantos canales de entrada como tenga la imagen de entrada\n",
        "    # - 32 canales de salida\n",
        "    # - Filtro 3x3\n",
        "    Conv2d(num_channels, 32, 3, padding='same'),\n",
        "    ReLU(),                                            # Capa ReLU\n",
        "    BatchNorm2d(32),                                   # Capa BatchNorm\n",
        "\n",
        "    # 2ª Capa convolucional:\n",
        "    # - 32 canales de entrada y 64 de salida\n",
        "    # - Filtro 3x3\n",
        "    Conv2d(32, 64, 3, padding='same'),\n",
        "    ReLU(),                                            # Capa ReLU\n",
        "    BatchNorm2d(64),                                   # Capa BatchNorm\n",
        "    MaxPool2d(2),                                      # Capa MaxPooling\n",
        "    Dropout(0.2),                                      # Capa Dropout (apago el 20% de las neuronas)\n",
        "\n",
        "    # 3ª Capa convolucional:\n",
        "    # - 64 canales de entrada y 64 de salida\n",
        "    # - Filtro 3x3\n",
        "    Conv2d(64, 64, 3, padding='same'),\n",
        "    ReLU(),                                            # Capa ReLU\n",
        "    BatchNorm2d(64),                                   # Capa BatchNorm\n",
        "\n",
        "    # 4ª Capa convolucional:\n",
        "    # - 64 canales de entrada y 64 de salida\n",
        "    # - Filtro 3x3\n",
        "    Conv2d(64, 64, 3, padding='same'),\n",
        "    ReLU(),                                            # Capa ReLU\n",
        "    BatchNorm2d(64),                                   # Capa BatchNorm\n",
        "    MaxPool2d(2),                                      # Capa MaxPooling\n",
        "    Dropout(0.3),                                      # Capa Dropout\n",
        "\n",
        "    # 5ª Capa convolucional:\n",
        "    # - 64 canales de entrada y 128 de salida\n",
        "    # - Filtro 3x3\n",
        "    Conv2d(64, 128, 3, padding='same'),\n",
        "    ReLU(),                                            # Capa ReLU\n",
        "    BatchNorm2d(128),                                  # Capa BatchNorm\n",
        "\n",
        "    # 6ª Capa convolucional:\n",
        "    # - 128 canales de entrada y 128 de salida\n",
        "    # - Filtro 3x3\n",
        "    Conv2d(128, 128, 3, padding='same'),\n",
        "    ReLU(),                                            # Capa ReLU\n",
        "    BatchNorm2d(128),                                  # Capa BatchNorm\n",
        "    MaxPool2d(2),                                      # Capa MaxPooling\n",
        "    Dropout(0.4),                                      # Capa Dropout\n",
        "    Flatten(),                                         # Aplanado\n",
        "\n",
        "    # Capa densa con 128 salidas (el nº de entradas se ajusta automáticamente)\n",
        "    LazyLinear(128),\n",
        "    ReLU(),                                            # Capa ReLU\n",
        "    BatchNorm1d(128),                                  # Capa BatchNorm\n",
        "    Dropout(0.5),                                      # Capa Dropout\n",
        "    Linear(128, num_classes)                           # Capa densa con num_classes salidas\n",
        ")\n",
        "\n",
        "\n",
        "# Crear el aprendiz (learner)\n",
        "learn = Learner(\n",
        "    dls,\n",
        "    conv6,\n",
        "    metrics=[\n",
        "        accuracy,\n",
        "        F1Score(average='weighted')\n",
        "    ],\n",
        "    opt_func=opt_func,\n",
        "    loss_func=CrossEntropyLossFlat(),\n",
        "    cbs=[EarlyStoppingCallback(monitor='valid_loss', patience=5)]\n",
        ")"
      ]
    },
    {
      "cell_type": "code",
      "execution_count": 30,
      "metadata": {
        "colab": {
          "base_uri": "https://localhost:8080/",
          "height": 1000
        },
        "id": "NwszgPLDktV9",
        "outputId": "c9228553-d167-4c5a-e94f-8ace60783a80"
      },
      "outputs": [
        {
          "output_type": "display_data",
          "data": {
            "text/plain": [
              "<IPython.core.display.HTML object>"
            ],
            "text/html": [
              "\n",
              "<style>\n",
              "    /* Turns off some styling */\n",
              "    progress {\n",
              "        /* gets rid of default border in Firefox and Opera. */\n",
              "        border: none;\n",
              "        /* Needs to be in here for Safari polyfill so background images work as expected. */\n",
              "        background-size: auto;\n",
              "    }\n",
              "    progress:not([value]), progress:not([value])::-webkit-progress-bar {\n",
              "        background: repeating-linear-gradient(45deg, #7e7e7e, #7e7e7e 10px, #5c5c5c 10px, #5c5c5c 20px);\n",
              "    }\n",
              "    .progress-bar-interrupted, .progress-bar-interrupted::-webkit-progress-bar {\n",
              "        background: #F44336;\n",
              "    }\n",
              "</style>\n"
            ]
          },
          "metadata": {}
        },
        {
          "output_type": "display_data",
          "data": {
            "text/plain": [
              "<IPython.core.display.HTML object>"
            ],
            "text/html": []
          },
          "metadata": {}
        },
        {
          "output_type": "execute_result",
          "data": {
            "text/plain": [
              "Sequential (Input shape: 128 x 3 x 32 x 32)\n",
              "============================================================================\n",
              "Layer (type)         Output Shape         Param #    Trainable \n",
              "============================================================================\n",
              "                     128 x 32 x 32 x 32  \n",
              "Conv2d                                    896        True      \n",
              "ReLU                                                           \n",
              "BatchNorm2d                               64         True      \n",
              "____________________________________________________________________________\n",
              "                     128 x 64 x 32 x 32  \n",
              "Conv2d                                    18496      True      \n",
              "ReLU                                                           \n",
              "BatchNorm2d                               128        True      \n",
              "____________________________________________________________________________\n",
              "                     128 x 64 x 16 x 16  \n",
              "MaxPool2d                                                      \n",
              "Dropout                                                        \n",
              "Conv2d                                    36928      True      \n",
              "ReLU                                                           \n",
              "BatchNorm2d                               128        True      \n",
              "Conv2d                                    36928      True      \n",
              "ReLU                                                           \n",
              "BatchNorm2d                               128        True      \n",
              "____________________________________________________________________________\n",
              "                     128 x 64 x 8 x 8    \n",
              "MaxPool2d                                                      \n",
              "Dropout                                                        \n",
              "____________________________________________________________________________\n",
              "                     128 x 128 x 8 x 8   \n",
              "Conv2d                                    73856      True      \n",
              "ReLU                                                           \n",
              "BatchNorm2d                               256        True      \n",
              "Conv2d                                    147584     True      \n",
              "ReLU                                                           \n",
              "BatchNorm2d                               256        True      \n",
              "____________________________________________________________________________\n",
              "                     128 x 128 x 4 x 4   \n",
              "MaxPool2d                                                      \n",
              "Dropout                                                        \n",
              "____________________________________________________________________________\n",
              "                     128 x 2048          \n",
              "Flatten                                                        \n",
              "____________________________________________________________________________\n",
              "                     128 x 128           \n",
              "Linear                                    262272     True      \n",
              "ReLU                                                           \n",
              "BatchNorm1d                               256        True      \n",
              "Dropout                                                        \n",
              "____________________________________________________________________________\n",
              "                     128 x 10            \n",
              "Linear                                    1290       True      \n",
              "____________________________________________________________________________\n",
              "\n",
              "Total params: 579,466\n",
              "Total trainable params: 579,466\n",
              "Total non-trainable params: 0\n",
              "\n",
              "Optimizer used: functools.partial(<class 'fastai.optimizer.OptimWrapper'>, opt=<class 'torch.optim.adadelta.Adadelta'>, lr=0.5)\n",
              "Loss function: FlattenedLoss of CrossEntropyLoss()\n",
              "\n",
              "Callbacks:\n",
              "  - TrainEvalCallback\n",
              "  - CastToTensor\n",
              "  - Recorder\n",
              "  - ProgressCallback\n",
              "  - EarlyStoppingCallback"
            ],
            "application/vnd.google.colaboratory.intrinsic+json": {
              "type": "string"
            }
          },
          "metadata": {},
          "execution_count": 30
        }
      ],
      "source": [
        "learn.summary()"
      ]
    },
    {
      "cell_type": "markdown",
      "metadata": {
        "id": "_4Cf-g5m6ujT"
      },
      "source": [
        "#### Entrenamiento del modelo"
      ]
    },
    {
      "cell_type": "code",
      "execution_count": 31,
      "metadata": {
        "colab": {
          "base_uri": "https://localhost:8080/",
          "height": 363
        },
        "id": "yRPr2rpdlb6u",
        "outputId": "df220e33-7b91-4755-a67d-1a03f80e1e7e"
      },
      "outputs": [
        {
          "output_type": "display_data",
          "data": {
            "text/plain": [
              "<IPython.core.display.HTML object>"
            ],
            "text/html": [
              "\n",
              "<style>\n",
              "    /* Turns off some styling */\n",
              "    progress {\n",
              "        /* gets rid of default border in Firefox and Opera. */\n",
              "        border: none;\n",
              "        /* Needs to be in here for Safari polyfill so background images work as expected. */\n",
              "        background-size: auto;\n",
              "    }\n",
              "    progress:not([value]), progress:not([value])::-webkit-progress-bar {\n",
              "        background: repeating-linear-gradient(45deg, #7e7e7e, #7e7e7e 10px, #5c5c5c 10px, #5c5c5c 20px);\n",
              "    }\n",
              "    .progress-bar-interrupted, .progress-bar-interrupted::-webkit-progress-bar {\n",
              "        background: #F44336;\n",
              "    }\n",
              "</style>\n"
            ]
          },
          "metadata": {}
        },
        {
          "output_type": "display_data",
          "data": {
            "text/plain": [
              "<IPython.core.display.HTML object>"
            ],
            "text/html": [
              "<table border=\"1\" class=\"dataframe\">\n",
              "  <thead>\n",
              "    <tr style=\"text-align: left;\">\n",
              "      <th>epoch</th>\n",
              "      <th>train_loss</th>\n",
              "      <th>valid_loss</th>\n",
              "      <th>accuracy</th>\n",
              "      <th>f1_score</th>\n",
              "      <th>time</th>\n",
              "    </tr>\n",
              "  </thead>\n",
              "  <tbody>\n",
              "    <tr>\n",
              "      <td>0</td>\n",
              "      <td>1.780920</td>\n",
              "      <td>1.610950</td>\n",
              "      <td>0.419500</td>\n",
              "      <td>0.406921</td>\n",
              "      <td>00:05</td>\n",
              "    </tr>\n",
              "    <tr>\n",
              "      <td>1</td>\n",
              "      <td>1.542910</td>\n",
              "      <td>1.289077</td>\n",
              "      <td>0.526000</td>\n",
              "      <td>0.516316</td>\n",
              "      <td>00:06</td>\n",
              "    </tr>\n",
              "    <tr>\n",
              "      <td>2</td>\n",
              "      <td>1.360991</td>\n",
              "      <td>1.199836</td>\n",
              "      <td>0.573000</td>\n",
              "      <td>0.557762</td>\n",
              "      <td>00:05</td>\n",
              "    </tr>\n",
              "    <tr>\n",
              "      <td>3</td>\n",
              "      <td>1.215210</td>\n",
              "      <td>1.059419</td>\n",
              "      <td>0.624000</td>\n",
              "      <td>0.619621</td>\n",
              "      <td>00:05</td>\n",
              "    </tr>\n",
              "    <tr>\n",
              "      <td>4</td>\n",
              "      <td>1.066688</td>\n",
              "      <td>0.964576</td>\n",
              "      <td>0.651000</td>\n",
              "      <td>0.646808</td>\n",
              "      <td>00:06</td>\n",
              "    </tr>\n",
              "    <tr>\n",
              "      <td>5</td>\n",
              "      <td>0.969469</td>\n",
              "      <td>0.998255</td>\n",
              "      <td>0.644000</td>\n",
              "      <td>0.636897</td>\n",
              "      <td>00:06</td>\n",
              "    </tr>\n",
              "    <tr>\n",
              "      <td>6</td>\n",
              "      <td>0.868640</td>\n",
              "      <td>0.953191</td>\n",
              "      <td>0.665500</td>\n",
              "      <td>0.662242</td>\n",
              "      <td>00:05</td>\n",
              "    </tr>\n",
              "    <tr>\n",
              "      <td>7</td>\n",
              "      <td>0.795065</td>\n",
              "      <td>0.991488</td>\n",
              "      <td>0.663500</td>\n",
              "      <td>0.659825</td>\n",
              "      <td>00:05</td>\n",
              "    </tr>\n",
              "    <tr>\n",
              "      <td>8</td>\n",
              "      <td>0.729684</td>\n",
              "      <td>0.891393</td>\n",
              "      <td>0.706500</td>\n",
              "      <td>0.699991</td>\n",
              "      <td>00:06</td>\n",
              "    </tr>\n",
              "    <tr>\n",
              "      <td>9</td>\n",
              "      <td>0.667477</td>\n",
              "      <td>0.867526</td>\n",
              "      <td>0.696500</td>\n",
              "      <td>0.696102</td>\n",
              "      <td>00:05</td>\n",
              "    </tr>\n",
              "  </tbody>\n",
              "</table>"
            ]
          },
          "metadata": {}
        }
      ],
      "source": [
        "learn.fit(num_epochs,lr=learning_rate)"
      ]
    },
    {
      "cell_type": "markdown",
      "metadata": {
        "id": "RhSv4Era66LA"
      },
      "source": [
        "#### Rendimiento en el conjunto de *test*"
      ]
    },
    {
      "cell_type": "code",
      "execution_count": 32,
      "metadata": {
        "colab": {
          "base_uri": "https://localhost:8080/",
          "height": 52
        },
        "id": "yPdztH1j7Aae",
        "outputId": "1a082cdf-364e-46ed-8f1f-ee2007ac1e43"
      },
      "outputs": [
        {
          "output_type": "display_data",
          "data": {
            "text/plain": [
              "<IPython.core.display.HTML object>"
            ],
            "text/html": [
              "\n",
              "<style>\n",
              "    /* Turns off some styling */\n",
              "    progress {\n",
              "        /* gets rid of default border in Firefox and Opera. */\n",
              "        border: none;\n",
              "        /* Needs to be in here for Safari polyfill so background images work as expected. */\n",
              "        background-size: auto;\n",
              "    }\n",
              "    progress:not([value]), progress:not([value])::-webkit-progress-bar {\n",
              "        background: repeating-linear-gradient(45deg, #7e7e7e, #7e7e7e 10px, #5c5c5c 10px, #5c5c5c 20px);\n",
              "    }\n",
              "    .progress-bar-interrupted, .progress-bar-interrupted::-webkit-progress-bar {\n",
              "        background: #F44336;\n",
              "    }\n",
              "</style>\n"
            ]
          },
          "metadata": {}
        },
        {
          "output_type": "display_data",
          "data": {
            "text/plain": [
              "<IPython.core.display.HTML object>"
            ],
            "text/html": []
          },
          "metadata": {}
        },
        {
          "output_type": "stream",
          "name": "stdout",
          "text": [
            "Accuracy en test: 0.69\n",
            "F1 en test: 0.69\n"
          ]
        }
      ],
      "source": [
        "accuracy_f1_test(path/'test', learn)"
      ]
    },
    {
      "cell_type": "markdown",
      "metadata": {
        "id": "tSCS3WM2x_Wd"
      },
      "source": [
        "### ResNet18"
      ]
    },
    {
      "cell_type": "markdown",
      "metadata": {
        "id": "EuwGimZLTvyH"
      },
      "source": [
        "Seleccionamos el *learning rate*:"
      ]
    },
    {
      "cell_type": "code",
      "execution_count": 33,
      "metadata": {
        "id": "B4wxdw549bsS"
      },
      "outputs": [],
      "source": [
        "learning_rate = 0.1"
      ]
    },
    {
      "cell_type": "markdown",
      "metadata": {
        "id": "1n43Pkju923F"
      },
      "source": [
        "Consideramos ahora el modelo ResNet18:"
      ]
    },
    {
      "cell_type": "markdown",
      "metadata": {
        "id": "klEx1lBm9ycK"
      },
      "source": [
        "#### Creación del modelo"
      ]
    },
    {
      "cell_type": "code",
      "execution_count": 34,
      "metadata": {
        "id": "pGFboobnyIWA",
        "colab": {
          "base_uri": "https://localhost:8080/"
        },
        "outputId": "73c38411-2e76-4859-b866-f4d84a257691"
      },
      "outputs": [
        {
          "output_type": "stream",
          "name": "stderr",
          "text": [
            "Downloading: \"https://download.pytorch.org/models/resnet18-f37072fd.pth\" to /root/.cache/torch/hub/checkpoints/resnet18-f37072fd.pth\n",
            "100%|██████████| 44.7M/44.7M [00:00<00:00, 174MB/s]\n"
          ]
        }
      ],
      "source": [
        "from torch.optim import Adadelta\n",
        "\n",
        "# Crear el MLP con 2 capas ocultas\n",
        "opt_func = partial(OptimWrapper, opt=Adadelta, lr=learning_rate)\n",
        "\n",
        "model = models.resnet18\n",
        "\n",
        "# pretrained = True, pesos preentrenados en ImageNet\n",
        "learn = vision_learner(dls,\n",
        "                       model,\n",
        "                       pretrained = True,\n",
        "                       n_in=num_channels,\n",
        "                       metrics=[accuracy, F1Score(average='weighted')],\n",
        "                       opt_func=opt_func,\n",
        "                       loss_func=CrossEntropyLossFlat(),\n",
        "                       cbs=[EarlyStoppingCallback(monitor='valid_loss', patience=early_stopping_patience)])"
      ]
    },
    {
      "cell_type": "markdown",
      "metadata": {
        "id": "TSbttHtz-Cqv"
      },
      "source": [
        "#### Entrenamiento del modelo"
      ]
    },
    {
      "cell_type": "code",
      "execution_count": 35,
      "metadata": {
        "colab": {
          "base_uri": "https://localhost:8080/",
          "height": 143
        },
        "id": "i1jGWnd0a5NY",
        "outputId": "2201798f-1824-4793-913e-0e057998ed13"
      },
      "outputs": [
        {
          "output_type": "display_data",
          "data": {
            "text/plain": [
              "<IPython.core.display.HTML object>"
            ],
            "text/html": [
              "\n",
              "<style>\n",
              "    /* Turns off some styling */\n",
              "    progress {\n",
              "        /* gets rid of default border in Firefox and Opera. */\n",
              "        border: none;\n",
              "        /* Needs to be in here for Safari polyfill so background images work as expected. */\n",
              "        background-size: auto;\n",
              "    }\n",
              "    progress:not([value]), progress:not([value])::-webkit-progress-bar {\n",
              "        background: repeating-linear-gradient(45deg, #7e7e7e, #7e7e7e 10px, #5c5c5c 10px, #5c5c5c 20px);\n",
              "    }\n",
              "    .progress-bar-interrupted, .progress-bar-interrupted::-webkit-progress-bar {\n",
              "        background: #F44336;\n",
              "    }\n",
              "</style>\n"
            ]
          },
          "metadata": {}
        },
        {
          "output_type": "display_data",
          "data": {
            "text/plain": [
              "<IPython.core.display.HTML object>"
            ],
            "text/html": [
              "<table border=\"1\" class=\"dataframe\">\n",
              "  <thead>\n",
              "    <tr style=\"text-align: left;\">\n",
              "      <th>epoch</th>\n",
              "      <th>train_loss</th>\n",
              "      <th>valid_loss</th>\n",
              "      <th>accuracy</th>\n",
              "      <th>f1_score</th>\n",
              "      <th>time</th>\n",
              "    </tr>\n",
              "  </thead>\n",
              "  <tbody>\n",
              "    <tr>\n",
              "      <td>0</td>\n",
              "      <td>2.891823</td>\n",
              "      <td>2.005680</td>\n",
              "      <td>0.337000</td>\n",
              "      <td>0.332921</td>\n",
              "      <td>00:04</td>\n",
              "    </tr>\n",
              "    <tr>\n",
              "      <td>1</td>\n",
              "      <td>2.501308</td>\n",
              "      <td>1.847631</td>\n",
              "      <td>0.402500</td>\n",
              "      <td>0.396491</td>\n",
              "      <td>00:05</td>\n",
              "    </tr>\n",
              "    <tr>\n",
              "      <td>2</td>\n",
              "      <td>2.268393</td>\n",
              "      <td>1.747688</td>\n",
              "      <td>0.435000</td>\n",
              "      <td>0.428506</td>\n",
              "      <td>00:04</td>\n",
              "    </tr>\n",
              "  </tbody>\n",
              "</table>"
            ]
          },
          "metadata": {}
        }
      ],
      "source": [
        "# Entrenamos durante 3 épocas la cabecera del modelo\n",
        "learn.fit(3, lr=learning_rate)"
      ]
    },
    {
      "cell_type": "code",
      "execution_count": 36,
      "metadata": {
        "colab": {
          "base_uri": "https://localhost:8080/",
          "height": 224
        },
        "id": "G9Rnj1AbTau5",
        "outputId": "638cc91c-cb99-4a83-c05d-b355a661d0ec"
      },
      "outputs": [
        {
          "output_type": "display_data",
          "data": {
            "text/plain": [
              "<IPython.core.display.HTML object>"
            ],
            "text/html": [
              "\n",
              "<style>\n",
              "    /* Turns off some styling */\n",
              "    progress {\n",
              "        /* gets rid of default border in Firefox and Opera. */\n",
              "        border: none;\n",
              "        /* Needs to be in here for Safari polyfill so background images work as expected. */\n",
              "        background-size: auto;\n",
              "    }\n",
              "    progress:not([value]), progress:not([value])::-webkit-progress-bar {\n",
              "        background: repeating-linear-gradient(45deg, #7e7e7e, #7e7e7e 10px, #5c5c5c 10px, #5c5c5c 20px);\n",
              "    }\n",
              "    .progress-bar-interrupted, .progress-bar-interrupted::-webkit-progress-bar {\n",
              "        background: #F44336;\n",
              "    }\n",
              "</style>\n"
            ]
          },
          "metadata": {}
        },
        {
          "output_type": "display_data",
          "data": {
            "text/plain": [
              "<IPython.core.display.HTML object>"
            ],
            "text/html": [
              "<table border=\"1\" class=\"dataframe\">\n",
              "  <thead>\n",
              "    <tr style=\"text-align: left;\">\n",
              "      <th>epoch</th>\n",
              "      <th>train_loss</th>\n",
              "      <th>valid_loss</th>\n",
              "      <th>accuracy</th>\n",
              "      <th>f1_score</th>\n",
              "      <th>time</th>\n",
              "    </tr>\n",
              "  </thead>\n",
              "  <tbody>\n",
              "    <tr>\n",
              "      <td>0</td>\n",
              "      <td>1.641611</td>\n",
              "      <td>1.186582</td>\n",
              "      <td>0.613000</td>\n",
              "      <td>0.607524</td>\n",
              "      <td>00:05</td>\n",
              "    </tr>\n",
              "    <tr>\n",
              "      <td>1</td>\n",
              "      <td>1.183286</td>\n",
              "      <td>1.023701</td>\n",
              "      <td>0.652500</td>\n",
              "      <td>0.648764</td>\n",
              "      <td>00:05</td>\n",
              "    </tr>\n",
              "    <tr>\n",
              "      <td>2</td>\n",
              "      <td>0.869222</td>\n",
              "      <td>1.075230</td>\n",
              "      <td>0.666500</td>\n",
              "      <td>0.661843</td>\n",
              "      <td>00:05</td>\n",
              "    </tr>\n",
              "    <tr>\n",
              "      <td>3</td>\n",
              "      <td>0.595115</td>\n",
              "      <td>1.088569</td>\n",
              "      <td>0.680500</td>\n",
              "      <td>0.678002</td>\n",
              "      <td>00:06</td>\n",
              "    </tr>\n",
              "    <tr>\n",
              "      <td>4</td>\n",
              "      <td>0.417845</td>\n",
              "      <td>1.044446</td>\n",
              "      <td>0.707000</td>\n",
              "      <td>0.706454</td>\n",
              "      <td>00:04</td>\n",
              "    </tr>\n",
              "  </tbody>\n",
              "</table>"
            ]
          },
          "metadata": {}
        },
        {
          "output_type": "stream",
          "name": "stdout",
          "text": [
            "No improvement since epoch 1: early stopping\n"
          ]
        }
      ],
      "source": [
        "# Hacemos fine-tuning durante el resto de épocas\n",
        "learn.unfreeze()\n",
        "learn.fit(num_epochs-3, lr=learning_rate)"
      ]
    },
    {
      "cell_type": "markdown",
      "metadata": {
        "id": "O-VGUlej-Jvd"
      },
      "source": [
        "#### Rendimiento den el conjunto de *test*"
      ]
    },
    {
      "cell_type": "code",
      "execution_count": 37,
      "metadata": {
        "colab": {
          "base_uri": "https://localhost:8080/",
          "height": 52
        },
        "id": "exF-Di43-NGO",
        "outputId": "5d3cf909-996b-422d-bc98-f943b9cda639"
      },
      "outputs": [
        {
          "output_type": "display_data",
          "data": {
            "text/plain": [
              "<IPython.core.display.HTML object>"
            ],
            "text/html": [
              "\n",
              "<style>\n",
              "    /* Turns off some styling */\n",
              "    progress {\n",
              "        /* gets rid of default border in Firefox and Opera. */\n",
              "        border: none;\n",
              "        /* Needs to be in here for Safari polyfill so background images work as expected. */\n",
              "        background-size: auto;\n",
              "    }\n",
              "    progress:not([value]), progress:not([value])::-webkit-progress-bar {\n",
              "        background: repeating-linear-gradient(45deg, #7e7e7e, #7e7e7e 10px, #5c5c5c 10px, #5c5c5c 20px);\n",
              "    }\n",
              "    .progress-bar-interrupted, .progress-bar-interrupted::-webkit-progress-bar {\n",
              "        background: #F44336;\n",
              "    }\n",
              "</style>\n"
            ]
          },
          "metadata": {}
        },
        {
          "output_type": "display_data",
          "data": {
            "text/plain": [
              "<IPython.core.display.HTML object>"
            ],
            "text/html": []
          },
          "metadata": {}
        },
        {
          "output_type": "stream",
          "name": "stdout",
          "text": [
            "Accuracy en test: 0.70\n",
            "F1 en test: 0.70\n"
          ]
        }
      ],
      "source": [
        "accuracy_f1_test(path/'test', learn)"
      ]
    }
  ],
  "metadata": {
    "accelerator": "GPU",
    "colab": {
      "gpuType": "T4",
      "toc_visible": true,
      "provenance": []
    },
    "kernelspec": {
      "display_name": "Python 3",
      "name": "python3"
    },
    "language_info": {
      "name": "python"
    }
  },
  "nbformat": 4,
  "nbformat_minor": 0
}