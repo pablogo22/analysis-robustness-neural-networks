{
  "cells": [
    {
      "cell_type": "markdown",
      "metadata": {
        "id": "W4WYVxaUKciU"
      },
      "source": [
        "## Planteamiento del problema"
      ]
    },
    {
      "cell_type": "markdown",
      "metadata": {
        "id": "1IOP5vCJea5L"
      },
      "source": [
        "La primera pregunta que queremos responder es\n",
        "**¿El número de datos limpios inicial $n$ afecta al rendimiento?**"
      ]
    },
    {
      "cell_type": "markdown",
      "metadata": {
        "id": "R_ke1eLAF981"
      },
      "source": [
        "En este experimento, consideraremos el siguiente escenario:\n",
        "- Tenemos $n$ imágenes con etiquetas limpias.\n",
        "- Por cada imagen con etiquetas limpias, introducimos $\\alpha$ imágenes con etiquetas ruidosas (es decir, su etiqueta es aleatoria). Por tanto, añadimos $\\alpha n$ imágenes.\n",
        "- En total, acabamos con $\\alpha n + n = (\\alpha+1)n $ imágenes"
      ]
    },
    {
      "cell_type": "markdown",
      "metadata": {
        "id": "aDRfbZM4JOvF"
      },
      "source": [
        "Las arquitecturas y *dataset* que utilizaremos en este experimento serán:\n",
        "- Trabajaremos con el conjunto de datos MNIST.\n",
        "- Trabarejemos con varios modelos con distinto orden de complejidad: MLP con 2 capas ocultas, redes neuronales con 4 y 6 capas convolucionales, respectivamente y ResNet18.\n",
        "- Utilizaremos ruido uniforme, en el que la etiqueta ruidosa se asigna aleatoriamente entre las clases posibles, todas con la misma probabilidad."
      ]
    },
    {
      "cell_type": "markdown",
      "source": [
        "Realizaremos el entrenamiento con el conjunto de datos ruidoso y evaluaremos su rendimiento en un conjunto de test limpio (sin ruido)."
      ],
      "metadata": {
        "id": "BpKdGAPc84nU"
      }
    },
    {
      "cell_type": "markdown",
      "metadata": {
        "id": "S9hdo6M6JxGf"
      },
      "source": [
        "## Instalación de fastai"
      ]
    },
    {
      "cell_type": "code",
      "execution_count": null,
      "metadata": {
        "id": "9NGwKwBRK1EK",
        "colab": {
          "base_uri": "https://localhost:8080/"
        },
        "outputId": "6d9bcef0-9f77-426e-f98d-f51cc4c54dd0"
      },
      "outputs": [
        {
          "output_type": "stream",
          "name": "stdout",
          "text": [
            "\u001b[?25l   \u001b[90m━━━━━━━━━━━━━━━━━━━━━━━━━━━━━━━━━━━━━━━━\u001b[0m \u001b[32m0.0/235.3 kB\u001b[0m \u001b[31m?\u001b[0m eta \u001b[36m-:--:--\u001b[0m\r\u001b[2K   \u001b[91m━━━━━━━━━━━━━━━━━━━━━━━━━━━━━━━━━━━━━━\u001b[0m\u001b[90m╺\u001b[0m\u001b[90m━\u001b[0m \u001b[32m225.3/235.3 kB\u001b[0m \u001b[31m25.6 MB/s\u001b[0m eta \u001b[36m0:00:01\u001b[0m\r\u001b[2K   \u001b[91m━━━━━━━━━━━━━━━━━━━━━━━━━━━━━━━━━━━━━━\u001b[0m\u001b[90m╺\u001b[0m\u001b[90m━\u001b[0m \u001b[32m225.3/235.3 kB\u001b[0m \u001b[31m25.6 MB/s\u001b[0m eta \u001b[36m0:00:01\u001b[0m\r\u001b[2K   \u001b[90m━━━━━━━━━━━━━━━━━━━━━━━━━━━━━━━━━━━━━━━━\u001b[0m \u001b[32m235.3/235.3 kB\u001b[0m \u001b[31m2.3 MB/s\u001b[0m eta \u001b[36m0:00:00\u001b[0m\n",
            "\u001b[2K   \u001b[90m━━━━━━━━━━━━━━━━━━━━━━━━━━━━━━━━━━━━━━━━\u001b[0m \u001b[32m78.2/78.2 kB\u001b[0m \u001b[31m6.3 MB/s\u001b[0m eta \u001b[36m0:00:00\u001b[0m\n",
            "\u001b[2K   \u001b[90m━━━━━━━━━━━━━━━━━━━━━━━━━━━━━━━━━━━━━━━━\u001b[0m \u001b[32m363.4/363.4 MB\u001b[0m \u001b[31m3.3 MB/s\u001b[0m eta \u001b[36m0:00:00\u001b[0m\n",
            "\u001b[2K   \u001b[90m━━━━━━━━━━━━━━━━━━━━━━━━━━━━━━━━━━━━━━━━\u001b[0m \u001b[32m13.8/13.8 MB\u001b[0m \u001b[31m54.6 MB/s\u001b[0m eta \u001b[36m0:00:00\u001b[0m\n",
            "\u001b[2K   \u001b[90m━━━━━━━━━━━━━━━━━━━━━━━━━━━━━━━━━━━━━━━━\u001b[0m \u001b[32m24.6/24.6 MB\u001b[0m \u001b[31m66.7 MB/s\u001b[0m eta \u001b[36m0:00:00\u001b[0m\n",
            "\u001b[2K   \u001b[90m━━━━━━━━━━━━━━━━━━━━━━━━━━━━━━━━━━━━━━━━\u001b[0m \u001b[32m883.7/883.7 kB\u001b[0m \u001b[31m38.5 MB/s\u001b[0m eta \u001b[36m0:00:00\u001b[0m\n",
            "\u001b[2K   \u001b[90m━━━━━━━━━━━━━━━━━━━━━━━━━━━━━━━━━━━━━━━━\u001b[0m \u001b[32m664.8/664.8 MB\u001b[0m \u001b[31m2.1 MB/s\u001b[0m eta \u001b[36m0:00:00\u001b[0m\n",
            "\u001b[2K   \u001b[90m━━━━━━━━━━━━━━━━━━━━━━━━━━━━━━━━━━━━━━━━\u001b[0m \u001b[32m211.5/211.5 MB\u001b[0m \u001b[31m6.0 MB/s\u001b[0m eta \u001b[36m0:00:00\u001b[0m\n",
            "\u001b[2K   \u001b[90m━━━━━━━━━━━━━━━━━━━━━━━━━━━━━━━━━━━━━━━━\u001b[0m \u001b[32m56.3/56.3 MB\u001b[0m \u001b[31m12.7 MB/s\u001b[0m eta \u001b[36m0:00:00\u001b[0m\n",
            "\u001b[2K   \u001b[90m━━━━━━━━━━━━━━━━━━━━━━━━━━━━━━━━━━━━━━━━\u001b[0m \u001b[32m127.9/127.9 MB\u001b[0m \u001b[31m7.4 MB/s\u001b[0m eta \u001b[36m0:00:00\u001b[0m\n",
            "\u001b[2K   \u001b[90m━━━━━━━━━━━━━━━━━━━━━━━━━━━━━━━━━━━━━━━━\u001b[0m \u001b[32m207.5/207.5 MB\u001b[0m \u001b[31m8.4 MB/s\u001b[0m eta \u001b[36m0:00:00\u001b[0m\n",
            "\u001b[2K   \u001b[90m━━━━━━━━━━━━━━━━━━━━━━━━━━━━━━━━━━━━━━━━\u001b[0m \u001b[32m21.1/21.1 MB\u001b[0m \u001b[31m41.8 MB/s\u001b[0m eta \u001b[36m0:00:00\u001b[0m\n",
            "\u001b[2K   \u001b[90m━━━━━━━━━━━━━━━━━━━━━━━━━━━━━━━━━━━━━━━━\u001b[0m \u001b[32m42.6/42.6 kB\u001b[0m \u001b[31m3.8 MB/s\u001b[0m eta \u001b[36m0:00:00\u001b[0m\n",
            "\u001b[2K   \u001b[90m━━━━━━━━━━━━━━━━━━━━━━━━━━━━━━━━━━━━━━━━\u001b[0m \u001b[32m1.2/1.2 MB\u001b[0m \u001b[31m38.8 MB/s\u001b[0m eta \u001b[36m0:00:00\u001b[0m\n",
            "\u001b[?25h"
          ]
        }
      ],
      "source": [
        "!pip install -Uqq fastai"
      ]
    },
    {
      "cell_type": "code",
      "execution_count": null,
      "metadata": {
        "colab": {
          "base_uri": "https://localhost:8080/"
        },
        "id": "CKIWYmayWs9e",
        "outputId": "79d3b5c3-f4cb-464b-86b1-2c20347af627"
      },
      "outputs": [
        {
          "output_type": "stream",
          "name": "stdout",
          "text": [
            "Python: 3.11.13 (main, Jun  4 2025, 08:57:29) [GCC 11.4.0]\n",
            "PyTorch: 2.6.0+cu124\n",
            "CUDA disponible: True\n",
            "FastAI: 2.8.2\n",
            "NumPy: 2.0.2\n"
          ]
        }
      ],
      "source": [
        "from fastai.vision.all import *\n",
        "import fastai\n",
        "import numpy\n",
        "\n",
        "print(\"Python:\", sys.version)\n",
        "print(\"PyTorch:\", torch.__version__)\n",
        "print(\"CUDA disponible:\", torch.cuda.is_available())\n",
        "print(\"FastAI:\", fastai.__version__)\n",
        "print(\"NumPy:\", numpy.__version__)"
      ]
    },
    {
      "cell_type": "markdown",
      "metadata": {
        "id": "ioNUlReAjxLA"
      },
      "source": [
        "## Carga del *dataset* MNIST"
      ]
    },
    {
      "cell_type": "markdown",
      "source": [
        "Descargamos el *dataset* MNIST:"
      ],
      "metadata": {
        "id": "UDZ3N_VSZW68"
      }
    },
    {
      "cell_type": "code",
      "execution_count": null,
      "metadata": {
        "colab": {
          "base_uri": "https://localhost:8080/",
          "height": 37
        },
        "id": "8RFgsrxaLSvq",
        "outputId": "b505b806-b338-47fa-cfc2-16f34fd19c39"
      },
      "outputs": [
        {
          "output_type": "display_data",
          "data": {
            "text/plain": [
              "<IPython.core.display.HTML object>"
            ],
            "text/html": [
              "\n",
              "<style>\n",
              "    /* Turns off some styling */\n",
              "    progress {\n",
              "        /* gets rid of default border in Firefox and Opera. */\n",
              "        border: none;\n",
              "        /* Needs to be in here for Safari polyfill so background images work as expected. */\n",
              "        background-size: auto;\n",
              "    }\n",
              "    progress:not([value]), progress:not([value])::-webkit-progress-bar {\n",
              "        background: repeating-linear-gradient(45deg, #7e7e7e, #7e7e7e 10px, #5c5c5c 10px, #5c5c5c 20px);\n",
              "    }\n",
              "    .progress-bar-interrupted, .progress-bar-interrupted::-webkit-progress-bar {\n",
              "        background: #F44336;\n",
              "    }\n",
              "</style>\n"
            ]
          },
          "metadata": {}
        },
        {
          "output_type": "display_data",
          "data": {
            "text/plain": [
              "<IPython.core.display.HTML object>"
            ],
            "text/html": [
              "\n",
              "    <div>\n",
              "      <progress value='15687680' class='' max='15683414' style='width:300px; height:20px; vertical-align: middle;'></progress>\n",
              "      100.03% [15687680/15683414 00:00&lt;00:00]\n",
              "    </div>\n",
              "    "
            ]
          },
          "metadata": {}
        }
      ],
      "source": [
        "# We get the MNIST dataset\n",
        "path = untar_data(URLs.MNIST,force_download=True)"
      ]
    },
    {
      "cell_type": "code",
      "execution_count": null,
      "metadata": {
        "colab": {
          "base_uri": "https://localhost:8080/"
        },
        "id": "d2tp1ddMMCU8",
        "outputId": "31375809-ddee-4ed8-f61c-21b3c7708c62"
      },
      "outputs": [
        {
          "output_type": "stream",
          "name": "stdout",
          "text": [
            "/root/.fastai/data/mnist_png\n",
            "[Path('/root/.fastai/data/mnist_png/testing'), Path('/root/.fastai/data/mnist_png/training')]\n",
            "[Path('/root/.fastai/data/mnist_png/training/4'), Path('/root/.fastai/data/mnist_png/training/1'), Path('/root/.fastai/data/mnist_png/training/9'), Path('/root/.fastai/data/mnist_png/training/6'), Path('/root/.fastai/data/mnist_png/training/3'), Path('/root/.fastai/data/mnist_png/training/5'), Path('/root/.fastai/data/mnist_png/training/8'), Path('/root/.fastai/data/mnist_png/training/7'), Path('/root/.fastai/data/mnist_png/training/0'), Path('/root/.fastai/data/mnist_png/training/2')]\n",
            "[Path('/root/.fastai/data/mnist_png/testing/4'), Path('/root/.fastai/data/mnist_png/testing/1'), Path('/root/.fastai/data/mnist_png/testing/9'), Path('/root/.fastai/data/mnist_png/testing/6'), Path('/root/.fastai/data/mnist_png/testing/3'), Path('/root/.fastai/data/mnist_png/testing/5'), Path('/root/.fastai/data/mnist_png/testing/8'), Path('/root/.fastai/data/mnist_png/testing/7'), Path('/root/.fastai/data/mnist_png/testing/0'), Path('/root/.fastai/data/mnist_png/testing/2')]\n"
          ]
        }
      ],
      "source": [
        "# The MNIST dataset, follows a common layout for machine learning datasets:\n",
        "# separate folders for the training set and the test set.\n",
        "print(path)\n",
        "print(path.ls())\n",
        "print((path/'training').ls())\n",
        "print((path/'testing').ls())\n",
        "train_classes = (path/'training').ls()\n",
        "test_classes = (path/'testing').ls()"
      ]
    },
    {
      "cell_type": "markdown",
      "source": [
        "Comprobamos que efectivamente disponemos de $60000$ ejemplos de entrenamiento y $10000$ de *test*, que el tamaño de las imágenes es $28\\times 28$ y que el número de clases es $10$ ($0$-$9$)."
      ],
      "metadata": {
        "id": "YuASIWipb0Na"
      }
    },
    {
      "cell_type": "code",
      "execution_count": null,
      "metadata": {
        "colab": {
          "base_uri": "https://localhost:8080/"
        },
        "id": "Eh5wDFpCMkaM",
        "outputId": "87e83477-0170-4538-aa0d-29f64eb8c7ac"
      },
      "outputs": [
        {
          "output_type": "stream",
          "name": "stdout",
          "text": [
            "Número de imágenes de entrenamiento: 60000\n",
            "Número de imágenes de test: 10000\n",
            "Tamaño de las imágenes: 28x28\n",
            "Número de clases: 10\n"
          ]
        }
      ],
      "source": [
        "from cv2 import imread\n",
        "\n",
        "n_training = np.sum([len(class_files.ls()) for class_files in train_classes])\n",
        "n_test = np.sum([len(class_files.ls()) for class_files in test_classes])\n",
        "\n",
        "img = imread(path/'training'/'0'/'1.png')\n",
        "width, height = img.shape[0:2]\n",
        "num_channels = 1\n",
        "num_classes = len(train_classes)\n",
        "\n",
        "print(f\"Número de imágenes de entrenamiento: {n_training}\")\n",
        "print(f\"Número de imágenes de test: {n_test}\")\n",
        "print(f\"Tamaño de las imágenes: {width}x{height}\")\n",
        "print(f\"Número de clases: {num_classes}\")"
      ]
    },
    {
      "cell_type": "markdown",
      "metadata": {
        "id": "S1oEv_g2esgF"
      },
      "source": [
        "Seleccionamos un valor para $\\alpha$, un valor para $n$ y fijamos la semilla aleatoria con el fin de garantizar la reproducibilidad en la mayor medida posible."
      ]
    },
    {
      "cell_type": "code",
      "execution_count": null,
      "metadata": {
        "id": "gpXwimAifcDy"
      },
      "outputs": [],
      "source": [
        "alpha = 0\n",
        "n = 10000\n",
        "random.seed(42)"
      ]
    },
    {
      "cell_type": "markdown",
      "source": [
        "Creamos una función para seleccionar repetir las imágenes tantas veces como indique $\\alpha$:"
      ],
      "metadata": {
        "id": "RmE9bsUlhQht"
      }
    },
    {
      "cell_type": "code",
      "execution_count": null,
      "metadata": {
        "id": "EQ7S_XJRr_bZ"
      },
      "outputs": [],
      "source": [
        "def repeat_images(images, alpha):\n",
        "    \"\"\"Devuelve una lista con cada imagen repetida alpha veces.\"\"\"\n",
        "    return L(img for img in images for _ in range(alpha+1))"
      ]
    },
    {
      "cell_type": "markdown",
      "source": [
        "Creamos una función que selecciona un cierto número de imágenes (con clases balanceadas) del conjunto de entrenamiento:"
      ],
      "metadata": {
        "id": "fcf2Jx-bBmFd"
      }
    },
    {
      "cell_type": "code",
      "source": [
        "from fastcore.foundation import L\n",
        "\n",
        "def get_balanced_images(path):\n",
        "    \"\"\"Selecciona hasta max_per_class imágenes por cada categoría.\"\"\"\n",
        "    all_images = get_image_files(path)\n",
        "    by_class = {c: [] for c in set(parent_label(f) for f in all_images)}\n",
        "\n",
        "    max_per_class = n / num_classes\n",
        "\n",
        "    for img in all_images:\n",
        "        label = parent_label(img)\n",
        "        if len(by_class[label]) < max_per_class:\n",
        "            by_class[label].append(img)\n",
        "\n",
        "    selected_images = L([img for imgs in by_class.values() for img in imgs])\n",
        "    return repeat_images(selected_images, alpha)"
      ],
      "metadata": {
        "id": "ZLWKSbcDBmQm"
      },
      "execution_count": null,
      "outputs": []
    },
    {
      "cell_type": "markdown",
      "source": [
        "Seleccionamos las imágenes:"
      ],
      "metadata": {
        "id": "8xNEOQhkBxBN"
      }
    },
    {
      "cell_type": "code",
      "execution_count": null,
      "metadata": {
        "id": "Vi7SbbQme1tR"
      },
      "outputs": [],
      "source": [
        "selected_images = get_balanced_images(path/'training')"
      ]
    },
    {
      "cell_type": "code",
      "execution_count": null,
      "metadata": {
        "colab": {
          "base_uri": "https://localhost:8080/"
        },
        "id": "vECZZGnve23B",
        "outputId": "394c7ef4-4fd6-411e-93cd-ee2e05e5c985"
      },
      "outputs": [
        {
          "output_type": "execute_result",
          "data": {
            "text/plain": [
              "10000"
            ]
          },
          "metadata": {},
          "execution_count": 37
        }
      ],
      "source": [
        "len(selected_images)"
      ]
    },
    {
      "cell_type": "markdown",
      "metadata": {
        "id": "b1DEPXnUfKhD"
      },
      "source": [
        "Creamos una función que selecciona las imágenes del conjunto de entrenamiento, y les asigna una etiqueta de forma aleatoria (uniforme):"
      ]
    },
    {
      "cell_type": "code",
      "execution_count": null,
      "metadata": {
        "id": "09g2zIVTsibB"
      },
      "outputs": [],
      "source": [
        "def get_labels(images):\n",
        "  i = 0\n",
        "  labels = []\n",
        "\n",
        "  while(i<len(images)):\n",
        "    labels.append(parent_label(images[i]))\n",
        "\n",
        "    for j in range(alpha):\n",
        "      labels.append(str(random.randint(0, 9)))\n",
        "\n",
        "    i += 1+alpha\n",
        "\n",
        "  return labels"
      ]
    },
    {
      "cell_type": "code",
      "source": [
        "labels = get_labels(selected_images)"
      ],
      "metadata": {
        "id": "djKSF4elhk4W"
      },
      "execution_count": null,
      "outputs": []
    },
    {
      "cell_type": "markdown",
      "metadata": {
        "id": "SuPnXFqrf5Q-"
      },
      "source": [
        "Combinamos todo en un *datablock* (que es la forma que tiene fastai de gestionar los datos de entrada):"
      ]
    },
    {
      "cell_type": "code",
      "source": [
        "batch_size = 128\n",
        "valid_part = 0.2"
      ],
      "metadata": {
        "id": "BDvqSsF3ixXt"
      },
      "execution_count": null,
      "outputs": []
    },
    {
      "cell_type": "code",
      "execution_count": null,
      "metadata": {
        "id": "cjAhk5jqf4yF"
      },
      "outputs": [],
      "source": [
        "dblock = DataBlock(\n",
        "    blocks=(ImageBlock(cls=PILImageBW), CategoryBlock),\n",
        "    get_items=lambda _: range(0,len(selected_images)),\n",
        "    get_x=lambda x: selected_images[x],\n",
        "    get_y=lambda x: labels[x],\n",
        "    splitter=RandomSplitter(valid_pct=valid_part, seed=42)\n",
        ")\n",
        "\n",
        "dls = dblock.dataloaders(path/'training', bs=batch_size)"
      ]
    },
    {
      "cell_type": "markdown",
      "source": [
        "Mostramos algunos ejemplos de nuestros datos de entrada:"
      ],
      "metadata": {
        "id": "jTQib-xFhvkl"
      }
    },
    {
      "cell_type": "code",
      "execution_count": null,
      "metadata": {
        "colab": {
          "base_uri": "https://localhost:8080/",
          "height": 752
        },
        "id": "UhXe9-iidPLQ",
        "outputId": "a4d002dd-4e31-48ff-a93a-f55096788e3b"
      },
      "outputs": [
        {
          "output_type": "display_data",
          "data": {
            "text/plain": [
              "<Figure size 900x900 with 9 Axes>"
            ],
            "image/png": "[encoded data removed]"
          },
          "metadata": {}
        }
      ],
      "source": [
        "dls.show_batch(max_n=9)"
      ]
    },
    {
      "cell_type": "markdown",
      "metadata": {
        "id": "B6RNekgWj1aO"
      },
      "source": [
        "## Arquitecturas de redes neuronales"
      ]
    },
    {
      "cell_type": "markdown",
      "source": [
        "Creamos y entrenamos los distintos modelos."
      ],
      "metadata": {
        "id": "BO5bPO1FjzUG"
      }
    },
    {
      "cell_type": "markdown",
      "source": [
        "Seleccionamos distintos hiperparámetros:"
      ],
      "metadata": {
        "id": "8MDfJGMcUZiy"
      }
    },
    {
      "cell_type": "code",
      "source": [
        "early_stopping_patience = 3\n",
        "num_epochs = 4"
      ],
      "metadata": {
        "id": "dDQ47IDRUVJ4"
      },
      "execution_count": null,
      "outputs": []
    },
    {
      "cell_type": "markdown",
      "metadata": {
        "id": "rm-z3OJQqlHa"
      },
      "source": [
        "### MLP-2"
      ]
    },
    {
      "cell_type": "markdown",
      "source": [
        "Seleccionamos el *learning rate*:"
      ],
      "metadata": {
        "id": "FclNzbniio20"
      }
    },
    {
      "cell_type": "code",
      "source": [
        "learning_rate = 0.1"
      ],
      "metadata": {
        "id": "nPbASMY5ipMs"
      },
      "execution_count": null,
      "outputs": []
    },
    {
      "cell_type": "markdown",
      "source": [
        "En primer lugar, consideramos un MLP con $2$ capas ocultas."
      ],
      "metadata": {
        "id": "7oyfUqJtj2j7"
      }
    },
    {
      "cell_type": "markdown",
      "source": [
        "#### Creación del modelo"
      ],
      "metadata": {
        "id": "wOhjFy96y50K"
      }
    },
    {
      "cell_type": "code",
      "execution_count": null,
      "metadata": {
        "id": "72Yz2fO_qnjN"
      },
      "outputs": [],
      "source": [
        "from torch.nn import Linear, ReLU, Flatten, BatchNorm1d\n",
        "from torch.optim import Adadelta\n",
        "from torchsummary import summary\n",
        "\n",
        "# Crear el MLP con 2 capas ocultas\n",
        "opt_func = partial(OptimWrapper, opt=Adadelta, lr=learning_rate)\n",
        "\n",
        "mlp2 = sequential(\n",
        "    Flatten(),                              # Aplana la imagen de 28x28 a un vector de 784\n",
        "    Linear(width*height*num_channels, 512), # Capa densa con tantas entradas como píxeles tenga la imagen y 512 salidas\n",
        "    ReLU(),                                 # Función de activación ReLU\n",
        "    BatchNorm1d(512),                       # Capa de Batch Normalization\n",
        "    Linear(512, 512),                       # Capa densa con 512 entradas y 512 salidas\n",
        "    ReLU(),                                 # Función de activación ReLU\n",
        "    BatchNorm1d(512),                       # Capa de Batch Normalization\n",
        "    Linear(512, num_classes)                # Capa de salida con num_classes salidas\n",
        ")\n",
        "\n",
        "# Crear el aprendiz (learner)\n",
        "learn = Learner(\n",
        "    dls,\n",
        "    mlp2,\n",
        "    metrics=[\n",
        "        accuracy,\n",
        "        F1Score(average='weighted')\n",
        "    ],\n",
        "    opt_func=opt_func,\n",
        "    loss_func=CrossEntropyLossFlat(),\n",
        "    cbs=[EarlyStoppingCallback(monitor='valid_loss', patience=early_stopping_patience)]\n",
        ")"
      ]
    },
    {
      "cell_type": "code",
      "execution_count": null,
      "metadata": {
        "colab": {
          "base_uri": "https://localhost:8080/",
          "height": 573
        },
        "id": "T6fiqkz1EKds",
        "outputId": "5d1b9def-dcaf-445f-a59e-03668dcf6f98"
      },
      "outputs": [
        {
          "output_type": "display_data",
          "data": {
            "text/plain": [
              "<IPython.core.display.HTML object>"
            ],
            "text/html": [
              "\n",
              "<style>\n",
              "    /* Turns off some styling */\n",
              "    progress {\n",
              "        /* gets rid of default border in Firefox and Opera. */\n",
              "        border: none;\n",
              "        /* Needs to be in here for Safari polyfill so background images work as expected. */\n",
              "        background-size: auto;\n",
              "    }\n",
              "    progress:not([value]), progress:not([value])::-webkit-progress-bar {\n",
              "        background: repeating-linear-gradient(45deg, #7e7e7e, #7e7e7e 10px, #5c5c5c 10px, #5c5c5c 20px);\n",
              "    }\n",
              "    .progress-bar-interrupted, .progress-bar-interrupted::-webkit-progress-bar {\n",
              "        background: #F44336;\n",
              "    }\n",
              "</style>\n"
            ]
          },
          "metadata": {}
        },
        {
          "output_type": "display_data",
          "data": {
            "text/plain": [
              "<IPython.core.display.HTML object>"
            ],
            "text/html": []
          },
          "metadata": {}
        },
        {
          "output_type": "execute_result",
          "data": {
            "text/plain": [
              "Sequential (Input shape: 128 x 1 x 28 x 28)\n",
              "============================================================================\n",
              "Layer (type)         Output Shape         Param #    Trainable \n",
              "============================================================================\n",
              "                     128 x 784           \n",
              "Flatten                                                        \n",
              "____________________________________________________________________________\n",
              "                     128 x 512           \n",
              "Linear                                    401920     True      \n",
              "ReLU                                                           \n",
              "BatchNorm1d                               1024       True      \n",
              "Linear                                    262656     True      \n",
              "ReLU                                                           \n",
              "BatchNorm1d                               1024       True      \n",
              "____________________________________________________________________________\n",
              "                     128 x 10            \n",
              "Linear                                    5130       True      \n",
              "____________________________________________________________________________\n",
              "\n",
              "Total params: 671,754\n",
              "Total trainable params: 671,754\n",
              "Total non-trainable params: 0\n",
              "\n",
              "Optimizer used: functools.partial(<class 'fastai.optimizer.OptimWrapper'>, opt=<class 'torch.optim.adadelta.Adadelta'>, lr=0.1)\n",
              "Loss function: FlattenedLoss of CrossEntropyLoss()\n",
              "\n",
              "Callbacks:\n",
              "  - TrainEvalCallback\n",
              "  - CastToTensor\n",
              "  - Recorder\n",
              "  - ProgressCallback\n",
              "  - EarlyStoppingCallback"
            ],
            "application/vnd.google.colaboratory.intrinsic+json": {
              "type": "string"
            }
          },
          "metadata": {},
          "execution_count": 46
        }
      ],
      "source": [
        "learn.summary()"
      ]
    },
    {
      "cell_type": "markdown",
      "source": [
        "#### Entrenamiento del modelo"
      ],
      "metadata": {
        "id": "nkk-_HYNy9Zx"
      }
    },
    {
      "cell_type": "code",
      "execution_count": null,
      "metadata": {
        "colab": {
          "base_uri": "https://localhost:8080/",
          "height": 175
        },
        "id": "rxCFdYtztWoa",
        "outputId": "f697a959-0f80-46f3-f738-d427bcde94c3"
      },
      "outputs": [
        {
          "output_type": "display_data",
          "data": {
            "text/plain": [
              "<IPython.core.display.HTML object>"
            ],
            "text/html": [
              "\n",
              "<style>\n",
              "    /* Turns off some styling */\n",
              "    progress {\n",
              "        /* gets rid of default border in Firefox and Opera. */\n",
              "        border: none;\n",
              "        /* Needs to be in here for Safari polyfill so background images work as expected. */\n",
              "        background-size: auto;\n",
              "    }\n",
              "    progress:not([value]), progress:not([value])::-webkit-progress-bar {\n",
              "        background: repeating-linear-gradient(45deg, #7e7e7e, #7e7e7e 10px, #5c5c5c 10px, #5c5c5c 20px);\n",
              "    }\n",
              "    .progress-bar-interrupted, .progress-bar-interrupted::-webkit-progress-bar {\n",
              "        background: #F44336;\n",
              "    }\n",
              "</style>\n"
            ]
          },
          "metadata": {}
        },
        {
          "output_type": "display_data",
          "data": {
            "text/plain": [
              "<IPython.core.display.HTML object>"
            ],
            "text/html": [
              "<table border=\"1\" class=\"dataframe\">\n",
              "  <thead>\n",
              "    <tr style=\"text-align: left;\">\n",
              "      <th>epoch</th>\n",
              "      <th>train_loss</th>\n",
              "      <th>valid_loss</th>\n",
              "      <th>accuracy</th>\n",
              "      <th>f1_score</th>\n",
              "      <th>time</th>\n",
              "    </tr>\n",
              "  </thead>\n",
              "  <tbody>\n",
              "    <tr>\n",
              "      <td>0</td>\n",
              "      <td>0.467030</td>\n",
              "      <td>0.297495</td>\n",
              "      <td>0.830000</td>\n",
              "      <td>0.829813</td>\n",
              "      <td>00:03</td>\n",
              "    </tr>\n",
              "    <tr>\n",
              "      <td>1</td>\n",
              "      <td>0.260015</td>\n",
              "      <td>0.204956</td>\n",
              "      <td>0.844000</td>\n",
              "      <td>0.843957</td>\n",
              "      <td>00:03</td>\n",
              "    </tr>\n",
              "    <tr>\n",
              "      <td>2</td>\n",
              "      <td>0.156466</td>\n",
              "      <td>0.173432</td>\n",
              "      <td>0.852500</td>\n",
              "      <td>0.852475</td>\n",
              "      <td>00:04</td>\n",
              "    </tr>\n",
              "    <tr>\n",
              "      <td>3</td>\n",
              "      <td>0.095128</td>\n",
              "      <td>0.154201</td>\n",
              "      <td>0.854500</td>\n",
              "      <td>0.857490</td>\n",
              "      <td>00:03</td>\n",
              "    </tr>\n",
              "  </tbody>\n",
              "</table>"
            ]
          },
          "metadata": {}
        }
      ],
      "source": [
        "learn.fit(num_epochs,lr=learning_rate)"
      ]
    },
    {
      "cell_type": "markdown",
      "source": [
        "#### Rendimiento en el conjunto de *test*"
      ],
      "metadata": {
        "id": "SrOMHpLJq5qY"
      }
    },
    {
      "cell_type": "markdown",
      "source": [
        "Medimos ahora el rendimiento utilizando el conjunto de test:"
      ],
      "metadata": {
        "id": "saZefNY2qGMm"
      }
    },
    {
      "cell_type": "code",
      "source": [
        "from sklearn.metrics import accuracy_score, f1_score\n",
        "\n",
        "def accuracy_f1_test(test_path, learner):\n",
        "  files_test = get_image_files(test_path)\n",
        "  dls_test = learner.dls.test_dl(files_test, with_labels = False)\n",
        "  preds = learner.get_preds(dl = dls_test, with_decoded = True)\n",
        "\n",
        "  preds_labels = [learner.dls.vocab[i] for i in preds[2]]\n",
        "  targs = [parent_label(f) for f in files_test]\n",
        "\n",
        "  test_accuracy = accuracy_score(preds_labels, targs)\n",
        "  test_f1 = f1_score(preds_labels, targs, average='weighted')\n",
        "\n",
        "  print(f\"Accuracy en test: {test_accuracy:.2f}\")\n",
        "  print(f\"F1 en test: {test_f1:.2f}\")"
      ],
      "metadata": {
        "id": "wjPdArq9qlGK"
      },
      "execution_count": null,
      "outputs": []
    },
    {
      "cell_type": "code",
      "source": [
        "accuracy_f1_test(path/'testing', learn)"
      ],
      "metadata": {
        "colab": {
          "base_uri": "https://localhost:8080/",
          "height": 52
        },
        "id": "Jd-IWd38rU1a",
        "outputId": "2e918f77-d39d-47f2-ead1-32d9a33e814b"
      },
      "execution_count": null,
      "outputs": [
        {
          "output_type": "display_data",
          "data": {
            "text/plain": [
              "<IPython.core.display.HTML object>"
            ],
            "text/html": [
              "\n",
              "<style>\n",
              "    /* Turns off some styling */\n",
              "    progress {\n",
              "        /* gets rid of default border in Firefox and Opera. */\n",
              "        border: none;\n",
              "        /* Needs to be in here for Safari polyfill so background images work as expected. */\n",
              "        background-size: auto;\n",
              "    }\n",
              "    progress:not([value]), progress:not([value])::-webkit-progress-bar {\n",
              "        background: repeating-linear-gradient(45deg, #7e7e7e, #7e7e7e 10px, #5c5c5c 10px, #5c5c5c 20px);\n",
              "    }\n",
              "    .progress-bar-interrupted, .progress-bar-interrupted::-webkit-progress-bar {\n",
              "        background: #F44336;\n",
              "    }\n",
              "</style>\n"
            ]
          },
          "metadata": {}
        },
        {
          "output_type": "display_data",
          "data": {
            "text/plain": [
              "<IPython.core.display.HTML object>"
            ],
            "text/html": []
          },
          "metadata": {}
        },
        {
          "output_type": "stream",
          "name": "stdout",
          "text": [
            "Accuracy en test: 0.85\n",
            "F1 en test: 0.86\n"
          ]
        }
      ]
    },
    {
      "cell_type": "markdown",
      "metadata": {
        "id": "Zxy6VdLBAQh7"
      },
      "source": [
        "### Conv4"
      ]
    },
    {
      "cell_type": "markdown",
      "source": [
        "Seleccionamos el *learning rate*:"
      ],
      "metadata": {
        "id": "wOaFwMCoUjvo"
      }
    },
    {
      "cell_type": "code",
      "source": [
        "learning_rate = 0.5"
      ],
      "metadata": {
        "id": "z_E8_ZWj0AlR"
      },
      "execution_count": null,
      "outputs": []
    },
    {
      "cell_type": "markdown",
      "source": [
        "Consideramos ahora una red neuronal con $4$ capas convolucionales:"
      ],
      "metadata": {
        "id": "THwHopyDm3_6"
      }
    },
    {
      "cell_type": "markdown",
      "source": [
        "#### Creación del modelo"
      ],
      "metadata": {
        "id": "aHUg40Z3zHKr"
      }
    },
    {
      "cell_type": "code",
      "execution_count": null,
      "metadata": {
        "id": "1MBRmA4iAPoV"
      },
      "outputs": [],
      "source": [
        "from torch.nn import Linear, LazyLinear, ReLU, Flatten, Conv2d, MaxPool2d, BatchNorm2d\n",
        "from torch.optim import Adadelta\n",
        "from torchsummary import summary\n",
        "\n",
        "# Crear el modelo de 4 capas convolucionales\n",
        "opt_func = partial(OptimWrapper, opt=Adadelta, lr=learning_rate)\n",
        "\n",
        "conv4 = sequential(\n",
        "\n",
        "    # 1ª Capa convolucional:\n",
        "    # - Tantos canales de entrada como tenga la imagen de entrada\n",
        "    # - 8 canales de salida\n",
        "    # - Filtro 3x3\n",
        "    Conv2d(num_channels, 8, 3),\n",
        "    ReLU(),                          # Capa ReLU\n",
        "    MaxPool2d(2),                    # Capa MaxPooling (Filtro 2x2)\n",
        "    BatchNorm2d(8),                  # Capa de Batch Normalization\n",
        "\n",
        "    # 2ª Capa convolucional:\n",
        "    # - 8 canales de entrada y 16 de salida\n",
        "    # - Filtro 3x3\n",
        "    Conv2d(8, 16, 3),\n",
        "    ReLU(),                          # Capa ReLU\n",
        "    MaxPool2d(2),                    # Capa MaxPooling (Filtro 2x2)\n",
        "    BatchNorm2d(16),                 # Capa de Batch Normalization\n",
        "\n",
        "    # 3ª Capa convolucional:\n",
        "    # - 16 canales de entrada y 16 de salida\n",
        "    # - Filtro 3x3\n",
        "    Conv2d(16, 16, 3),\n",
        "    ReLU(),                          # Capa ReLU\n",
        "    BatchNorm2d(16),                 # Capa de Batch Normalization\n",
        "\n",
        "    # 4ª Capa convolucional:\n",
        "    # - 16 canales de entrada y 4 de salida\n",
        "    # - Filtro 1x1\n",
        "    Conv2d(16,4,(1,1)),\n",
        "    ReLU(),                          # Capa ReLU\n",
        "    BatchNorm2d(4),                  # Capa de Batch Normalization\n",
        "    Flatten(),                       # Aplanado de la salida\n",
        "\n",
        "    # Capa densa con 64 salidas (el nº de entradas se ajusta automáticamente)\n",
        "    LazyLinear(64),\n",
        "    ReLU(),                          # Capa ReLU\n",
        "    Linear(64, num_classes)          # Capa densa con num_classes salidas\n",
        ")\n",
        "\n",
        "\n",
        "# Crear el aprendiz (learner)\n",
        "learn = Learner(\n",
        "    dls,\n",
        "    conv4,\n",
        "    metrics=[\n",
        "        accuracy,\n",
        "        F1Score(average='weighted')\n",
        "    ],\n",
        "    opt_func=opt_func,\n",
        "    loss_func=CrossEntropyLossFlat(),\n",
        "    cbs=[EarlyStoppingCallback(monitor='valid_loss', patience=early_stopping_patience)]\n",
        ")"
      ]
    },
    {
      "cell_type": "code",
      "execution_count": null,
      "metadata": {
        "colab": {
          "base_uri": "https://localhost:8080/",
          "height": 954
        },
        "id": "YkviTY0OkkZa",
        "outputId": "519734fd-c29c-4bd2-e6ab-07f34adae4c9"
      },
      "outputs": [
        {
          "output_type": "display_data",
          "data": {
            "text/plain": [
              "<IPython.core.display.HTML object>"
            ],
            "text/html": [
              "\n",
              "<style>\n",
              "    /* Turns off some styling */\n",
              "    progress {\n",
              "        /* gets rid of default border in Firefox and Opera. */\n",
              "        border: none;\n",
              "        /* Needs to be in here for Safari polyfill so background images work as expected. */\n",
              "        background-size: auto;\n",
              "    }\n",
              "    progress:not([value]), progress:not([value])::-webkit-progress-bar {\n",
              "        background: repeating-linear-gradient(45deg, #7e7e7e, #7e7e7e 10px, #5c5c5c 10px, #5c5c5c 20px);\n",
              "    }\n",
              "    .progress-bar-interrupted, .progress-bar-interrupted::-webkit-progress-bar {\n",
              "        background: #F44336;\n",
              "    }\n",
              "</style>\n"
            ]
          },
          "metadata": {}
        },
        {
          "output_type": "display_data",
          "data": {
            "text/plain": [
              "<IPython.core.display.HTML object>"
            ],
            "text/html": []
          },
          "metadata": {}
        },
        {
          "output_type": "execute_result",
          "data": {
            "text/plain": [
              "Sequential (Input shape: 128 x 1 x 28 x 28)\n",
              "============================================================================\n",
              "Layer (type)         Output Shape         Param #    Trainable \n",
              "============================================================================\n",
              "                     128 x 8 x 26 x 26   \n",
              "Conv2d                                    80         True      \n",
              "ReLU                                                           \n",
              "____________________________________________________________________________\n",
              "                     128 x 8 x 13 x 13   \n",
              "MaxPool2d                                                      \n",
              "BatchNorm2d                               16         True      \n",
              "____________________________________________________________________________\n",
              "                     128 x 16 x 11 x 11  \n",
              "Conv2d                                    1168       True      \n",
              "ReLU                                                           \n",
              "____________________________________________________________________________\n",
              "                     128 x 16 x 5 x 5    \n",
              "MaxPool2d                                                      \n",
              "BatchNorm2d                               32         True      \n",
              "____________________________________________________________________________\n",
              "                     128 x 16 x 3 x 3    \n",
              "Conv2d                                    2320       True      \n",
              "ReLU                                                           \n",
              "BatchNorm2d                               32         True      \n",
              "____________________________________________________________________________\n",
              "                     128 x 4 x 3 x 3     \n",
              "Conv2d                                    68         True      \n",
              "ReLU                                                           \n",
              "BatchNorm2d                               8          True      \n",
              "____________________________________________________________________________\n",
              "                     128 x 36            \n",
              "Flatten                                                        \n",
              "____________________________________________________________________________\n",
              "                     128 x 64            \n",
              "Linear                                    2368       True      \n",
              "ReLU                                                           \n",
              "____________________________________________________________________________\n",
              "                     128 x 10            \n",
              "Linear                                    650        True      \n",
              "____________________________________________________________________________\n",
              "\n",
              "Total params: 6,742\n",
              "Total trainable params: 6,742\n",
              "Total non-trainable params: 0\n",
              "\n",
              "Optimizer used: functools.partial(<class 'fastai.optimizer.OptimWrapper'>, opt=<class 'torch.optim.adadelta.Adadelta'>, lr=0.5)\n",
              "Loss function: FlattenedLoss of CrossEntropyLoss()\n",
              "\n",
              "Callbacks:\n",
              "  - TrainEvalCallback\n",
              "  - CastToTensor\n",
              "  - Recorder\n",
              "  - ProgressCallback\n",
              "  - EarlyStoppingCallback"
            ],
            "application/vnd.google.colaboratory.intrinsic+json": {
              "type": "string"
            }
          },
          "metadata": {},
          "execution_count": 52
        }
      ],
      "source": [
        "learn.summary()"
      ]
    },
    {
      "cell_type": "markdown",
      "source": [
        "#### Entrenamiento del modelo"
      ],
      "metadata": {
        "id": "bMJJOmdhzKl3"
      }
    },
    {
      "cell_type": "code",
      "execution_count": null,
      "metadata": {
        "colab": {
          "base_uri": "https://localhost:8080/",
          "height": 175
        },
        "id": "of82CWL5l_8r",
        "outputId": "4665cc7c-b97f-4e78-c520-8662a135bb3f"
      },
      "outputs": [
        {
          "output_type": "display_data",
          "data": {
            "text/plain": [
              "<IPython.core.display.HTML object>"
            ],
            "text/html": [
              "\n",
              "<style>\n",
              "    /* Turns off some styling */\n",
              "    progress {\n",
              "        /* gets rid of default border in Firefox and Opera. */\n",
              "        border: none;\n",
              "        /* Needs to be in here for Safari polyfill so background images work as expected. */\n",
              "        background-size: auto;\n",
              "    }\n",
              "    progress:not([value]), progress:not([value])::-webkit-progress-bar {\n",
              "        background: repeating-linear-gradient(45deg, #7e7e7e, #7e7e7e 10px, #5c5c5c 10px, #5c5c5c 20px);\n",
              "    }\n",
              "    .progress-bar-interrupted, .progress-bar-interrupted::-webkit-progress-bar {\n",
              "        background: #F44336;\n",
              "    }\n",
              "</style>\n"
            ]
          },
          "metadata": {}
        },
        {
          "output_type": "display_data",
          "data": {
            "text/plain": [
              "<IPython.core.display.HTML object>"
            ],
            "text/html": [
              "<table border=\"1\" class=\"dataframe\">\n",
              "  <thead>\n",
              "    <tr style=\"text-align: left;\">\n",
              "      <th>epoch</th>\n",
              "      <th>train_loss</th>\n",
              "      <th>valid_loss</th>\n",
              "      <th>accuracy</th>\n",
              "      <th>f1_score</th>\n",
              "      <th>time</th>\n",
              "    </tr>\n",
              "  </thead>\n",
              "  <tbody>\n",
              "    <tr>\n",
              "      <td>0</td>\n",
              "      <td>0.993309</td>\n",
              "      <td>0.455250</td>\n",
              "      <td>0.887000</td>\n",
              "      <td>0.885375</td>\n",
              "      <td>00:05</td>\n",
              "    </tr>\n",
              "    <tr>\n",
              "      <td>1</td>\n",
              "      <td>0.418871</td>\n",
              "      <td>0.276155</td>\n",
              "      <td>0.894500</td>\n",
              "      <td>0.894121</td>\n",
              "      <td>00:04</td>\n",
              "    </tr>\n",
              "    <tr>\n",
              "      <td>2</td>\n",
              "      <td>0.222347</td>\n",
              "      <td>0.159694</td>\n",
              "      <td>0.902000</td>\n",
              "      <td>0.901848</td>\n",
              "      <td>00:03</td>\n",
              "    </tr>\n",
              "    <tr>\n",
              "      <td>3</td>\n",
              "      <td>0.146074</td>\n",
              "      <td>0.163243</td>\n",
              "      <td>0.904500</td>\n",
              "      <td>0.906203</td>\n",
              "      <td>00:04</td>\n",
              "    </tr>\n",
              "  </tbody>\n",
              "</table>"
            ]
          },
          "metadata": {}
        }
      ],
      "source": [
        "learn.fit(num_epochs,lr=learning_rate)"
      ]
    },
    {
      "cell_type": "markdown",
      "source": [
        "#### Rendimiento en el conjunto de *test*"
      ],
      "metadata": {
        "id": "xfjeJXEkzNcm"
      }
    },
    {
      "cell_type": "code",
      "source": [
        "accuracy_f1_test(path/'testing', learn)"
      ],
      "metadata": {
        "colab": {
          "base_uri": "https://localhost:8080/",
          "height": 52
        },
        "id": "73QhEjFdzTty",
        "outputId": "4bc47b0f-ddae-4f6f-8ebc-4ea2a5baba60"
      },
      "execution_count": null,
      "outputs": [
        {
          "output_type": "display_data",
          "data": {
            "text/plain": [
              "<IPython.core.display.HTML object>"
            ],
            "text/html": [
              "\n",
              "<style>\n",
              "    /* Turns off some styling */\n",
              "    progress {\n",
              "        /* gets rid of default border in Firefox and Opera. */\n",
              "        border: none;\n",
              "        /* Needs to be in here for Safari polyfill so background images work as expected. */\n",
              "        background-size: auto;\n",
              "    }\n",
              "    progress:not([value]), progress:not([value])::-webkit-progress-bar {\n",
              "        background: repeating-linear-gradient(45deg, #7e7e7e, #7e7e7e 10px, #5c5c5c 10px, #5c5c5c 20px);\n",
              "    }\n",
              "    .progress-bar-interrupted, .progress-bar-interrupted::-webkit-progress-bar {\n",
              "        background: #F44336;\n",
              "    }\n",
              "</style>\n"
            ]
          },
          "metadata": {}
        },
        {
          "output_type": "display_data",
          "data": {
            "text/plain": [
              "<IPython.core.display.HTML object>"
            ],
            "text/html": []
          },
          "metadata": {}
        },
        {
          "output_type": "stream",
          "name": "stdout",
          "text": [
            "Accuracy en test: 0.90\n",
            "F1 en test: 0.90\n"
          ]
        }
      ]
    },
    {
      "cell_type": "markdown",
      "metadata": {
        "id": "h6rsLfBYgm7L"
      },
      "source": [
        "### Conv6"
      ]
    },
    {
      "cell_type": "markdown",
      "source": [
        "Seleccionamos el *learning rate*:"
      ],
      "metadata": {
        "id": "WY3IlDxeUoCZ"
      }
    },
    {
      "cell_type": "code",
      "source": [
        "learning_rate = 0.1"
      ],
      "metadata": {
        "id": "mgUXpqtW4C_C"
      },
      "execution_count": null,
      "outputs": []
    },
    {
      "cell_type": "markdown",
      "source": [
        "Consideramos ahora una red neuronal con $6$ capas convolucionales:"
      ],
      "metadata": {
        "id": "RxtP9U5R4GB2"
      }
    },
    {
      "cell_type": "markdown",
      "source": [
        "#### Creación del modelo"
      ],
      "metadata": {
        "id": "kKNBEYWQ4JAh"
      }
    },
    {
      "cell_type": "code",
      "execution_count": null,
      "metadata": {
        "id": "kgnIT3vBgolq"
      },
      "outputs": [],
      "source": [
        "from torch.nn import Linear, LazyLinear, ReLU, Flatten, Conv2d, MaxPool2d, BatchNorm2d, Dropout, BatchNorm1d\n",
        "from torch.optim import Adadelta\n",
        "from torchsummary import summary\n",
        "\n",
        "# Crear el MLP con 2 capas ocultas\n",
        "opt_func = partial(OptimWrapper, opt=Adadelta, lr=learning_rate)\n",
        "\n",
        "conv6 = sequential(\n",
        "\n",
        "    # 1ª Capa convolucional:\n",
        "    # - Tantos canales de entrada como tenga la imagen de entrada\n",
        "    # - 32 canales de salida\n",
        "    # - Filtro 3x3\n",
        "    Conv2d(num_channels, 32, 3, padding='same'),\n",
        "    ReLU(),                                            # Capa ReLU\n",
        "    BatchNorm2d(32),                                   # Capa BatchNorm\n",
        "\n",
        "    # 2ª Capa convolucional:\n",
        "    # - 32 canales de entrada y 64 de salida\n",
        "    # - Filtro 3x3\n",
        "    Conv2d(32, 64, 3, padding='same'),\n",
        "    ReLU(),                                            # Capa ReLU\n",
        "    BatchNorm2d(64),                                   # Capa BatchNorm\n",
        "    MaxPool2d(2),                                      # Capa MaxPooling\n",
        "    Dropout(0.2),                                      # Capa Dropout (apago el 20% de las neuronas)\n",
        "\n",
        "    # 3ª Capa convolucional:\n",
        "    # - 64 canales de entrada y 64 de salida\n",
        "    # - Filtro 3x3\n",
        "    Conv2d(64, 64, 3, padding='same'),\n",
        "    ReLU(),                                            # Capa ReLU\n",
        "    BatchNorm2d(64),                                   # Capa BatchNorm\n",
        "\n",
        "    # 4ª Capa convolucional:\n",
        "    # - 64 canales de entrada y 64 de salida\n",
        "    # - Filtro 3x3\n",
        "    Conv2d(64, 64, 3, padding='same'),\n",
        "    ReLU(),                                            # Capa ReLU\n",
        "    BatchNorm2d(64),                                   # Capa BatchNorm\n",
        "    MaxPool2d(2),                                      # Capa MaxPooling\n",
        "    Dropout(0.3),                                      # Capa Dropout\n",
        "\n",
        "    # 5ª Capa convolucional:\n",
        "    # - 64 canales de entrada y 128 de salida\n",
        "    # - Filtro 3x3\n",
        "    Conv2d(64, 128, 3, padding='same'),\n",
        "    ReLU(),                                            # Capa ReLU\n",
        "    BatchNorm2d(128),                                  # Capa BatchNorm\n",
        "\n",
        "    # 6ª Capa convolucional:\n",
        "    # - 128 canales de entrada y 128 de salida\n",
        "    # - Filtro 3x3\n",
        "    Conv2d(128, 128, 3, padding='same'),\n",
        "    ReLU(),                                            # Capa ReLU\n",
        "    BatchNorm2d(128),                                  # Capa BatchNorm\n",
        "    MaxPool2d(2),                                      # Capa MaxPooling\n",
        "    Dropout(0.4),                                      # Capa Dropout\n",
        "    Flatten(),                                         # Aplanado\n",
        "\n",
        "    # Capa densa con 128 salidas (el nº de entradas se ajusta automáticamente)\n",
        "    LazyLinear(128),\n",
        "    ReLU(),                                            # Capa ReLU\n",
        "    BatchNorm1d(128),                                  # Capa BatchNorm\n",
        "    Dropout(0.5),                                      # Capa Dropout\n",
        "    Linear(128, num_classes)                           # Capa densa con num_classes salidas\n",
        ")\n",
        "\n",
        "\n",
        "# Crear el aprendiz (learner)\n",
        "learn = Learner(\n",
        "    dls,\n",
        "    conv6,\n",
        "    metrics=[\n",
        "        accuracy,\n",
        "        F1Score(average='weighted')\n",
        "    ],\n",
        "    opt_func=opt_func,\n",
        "    loss_func=CrossEntropyLossFlat(),\n",
        "    cbs=[EarlyStoppingCallback(monitor='valid_loss', patience=5)]\n",
        ")"
      ]
    },
    {
      "cell_type": "code",
      "execution_count": null,
      "metadata": {
        "colab": {
          "base_uri": "https://localhost:8080/",
          "height": 1000
        },
        "id": "NwszgPLDktV9",
        "outputId": "dd6d7b99-c9d1-4d5c-d00c-f71562437440"
      },
      "outputs": [
        {
          "output_type": "display_data",
          "data": {
            "text/plain": [
              "<IPython.core.display.HTML object>"
            ],
            "text/html": [
              "\n",
              "<style>\n",
              "    /* Turns off some styling */\n",
              "    progress {\n",
              "        /* gets rid of default border in Firefox and Opera. */\n",
              "        border: none;\n",
              "        /* Needs to be in here for Safari polyfill so background images work as expected. */\n",
              "        background-size: auto;\n",
              "    }\n",
              "    progress:not([value]), progress:not([value])::-webkit-progress-bar {\n",
              "        background: repeating-linear-gradient(45deg, #7e7e7e, #7e7e7e 10px, #5c5c5c 10px, #5c5c5c 20px);\n",
              "    }\n",
              "    .progress-bar-interrupted, .progress-bar-interrupted::-webkit-progress-bar {\n",
              "        background: #F44336;\n",
              "    }\n",
              "</style>\n"
            ]
          },
          "metadata": {}
        },
        {
          "output_type": "display_data",
          "data": {
            "text/plain": [
              "<IPython.core.display.HTML object>"
            ],
            "text/html": []
          },
          "metadata": {}
        },
        {
          "output_type": "execute_result",
          "data": {
            "text/plain": [
              "Sequential (Input shape: 128 x 1 x 28 x 28)\n",
              "============================================================================\n",
              "Layer (type)         Output Shape         Param #    Trainable \n",
              "============================================================================\n",
              "                     128 x 32 x 28 x 28  \n",
              "Conv2d                                    320        True      \n",
              "ReLU                                                           \n",
              "BatchNorm2d                               64         True      \n",
              "____________________________________________________________________________\n",
              "                     128 x 64 x 28 x 28  \n",
              "Conv2d                                    18496      True      \n",
              "ReLU                                                           \n",
              "BatchNorm2d                               128        True      \n",
              "____________________________________________________________________________\n",
              "                     128 x 64 x 14 x 14  \n",
              "MaxPool2d                                                      \n",
              "Dropout                                                        \n",
              "Conv2d                                    36928      True      \n",
              "ReLU                                                           \n",
              "BatchNorm2d                               128        True      \n",
              "Conv2d                                    36928      True      \n",
              "ReLU                                                           \n",
              "BatchNorm2d                               128        True      \n",
              "____________________________________________________________________________\n",
              "                     128 x 64 x 7 x 7    \n",
              "MaxPool2d                                                      \n",
              "Dropout                                                        \n",
              "____________________________________________________________________________\n",
              "                     128 x 128 x 7 x 7   \n",
              "Conv2d                                    73856      True      \n",
              "ReLU                                                           \n",
              "BatchNorm2d                               256        True      \n",
              "Conv2d                                    147584     True      \n",
              "ReLU                                                           \n",
              "BatchNorm2d                               256        True      \n",
              "____________________________________________________________________________\n",
              "                     128 x 128 x 3 x 3   \n",
              "MaxPool2d                                                      \n",
              "Dropout                                                        \n",
              "____________________________________________________________________________\n",
              "                     128 x 1152          \n",
              "Flatten                                                        \n",
              "____________________________________________________________________________\n",
              "                     128 x 128           \n",
              "Linear                                    147584     True      \n",
              "ReLU                                                           \n",
              "BatchNorm1d                               256        True      \n",
              "Dropout                                                        \n",
              "____________________________________________________________________________\n",
              "                     128 x 10            \n",
              "Linear                                    1290       True      \n",
              "____________________________________________________________________________\n",
              "\n",
              "Total params: 464,202\n",
              "Total trainable params: 464,202\n",
              "Total non-trainable params: 0\n",
              "\n",
              "Optimizer used: functools.partial(<class 'fastai.optimizer.OptimWrapper'>, opt=<class 'torch.optim.adadelta.Adadelta'>, lr=0.1)\n",
              "Loss function: FlattenedLoss of CrossEntropyLoss()\n",
              "\n",
              "Callbacks:\n",
              "  - TrainEvalCallback\n",
              "  - CastToTensor\n",
              "  - Recorder\n",
              "  - ProgressCallback\n",
              "  - EarlyStoppingCallback"
            ],
            "application/vnd.google.colaboratory.intrinsic+json": {
              "type": "string"
            }
          },
          "metadata": {},
          "execution_count": 57
        }
      ],
      "source": [
        "learn.summary()"
      ]
    },
    {
      "cell_type": "markdown",
      "source": [
        "#### Entrenamiento del modelo"
      ],
      "metadata": {
        "id": "_4Cf-g5m6ujT"
      }
    },
    {
      "cell_type": "code",
      "execution_count": null,
      "metadata": {
        "colab": {
          "base_uri": "https://localhost:8080/",
          "height": 175
        },
        "id": "yRPr2rpdlb6u",
        "outputId": "10ffad1c-c55e-4444-cd9f-bc5a9404c68d"
      },
      "outputs": [
        {
          "output_type": "display_data",
          "data": {
            "text/plain": [
              "<IPython.core.display.HTML object>"
            ],
            "text/html": [
              "\n",
              "<style>\n",
              "    /* Turns off some styling */\n",
              "    progress {\n",
              "        /* gets rid of default border in Firefox and Opera. */\n",
              "        border: none;\n",
              "        /* Needs to be in here for Safari polyfill so background images work as expected. */\n",
              "        background-size: auto;\n",
              "    }\n",
              "    progress:not([value]), progress:not([value])::-webkit-progress-bar {\n",
              "        background: repeating-linear-gradient(45deg, #7e7e7e, #7e7e7e 10px, #5c5c5c 10px, #5c5c5c 20px);\n",
              "    }\n",
              "    .progress-bar-interrupted, .progress-bar-interrupted::-webkit-progress-bar {\n",
              "        background: #F44336;\n",
              "    }\n",
              "</style>\n"
            ]
          },
          "metadata": {}
        },
        {
          "output_type": "display_data",
          "data": {
            "text/plain": [
              "<IPython.core.display.HTML object>"
            ],
            "text/html": [
              "<table border=\"1\" class=\"dataframe\">\n",
              "  <thead>\n",
              "    <tr style=\"text-align: left;\">\n",
              "      <th>epoch</th>\n",
              "      <th>train_loss</th>\n",
              "      <th>valid_loss</th>\n",
              "      <th>accuracy</th>\n",
              "      <th>f1_score</th>\n",
              "      <th>time</th>\n",
              "    </tr>\n",
              "  </thead>\n",
              "  <tbody>\n",
              "    <tr>\n",
              "      <td>0</td>\n",
              "      <td>1.129675</td>\n",
              "      <td>0.818984</td>\n",
              "      <td>0.774500</td>\n",
              "      <td>0.778850</td>\n",
              "      <td>00:03</td>\n",
              "    </tr>\n",
              "    <tr>\n",
              "      <td>1</td>\n",
              "      <td>0.569843</td>\n",
              "      <td>0.185774</td>\n",
              "      <td>0.957000</td>\n",
              "      <td>0.957019</td>\n",
              "      <td>00:04</td>\n",
              "    </tr>\n",
              "    <tr>\n",
              "      <td>2</td>\n",
              "      <td>0.324419</td>\n",
              "      <td>0.129885</td>\n",
              "      <td>0.969000</td>\n",
              "      <td>0.969023</td>\n",
              "      <td>00:03</td>\n",
              "    </tr>\n",
              "    <tr>\n",
              "      <td>3</td>\n",
              "      <td>0.208521</td>\n",
              "      <td>0.096980</td>\n",
              "      <td>0.977000</td>\n",
              "      <td>0.976975</td>\n",
              "      <td>00:03</td>\n",
              "    </tr>\n",
              "  </tbody>\n",
              "</table>"
            ]
          },
          "metadata": {}
        }
      ],
      "source": [
        "learn.fit(num_epochs,lr=learning_rate)"
      ]
    },
    {
      "cell_type": "markdown",
      "source": [
        "#### Rendimiento en el conjunto de *test*"
      ],
      "metadata": {
        "id": "RhSv4Era66LA"
      }
    },
    {
      "cell_type": "code",
      "source": [
        "accuracy_f1_test(path/'testing', learn)"
      ],
      "metadata": {
        "colab": {
          "base_uri": "https://localhost:8080/",
          "height": 52
        },
        "id": "yPdztH1j7Aae",
        "outputId": "b2c8910f-4f4a-4db4-99fd-d30630c8009f"
      },
      "execution_count": null,
      "outputs": [
        {
          "output_type": "display_data",
          "data": {
            "text/plain": [
              "<IPython.core.display.HTML object>"
            ],
            "text/html": [
              "\n",
              "<style>\n",
              "    /* Turns off some styling */\n",
              "    progress {\n",
              "        /* gets rid of default border in Firefox and Opera. */\n",
              "        border: none;\n",
              "        /* Needs to be in here for Safari polyfill so background images work as expected. */\n",
              "        background-size: auto;\n",
              "    }\n",
              "    progress:not([value]), progress:not([value])::-webkit-progress-bar {\n",
              "        background: repeating-linear-gradient(45deg, #7e7e7e, #7e7e7e 10px, #5c5c5c 10px, #5c5c5c 20px);\n",
              "    }\n",
              "    .progress-bar-interrupted, .progress-bar-interrupted::-webkit-progress-bar {\n",
              "        background: #F44336;\n",
              "    }\n",
              "</style>\n"
            ]
          },
          "metadata": {}
        },
        {
          "output_type": "display_data",
          "data": {
            "text/plain": [
              "<IPython.core.display.HTML object>"
            ],
            "text/html": []
          },
          "metadata": {}
        },
        {
          "output_type": "stream",
          "name": "stdout",
          "text": [
            "Accuracy en test: 0.98\n",
            "F1 en test: 0.98\n"
          ]
        }
      ]
    },
    {
      "cell_type": "markdown",
      "metadata": {
        "id": "tSCS3WM2x_Wd"
      },
      "source": [
        "### ResNet18"
      ]
    },
    {
      "cell_type": "markdown",
      "source": [
        "Seleccionamos el *learning rate*:"
      ],
      "metadata": {
        "id": "bziYoSVPUqQz"
      }
    },
    {
      "cell_type": "code",
      "source": [
        "learning_rate = 0.1"
      ],
      "metadata": {
        "id": "B4wxdw549bsS"
      },
      "execution_count": null,
      "outputs": []
    },
    {
      "cell_type": "markdown",
      "source": [
        "Consideramos ahora el modelo ResNet18:"
      ],
      "metadata": {
        "id": "1n43Pkju923F"
      }
    },
    {
      "cell_type": "markdown",
      "source": [
        "#### Creación del modelo"
      ],
      "metadata": {
        "id": "klEx1lBm9ycK"
      }
    },
    {
      "cell_type": "code",
      "execution_count": null,
      "metadata": {
        "id": "pGFboobnyIWA"
      },
      "outputs": [],
      "source": [
        "from torch.optim import Adadelta\n",
        "\n",
        "# Crear el MLP con 2 capas ocultas\n",
        "opt_func = partial(OptimWrapper, opt=Adadelta, lr=learning_rate)\n",
        "\n",
        "model = models.resnet18\n",
        "\n",
        "# pretrained = False, queremos entrenar todos los pesos de la red\n",
        "learn = vision_learner(dls,\n",
        "                       model,\n",
        "                       pretrained = False,\n",
        "                       n_in=num_channels,\n",
        "                       metrics=[accuracy, F1Score(average='weighted')],\n",
        "                       opt_func=opt_func,\n",
        "                       loss_func=CrossEntropyLossFlat(),\n",
        "                       cbs=[EarlyStoppingCallback(monitor='valid_loss', patience=early_stopping_patience)])"
      ]
    },
    {
      "cell_type": "markdown",
      "source": [
        "#### Entrenamiento del modelo"
      ],
      "metadata": {
        "id": "TSbttHtz-Cqv"
      }
    },
    {
      "cell_type": "code",
      "source": [
        "learn.fit(num_epochs, lr=learning_rate)"
      ],
      "metadata": {
        "colab": {
          "base_uri": "https://localhost:8080/",
          "height": 175
        },
        "id": "i1jGWnd0a5NY",
        "outputId": "0d1dba57-c2e2-4400-e5c8-8e6c1353afc2"
      },
      "execution_count": null,
      "outputs": [
        {
          "output_type": "display_data",
          "data": {
            "text/plain": [
              "<IPython.core.display.HTML object>"
            ],
            "text/html": [
              "\n",
              "<style>\n",
              "    /* Turns off some styling */\n",
              "    progress {\n",
              "        /* gets rid of default border in Firefox and Opera. */\n",
              "        border: none;\n",
              "        /* Needs to be in here for Safari polyfill so background images work as expected. */\n",
              "        background-size: auto;\n",
              "    }\n",
              "    progress:not([value]), progress:not([value])::-webkit-progress-bar {\n",
              "        background: repeating-linear-gradient(45deg, #7e7e7e, #7e7e7e 10px, #5c5c5c 10px, #5c5c5c 20px);\n",
              "    }\n",
              "    .progress-bar-interrupted, .progress-bar-interrupted::-webkit-progress-bar {\n",
              "        background: #F44336;\n",
              "    }\n",
              "</style>\n"
            ]
          },
          "metadata": {}
        },
        {
          "output_type": "display_data",
          "data": {
            "text/plain": [
              "<IPython.core.display.HTML object>"
            ],
            "text/html": [
              "<table border=\"1\" class=\"dataframe\">\n",
              "  <thead>\n",
              "    <tr style=\"text-align: left;\">\n",
              "      <th>epoch</th>\n",
              "      <th>train_loss</th>\n",
              "      <th>valid_loss</th>\n",
              "      <th>accuracy</th>\n",
              "      <th>f1_score</th>\n",
              "      <th>time</th>\n",
              "    </tr>\n",
              "  </thead>\n",
              "  <tbody>\n",
              "    <tr>\n",
              "      <td>0</td>\n",
              "      <td>0.671482</td>\n",
              "      <td>0.254005</td>\n",
              "      <td>0.918500</td>\n",
              "      <td>0.918697</td>\n",
              "      <td>00:06</td>\n",
              "    </tr>\n",
              "    <tr>\n",
              "      <td>1</td>\n",
              "      <td>0.317384</td>\n",
              "      <td>0.219069</td>\n",
              "      <td>0.936000</td>\n",
              "      <td>0.936717</td>\n",
              "      <td>00:05</td>\n",
              "    </tr>\n",
              "    <tr>\n",
              "      <td>2</td>\n",
              "      <td>0.179235</td>\n",
              "      <td>0.213914</td>\n",
              "      <td>0.937500</td>\n",
              "      <td>0.937961</td>\n",
              "      <td>00:04</td>\n",
              "    </tr>\n",
              "    <tr>\n",
              "      <td>3</td>\n",
              "      <td>0.103745</td>\n",
              "      <td>0.192041</td>\n",
              "      <td>0.950500</td>\n",
              "      <td>0.950642</td>\n",
              "      <td>00:05</td>\n",
              "    </tr>\n",
              "  </tbody>\n",
              "</table>"
            ]
          },
          "metadata": {}
        }
      ]
    },
    {
      "cell_type": "markdown",
      "source": [
        "#### Rendimiento en el conjunto de *test*"
      ],
      "metadata": {
        "id": "O-VGUlej-Jvd"
      }
    },
    {
      "cell_type": "code",
      "source": [
        "accuracy_f1_test(path/'testing', learn)"
      ],
      "metadata": {
        "colab": {
          "base_uri": "https://localhost:8080/",
          "height": 52
        },
        "id": "exF-Di43-NGO",
        "outputId": "81ac4758-1a8a-4c54-c759-81e9353e7d4e"
      },
      "execution_count": null,
      "outputs": [
        {
          "output_type": "display_data",
          "data": {
            "text/plain": [
              "<IPython.core.display.HTML object>"
            ],
            "text/html": [
              "\n",
              "<style>\n",
              "    /* Turns off some styling */\n",
              "    progress {\n",
              "        /* gets rid of default border in Firefox and Opera. */\n",
              "        border: none;\n",
              "        /* Needs to be in here for Safari polyfill so background images work as expected. */\n",
              "        background-size: auto;\n",
              "    }\n",
              "    progress:not([value]), progress:not([value])::-webkit-progress-bar {\n",
              "        background: repeating-linear-gradient(45deg, #7e7e7e, #7e7e7e 10px, #5c5c5c 10px, #5c5c5c 20px);\n",
              "    }\n",
              "    .progress-bar-interrupted, .progress-bar-interrupted::-webkit-progress-bar {\n",
              "        background: #F44336;\n",
              "    }\n",
              "</style>\n"
            ]
          },
          "metadata": {}
        },
        {
          "output_type": "display_data",
          "data": {
            "text/plain": [
              "<IPython.core.display.HTML object>"
            ],
            "text/html": []
          },
          "metadata": {}
        },
        {
          "output_type": "stream",
          "name": "stdout",
          "text": [
            "Accuracy en test: 0.95\n",
            "F1 en test: 0.95\n"
          ]
        }
      ]
    }
  ],
  "metadata": {
    "accelerator": "GPU",
    "colab": {
      "gpuType": "T4",
      "toc_visible": true,
      "provenance": []
    },
    "kernelspec": {
      "display_name": "Python 3",
      "name": "python3"
    },
    "language_info": {
      "name": "python"
    }
  },
  "nbformat": 4,
  "nbformat_minor": 0
}